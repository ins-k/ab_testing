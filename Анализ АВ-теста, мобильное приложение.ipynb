{
 "cells": [
  {
   "cell_type": "markdown",
   "metadata": {},
   "source": [
    "# Анализ А-В теста: поведение пользователей мобильного приложения "
   ]
  },
  {
   "cell_type": "markdown",
   "metadata": {},
   "source": [
    ">**Заказчик:** стартап по продаже продуктов питания\n",
    "<br>**Платформа:** мобильное приложение\n",
    "<br>**Задача:** анализ результатов А/В теста и принятие решение на их основе\n",
    "<br>**Суть:** у дизайнеров возникла идея поменять шрифты в мобильном приложении, в связи с чем был запущен А/А/В тест. На основе результатов теста будем принимать решение о замене шрифтов для всех юзеров\n",
    "<br>\n",
    "<br>**Группы:\n",
    "<br>246:**  А, контрольная группа\n",
    "<br>**247:** А, контрольная группа\n",
    "<br>**248:** B, экспериментальная группа"
   ]
  },
  {
   "cell_type": "markdown",
   "metadata": {},
   "source": [
    "## Предобработка данных"
   ]
  },
  {
   "cell_type": "markdown",
   "metadata": {},
   "source": [
    "### Старт работы"
   ]
  },
  {
   "cell_type": "markdown",
   "metadata": {},
   "source": [
    "- подгрузим библиотеки, которые понадобятся в работе\n",
    "- установим большую длину столбца в библиотеке pandas \n",
    "- объявим переменную, считав файл csv, разделим csv на столбцы и посмотрим общее инфо по датасету"
   ]
  },
  {
   "cell_type": "code",
   "execution_count": 1,
   "metadata": {},
   "outputs": [],
   "source": [
    "import pandas as pd\n",
    "import numpy as np\n",
    "import matplotlib.pyplot as plt\n",
    "import seaborn as sns\n",
    "from scipy import stats as st\n",
    "from datetime import datetime\n",
    "import math as mth\n",
    "import statistics as stat"
   ]
  },
  {
   "cell_type": "code",
   "execution_count": 2,
   "metadata": {},
   "outputs": [],
   "source": [
    "pd.options.display.max_colwidth = 400"
   ]
  },
  {
   "cell_type": "code",
   "execution_count": 3,
   "metadata": {
    "scrolled": true
   },
   "outputs": [
    {
     "data": {
      "text/html": [
       "<div>\n",
       "<style scoped>\n",
       "    .dataframe tbody tr th:only-of-type {\n",
       "        vertical-align: middle;\n",
       "    }\n",
       "\n",
       "    .dataframe tbody tr th {\n",
       "        vertical-align: top;\n",
       "    }\n",
       "\n",
       "    .dataframe thead th {\n",
       "        text-align: right;\n",
       "    }\n",
       "</style>\n",
       "<table border=\"1\" class=\"dataframe\">\n",
       "  <thead>\n",
       "    <tr style=\"text-align: right;\">\n",
       "      <th></th>\n",
       "      <th>EventName</th>\n",
       "      <th>DeviceIDHash</th>\n",
       "      <th>EventTimestamp</th>\n",
       "      <th>ExpId</th>\n",
       "    </tr>\n",
       "  </thead>\n",
       "  <tbody>\n",
       "    <tr>\n",
       "      <th>0</th>\n",
       "      <td>MainScreenAppear</td>\n",
       "      <td>4575588528974610257</td>\n",
       "      <td>1564029816</td>\n",
       "      <td>246</td>\n",
       "    </tr>\n",
       "    <tr>\n",
       "      <th>1</th>\n",
       "      <td>MainScreenAppear</td>\n",
       "      <td>7416695313311560658</td>\n",
       "      <td>1564053102</td>\n",
       "      <td>246</td>\n",
       "    </tr>\n",
       "  </tbody>\n",
       "</table>\n",
       "</div>"
      ],
      "text/plain": [
       "          EventName         DeviceIDHash  EventTimestamp  ExpId\n",
       "0  MainScreenAppear  4575588528974610257      1564029816    246\n",
       "1  MainScreenAppear  7416695313311560658      1564053102    246"
      ]
     },
     "metadata": {},
     "output_type": "display_data"
    },
    {
     "name": "stdout",
     "output_type": "stream",
     "text": [
      "<class 'pandas.core.frame.DataFrame'>\n",
      "RangeIndex: 244126 entries, 0 to 244125\n",
      "Data columns (total 4 columns):\n",
      " #   Column          Non-Null Count   Dtype \n",
      "---  ------          --------------   ----- \n",
      " 0   EventName       244126 non-null  object\n",
      " 1   DeviceIDHash    244126 non-null  int64 \n",
      " 2   EventTimestamp  244126 non-null  int64 \n",
      " 3   ExpId           244126 non-null  int64 \n",
      "dtypes: int64(3), object(1)\n",
      "memory usage: 7.5+ MB\n"
     ]
    }
   ],
   "source": [
    "data = pd.read_csv('logs_exp.csv', delimiter='\\t')\n",
    "display(data.head(2))\n",
    "data.info()"
   ]
  },
  {
   "cell_type": "markdown",
   "metadata": {},
   "source": [
    "### Переименование, формат, дубликаты"
   ]
  },
  {
   "cell_type": "markdown",
   "metadata": {},
   "source": [
    "- переименуем столбцы, дадим им названия в хорошем тоне\n",
    "- меняем формат колонки с датой/временем лога на timestamp, выделяем отдельный столбец dt - куда закидываем дату без времени\n",
    "- смотрим, есть ли у нас строки дубли: считаем их количество + калькулируем долю от общего\n",
    "- перезаписываем сет, выкидывая строки дубликаты. Смотрим шапку таблицы, чтобы увидеть, что получилось"
   ]
  },
  {
   "cell_type": "code",
   "execution_count": 4,
   "metadata": {},
   "outputs": [],
   "source": [
    "data.columns = ['event_name', 'device_id', 'event_time', 'exp_id']"
   ]
  },
  {
   "cell_type": "code",
   "execution_count": 5,
   "metadata": {},
   "outputs": [],
   "source": [
    "data['event_time'] = data['event_time'].astype('datetime64[s]')\n",
    "data['dt'] = pd.to_datetime(data['event_time'].dt.date)"
   ]
  },
  {
   "cell_type": "code",
   "execution_count": 6,
   "metadata": {},
   "outputs": [
    {
     "data": {
      "text/plain": [
       "'кол-во строк дубликатов: '"
      ]
     },
     "metadata": {},
     "output_type": "display_data"
    },
    {
     "data": {
      "text/plain": [
       "413"
      ]
     },
     "metadata": {},
     "output_type": "display_data"
    },
    {
     "data": {
      "text/plain": [
       "'доля от общего кол-ва строк: '"
      ]
     },
     "metadata": {},
     "output_type": "display_data"
    },
    {
     "data": {
      "text/plain": [
       "0.169"
      ]
     },
     "metadata": {},
     "output_type": "display_data"
    }
   ],
   "source": [
    "qt_dup = data.duplicated().sum()\n",
    "display('кол-во строк дубликатов: ', qt_dup)\n",
    "display('доля от общего кол-ва строк: ', round(qt_dup/len(data['dt']) * 100,3))"
   ]
  },
  {
   "cell_type": "code",
   "execution_count": 7,
   "metadata": {
    "scrolled": true
   },
   "outputs": [
    {
     "data": {
      "text/html": [
       "<div>\n",
       "<style scoped>\n",
       "    .dataframe tbody tr th:only-of-type {\n",
       "        vertical-align: middle;\n",
       "    }\n",
       "\n",
       "    .dataframe tbody tr th {\n",
       "        vertical-align: top;\n",
       "    }\n",
       "\n",
       "    .dataframe thead th {\n",
       "        text-align: right;\n",
       "    }\n",
       "</style>\n",
       "<table border=\"1\" class=\"dataframe\">\n",
       "  <thead>\n",
       "    <tr style=\"text-align: right;\">\n",
       "      <th></th>\n",
       "      <th>event_name</th>\n",
       "      <th>device_id</th>\n",
       "      <th>event_time</th>\n",
       "      <th>exp_id</th>\n",
       "      <th>dt</th>\n",
       "    </tr>\n",
       "  </thead>\n",
       "  <tbody>\n",
       "    <tr>\n",
       "      <th>0</th>\n",
       "      <td>MainScreenAppear</td>\n",
       "      <td>4575588528974610257</td>\n",
       "      <td>2019-07-25 04:43:36</td>\n",
       "      <td>246</td>\n",
       "      <td>2019-07-25</td>\n",
       "    </tr>\n",
       "    <tr>\n",
       "      <th>1</th>\n",
       "      <td>MainScreenAppear</td>\n",
       "      <td>7416695313311560658</td>\n",
       "      <td>2019-07-25 11:11:42</td>\n",
       "      <td>246</td>\n",
       "      <td>2019-07-25</td>\n",
       "    </tr>\n",
       "  </tbody>\n",
       "</table>\n",
       "</div>"
      ],
      "text/plain": [
       "         event_name            device_id          event_time  exp_id  \\\n",
       "0  MainScreenAppear  4575588528974610257 2019-07-25 04:43:36     246   \n",
       "1  MainScreenAppear  7416695313311560658 2019-07-25 11:11:42     246   \n",
       "\n",
       "          dt  \n",
       "0 2019-07-25  \n",
       "1 2019-07-25  "
      ]
     },
     "execution_count": 7,
     "metadata": {},
     "output_type": "execute_result"
    }
   ],
   "source": [
    "# небольшое кол-во дубликатов, составляющее менее 1% от датасета. Можем \"дропнуть\" строки-дубликаты\n",
    "data = data.drop_duplicates()\n",
    "data.head(2)"
   ]
  },
  {
   "cell_type": "markdown",
   "metadata": {},
   "source": [
    "### Проверка наличия юзера в n групп, добавление группы в строку с номером эксперимента"
   ]
  },
  {
   "cell_type": "markdown",
   "metadata": {},
   "source": [
    "- проверим, есть ли у нас клиенты, которые присутствуют в нескольких группах сразу (посмотрим это путём подсчета уникальных кол-в групп на 1 пользователя)\n",
    "- заменим названия групп на версии с обозначением, что это за группа - А или В. Для этого поменяем тип данных столбца exp_id на строку и напишем функцию для замены нескольких элементов столбца"
   ]
  },
  {
   "cell_type": "code",
   "execution_count": 8,
   "metadata": {
    "scrolled": true
   },
   "outputs": [
    {
     "data": {
      "text/plain": [
       "0"
      ]
     },
     "execution_count": 8,
     "metadata": {},
     "output_type": "execute_result"
    }
   ],
   "source": [
    "suspects = data.groupby('device_id').agg({'exp_id': 'nunique'}).rename(columns={'exp_id': 'qt_of_exps'})\n",
    "suspects = suspects.query('qt_of_exps > 1')\n",
    "suspects.index.nunique()"
   ]
  },
  {
   "cell_type": "markdown",
   "metadata": {},
   "source": [
    "#### функция replace_me: добавление группы в номер эксперимента"
   ]
  },
  {
   "cell_type": "code",
   "execution_count": 9,
   "metadata": {},
   "outputs": [
    {
     "data": {
      "text/plain": [
       "array(['246_A', '248_B', '247_A'], dtype=object)"
      ]
     },
     "execution_count": 9,
     "metadata": {},
     "output_type": "execute_result"
    }
   ],
   "source": [
    "data['exp_id'] = data['exp_id'].astype('str')\n",
    "def replace_me(data, replace_values):\n",
    "    for i, j in replace_values.items():\n",
    "        data['exp_id'] = data['exp_id'].str.replace(i, j)\n",
    "    return data\n",
    "\n",
    "replace_values = {'246': '246_A', '247': '247_A', '248': '248_B'}\n",
    "data = replace_me(data, replace_values)\n",
    "data['exp_id'].unique()"
   ]
  },
  {
   "cell_type": "markdown",
   "metadata": {},
   "source": [
    "**Итого данные ок: столбцы переименовали, дубли выкинули, проверили, что нет юзеров, попавших в несколько групп сразу (кол-во юзеров с кол-вом групп более 1 равно нулю), для удобства добавили тип группы в столбец exp_id. Можем переходить к верхнеуровнему анализу**"
   ]
  },
  {
   "cell_type": "markdown",
   "metadata": {},
   "source": [
    "## Общий анализ данных"
   ]
  },
  {
   "cell_type": "markdown",
   "metadata": {},
   "source": [
    "### Кол-во событий, кол-во юзеров, среднее кол-во событий на юзера"
   ]
  },
  {
   "cell_type": "markdown",
   "metadata": {},
   "source": [
    "- напишем функцию для просмотра данных по датасету (кол-во событий, кол-во уникальных юзеров, среднее кол-во событий на юзера)\n",
    "- воспользуемся функцией для просмотра данных\n",
    "- посмотрим, в какой группе больше событий на пользователей"
   ]
  },
  {
   "cell_type": "markdown",
   "metadata": {},
   "source": [
    "#### функция common_info: общие данные по датасету"
   ]
  },
  {
   "cell_type": "code",
   "execution_count": 10,
   "metadata": {},
   "outputs": [],
   "source": [
    "def common_info(data):\n",
    "    qt_events = data['device_id'].count()\n",
    "    qt_unique_users = len(data['device_id'].unique())\n",
    "    avg_qt_events = round(qt_events / qt_unique_users,2)\n",
    "    avg_qt_events_e = (data.groupby('exp_id', as_index=False)\n",
    "                       .agg({'event_time':'count', 'device_id': 'nunique'}))\n",
    "    qt_events_for_user = (data.groupby('device_id', as_index=False)\n",
    "                          .agg({'event_time': 'count'})\n",
    "                          .sort_values(by='event_time')\n",
    "                          .rename(columns={'event_time': 'qt_of_events'}))\n",
    "    avg_qt_events_e['mean'] = round(avg_qt_events_e['event_time'] / avg_qt_events_e['device_id'],2)\n",
    "\n",
    "    return qt_events, qt_unique_users, avg_qt_events, qt_events_for_user, avg_qt_events_e"
   ]
  },
  {
   "cell_type": "code",
   "execution_count": 11,
   "metadata": {},
   "outputs": [
    {
     "data": {
      "text/plain": [
       "'Кол-во событий в логе:'"
      ]
     },
     "metadata": {},
     "output_type": "display_data"
    },
    {
     "data": {
      "text/plain": [
       "243713"
      ]
     },
     "metadata": {},
     "output_type": "display_data"
    },
    {
     "data": {
      "text/plain": [
       "'Кол-во уникальных пользователей:'"
      ]
     },
     "metadata": {},
     "output_type": "display_data"
    },
    {
     "data": {
      "text/plain": [
       "7551"
      ]
     },
     "metadata": {},
     "output_type": "display_data"
    },
    {
     "data": {
      "text/plain": [
       "'Среднее кол-во событий на пользователя:'"
      ]
     },
     "metadata": {},
     "output_type": "display_data"
    },
    {
     "data": {
      "text/plain": [
       "32.28"
      ]
     },
     "metadata": {},
     "output_type": "display_data"
    }
   ],
   "source": [
    "qt_events, qt_unique_users, avg_qt_events, qt_events_for_user, avg_qt_events_e = common_info(data)\n",
    "display('Кол-во событий в логе:', qt_events)\n",
    "display('Кол-во уникальных пользователей:', qt_unique_users)\n",
    "display('Среднее кол-во событий на пользователя:', avg_qt_events)"
   ]
  },
  {
   "cell_type": "code",
   "execution_count": 12,
   "metadata": {},
   "outputs": [
    {
     "data": {
      "text/html": [
       "<div>\n",
       "<style scoped>\n",
       "    .dataframe tbody tr th:only-of-type {\n",
       "        vertical-align: middle;\n",
       "    }\n",
       "\n",
       "    .dataframe tbody tr th {\n",
       "        vertical-align: top;\n",
       "    }\n",
       "\n",
       "    .dataframe thead th {\n",
       "        text-align: right;\n",
       "    }\n",
       "</style>\n",
       "<table border=\"1\" class=\"dataframe\">\n",
       "  <thead>\n",
       "    <tr style=\"text-align: right;\">\n",
       "      <th></th>\n",
       "      <th>exp_id</th>\n",
       "      <th>event_time</th>\n",
       "      <th>device_id</th>\n",
       "      <th>mean</th>\n",
       "    </tr>\n",
       "  </thead>\n",
       "  <tbody>\n",
       "    <tr>\n",
       "      <th>0</th>\n",
       "      <td>246_A</td>\n",
       "      <td>80181</td>\n",
       "      <td>2489</td>\n",
       "      <td>32.21</td>\n",
       "    </tr>\n",
       "    <tr>\n",
       "      <th>1</th>\n",
       "      <td>247_A</td>\n",
       "      <td>77950</td>\n",
       "      <td>2520</td>\n",
       "      <td>30.93</td>\n",
       "    </tr>\n",
       "    <tr>\n",
       "      <th>2</th>\n",
       "      <td>248_B</td>\n",
       "      <td>85582</td>\n",
       "      <td>2542</td>\n",
       "      <td>33.67</td>\n",
       "    </tr>\n",
       "  </tbody>\n",
       "</table>\n",
       "</div>"
      ],
      "text/plain": [
       "  exp_id  event_time  device_id   mean\n",
       "0  246_A       80181       2489  32.21\n",
       "1  247_A       77950       2520  30.93\n",
       "2  248_B       85582       2542  33.67"
      ]
     },
     "metadata": {},
     "output_type": "display_data"
    }
   ],
   "source": [
    "display(avg_qt_events_e)"
   ]
  },
  {
   "cell_type": "markdown",
   "metadata": {},
   "source": [
    "### Кол-во событий на юнит"
   ]
  },
  {
   "cell_type": "markdown",
   "metadata": {},
   "source": [
    "> Увидели, что в среднем на пользователя приходится ~32 события. Посмотрим общие данные по распределению кол-ва событий на одного юзера:\n",
    "<br>\n",
    ">- построим боксплот по кол-ву событий на юзера\n",
    ">- посмотрим медиану/моду событий на пользователя\n",
    ">- посмотрим выборочные перцентили"
   ]
  },
  {
   "cell_type": "code",
   "execution_count": 13,
   "metadata": {
    "scrolled": true
   },
   "outputs": [
    {
     "data": {
      "image/png": "[encoded data removed]",
      "text/plain": [
       "<Figure size 1080x216 with 1 Axes>"
      ]
     },
     "metadata": {
      "needs_background": "light"
     },
     "output_type": "display_data"
    }
   ],
   "source": [
    "plt.figure(figsize=(15,3))\n",
    "sns.boxplot(x=qt_events_for_user['qt_of_events'], color='MediumSeaGreen');\n",
    "plt.title('Диаграмма размаха количества событий на юзера')\n",
    "plt.xlabel('Кол-во событий на юзера');"
   ]
  },
  {
   "cell_type": "markdown",
   "metadata": {},
   "source": [
    "> Наибольшая частота наблюдается в диапазоне нескольких десятков событий на юзера. Есть и выбросы - свыше 100 и даже 2000 событий. Также плохо видно сам \"ящик\" - изменим границы оси Х:"
   ]
  },
  {
   "cell_type": "code",
   "execution_count": 14,
   "metadata": {
    "scrolled": false
   },
   "outputs": [
    {
     "data": {
      "image/png": "[encoded data removed]",
      "text/plain": [
       "<Figure size 1080x216 with 1 Axes>"
      ]
     },
     "metadata": {
      "needs_background": "light"
     },
     "output_type": "display_data"
    }
   ],
   "source": [
    "plt.figure(figsize=(15,3))\n",
    "sns.boxplot(x=qt_events_for_user['qt_of_events'], color='MediumSeaGreen');\n",
    "plt.title('Диаграмма размаха количества событий на юзера')\n",
    "plt.xlabel('Кол-во событий на юзера');\n",
    "plt.xlim([0, 150]);"
   ]
  },
  {
   "cell_type": "markdown",
   "metadata": {},
   "source": [
    "> Агамс, видим медиану на уровне 20, межквартильный размах в пределах ~ 10-39 событий на юзера. \n",
    "><br> Посмотрим 95 и 99 перцентили и медиану с модой:"
   ]
  },
  {
   "cell_type": "code",
   "execution_count": 15,
   "metadata": {},
   "outputs": [
    {
     "data": {
      "text/plain": [
       "array([ 89. , 200.5])"
      ]
     },
     "execution_count": 15,
     "metadata": {},
     "output_type": "execute_result"
    }
   ],
   "source": [
    "np.percentile(qt_events_for_user['qt_of_events'], [95,99])"
   ]
  },
  {
   "cell_type": "code",
   "execution_count": 16,
   "metadata": {},
   "outputs": [
    {
     "name": "stdout",
     "output_type": "stream",
     "text": [
      "медиана:  20.0\n",
      "мода:  5\n"
     ]
    }
   ],
   "source": [
    "print('медиана: ', qt_events_for_user['qt_of_events'].median())\n",
    "print('мода: ', stat.mode(qt_events_for_user['qt_of_events']))"
   ]
  },
  {
   "cell_type": "markdown",
   "metadata": {},
   "source": [
    "> Видим, что медиана = 20, самое часто встречаемое кол-во событий на пользователя = 5. По перцентилю видим, что 99% юзеров имеют до 200.5 событий. 1% клиентов с кол-м событий больше этой величины можем считать выбросами. Посмотрим детальнее:\n",
    ">- объявим переменную, в которую списком положим клиентов с кол-м событий более 200.5\n",
    ">- создадим датасет по этим клиентам, посмотрим, какое у них кол-во событий\n",
    ">- воспользуемся функцией common_info для просмотра общих данных по датасету\n",
    ">- посмотрим, какую долю от общего кол-ва уникальных юзеров составляют выбросы + какую долю событий они несут за собой\n",
    ">- посмотрим в сводной, сколько - и каких - событий совершалось в ту или иную дату"
   ]
  },
  {
   "cell_type": "code",
   "execution_count": 17,
   "metadata": {},
   "outputs": [],
   "source": [
    "ejects = qt_events_for_user.query('qt_of_events > 200.5')\n",
    "ejects = list(ejects['device_id'])"
   ]
  },
  {
   "cell_type": "code",
   "execution_count": 18,
   "metadata": {},
   "outputs": [
    {
     "data": {
      "text/html": [
       "<div>\n",
       "<style scoped>\n",
       "    .dataframe tbody tr th:only-of-type {\n",
       "        vertical-align: middle;\n",
       "    }\n",
       "\n",
       "    .dataframe tbody tr th {\n",
       "        vertical-align: top;\n",
       "    }\n",
       "\n",
       "    .dataframe thead th {\n",
       "        text-align: right;\n",
       "    }\n",
       "</style>\n",
       "<table border=\"1\" class=\"dataframe\">\n",
       "  <thead>\n",
       "    <tr style=\"text-align: right;\">\n",
       "      <th></th>\n",
       "      <th>event_name</th>\n",
       "      <th>device_id</th>\n",
       "    </tr>\n",
       "  </thead>\n",
       "  <tbody>\n",
       "    <tr>\n",
       "      <th>0</th>\n",
       "      <td>CartScreenAppear</td>\n",
       "      <td>13072</td>\n",
       "    </tr>\n",
       "    <tr>\n",
       "      <th>1</th>\n",
       "      <td>PaymentScreenSuccessful</td>\n",
       "      <td>11769</td>\n",
       "    </tr>\n",
       "    <tr>\n",
       "      <th>2</th>\n",
       "      <td>OffersScreenAppear</td>\n",
       "      <td>5423</td>\n",
       "    </tr>\n",
       "    <tr>\n",
       "      <th>3</th>\n",
       "      <td>MainScreenAppear</td>\n",
       "      <td>4090</td>\n",
       "    </tr>\n",
       "    <tr>\n",
       "      <th>4</th>\n",
       "      <td>Tutorial</td>\n",
       "      <td>26</td>\n",
       "    </tr>\n",
       "  </tbody>\n",
       "</table>\n",
       "</div>"
      ],
      "text/plain": [
       "                event_name  device_id\n",
       "0         CartScreenAppear      13072\n",
       "1  PaymentScreenSuccessful      11769\n",
       "2       OffersScreenAppear       5423\n",
       "3         MainScreenAppear       4090\n",
       "4                 Tutorial         26"
      ]
     },
     "execution_count": 18,
     "metadata": {},
     "output_type": "execute_result"
    }
   ],
   "source": [
    "look_at_me = data.query('device_id in @ejects')\n",
    "look_at_me_g = look_at_me.groupby('event_name', as_index=False).agg({'device_id': 'count'})\n",
    "look_at_me_g.sort_values(by='device_id', ascending=False).reset_index(drop=True)"
   ]
  },
  {
   "cell_type": "code",
   "execution_count": 19,
   "metadata": {},
   "outputs": [
    {
     "data": {
      "text/plain": [
       "'Кол-во событий в логе:'"
      ]
     },
     "metadata": {},
     "output_type": "display_data"
    },
    {
     "data": {
      "text/plain": [
       "34380"
      ]
     },
     "metadata": {},
     "output_type": "display_data"
    },
    {
     "data": {
      "text/plain": [
       "'Кол-во уникальных пользователей:'"
      ]
     },
     "metadata": {},
     "output_type": "display_data"
    },
    {
     "data": {
      "text/plain": [
       "76"
      ]
     },
     "metadata": {},
     "output_type": "display_data"
    },
    {
     "data": {
      "text/plain": [
       "'Среднее кол-во событий на пользователя:'"
      ]
     },
     "metadata": {},
     "output_type": "display_data"
    },
    {
     "data": {
      "text/plain": [
       "452.37"
      ]
     },
     "metadata": {},
     "output_type": "display_data"
    }
   ],
   "source": [
    "look_at_me_cons = common_info(look_at_me)\n",
    "qt_events_l, qt_unique_users_l, avg_qt_events_l, qt_events_for_user_l, avg_qt_events_e_l = common_info(look_at_me)\n",
    "display('Кол-во событий в логе:', qt_events_l)\n",
    "display('Кол-во уникальных пользователей:', qt_unique_users_l)\n",
    "display('Среднее кол-во событий на пользователя:', avg_qt_events_l)"
   ]
  },
  {
   "cell_type": "code",
   "execution_count": 20,
   "metadata": {},
   "outputs": [
    {
     "name": "stdout",
     "output_type": "stream",
     "text": [
      "доля от кол-ва уникальных юзеров:  1.006\n",
      "доля от кол-ва событий:  14.107\n"
     ]
    }
   ],
   "source": [
    "print('доля от кол-ва уникальных юзеров: ', round(qt_unique_users_l / qt_unique_users * 100, 3))\n",
    "print('доля от кол-ва событий: ', round(qt_events_l / qt_events * 100, 3))"
   ]
  },
  {
   "cell_type": "code",
   "execution_count": 21,
   "metadata": {},
   "outputs": [
    {
     "data": {
      "text/html": [
       "<div>\n",
       "<style scoped>\n",
       "    .dataframe tbody tr th:only-of-type {\n",
       "        vertical-align: middle;\n",
       "    }\n",
       "\n",
       "    .dataframe tbody tr th {\n",
       "        vertical-align: top;\n",
       "    }\n",
       "\n",
       "    .dataframe thead th {\n",
       "        text-align: right;\n",
       "    }\n",
       "</style>\n",
       "<table border=\"1\" class=\"dataframe\">\n",
       "  <thead>\n",
       "    <tr style=\"text-align: right;\">\n",
       "      <th>event_name</th>\n",
       "      <th>CartScreenAppear</th>\n",
       "      <th>MainScreenAppear</th>\n",
       "      <th>OffersScreenAppear</th>\n",
       "      <th>PaymentScreenSuccessful</th>\n",
       "      <th>Tutorial</th>\n",
       "    </tr>\n",
       "    <tr>\n",
       "      <th>dt</th>\n",
       "      <th></th>\n",
       "      <th></th>\n",
       "      <th></th>\n",
       "      <th></th>\n",
       "      <th></th>\n",
       "    </tr>\n",
       "  </thead>\n",
       "  <tbody>\n",
       "    <tr>\n",
       "      <th>2019-07-26</th>\n",
       "      <td>NaN</td>\n",
       "      <td>NaN</td>\n",
       "      <td>NaN</td>\n",
       "      <td>NaN</td>\n",
       "      <td>2.0</td>\n",
       "    </tr>\n",
       "    <tr>\n",
       "      <th>2019-07-30</th>\n",
       "      <td>NaN</td>\n",
       "      <td>NaN</td>\n",
       "      <td>1.0</td>\n",
       "      <td>NaN</td>\n",
       "      <td>NaN</td>\n",
       "    </tr>\n",
       "    <tr>\n",
       "      <th>2019-07-31</th>\n",
       "      <td>19.0</td>\n",
       "      <td>26.0</td>\n",
       "      <td>45.0</td>\n",
       "      <td>15.0</td>\n",
       "      <td>NaN</td>\n",
       "    </tr>\n",
       "    <tr>\n",
       "      <th>2019-08-01</th>\n",
       "      <td>1973.0</td>\n",
       "      <td>534.0</td>\n",
       "      <td>983.0</td>\n",
       "      <td>1754.0</td>\n",
       "      <td>3.0</td>\n",
       "    </tr>\n",
       "    <tr>\n",
       "      <th>2019-08-02</th>\n",
       "      <td>2189.0</td>\n",
       "      <td>608.0</td>\n",
       "      <td>761.0</td>\n",
       "      <td>2030.0</td>\n",
       "      <td>8.0</td>\n",
       "    </tr>\n",
       "    <tr>\n",
       "      <th>2019-08-03</th>\n",
       "      <td>1959.0</td>\n",
       "      <td>587.0</td>\n",
       "      <td>700.0</td>\n",
       "      <td>1782.0</td>\n",
       "      <td>2.0</td>\n",
       "    </tr>\n",
       "    <tr>\n",
       "      <th>2019-08-04</th>\n",
       "      <td>1892.0</td>\n",
       "      <td>566.0</td>\n",
       "      <td>808.0</td>\n",
       "      <td>1704.0</td>\n",
       "      <td>3.0</td>\n",
       "    </tr>\n",
       "    <tr>\n",
       "      <th>2019-08-05</th>\n",
       "      <td>2175.0</td>\n",
       "      <td>701.0</td>\n",
       "      <td>849.0</td>\n",
       "      <td>1899.0</td>\n",
       "      <td>5.0</td>\n",
       "    </tr>\n",
       "    <tr>\n",
       "      <th>2019-08-06</th>\n",
       "      <td>1586.0</td>\n",
       "      <td>522.0</td>\n",
       "      <td>695.0</td>\n",
       "      <td>1409.0</td>\n",
       "      <td>3.0</td>\n",
       "    </tr>\n",
       "    <tr>\n",
       "      <th>2019-08-07</th>\n",
       "      <td>1279.0</td>\n",
       "      <td>546.0</td>\n",
       "      <td>581.0</td>\n",
       "      <td>1176.0</td>\n",
       "      <td>NaN</td>\n",
       "    </tr>\n",
       "  </tbody>\n",
       "</table>\n",
       "</div>"
      ],
      "text/plain": [
       "event_name  CartScreenAppear  MainScreenAppear  OffersScreenAppear  \\\n",
       "dt                                                                   \n",
       "2019-07-26               NaN               NaN                 NaN   \n",
       "2019-07-30               NaN               NaN                 1.0   \n",
       "2019-07-31              19.0              26.0                45.0   \n",
       "2019-08-01            1973.0             534.0               983.0   \n",
       "2019-08-02            2189.0             608.0               761.0   \n",
       "2019-08-03            1959.0             587.0               700.0   \n",
       "2019-08-04            1892.0             566.0               808.0   \n",
       "2019-08-05            2175.0             701.0               849.0   \n",
       "2019-08-06            1586.0             522.0               695.0   \n",
       "2019-08-07            1279.0             546.0               581.0   \n",
       "\n",
       "event_name  PaymentScreenSuccessful  Tutorial  \n",
       "dt                                             \n",
       "2019-07-26                      NaN       2.0  \n",
       "2019-07-30                      NaN       NaN  \n",
       "2019-07-31                     15.0       NaN  \n",
       "2019-08-01                   1754.0       3.0  \n",
       "2019-08-02                   2030.0       8.0  \n",
       "2019-08-03                   1782.0       2.0  \n",
       "2019-08-04                   1704.0       3.0  \n",
       "2019-08-05                   1899.0       5.0  \n",
       "2019-08-06                   1409.0       3.0  \n",
       "2019-08-07                   1176.0       NaN  "
      ]
     },
     "execution_count": 21,
     "metadata": {},
     "output_type": "execute_result"
    }
   ],
   "source": [
    "look_at_me_p = look_at_me.pivot_table(index='dt', columns='event_name', values='device_id', aggfunc='count')\n",
    "look_at_me_p"
   ]
  },
  {
   "cell_type": "markdown",
   "metadata": {},
   "source": [
    "**Итого, что видим:**\n",
    "- по юзерам, у которых более 200 событий, необычная воронка, сосредоточенная на уровнях \"корзина\" и \"оплата\"\n",
    "- доля таких юзеров - 1% от общего кол-ва уникальных юзеров, вместе с тем они генерят нам 14% событий от датасета\n",
    "- по трактовке воронки варианта 2: либо это клиенты, напрямую попадающие на оплату / в корзину напрямую - минуя главный экран, либо данные собираются странно. Энивэй, необходимо уточнить пути, с помощью которых клиента может перебрасывать на этапы корзины/оплаты.\n",
    "\n",
    "**На данном этапе никого из клиентов не отсекаем - будем строить воронки по уникальным юзерам (не по кол-ву событий). Необходимо уточнить у бизнеса, кем являются клиенты с высоким кол-вом событий (возможно, это ЮЛ?).**"
   ]
  },
  {
   "cell_type": "markdown",
   "metadata": {},
   "source": [
    "### Распределение данных по датам"
   ]
  },
  {
   "cell_type": "markdown",
   "metadata": {},
   "source": [
    "- посмотрим минимум и максимум даты в периоде \n",
    "- те же данные посмотрим в разрезе групп"
   ]
  },
  {
   "cell_type": "code",
   "execution_count": 22,
   "metadata": {},
   "outputs": [
    {
     "name": "stdout",
     "output_type": "stream",
     "text": [
      "Минимальная дата периода: 2019-07-25 00:00:00\n",
      "Максимальная дата периода: 2019-08-07 00:00:00\n"
     ]
    }
   ],
   "source": [
    "print('Минимальная дата периода:', data['dt'].min())\n",
    "print('Максимальная дата периода:', data['dt'].max())"
   ]
  },
  {
   "cell_type": "code",
   "execution_count": 23,
   "metadata": {},
   "outputs": [
    {
     "data": {
      "text/html": [
       "<div>\n",
       "<style scoped>\n",
       "    .dataframe tbody tr th:only-of-type {\n",
       "        vertical-align: middle;\n",
       "    }\n",
       "\n",
       "    .dataframe tbody tr th {\n",
       "        vertical-align: top;\n",
       "    }\n",
       "\n",
       "    .dataframe thead tr th {\n",
       "        text-align: left;\n",
       "    }\n",
       "</style>\n",
       "<table border=\"1\" class=\"dataframe\">\n",
       "  <thead>\n",
       "    <tr>\n",
       "      <th></th>\n",
       "      <th>exp_id</th>\n",
       "      <th colspan=\"2\" halign=\"left\">dt</th>\n",
       "    </tr>\n",
       "    <tr>\n",
       "      <th></th>\n",
       "      <th></th>\n",
       "      <th>min</th>\n",
       "      <th>max</th>\n",
       "    </tr>\n",
       "  </thead>\n",
       "  <tbody>\n",
       "    <tr>\n",
       "      <th>0</th>\n",
       "      <td>246_A</td>\n",
       "      <td>2019-07-25</td>\n",
       "      <td>2019-08-07</td>\n",
       "    </tr>\n",
       "    <tr>\n",
       "      <th>1</th>\n",
       "      <td>247_A</td>\n",
       "      <td>2019-07-25</td>\n",
       "      <td>2019-08-07</td>\n",
       "    </tr>\n",
       "    <tr>\n",
       "      <th>2</th>\n",
       "      <td>248_B</td>\n",
       "      <td>2019-07-25</td>\n",
       "      <td>2019-08-07</td>\n",
       "    </tr>\n",
       "  </tbody>\n",
       "</table>\n",
       "</div>"
      ],
      "text/plain": [
       "  exp_id         dt           \n",
       "                min        max\n",
       "0  246_A 2019-07-25 2019-08-07\n",
       "1  247_A 2019-07-25 2019-08-07\n",
       "2  248_B 2019-07-25 2019-08-07"
      ]
     },
     "metadata": {},
     "output_type": "display_data"
    }
   ],
   "source": [
    "dates_e = data.groupby('exp_id', as_index=False).agg({'dt': ['min','max']})\n",
    "display(dates_e)"
   ]
  },
  {
   "cell_type": "markdown",
   "metadata": {},
   "source": [
    "**Увидели, что минимальные и максимальные даты в разрезе групп не отличаются от общих макс/мин. Это хорошо, тк здесь не возникло вопросов по событийному периоду в разных группах.**"
   ]
  },
  {
   "cell_type": "markdown",
   "metadata": {},
   "source": [
    "- создадим функцию, которая позволит нам быстро группировать датасет по уровням (опционально: дата, группа или тип события) + делать расчет показателя (кол-во или кол-во уникальных) + делать сортировку по заданным переметрам\n",
    "- объявим переменную, сделав расчет функцией\n",
    "- посмотрим данные в графике"
   ]
  },
  {
   "cell_type": "markdown",
   "metadata": {},
   "source": [
    "#### функция group_me: группировка датасета"
   ]
  },
  {
   "cell_type": "code",
   "execution_count": 24,
   "metadata": {},
   "outputs": [],
   "source": [
    "def group_me(data, levels=[], function='', sort=[''], ascending=True):\n",
    "    union = (data.groupby(levels, as_index=False)\n",
    "             .agg({'device_id': function})\n",
    "             .rename(columns={'device_id': function})\n",
    "             .sort_values(by=sort, ascending=ascending)\n",
    "             .reset_index(drop=True))\n",
    "    return union"
   ]
  },
  {
   "cell_type": "code",
   "execution_count": 25,
   "metadata": {},
   "outputs": [],
   "source": [
    "union = group_me(data, levels=['dt'], function='count', sort='dt') # функция считает кол-во событий в разрезе даты"
   ]
  },
  {
   "cell_type": "code",
   "execution_count": 26,
   "metadata": {
    "scrolled": true
   },
   "outputs": [
    {
     "data": {
      "image/png": "[encoded data removed]",
      "text/plain": [
       "<Figure size 1080x288 with 1 Axes>"
      ]
     },
     "metadata": {
      "needs_background": "light"
     },
     "output_type": "display_data"
    }
   ],
   "source": [
    "plt.figure(figsize=(15,4))\n",
    "plt.style.use('ggplot')\n",
    "plt.plot(union['dt'], union['count'], label='qt_of_events_all_groups', color='MediumSeaGreen');\n",
    "plt.legend();\n",
    "plt.title('Кол-во событий на дату');\n",
    "plt.xlabel('Дата');\n",
    "plt.ylabel('Кол-во событий');"
   ]
  },
  {
   "cell_type": "markdown",
   "metadata": {},
   "source": [
    "> Как распределены кол-ва событий по группам? Переиспользуем функцию группировки, добавив разрез по группам и посмотрим графики"
   ]
  },
  {
   "cell_type": "code",
   "execution_count": 27,
   "metadata": {},
   "outputs": [
    {
     "data": {
      "image/png": "[encoded data removed]",
      "text/plain": [
       "<Figure size 1080x288 with 1 Axes>"
      ]
     },
     "metadata": {},
     "output_type": "display_data"
    }
   ],
   "source": [
    "union_e = group_me(data, levels=['dt', 'exp_id'], function='count', sort='dt') #дополнительно сгруппировали по группе\n",
    "union_246 = union_e.query('exp_id == \"246_A\"') #сделали отдельные фреймы по каждой группе\n",
    "union_247 = union_e.query('exp_id == \"247_A\"')\n",
    "union_248 = union_e.query('exp_id == \"248_B\"')\n",
    "\n",
    "alpha_color = .3 #прозрачность линий групп А\n",
    "\n",
    "plt.figure(figsize=(15,4))\n",
    "plt.plot(union_246['dt'], union_246['count'], label='246_A (control)', color='MediumVioletRed', alpha=alpha_color);\n",
    "plt.plot(union_247['dt'], union_247['count'], label='247_A (control)', color='DarkMagenta', alpha=alpha_color);\n",
    "plt.plot(union_248['dt'], union_248['count'], label='248_B (experimental)', color='DarkCyan', alpha=1);\n",
    "plt.legend();\n",
    "plt.title('Кол-во событий на дату');\n",
    "plt.xlabel('Дата');\n",
    "plt.ylabel('Кол-во событий');"
   ]
  },
  {
   "cell_type": "markdown",
   "metadata": {},
   "source": [
    "**Итого по графикам видим - логи \"доехали\" к 1 августа 2019 - с этой даты начинается релеватный к анализу объем данных. По графикам отдельных групп аномалий нет - по всем трём число событий примерно на одном уровне и по всем трём объем данных визуально становится достаточным с 1 августа 2019**"
   ]
  },
  {
   "cell_type": "markdown",
   "metadata": {},
   "source": [
    "### Фильтрация датасета по датам"
   ]
  },
  {
   "cell_type": "markdown",
   "metadata": {},
   "source": [
    "В предыдущем пункте выявили, что до 1 августа 2019 данных мало. Проверим, насколько корректно будет отбросить данные до этой даты:\n",
    "- переименуем исходный датасет и перезапишем переменную data отфильтрованным датасетом (с данными с 1 августа 2019 включительно)\n",
    "- сравним по группам - сколько потеряли уникальных юзеров / сколько событий в кол-ве. Рассчитаем столбцы с разницей; по событиям дополнительно рассчитаем долю потерянных данных от исходного объема в разрезе группы\n",
    "- посмотрим типы событий, которые потерялись после фильтрации"
   ]
  },
  {
   "cell_type": "code",
   "execution_count": 28,
   "metadata": {},
   "outputs": [],
   "source": [
    "data_old = data\n",
    "data = data_old.query('dt >= \"2019-08-01\"')"
   ]
  },
  {
   "cell_type": "code",
   "execution_count": 29,
   "metadata": {},
   "outputs": [
    {
     "data": {
      "text/html": [
       "<div>\n",
       "<style scoped>\n",
       "    .dataframe tbody tr th:only-of-type {\n",
       "        vertical-align: middle;\n",
       "    }\n",
       "\n",
       "    .dataframe tbody tr th {\n",
       "        vertical-align: top;\n",
       "    }\n",
       "\n",
       "    .dataframe thead th {\n",
       "        text-align: right;\n",
       "    }\n",
       "</style>\n",
       "<table border=\"1\" class=\"dataframe\">\n",
       "  <thead>\n",
       "    <tr style=\"text-align: right;\">\n",
       "      <th></th>\n",
       "      <th>exp_id</th>\n",
       "      <th>users_before</th>\n",
       "      <th>users_after</th>\n",
       "      <th>events_before</th>\n",
       "      <th>events_after</th>\n",
       "      <th>diff_users</th>\n",
       "      <th>diff_events</th>\n",
       "      <th>share_of_deleted_users</th>\n",
       "      <th>share_of_deleted_events</th>\n",
       "    </tr>\n",
       "  </thead>\n",
       "  <tbody>\n",
       "    <tr>\n",
       "      <th>0</th>\n",
       "      <td>246_A</td>\n",
       "      <td>2489</td>\n",
       "      <td>2484</td>\n",
       "      <td>80181</td>\n",
       "      <td>79302</td>\n",
       "      <td>5</td>\n",
       "      <td>879</td>\n",
       "      <td>0.20</td>\n",
       "      <td>1.10</td>\n",
       "    </tr>\n",
       "    <tr>\n",
       "      <th>1</th>\n",
       "      <td>247_A</td>\n",
       "      <td>2520</td>\n",
       "      <td>2513</td>\n",
       "      <td>77950</td>\n",
       "      <td>77022</td>\n",
       "      <td>7</td>\n",
       "      <td>928</td>\n",
       "      <td>0.28</td>\n",
       "      <td>1.19</td>\n",
       "    </tr>\n",
       "    <tr>\n",
       "      <th>2</th>\n",
       "      <td>248_B</td>\n",
       "      <td>2542</td>\n",
       "      <td>2537</td>\n",
       "      <td>85582</td>\n",
       "      <td>84563</td>\n",
       "      <td>5</td>\n",
       "      <td>1019</td>\n",
       "      <td>0.20</td>\n",
       "      <td>1.19</td>\n",
       "    </tr>\n",
       "  </tbody>\n",
       "</table>\n",
       "</div>"
      ],
      "text/plain": [
       "  exp_id  users_before  users_after  events_before  events_after  diff_users  \\\n",
       "0  246_A          2489         2484          80181         79302           5   \n",
       "1  247_A          2520         2513          77950         77022           7   \n",
       "2  248_B          2542         2537          85582         84563           5   \n",
       "\n",
       "   diff_events  share_of_deleted_users  share_of_deleted_events  \n",
       "0          879                    0.20                     1.10  \n",
       "1          928                    0.28                     1.19  \n",
       "2         1019                    0.20                     1.19  "
      ]
     },
     "execution_count": 29,
     "metadata": {},
     "output_type": "execute_result"
    }
   ],
   "source": [
    "compare_users_new = group_me(data, levels=['exp_id'], function='nunique', sort='exp_id')\n",
    "compare_users_old = group_me(data_old, levels=['exp_id'], function='nunique', sort='exp_id')\n",
    "compare_events_new = group_me(data, levels=['exp_id'], function='count', sort='exp_id')\n",
    "compare_events_old = group_me(data_old, levels=['exp_id'], function='count', sort='exp_id')\n",
    "\n",
    "compare_group = (compare_users_old\n",
    "                .merge(compare_users_new, left_on='exp_id', right_on='exp_id', how='left')\n",
    "                .merge(compare_events_old, left_on='exp_id', right_on='exp_id', how='left')\n",
    "                .merge(compare_events_new, left_on='exp_id', right_on='exp_id', how='left'))\n",
    "compare_group['diff_users'] = compare_group['nunique_x'] - compare_group['nunique_y']\n",
    "compare_group['diff_events'] = compare_group['count_x'] - compare_group['count_y']\n",
    "\n",
    "#добавлен расчет доли удаленных юзеров\n",
    "compare_group['share_users'] = round(compare_group['diff_users'] / compare_group['nunique_x'] * 100,2)\n",
    "compare_group['share_events'] = round(compare_group['diff_events'] / compare_group['count_x'] * 100,2)\n",
    "                 \n",
    "compare_group.columns = ['exp_id', 'users_before', 'users_after', 'events_before', 'events_after', 'diff_users', \n",
    "                        'diff_events', 'share_of_deleted_users', 'share_of_deleted_events']\n",
    "compare_group\n"
   ]
  },
  {
   "cell_type": "code",
   "execution_count": 30,
   "metadata": {},
   "outputs": [
    {
     "data": {
      "text/html": [
       "<div>\n",
       "<style scoped>\n",
       "    .dataframe tbody tr th:only-of-type {\n",
       "        vertical-align: middle;\n",
       "    }\n",
       "\n",
       "    .dataframe tbody tr th {\n",
       "        vertical-align: top;\n",
       "    }\n",
       "\n",
       "    .dataframe thead th {\n",
       "        text-align: right;\n",
       "    }\n",
       "</style>\n",
       "<table border=\"1\" class=\"dataframe\">\n",
       "  <thead>\n",
       "    <tr style=\"text-align: right;\">\n",
       "      <th></th>\n",
       "      <th>exp_id</th>\n",
       "      <th>count_before</th>\n",
       "      <th>count_after</th>\n",
       "      <th>diff</th>\n",
       "      <th>share</th>\n",
       "    </tr>\n",
       "  </thead>\n",
       "  <tbody>\n",
       "    <tr>\n",
       "      <th>1</th>\n",
       "      <td>MainScreenAppear</td>\n",
       "      <td>119101</td>\n",
       "      <td>117328</td>\n",
       "      <td>1773</td>\n",
       "      <td>1.49</td>\n",
       "    </tr>\n",
       "    <tr>\n",
       "      <th>2</th>\n",
       "      <td>OffersScreenAppear</td>\n",
       "      <td>46808</td>\n",
       "      <td>46333</td>\n",
       "      <td>475</td>\n",
       "      <td>1.01</td>\n",
       "    </tr>\n",
       "    <tr>\n",
       "      <th>0</th>\n",
       "      <td>CartScreenAppear</td>\n",
       "      <td>42668</td>\n",
       "      <td>42303</td>\n",
       "      <td>365</td>\n",
       "      <td>0.86</td>\n",
       "    </tr>\n",
       "    <tr>\n",
       "      <th>3</th>\n",
       "      <td>PaymentScreenSuccessful</td>\n",
       "      <td>34118</td>\n",
       "      <td>33918</td>\n",
       "      <td>200</td>\n",
       "      <td>0.59</td>\n",
       "    </tr>\n",
       "    <tr>\n",
       "      <th>4</th>\n",
       "      <td>Tutorial</td>\n",
       "      <td>1018</td>\n",
       "      <td>1005</td>\n",
       "      <td>13</td>\n",
       "      <td>1.28</td>\n",
       "    </tr>\n",
       "  </tbody>\n",
       "</table>\n",
       "</div>"
      ],
      "text/plain": [
       "                    exp_id  count_before  count_after  diff  share\n",
       "1         MainScreenAppear        119101       117328  1773   1.49\n",
       "2       OffersScreenAppear         46808        46333   475   1.01\n",
       "0         CartScreenAppear         42668        42303   365   0.86\n",
       "3  PaymentScreenSuccessful         34118        33918   200   0.59\n",
       "4                 Tutorial          1018         1005    13   1.28"
      ]
     },
     "execution_count": 30,
     "metadata": {},
     "output_type": "execute_result"
    }
   ],
   "source": [
    "compare_types_new = group_me(data, levels=['event_name'], function='count', sort='event_name')\n",
    "compare_types_old = group_me(data_old, levels=['event_name'], function='count', sort='event_name')\n",
    "\n",
    "compare_types = compare_types_old.merge(compare_types_new, left_on='event_name', right_on='event_name', how='left')\n",
    "compare_types['diff'] = compare_types['count_x'] - compare_types['count_y']\n",
    "compare_types['share'] = round(compare_types['diff'] / compare_types['count_x'] * 100, 2)\n",
    "\n",
    "compare_types.columns = ['exp_id', 'count_before', 'count_after', 'diff', 'share']\n",
    "compare_types.sort_values(by='diff', ascending=False)"
   ]
  },
  {
   "cell_type": "markdown",
   "metadata": {},
   "source": [
    "> Переиспользуем функцию common_info для сравнения общих показателей по новому датасету."
   ]
  },
  {
   "cell_type": "code",
   "execution_count": 31,
   "metadata": {},
   "outputs": [
    {
     "data": {
      "text/plain": [
       "'Кол-во событий в логе:'"
      ]
     },
     "metadata": {},
     "output_type": "display_data"
    },
    {
     "data": {
      "text/plain": [
       "240887"
      ]
     },
     "metadata": {},
     "output_type": "display_data"
    },
    {
     "data": {
      "text/plain": [
       "'Кол-во уникальных пользователей:'"
      ]
     },
     "metadata": {},
     "output_type": "display_data"
    },
    {
     "data": {
      "text/plain": [
       "7534"
      ]
     },
     "metadata": {},
     "output_type": "display_data"
    },
    {
     "data": {
      "text/plain": [
       "'Среднее кол-во событий на пользователя:'"
      ]
     },
     "metadata": {},
     "output_type": "display_data"
    },
    {
     "data": {
      "text/plain": [
       "31.97"
      ]
     },
     "metadata": {},
     "output_type": "display_data"
    }
   ],
   "source": [
    "qt_events_f, qt_unique_users_f, avg_qt_events_f, qt_events_for_user_f, avg_qt_events_e_f,  = common_info(data)\n",
    "\n",
    "display('Кол-во событий в логе:', qt_events_f)\n",
    "display('Кол-во уникальных пользователей:', qt_unique_users_f)\n",
    "display('Среднее кол-во событий на пользователя:', avg_qt_events_f)"
   ]
  },
  {
   "cell_type": "markdown",
   "metadata": {},
   "source": [
    "**Будем ли фильтровать данные? Отметим, что мы увидели:**\n",
    "- потери уникальных юзеров не критичны (5-7 человек на группу)\n",
    "- по событиям потери есть - но они распределены равномерно по группам и составляют не более 1.5% от исходного объема событий в группе\n",
    "- все 3 группы остались в достаточном количестве\n",
    "- после фильтрации события \"отвалились\" по воронке равномерно (было бы плохо, если б, к примеру, \"отвалились\" только события оплаты)\n",
    "- потери кол-ва событий составляют не более 1.5% от исходного объема событий в разрезе вида события\n",
    "- по общим показателям (тотал событий, тотал уникальных юзеров, средний чек) нет больших отличий в сравнении с исходным датасетом\n",
    "\n",
    "<br>**Итого можем оставлять фильтрацию и далее работать с данными после 1 августа 2019 включительно.**"
   ]
  },
  {
   "cell_type": "markdown",
   "metadata": {},
   "source": [
    "## Воронки"
   ]
  },
  {
   "cell_type": "markdown",
   "metadata": {},
   "source": [
    "### Доля от общего количества юзеров"
   ]
  },
  {
   "cell_type": "markdown",
   "metadata": {},
   "source": [
    "**Продолжим работать с разрезом по типу события (переименуем для удобства):**\n",
    "- добавим в этот же сет колонку с кол-м уникальных юзеров в разрезе события + столбец с расчётом доли от общего кол-ва уникальных юзеров\n",
    "- построим столбчатую диаграмму"
   ]
  },
  {
   "cell_type": "code",
   "execution_count": 32,
   "metadata": {},
   "outputs": [
    {
     "data": {
      "text/html": [
       "<div>\n",
       "<style scoped>\n",
       "    .dataframe tbody tr th:only-of-type {\n",
       "        vertical-align: middle;\n",
       "    }\n",
       "\n",
       "    .dataframe tbody tr th {\n",
       "        vertical-align: top;\n",
       "    }\n",
       "\n",
       "    .dataframe thead th {\n",
       "        text-align: right;\n",
       "    }\n",
       "</style>\n",
       "<table border=\"1\" class=\"dataframe\">\n",
       "  <thead>\n",
       "    <tr style=\"text-align: right;\">\n",
       "      <th></th>\n",
       "      <th>event_name</th>\n",
       "      <th>count</th>\n",
       "      <th>nunique</th>\n",
       "      <th>share_from_all</th>\n",
       "    </tr>\n",
       "  </thead>\n",
       "  <tbody>\n",
       "    <tr>\n",
       "      <th>0</th>\n",
       "      <td>MainScreenAppear</td>\n",
       "      <td>117328</td>\n",
       "      <td>7419</td>\n",
       "      <td>98.47</td>\n",
       "    </tr>\n",
       "    <tr>\n",
       "      <th>1</th>\n",
       "      <td>OffersScreenAppear</td>\n",
       "      <td>46333</td>\n",
       "      <td>4593</td>\n",
       "      <td>60.96</td>\n",
       "    </tr>\n",
       "    <tr>\n",
       "      <th>2</th>\n",
       "      <td>CartScreenAppear</td>\n",
       "      <td>42303</td>\n",
       "      <td>3734</td>\n",
       "      <td>49.56</td>\n",
       "    </tr>\n",
       "    <tr>\n",
       "      <th>3</th>\n",
       "      <td>PaymentScreenSuccessful</td>\n",
       "      <td>33918</td>\n",
       "      <td>3539</td>\n",
       "      <td>46.97</td>\n",
       "    </tr>\n",
       "    <tr>\n",
       "      <th>4</th>\n",
       "      <td>Tutorial</td>\n",
       "      <td>1005</td>\n",
       "      <td>840</td>\n",
       "      <td>11.15</td>\n",
       "    </tr>\n",
       "  </tbody>\n",
       "</table>\n",
       "</div>"
      ],
      "text/plain": [
       "                event_name   count  nunique  share_from_all\n",
       "0         MainScreenAppear  117328     7419           98.47\n",
       "1       OffersScreenAppear   46333     4593           60.96\n",
       "2         CartScreenAppear   42303     3734           49.56\n",
       "3  PaymentScreenSuccessful   33918     3539           46.97\n",
       "4                 Tutorial    1005      840           11.15"
      ]
     },
     "metadata": {},
     "output_type": "display_data"
    }
   ],
   "source": [
    "types = compare_types_new\n",
    "all_users = data['device_id'].nunique()\n",
    "\n",
    "types_users = group_me(data, levels=['event_name'], function='nunique', sort='nunique')\n",
    "types = types.merge(types_users, left_on='event_name', right_on='event_name', how='left')\n",
    "\n",
    "types['share_from_all'] = round(types['nunique'] / all_users * 100,2)\n",
    "types = types.sort_values(by='count', ascending=False).reset_index(drop=True)\n",
    "display(types)"
   ]
  },
  {
   "cell_type": "code",
   "execution_count": 33,
   "metadata": {},
   "outputs": [
    {
     "data": {
      "image/png": "[encoded data removed]",
      "text/plain": [
       "<Figure size 792x288 with 1 Axes>"
      ]
     },
     "metadata": {},
     "output_type": "display_data"
    }
   ],
   "source": [
    "plt.figure(figsize=(11,4))\n",
    "plt.bar(types['event_name'], types['share_from_all'], \n",
    "        color=['#FF4500', '#FF6347', '#FF7F50', '#FF8C00', '#FFA500']);\n",
    "plt.title('Воронка: доля юзеров от общего количества');\n",
    "plt.xlabel('event_name');\n",
    "plt.ylabel('share, %');"
   ]
  },
  {
   "cell_type": "markdown",
   "metadata": {},
   "source": [
    "**Явно видим воронку (она логична по последовательности действий + все соотносится по кол-ву событий/юзеров):\n",
    "<br> 1 MainScreenAppear** | появление главного экрана\n",
    "<br> **2 OffersScreenAppear** | появление экрана с предложениями (офферами)\n",
    "<br> **3 CartScreenAppear** | появление экрана с корзиной \n",
    "<br> **4 PaymentScreenSuccessful** | появление экрана об успешной оплате покупки\n",
    "<br> \n",
    "<br> А вот шаг **Tutorial** возникает, вероятнее всего, на главном экране. Большинсто юзеров скипает этот шаг - что видно по маленькому числу юзеров. С учетом того, что шаг не входит в воронку оплаты - мы можем отбросить его на следующих этапах.\n",
    "<br>\n",
    "<br> Логично распределены и доли участия юзеров в уровнях воронки - *главный экран открыли ~98.5% юзеров* (1.5% могли потеряться после фильтрации - верх воронки произошел до 1 августа, и в фильтрованные данные эти юзеры попали сразу со 2< этапа), *в корзину* после экрана предложений *попадает ~ 50%* от исходного объема, а *до экрана успешной оплаты доходит ~47%* уникальных юзеров."
   ]
  },
  {
   "cell_type": "markdown",
   "metadata": {},
   "source": [
    "### Доля от количества юзеров на предыдущем уровне"
   ]
  },
  {
   "cell_type": "markdown",
   "metadata": {},
   "source": [
    "Посмотрим конверсию между уровнями (какая доля юзеров перешла с главного экрана на экран офферов и так далее)."
   ]
  },
  {
   "cell_type": "code",
   "execution_count": 34,
   "metadata": {},
   "outputs": [
    {
     "data": {
      "text/html": [
       "<div>\n",
       "<style scoped>\n",
       "    .dataframe tbody tr th:only-of-type {\n",
       "        vertical-align: middle;\n",
       "    }\n",
       "\n",
       "    .dataframe tbody tr th {\n",
       "        vertical-align: top;\n",
       "    }\n",
       "\n",
       "    .dataframe thead th {\n",
       "        text-align: right;\n",
       "    }\n",
       "</style>\n",
       "<table border=\"1\" class=\"dataframe\">\n",
       "  <thead>\n",
       "    <tr style=\"text-align: right;\">\n",
       "      <th></th>\n",
       "      <th>event_name</th>\n",
       "      <th>count</th>\n",
       "      <th>nunique</th>\n",
       "      <th>share_from_all</th>\n",
       "      <th>share_from_previous</th>\n",
       "    </tr>\n",
       "  </thead>\n",
       "  <tbody>\n",
       "    <tr>\n",
       "      <th>0</th>\n",
       "      <td>MainScreenAppear</td>\n",
       "      <td>117328</td>\n",
       "      <td>7419</td>\n",
       "      <td>98.47</td>\n",
       "      <td>100.00</td>\n",
       "    </tr>\n",
       "    <tr>\n",
       "      <th>1</th>\n",
       "      <td>OffersScreenAppear</td>\n",
       "      <td>46333</td>\n",
       "      <td>4593</td>\n",
       "      <td>60.96</td>\n",
       "      <td>61.91</td>\n",
       "    </tr>\n",
       "    <tr>\n",
       "      <th>2</th>\n",
       "      <td>CartScreenAppear</td>\n",
       "      <td>42303</td>\n",
       "      <td>3734</td>\n",
       "      <td>49.56</td>\n",
       "      <td>81.30</td>\n",
       "    </tr>\n",
       "    <tr>\n",
       "      <th>3</th>\n",
       "      <td>PaymentScreenSuccessful</td>\n",
       "      <td>33918</td>\n",
       "      <td>3539</td>\n",
       "      <td>46.97</td>\n",
       "      <td>94.78</td>\n",
       "    </tr>\n",
       "  </tbody>\n",
       "</table>\n",
       "</div>"
      ],
      "text/plain": [
       "                event_name   count  nunique  share_from_all  \\\n",
       "0         MainScreenAppear  117328     7419           98.47   \n",
       "1       OffersScreenAppear   46333     4593           60.96   \n",
       "2         CartScreenAppear   42303     3734           49.56   \n",
       "3  PaymentScreenSuccessful   33918     3539           46.97   \n",
       "\n",
       "   share_from_previous  \n",
       "0               100.00  \n",
       "1                61.91  \n",
       "2                81.30  \n",
       "3                94.78  "
      ]
     },
     "execution_count": 34,
     "metadata": {},
     "output_type": "execute_result"
    }
   ],
   "source": [
    "types['share_from_previous'] = round(types['nunique'] / types['nunique'].shift() * 100,2).fillna(100)\n",
    "types = types.query('event_name != \"Tutorial\"') # убрали уровень туториал\n",
    "types"
   ]
  },
  {
   "cell_type": "code",
   "execution_count": 35,
   "metadata": {},
   "outputs": [
    {
     "data": {
      "image/png": "[encoded data removed]",
      "text/plain": [
       "<Figure size 792x288 with 1 Axes>"
      ]
     },
     "metadata": {},
     "output_type": "display_data"
    }
   ],
   "source": [
    "plt.figure(figsize=(11,4))\n",
    "plt.bar(types['event_name'], types['share_from_previous'], \n",
    "        color=['#0000CD', '#0000FF', '#1E90FF', '#87CEFA']);\n",
    "plt.title('Воронка: доля юзеров, перешедших с предыдущего уровня');\n",
    "plt.xlabel('event_name');\n",
    "plt.ylabel('share, %');"
   ]
  },
  {
   "cell_type": "markdown",
   "metadata": {},
   "source": [
    "По данным видим, что *на экран офферов переходят относительно вяло (около 62%)*, зато есть бодрая конверсия у перешедших: после раздела предложений *81% попадает на экран с корзиной*. Также есть отличная конверсия с корзины - после этого экрана *95% юзеров оплачивают покупку*."
   ]
  },
  {
   "cell_type": "markdown",
   "metadata": {},
   "source": [
    "**Итого по воронкам видим, что ~ 46% от общей базы доходит до оплаты. Больше всего пользователей теряется на шаге с офферами - порядка 60% из перешедших на главную заходит в раздел с предложениями.**"
   ]
  },
  {
   "cell_type": "markdown",
   "metadata": {},
   "source": [
    "## Анализ результатов теста"
   ]
  },
  {
   "cell_type": "markdown",
   "metadata": {},
   "source": [
    ">- сравнивать группы будем по показателю конверсии на все уровни воронки\n",
    ">- конверсию смотрим от общего кол-ва уникальных юзеров в группе\n",
    ">- для проверки наличия различий будем использовать тест об оценке равенства долей (z-тест)"
   ]
  },
  {
   "cell_type": "markdown",
   "metadata": {},
   "source": [
    "### Сравнение выборок групп типа \"А\" (246_A, 247_A)"
   ]
  },
  {
   "cell_type": "markdown",
   "metadata": {},
   "source": [
    "Проверим выборки типа \"А\" на корректность. В случае, если все ок, тест не покажет статистически значимых различий между группами.\n",
    "- создадим срезы по группам\n",
    "- доработаем и переиспользуем функцию группировки для создания отдельного фрейма с группой А\n",
    "- создадим функцию для формирования списков по каждому уровню воронки и для расчета p_value для z-test\n",
    "- обозначим нулевую и альтернативную гипотезы\n",
    "- сравним группы 246_А и 247_А"
   ]
  },
  {
   "cell_type": "code",
   "execution_count": 36,
   "metadata": {},
   "outputs": [],
   "source": [
    "types_exps = group_me(data, levels=['exp_id', 'event_name'], function='nunique', sort='nunique')\n",
    "types_exps_g = group_me(data, levels='exp_id', function='nunique', sort='nunique')\n",
    "types_exps = types_exps.query('event_name != \"Tutorial\"') # убрали левел туториала\n",
    "\n",
    "group_246 = (types_exps\n",
    "              .query('exp_id == \"246_A\"')\n",
    "              .sort_values(by=['exp_id', 'nunique'], ascending=False)\n",
    "              .reset_index(drop=True))\n",
    "group_247 = (types_exps\n",
    "              .query('exp_id == \"247_A\"')\n",
    "              .sort_values(by=['exp_id', 'nunique'], ascending=False)\n",
    "              .reset_index(drop=True))\n",
    "group_248 = (types_exps\n",
    "              .query('exp_id == \"248_B\"')\n",
    "              .sort_values(by=['exp_id', 'nunique'], ascending=False)\n",
    "              .reset_index(drop=True))"
   ]
  },
  {
   "cell_type": "markdown",
   "metadata": {},
   "source": [
    "### Добавляем в срезы уровень с тотал кол-вом уникальных юзеров"
   ]
  },
  {
   "cell_type": "markdown",
   "metadata": {},
   "source": [
    "- вытаскиваем датасет с кол-м уникальных юзеров в каждой группе\n",
    "- добавляем доп.строки в датасеты каждой группы (аналогичную операцию проделаем ниже с обобщенной группой А)\n",
    "- перезаписываем датасеты, чтобы кол-во юзеров встало на первое место и к нему можно было бы обращаться по индексу [0] в нашей функции"
   ]
  },
  {
   "cell_type": "code",
   "execution_count": 37,
   "metadata": {},
   "outputs": [
    {
     "data": {
      "text/html": [
       "<div>\n",
       "<style scoped>\n",
       "    .dataframe tbody tr th:only-of-type {\n",
       "        vertical-align: middle;\n",
       "    }\n",
       "\n",
       "    .dataframe tbody tr th {\n",
       "        vertical-align: top;\n",
       "    }\n",
       "\n",
       "    .dataframe thead th {\n",
       "        text-align: right;\n",
       "    }\n",
       "</style>\n",
       "<table border=\"1\" class=\"dataframe\">\n",
       "  <thead>\n",
       "    <tr style=\"text-align: right;\">\n",
       "      <th></th>\n",
       "      <th>exp_id</th>\n",
       "      <th>nunique</th>\n",
       "    </tr>\n",
       "  </thead>\n",
       "  <tbody>\n",
       "    <tr>\n",
       "      <th>0</th>\n",
       "      <td>246_A</td>\n",
       "      <td>2484</td>\n",
       "    </tr>\n",
       "    <tr>\n",
       "      <th>1</th>\n",
       "      <td>247_A</td>\n",
       "      <td>2513</td>\n",
       "    </tr>\n",
       "    <tr>\n",
       "      <th>2</th>\n",
       "      <td>248_B</td>\n",
       "      <td>2537</td>\n",
       "    </tr>\n",
       "  </tbody>\n",
       "</table>\n",
       "</div>"
      ],
      "text/plain": [
       "  exp_id  nunique\n",
       "0  246_A     2484\n",
       "1  247_A     2513\n",
       "2  248_B     2537"
      ]
     },
     "execution_count": 37,
     "metadata": {},
     "output_type": "execute_result"
    }
   ],
   "source": [
    "types_exps_g"
   ]
  },
  {
   "cell_type": "code",
   "execution_count": 38,
   "metadata": {},
   "outputs": [],
   "source": [
    "group_246.loc[len(group_246.index)] = ['246_A', 'all_unique_users', int(2484)]\n",
    "group_247.loc[len(group_247.index)] = ['247_A', 'all_unique_users', int(2513)]\n",
    "group_248.loc[len(group_247.index)] = ['248_B', 'all_unique_users', int(2537)]"
   ]
  },
  {
   "cell_type": "code",
   "execution_count": 39,
   "metadata": {},
   "outputs": [],
   "source": [
    "group_246 = group_246.sort_values(by='nunique', ascending=False).reset_index(drop=True)\n",
    "group_247 = group_247.sort_values(by='nunique', ascending=False).reset_index(drop=True)\n",
    "group_248 = group_248.sort_values(by='nunique', ascending=False).reset_index(drop=True)"
   ]
  },
  {
   "cell_type": "code",
   "execution_count": 40,
   "metadata": {},
   "outputs": [],
   "source": [
    "# добавим в функцию фильтр, убрав уровень Tutorial и посчитав кол-во уникальных юзеров в группах А (все группы кроме В)\n",
    "def group_a(data, levels=[], function='', sort=[''], ascending=True): #на вход: датасет, уровни группировки и функция, которую хотим применить\n",
    "    data = data.query('event_name != \"Tutorial\" & exp_id != \"248_B\"')\n",
    "    union = (data.groupby(levels, as_index=False)\n",
    "             .agg({'device_id': function})\n",
    "             .rename(columns={'device_id': function})\n",
    "             .sort_values(by=sort, ascending=ascending)\n",
    "             .reset_index(drop=True))\n",
    "    unique_users = data['device_id'].nunique()\n",
    "    return union, unique_users\n",
    "\n",
    "group_a, unique_a = group_a(data, levels='event_name', function='nunique', sort='nunique')\n",
    "group_a = (group_a\n",
    "           .sort_values(by=['nunique'], ascending=False)\n",
    "           .reset_index(drop=True))"
   ]
  },
  {
   "cell_type": "code",
   "execution_count": 41,
   "metadata": {},
   "outputs": [],
   "source": [
    "group_a.loc[len(group_a.index)] = ['all_unique_users', int(4995)]\n",
    "group_a = group_a.sort_values(by='nunique', ascending=False).reset_index(drop=True)"
   ]
  },
  {
   "cell_type": "markdown",
   "metadata": {},
   "source": [
    "#### функция z_test: z-тест по 2 выборкам и заданному уровню воронки"
   ]
  },
  {
   "cell_type": "code",
   "execution_count": 42,
   "metadata": {},
   "outputs": [],
   "source": [
    "def z_test(group_1, group_2, level, alpha=0.05): # group_n - выборки, level - уровень воронки, alpha - уровень стат знач-ти\n",
    "    \n",
    "    def get_array(group_1, group_2, level=level): #функция для формирования списков по заданному уровню (офферы, корзина, оплата)              \n",
    "        base = np.array([group_1.loc[0, 'nunique'], group_2.loc[0, 'nunique']]) # кол-во юзеров в группах \n",
    "        converse = np.array([group_1.loc[level, 'nunique'], group_2.loc[level, 'nunique']]) # рассматриваемый уровень воронки\n",
    "        return base, converse \n",
    "   \n",
    "    base, converse = get_array(group_1, group_2, level)\n",
    "    \n",
    "    p_1 = converse[0] / base[0]\n",
    "    p_2 = converse[1] / base[1]\n",
    "    \n",
    "\n",
    "    p_combo = (converse[0] + converse[1]) / (base[0] + base[1])\n",
    "    diff = p_1 - p_2\n",
    "\n",
    "    z_value = diff / mth.sqrt(p_combo * (1 - p_combo) * (1/base[0] + 1/base[1]))\n",
    "    distr = st.norm(0,1)\n",
    "\n",
    "    p_value = round((1 - distr.cdf(abs(z_value))) * 2,5)\n",
    "    \n",
    "    if p_value < alpha:\n",
    "        text_me = 'Отвергаем нулевую гипотезу: между долями есть значимая разница'\n",
    "    else:\n",
    "        text_me = 'Не получилось отвергнуть нулевую гипотезу, нет оснований считать доли разными'   \n",
    "    \n",
    "    return p_value, text_me"
   ]
  },
  {
   "cell_type": "markdown",
   "metadata": {},
   "source": [
    "Сформулируем гипотезы:\n",
    "    <br>H0 (нулевая гипотеза) - между долями нет статистически значимых различий по показателю конверсии с главного экрана на экран предложений\n",
    "    <br>H1 (альтеративная гипотеза) - между долями есть статистически значимые различия по показателю конверсии с главного экрана на экран предложений"
   ]
  },
  {
   "cell_type": "code",
   "execution_count": 43,
   "metadata": {},
   "outputs": [
    {
     "data": {
      "text/plain": [
       "0.75706"
      ]
     },
     "metadata": {},
     "output_type": "display_data"
    },
    {
     "data": {
      "text/plain": [
       "'Не получилось отвергнуть нулевую гипотезу, нет оснований считать доли разными'"
      ]
     },
     "metadata": {},
     "output_type": "display_data"
    }
   ],
   "source": [
    "p_value, text_me = z_test(group_246, group_247, 1)\n",
    "display(p_value, text_me)"
   ]
  },
  {
   "cell_type": "markdown",
   "metadata": {},
   "source": [
    "> **Между выборками групп \"А\" нет статически значимых различий по показателю конверсии с главного экрана на экран предложений.** Что там с другими уровнями воронки? Пройдемся циклом по оставшимся 2 уровням - переходам в корзину и переходам в экран покупки"
   ]
  },
  {
   "cell_type": "code",
   "execution_count": 44,
   "metadata": {},
   "outputs": [
    {
     "data": {
      "text/plain": [
       "0.2481"
      ]
     },
     "metadata": {},
     "output_type": "display_data"
    },
    {
     "data": {
      "text/plain": [
       "'Не получилось отвергнуть нулевую гипотезу, нет оснований считать доли разными'"
      ]
     },
     "metadata": {},
     "output_type": "display_data"
    },
    {
     "data": {
      "text/plain": [
       "0.22883"
      ]
     },
     "metadata": {},
     "output_type": "display_data"
    },
    {
     "data": {
      "text/plain": [
       "'Не получилось отвергнуть нулевую гипотезу, нет оснований считать доли разными'"
      ]
     },
     "metadata": {},
     "output_type": "display_data"
    },
    {
     "data": {
      "text/plain": [
       "0.11457"
      ]
     },
     "metadata": {},
     "output_type": "display_data"
    },
    {
     "data": {
      "text/plain": [
       "'Не получилось отвергнуть нулевую гипотезу, нет оснований считать доли разными'"
      ]
     },
     "metadata": {},
     "output_type": "display_data"
    }
   ],
   "source": [
    "for i in range(2, len(group_246['event_name'].unique())):\n",
    "    p_value, text_me = z_test(group_246, group_247, i)\n",
    "    display(p_value, text_me)"
   ]
  },
  {
   "cell_type": "markdown",
   "metadata": {},
   "source": [
    "**Итого - p_value по всем конверсиям больше уровня стат.значимости - значит не можем отвергнуть нулевую гипотезу о равенстве групп А. Считаем, что выборки были определены верно - можем переходить к сверке групп \"А\" с группой \"В\".**"
   ]
  },
  {
   "cell_type": "markdown",
   "metadata": {},
   "source": [
    "### Сравнение группы \"В\" с группой \"А\" (248_В, 246_А)"
   ]
  },
  {
   "cell_type": "markdown",
   "metadata": {},
   "source": [
    "Пройдемся циклом по всем уровням воронки, сравнив конверсии группы \"В\" с группой \"А\" (246_А, первая контрольная группа) по всем уровням."
   ]
  },
  {
   "cell_type": "markdown",
   "metadata": {},
   "source": [
    "Сформулируем гипотезы:\n",
    "    <br>H0 (нулевая гипотеза) - между долями нет статистически значимых различий по показателю конверсии\n",
    "    <br>H1 (альтеративная гипотеза) - между долями есть статистически значимые различия по показателю конверсии"
   ]
  },
  {
   "cell_type": "code",
   "execution_count": 45,
   "metadata": {},
   "outputs": [
    {
     "data": {
      "text/plain": [
       "'248_B / 246_A'"
      ]
     },
     "metadata": {},
     "output_type": "display_data"
    },
    {
     "data": {
      "text/plain": [
       "0.29497"
      ]
     },
     "metadata": {},
     "output_type": "display_data"
    },
    {
     "data": {
      "text/plain": [
       "'Не получилось отвергнуть нулевую гипотезу, нет оснований считать доли разными'"
      ]
     },
     "metadata": {},
     "output_type": "display_data"
    },
    {
     "data": {
      "text/plain": [
       "0.20836"
      ]
     },
     "metadata": {},
     "output_type": "display_data"
    },
    {
     "data": {
      "text/plain": [
       "'Не получилось отвергнуть нулевую гипотезу, нет оснований считать доли разными'"
      ]
     },
     "metadata": {},
     "output_type": "display_data"
    },
    {
     "data": {
      "text/plain": [
       "0.07843"
      ]
     },
     "metadata": {},
     "output_type": "display_data"
    },
    {
     "data": {
      "text/plain": [
       "'Не получилось отвергнуть нулевую гипотезу, нет оснований считать доли разными'"
      ]
     },
     "metadata": {},
     "output_type": "display_data"
    },
    {
     "data": {
      "text/plain": [
       "0.21226"
      ]
     },
     "metadata": {},
     "output_type": "display_data"
    },
    {
     "data": {
      "text/plain": [
       "'Не получилось отвергнуть нулевую гипотезу, нет оснований считать доли разными'"
      ]
     },
     "metadata": {},
     "output_type": "display_data"
    }
   ],
   "source": [
    "display('248_B / 246_A')\n",
    "for i in range(1, len(group_246['event_name'].unique())):\n",
    "    p_value, text_me = z_test(group_246, group_248, i)\n",
    "    display(p_value, text_me)"
   ]
  },
  {
   "cell_type": "markdown",
   "metadata": {},
   "source": [
    "**Здесь также нет статистически значимых отличий между выборками - везде p_value больше 0.05.**"
   ]
  },
  {
   "cell_type": "markdown",
   "metadata": {},
   "source": [
    "### Сравнение группы \"В\" с группой \"А\" (248_В, 247_А)"
   ]
  },
  {
   "cell_type": "markdown",
   "metadata": {},
   "source": [
    "Сформулируем гипотезы:\n",
    "    <br>H0 (нулевая гипотеза) - между долями нет статистически значимых различий по показателю конверсии\n",
    "    <br>H1 (альтеративная гипотеза) - между долями есть статистически значимые различия по показателю конверсии"
   ]
  },
  {
   "cell_type": "code",
   "execution_count": 46,
   "metadata": {},
   "outputs": [
    {
     "data": {
      "text/plain": [
       "'248_B / 247_A'"
      ]
     },
     "metadata": {},
     "output_type": "display_data"
    },
    {
     "data": {
      "text/plain": [
       "0.45871"
      ]
     },
     "metadata": {},
     "output_type": "display_data"
    },
    {
     "data": {
      "text/plain": [
       "'Не получилось отвергнуть нулевую гипотезу, нет оснований считать доли разными'"
      ]
     },
     "metadata": {},
     "output_type": "display_data"
    },
    {
     "data": {
      "text/plain": [
       "0.91978"
      ]
     },
     "metadata": {},
     "output_type": "display_data"
    },
    {
     "data": {
      "text/plain": [
       "'Не получилось отвергнуть нулевую гипотезу, нет оснований считать доли разными'"
      ]
     },
     "metadata": {},
     "output_type": "display_data"
    },
    {
     "data": {
      "text/plain": [
       "0.57862"
      ]
     },
     "metadata": {},
     "output_type": "display_data"
    },
    {
     "data": {
      "text/plain": [
       "'Не получилось отвергнуть нулевую гипотезу, нет оснований считать доли разными'"
      ]
     },
     "metadata": {},
     "output_type": "display_data"
    },
    {
     "data": {
      "text/plain": [
       "0.73734"
      ]
     },
     "metadata": {},
     "output_type": "display_data"
    },
    {
     "data": {
      "text/plain": [
       "'Не получилось отвергнуть нулевую гипотезу, нет оснований считать доли разными'"
      ]
     },
     "metadata": {},
     "output_type": "display_data"
    }
   ],
   "source": [
    "display('248_B / 247_A')\n",
    "for i in range(1, len(group_247['event_name'].unique())):\n",
    "    p_value, text_me = z_test(group_247, group_248, i)\n",
    "    display(p_value, text_me)"
   ]
  },
  {
   "cell_type": "markdown",
   "metadata": {},
   "source": [
    "**Со второй контрольной группой \"А\" у группы \"В\" также нет статистически значимых отличий между выборками.**"
   ]
  },
  {
   "cell_type": "markdown",
   "metadata": {},
   "source": [
    "### Сравнение группы \"В\" с группой \"А\" (248_В, 246_А + 247_А)"
   ]
  },
  {
   "cell_type": "markdown",
   "metadata": {},
   "source": [
    "Сформулируем гипотезы:\n",
    "    <br>H0 (нулевая гипотеза) - между долями нет статистически значимых различий по показателю конверсии\n",
    "    <br>H1 (альтеративная гипотеза) - между долями есть статистически значимые различия по показателю конверсии"
   ]
  },
  {
   "cell_type": "code",
   "execution_count": 47,
   "metadata": {},
   "outputs": [
    {
     "data": {
      "text/plain": [
       "'248_B / 246_A + 247_A'"
      ]
     },
     "metadata": {},
     "output_type": "display_data"
    },
    {
     "data": {
      "text/plain": [
       "0.23368"
      ]
     },
     "metadata": {},
     "output_type": "display_data"
    },
    {
     "data": {
      "text/plain": [
       "'Не получилось отвергнуть нулевую гипотезу, нет оснований считать доли разными'"
      ]
     },
     "metadata": {},
     "output_type": "display_data"
    },
    {
     "data": {
      "text/plain": [
       "0.42222"
      ]
     },
     "metadata": {},
     "output_type": "display_data"
    },
    {
     "data": {
      "text/plain": [
       "'Не получилось отвергнуть нулевую гипотезу, нет оснований считать доли разными'"
      ]
     },
     "metadata": {},
     "output_type": "display_data"
    },
    {
     "data": {
      "text/plain": [
       "0.17646"
      ]
     },
     "metadata": {},
     "output_type": "display_data"
    },
    {
     "data": {
      "text/plain": [
       "'Не получилось отвергнуть нулевую гипотезу, нет оснований считать доли разными'"
      ]
     },
     "metadata": {},
     "output_type": "display_data"
    },
    {
     "data": {
      "text/plain": [
       "0.5897"
      ]
     },
     "metadata": {},
     "output_type": "display_data"
    },
    {
     "data": {
      "text/plain": [
       "'Не получилось отвергнуть нулевую гипотезу, нет оснований считать доли разными'"
      ]
     },
     "metadata": {},
     "output_type": "display_data"
    }
   ],
   "source": [
    "display('248_B / 246_A + 247_A')\n",
    "for i in range(1, len(group_248['event_name'].unique())):\n",
    "    p_value, text_me = z_test(group_a, group_248, i)\n",
    "    display(p_value, text_me)"
   ]
  },
  {
   "cell_type": "markdown",
   "metadata": {},
   "source": [
    "**Итого мы увидели, что между группами \"A\" и \"В\" нет статистических различий ни по одному уровню воронки.**"
   ]
  },
  {
   "cell_type": "markdown",
   "metadata": {},
   "source": [
    "## Поправка Бонферрони"
   ]
  },
  {
   "cell_type": "markdown",
   "metadata": {},
   "source": [
    "Мы провели 16 экспериментов и 16 раз рассчитали z_value на одной и той же выборке: \n",
    "- 246_A / 247_A * 4 уровня воронки\n",
    "- 248_B / 246_A * 4 уровня воронки\n",
    "- 248_B / 247_A* 4 уровня воронки\n",
    "- 248_B / (246_A + 247_A) * 4 уровня воронки\n",
    "\n",
    "<br> С учетом того, что маловероятна ошибка I рода (p_value зашкаливает), в нашем случае не применяем поправку Бонферрони и не ужесточаем условия теста. Между выборками железобетонно нет разницы."
   ]
  },
  {
   "cell_type": "markdown",
   "metadata": {},
   "source": [
    "## Выводы"
   ]
  },
  {
   "cell_type": "markdown",
   "metadata": {},
   "source": [
    "**Итого что сделали:**\n",
    "- предобработали данные, посмотрели на предмет аномалий и выбросов\n",
    "- построили воронки, посмотрев конверсии как с общего уровня (от числа юзеров до этапа офферов, от числа юзеров до этапа корзины и тд), так и с предыдущего уровня (от главного экрана до офферов, с офферов до корзины и тд)\n",
    "- оставили релеватные данные в рассматриваемом датасете\n",
    "- проанализировали результаты в разрезе групп А/А/В тестирования\n",
    "<br>\n",
    "\n",
    "**Проведя z-тест на всех уровнях воронки, мы не увидели статистически значимых различий между выборками - как в случае сравнения группы \"В\" с отдельными группами \"А\", так и с объединенной группой \"А\". Разницы нет ни на одном из уровней воронки.\n",
    "<br> В связи с этим нельзя говорить о победе группы \"В\" - замена шрифтов не оказала существенного влияния на улучшение воронки.**"
   ]
  }
 ],
 "metadata": {
  "ExecuteTimeLog": [
   {
    "duration": 95,
    "start_time": "2023-06-06T08:41:30.240Z"
   },
   {
    "duration": 1185,
    "start_time": "2023-06-06T08:42:30.812Z"
   },
   {
    "duration": 3,
    "start_time": "2023-06-06T08:42:48.142Z"
   },
   {
    "duration": 1052,
    "start_time": "2023-06-06T08:43:15.318Z"
   },
   {
    "duration": 110,
    "start_time": "2023-06-06T08:43:28.041Z"
   },
   {
    "duration": 83,
    "start_time": "2023-06-06T08:44:09.167Z"
   },
   {
    "duration": 297,
    "start_time": "2023-06-06T08:44:21.070Z"
   },
   {
    "duration": 73,
    "start_time": "2023-06-06T10:32:28.782Z"
   },
   {
    "duration": 76,
    "start_time": "2023-06-06T10:32:37.248Z"
   },
   {
    "duration": 527,
    "start_time": "2023-06-06T10:34:19.925Z"
   },
   {
    "duration": 245,
    "start_time": "2023-06-06T10:34:30.057Z"
   },
   {
    "duration": 258,
    "start_time": "2023-06-06T10:36:01.457Z"
   },
   {
    "duration": 75,
    "start_time": "2023-06-06T10:36:28.286Z"
   },
   {
    "duration": 254,
    "start_time": "2023-06-06T10:36:31.209Z"
   },
   {
    "duration": 3,
    "start_time": "2023-06-06T10:36:49.526Z"
   },
   {
    "duration": 242,
    "start_time": "2023-06-06T10:36:52.068Z"
   },
   {
    "duration": 136,
    "start_time": "2023-06-06T10:37:35.055Z"
   },
   {
    "duration": 146,
    "start_time": "2023-06-06T10:38:01.297Z"
   },
   {
    "duration": 494,
    "start_time": "2023-06-06T10:39:37.656Z"
   },
   {
    "duration": 141,
    "start_time": "2023-06-06T10:39:40.147Z"
   },
   {
    "duration": 141,
    "start_time": "2023-06-06T10:39:51.383Z"
   },
   {
    "duration": 31,
    "start_time": "2023-06-06T10:40:05.013Z"
   },
   {
    "duration": 56,
    "start_time": "2023-06-06T10:40:22.101Z"
   },
   {
    "duration": 3,
    "start_time": "2023-06-06T10:40:23.738Z"
   },
   {
    "duration": 146,
    "start_time": "2023-06-06T10:40:25.884Z"
   },
   {
    "duration": 11,
    "start_time": "2023-06-06T10:41:29.341Z"
   },
   {
    "duration": 7,
    "start_time": "2023-06-06T10:41:31.948Z"
   },
   {
    "duration": 9,
    "start_time": "2023-06-06T10:44:12.121Z"
   },
   {
    "duration": 10,
    "start_time": "2023-06-06T10:44:35.045Z"
   },
   {
    "duration": 10,
    "start_time": "2023-06-06T10:46:34.402Z"
   },
   {
    "duration": 8,
    "start_time": "2023-06-06T10:47:57.920Z"
   },
   {
    "duration": 8,
    "start_time": "2023-06-06T10:48:01.152Z"
   },
   {
    "duration": 4,
    "start_time": "2023-06-06T10:48:14.399Z"
   },
   {
    "duration": 3,
    "start_time": "2023-06-06T10:48:26.213Z"
   },
   {
    "duration": 10,
    "start_time": "2023-06-06T10:49:07.157Z"
   },
   {
    "duration": 9,
    "start_time": "2023-06-06T10:49:20.348Z"
   },
   {
    "duration": 305,
    "start_time": "2023-06-06T10:53:37.365Z"
   },
   {
    "duration": 23,
    "start_time": "2023-06-06T10:55:02.550Z"
   },
   {
    "duration": 26,
    "start_time": "2023-06-06T10:55:06.123Z"
   },
   {
    "duration": 26,
    "start_time": "2023-06-06T10:57:01.298Z"
   },
   {
    "duration": 20,
    "start_time": "2023-06-06T10:57:50.651Z"
   },
   {
    "duration": 64,
    "start_time": "2023-06-06T10:58:05.089Z"
   },
   {
    "duration": 7,
    "start_time": "2023-06-06T10:58:07.511Z"
   },
   {
    "duration": 11,
    "start_time": "2023-06-06T10:58:10.896Z"
   },
   {
    "duration": 16,
    "start_time": "2023-06-06T10:58:13.207Z"
   },
   {
    "duration": 193,
    "start_time": "2023-06-06T14:47:37.400Z"
   },
   {
    "duration": 357,
    "start_time": "2023-06-06T14:48:00.840Z"
   },
   {
    "duration": 346,
    "start_time": "2023-06-06T14:54:45.432Z"
   },
   {
    "duration": 335,
    "start_time": "2023-06-06T14:54:57.633Z"
   },
   {
    "duration": 394,
    "start_time": "2023-06-06T14:56:05.076Z"
   },
   {
    "duration": 375,
    "start_time": "2023-06-06T14:56:17.601Z"
   },
   {
    "duration": 513,
    "start_time": "2023-06-06T14:56:22.844Z"
   },
   {
    "duration": 381,
    "start_time": "2023-06-06T14:56:30.246Z"
   },
   {
    "duration": 107,
    "start_time": "2023-06-06T14:56:53.736Z"
   },
   {
    "duration": 124,
    "start_time": "2023-06-06T14:57:00.005Z"
   },
   {
    "duration": 103,
    "start_time": "2023-06-06T14:57:57.148Z"
   },
   {
    "duration": 1310,
    "start_time": "2023-06-07T09:35:41.463Z"
   },
   {
    "duration": 4,
    "start_time": "2023-06-07T09:35:42.778Z"
   },
   {
    "duration": 796,
    "start_time": "2023-06-07T09:35:42.784Z"
   },
   {
    "duration": 1416,
    "start_time": "2023-06-07T09:35:43.588Z"
   },
   {
    "duration": 0,
    "start_time": "2023-06-07T09:35:45.007Z"
   },
   {
    "duration": 205,
    "start_time": "2023-06-07T09:35:48.743Z"
   },
   {
    "duration": 30,
    "start_time": "2023-06-07T09:35:57.539Z"
   },
   {
    "duration": 32,
    "start_time": "2023-06-07T09:37:48.746Z"
   },
   {
    "duration": 121,
    "start_time": "2023-06-07T09:38:15.986Z"
   },
   {
    "duration": 13,
    "start_time": "2023-06-07T09:38:25.901Z"
   },
   {
    "duration": 358,
    "start_time": "2023-06-07T09:38:38.108Z"
   },
   {
    "duration": 1266,
    "start_time": "2023-06-07T09:39:04.857Z"
   },
   {
    "duration": 4,
    "start_time": "2023-06-07T09:39:06.125Z"
   },
   {
    "duration": 226,
    "start_time": "2023-06-07T09:39:06.130Z"
   },
   {
    "duration": 3,
    "start_time": "2023-06-07T09:39:06.357Z"
   },
   {
    "duration": 230,
    "start_time": "2023-06-07T09:39:06.362Z"
   },
   {
    "duration": 19,
    "start_time": "2023-06-07T09:39:06.594Z"
   },
   {
    "duration": 148,
    "start_time": "2023-06-07T09:39:35.554Z"
   },
   {
    "duration": 53,
    "start_time": "2023-06-07T09:39:50.568Z"
   },
   {
    "duration": 28,
    "start_time": "2023-06-07T09:40:04.293Z"
   },
   {
    "duration": 24,
    "start_time": "2023-06-07T09:40:14.797Z"
   },
   {
    "duration": 22,
    "start_time": "2023-06-07T09:42:39.140Z"
   },
   {
    "duration": 21,
    "start_time": "2023-06-07T09:42:50.546Z"
   },
   {
    "duration": 7,
    "start_time": "2023-06-07T10:12:11.800Z"
   },
   {
    "duration": 1151,
    "start_time": "2023-06-07T10:12:18.908Z"
   },
   {
    "duration": 3,
    "start_time": "2023-06-07T10:12:20.061Z"
   },
   {
    "duration": 205,
    "start_time": "2023-06-07T10:12:20.066Z"
   },
   {
    "duration": 5,
    "start_time": "2023-06-07T10:12:20.281Z"
   },
   {
    "duration": 222,
    "start_time": "2023-06-07T10:12:20.290Z"
   },
   {
    "duration": 97,
    "start_time": "2023-06-07T10:12:20.513Z"
   },
   {
    "duration": 0,
    "start_time": "2023-06-07T10:12:20.612Z"
   },
   {
    "duration": 19,
    "start_time": "2023-06-07T10:12:38.224Z"
   },
   {
    "duration": 90,
    "start_time": "2023-06-07T10:12:48.239Z"
   },
   {
    "duration": 877,
    "start_time": "2023-06-07T10:12:51.688Z"
   },
   {
    "duration": 867,
    "start_time": "2023-06-07T10:12:58.177Z"
   },
   {
    "duration": 46,
    "start_time": "2023-06-07T10:13:05.438Z"
   },
   {
    "duration": 194,
    "start_time": "2023-06-07T10:13:13.344Z"
   },
   {
    "duration": 1106,
    "start_time": "2023-06-07T10:15:16.943Z"
   },
   {
    "duration": 3,
    "start_time": "2023-06-07T10:15:18.050Z"
   },
   {
    "duration": 212,
    "start_time": "2023-06-07T10:15:18.054Z"
   },
   {
    "duration": 2,
    "start_time": "2023-06-07T10:15:18.268Z"
   },
   {
    "duration": 213,
    "start_time": "2023-06-07T10:15:18.274Z"
   },
   {
    "duration": 27,
    "start_time": "2023-06-07T10:15:18.489Z"
   },
   {
    "duration": 67,
    "start_time": "2023-06-07T10:15:18.518Z"
   },
   {
    "duration": 55,
    "start_time": "2023-06-07T10:15:23.354Z"
   },
   {
    "duration": 191,
    "start_time": "2023-06-07T10:16:25.050Z"
   },
   {
    "duration": 1197,
    "start_time": "2023-06-07T10:17:34.126Z"
   },
   {
    "duration": 2,
    "start_time": "2023-06-07T10:17:35.325Z"
   },
   {
    "duration": 211,
    "start_time": "2023-06-07T10:17:35.328Z"
   },
   {
    "duration": 2,
    "start_time": "2023-06-07T10:17:35.541Z"
   },
   {
    "duration": 230,
    "start_time": "2023-06-07T10:17:35.545Z"
   },
   {
    "duration": 44,
    "start_time": "2023-06-07T10:17:35.781Z"
   },
   {
    "duration": 40,
    "start_time": "2023-06-07T10:17:35.826Z"
   },
   {
    "duration": 27,
    "start_time": "2023-06-07T10:17:35.868Z"
   },
   {
    "duration": 204,
    "start_time": "2023-06-07T10:18:04.187Z"
   },
   {
    "duration": 8,
    "start_time": "2023-06-07T10:19:07.042Z"
   },
   {
    "duration": 59,
    "start_time": "2023-06-07T10:19:57.805Z"
   },
   {
    "duration": 150,
    "start_time": "2023-06-07T10:19:59.898Z"
   },
   {
    "duration": 8,
    "start_time": "2023-06-07T10:20:03.825Z"
   },
   {
    "duration": 45,
    "start_time": "2023-06-07T10:20:06.809Z"
   },
   {
    "duration": 9,
    "start_time": "2023-06-07T10:20:08.351Z"
   },
   {
    "duration": 19,
    "start_time": "2023-06-07T10:20:13.592Z"
   },
   {
    "duration": 37,
    "start_time": "2023-06-07T10:20:44.887Z"
   },
   {
    "duration": 6,
    "start_time": "2023-06-07T10:20:46.262Z"
   },
   {
    "duration": 34,
    "start_time": "2023-06-07T10:21:02.427Z"
   },
   {
    "duration": 14,
    "start_time": "2023-06-07T10:21:04.020Z"
   },
   {
    "duration": 54,
    "start_time": "2023-06-07T10:21:07.999Z"
   },
   {
    "duration": 5,
    "start_time": "2023-06-07T10:21:09.545Z"
   },
   {
    "duration": 118,
    "start_time": "2023-06-07T10:21:38.461Z"
   },
   {
    "duration": 9,
    "start_time": "2023-06-07T10:21:47.824Z"
   },
   {
    "duration": 87,
    "start_time": "2023-06-07T10:22:22.341Z"
   },
   {
    "duration": 97,
    "start_time": "2023-06-07T10:23:06.063Z"
   },
   {
    "duration": 1692,
    "start_time": "2023-06-07T10:23:56.207Z"
   },
   {
    "duration": 1826,
    "start_time": "2023-06-07T10:24:03.215Z"
   },
   {
    "duration": 24,
    "start_time": "2023-06-07T10:24:22.605Z"
   },
   {
    "duration": 115,
    "start_time": "2023-06-07T10:24:24.753Z"
   },
   {
    "duration": 1203,
    "start_time": "2023-06-07T10:25:18.416Z"
   },
   {
    "duration": 1158,
    "start_time": "2023-06-07T10:25:26.370Z"
   },
   {
    "duration": 1225,
    "start_time": "2023-06-07T10:25:33.505Z"
   },
   {
    "duration": 4,
    "start_time": "2023-06-07T10:26:06.657Z"
   },
   {
    "duration": 90,
    "start_time": "2023-06-07T10:26:19.718Z"
   },
   {
    "duration": 64,
    "start_time": "2023-06-07T10:26:36.498Z"
   },
   {
    "duration": 48,
    "start_time": "2023-06-07T10:26:47.340Z"
   },
   {
    "duration": 63,
    "start_time": "2023-06-07T10:27:08.731Z"
   },
   {
    "duration": 70,
    "start_time": "2023-06-07T10:29:22.948Z"
   },
   {
    "duration": 100,
    "start_time": "2023-06-07T10:30:34.915Z"
   },
   {
    "duration": 85,
    "start_time": "2023-06-07T10:30:37.802Z"
   },
   {
    "duration": 67,
    "start_time": "2023-06-07T10:31:26.362Z"
   },
   {
    "duration": 75,
    "start_time": "2023-06-07T10:31:50.632Z"
   },
   {
    "duration": 67,
    "start_time": "2023-06-07T10:31:53.898Z"
   },
   {
    "duration": 58,
    "start_time": "2023-06-07T10:32:53.220Z"
   },
   {
    "duration": 65,
    "start_time": "2023-06-07T10:33:07.302Z"
   },
   {
    "duration": 53,
    "start_time": "2023-06-07T10:33:11.719Z"
   },
   {
    "duration": 53,
    "start_time": "2023-06-07T10:33:15.718Z"
   },
   {
    "duration": 69,
    "start_time": "2023-06-07T10:33:24.090Z"
   },
   {
    "duration": 54,
    "start_time": "2023-06-07T10:33:57.537Z"
   },
   {
    "duration": 46,
    "start_time": "2023-06-07T10:34:42.852Z"
   },
   {
    "duration": 68,
    "start_time": "2023-06-07T10:35:46.676Z"
   },
   {
    "duration": 69,
    "start_time": "2023-06-07T10:35:52.502Z"
   },
   {
    "duration": 98,
    "start_time": "2023-06-07T10:36:06.130Z"
   },
   {
    "duration": 89,
    "start_time": "2023-06-07T10:36:10.535Z"
   },
   {
    "duration": 19,
    "start_time": "2023-06-07T10:36:18.775Z"
   },
   {
    "duration": 80,
    "start_time": "2023-06-07T10:36:25.473Z"
   },
   {
    "duration": 154,
    "start_time": "2023-06-07T10:37:13.885Z"
   },
   {
    "duration": 85,
    "start_time": "2023-06-07T10:37:22.935Z"
   },
   {
    "duration": 82,
    "start_time": "2023-06-07T10:41:41.940Z"
   },
   {
    "duration": 76,
    "start_time": "2023-06-07T10:41:58.951Z"
   },
   {
    "duration": 17,
    "start_time": "2023-06-07T10:42:22.485Z"
   },
   {
    "duration": 533,
    "start_time": "2023-06-07T10:42:40.494Z"
   },
   {
    "duration": 471,
    "start_time": "2023-06-07T10:42:55.363Z"
   },
   {
    "duration": 495,
    "start_time": "2023-06-07T10:43:18.964Z"
   },
   {
    "duration": 12,
    "start_time": "2023-06-07T10:43:38.530Z"
   },
   {
    "duration": 53,
    "start_time": "2023-06-07T10:44:23.553Z"
   },
   {
    "duration": 235,
    "start_time": "2023-06-07T10:44:32.426Z"
   },
   {
    "duration": 183,
    "start_time": "2023-06-07T10:44:37.230Z"
   },
   {
    "duration": 204,
    "start_time": "2023-06-07T10:44:45.742Z"
   },
   {
    "duration": 278,
    "start_time": "2023-06-07T10:44:54.236Z"
   },
   {
    "duration": 208,
    "start_time": "2023-06-07T10:46:11.803Z"
   },
   {
    "duration": 7,
    "start_time": "2023-06-07T10:46:32.203Z"
   },
   {
    "duration": 1613,
    "start_time": "2023-06-07T11:08:13.204Z"
   },
   {
    "duration": 114,
    "start_time": "2023-06-07T11:09:13.058Z"
   },
   {
    "duration": 217,
    "start_time": "2023-06-07T11:09:18.123Z"
   },
   {
    "duration": 19,
    "start_time": "2023-06-07T11:09:20.079Z"
   },
   {
    "duration": 164,
    "start_time": "2023-06-07T11:11:47.118Z"
   },
   {
    "duration": 178,
    "start_time": "2023-06-07T11:11:55.648Z"
   },
   {
    "duration": 7,
    "start_time": "2023-06-07T11:11:58.712Z"
   },
   {
    "duration": 172,
    "start_time": "2023-06-07T11:13:54.998Z"
   },
   {
    "duration": 208,
    "start_time": "2023-06-07T11:15:04.535Z"
   },
   {
    "duration": 185,
    "start_time": "2023-06-07T11:15:09.411Z"
   },
   {
    "duration": 215,
    "start_time": "2023-06-07T11:15:14.661Z"
   },
   {
    "duration": 196,
    "start_time": "2023-06-07T11:15:19.016Z"
   },
   {
    "duration": 235,
    "start_time": "2023-06-07T11:15:24.058Z"
   },
   {
    "duration": 163,
    "start_time": "2023-06-07T11:15:46.718Z"
   },
   {
    "duration": 194,
    "start_time": "2023-06-07T11:16:08.840Z"
   },
   {
    "duration": 14,
    "start_time": "2023-06-07T11:18:10.582Z"
   },
   {
    "duration": 41,
    "start_time": "2023-06-07T11:19:37.871Z"
   },
   {
    "duration": 15,
    "start_time": "2023-06-07T11:19:40.859Z"
   },
   {
    "duration": 33,
    "start_time": "2023-06-07T11:19:46.167Z"
   },
   {
    "duration": 5,
    "start_time": "2023-06-07T11:20:08.025Z"
   },
   {
    "duration": 19,
    "start_time": "2023-06-07T11:20:23.222Z"
   },
   {
    "duration": 18,
    "start_time": "2023-06-07T11:20:35.925Z"
   },
   {
    "duration": 25,
    "start_time": "2023-06-07T11:21:41.717Z"
   },
   {
    "duration": 199,
    "start_time": "2023-06-07T11:22:11.164Z"
   },
   {
    "duration": 53,
    "start_time": "2023-06-07T11:22:52.617Z"
   },
   {
    "duration": 164,
    "start_time": "2023-06-07T11:23:23.723Z"
   },
   {
    "duration": 163,
    "start_time": "2023-06-07T11:23:40.218Z"
   },
   {
    "duration": 171,
    "start_time": "2023-06-07T11:23:48.011Z"
   },
   {
    "duration": 166,
    "start_time": "2023-06-07T11:24:09.903Z"
   },
   {
    "duration": 176,
    "start_time": "2023-06-07T11:24:52.243Z"
   },
   {
    "duration": 174,
    "start_time": "2023-06-07T11:25:00.130Z"
   },
   {
    "duration": 9,
    "start_time": "2023-06-07T11:25:28.485Z"
   },
   {
    "duration": 6,
    "start_time": "2023-06-07T11:25:45.092Z"
   },
   {
    "duration": 373,
    "start_time": "2023-06-07T11:25:55.471Z"
   },
   {
    "duration": 162,
    "start_time": "2023-06-07T11:26:11.740Z"
   },
   {
    "duration": 175,
    "start_time": "2023-06-07T11:26:28.295Z"
   },
   {
    "duration": 155,
    "start_time": "2023-06-07T11:26:34.504Z"
   },
   {
    "duration": 7,
    "start_time": "2023-06-07T11:30:53.859Z"
   },
   {
    "duration": 419,
    "start_time": "2023-06-07T11:30:57.240Z"
   },
   {
    "duration": 2437,
    "start_time": "2023-06-07T11:31:03.374Z"
   },
   {
    "duration": 172,
    "start_time": "2023-06-07T11:31:11.365Z"
   },
   {
    "duration": 180,
    "start_time": "2023-06-07T11:31:25.873Z"
   },
   {
    "duration": 157,
    "start_time": "2023-06-07T11:31:36.357Z"
   },
   {
    "duration": 186,
    "start_time": "2023-06-07T11:31:51.193Z"
   },
   {
    "duration": 168,
    "start_time": "2023-06-07T11:32:08.672Z"
   },
   {
    "duration": 55,
    "start_time": "2023-06-07T11:32:25.188Z"
   },
   {
    "duration": 167,
    "start_time": "2023-06-07T11:35:01.283Z"
   },
   {
    "duration": 177,
    "start_time": "2023-06-07T11:35:14.966Z"
   },
   {
    "duration": 193,
    "start_time": "2023-06-07T11:35:36.093Z"
   },
   {
    "duration": 168,
    "start_time": "2023-06-07T11:36:07.290Z"
   },
   {
    "duration": 191,
    "start_time": "2023-06-07T11:36:11.118Z"
   },
   {
    "duration": 53,
    "start_time": "2023-06-07T11:42:46.522Z"
   },
   {
    "duration": 7,
    "start_time": "2023-06-07T11:42:56.132Z"
   },
   {
    "duration": 7,
    "start_time": "2023-06-07T11:42:59.026Z"
   },
   {
    "duration": 6,
    "start_time": "2023-06-07T11:43:02.365Z"
   },
   {
    "duration": 7,
    "start_time": "2023-06-07T11:43:04.405Z"
   },
   {
    "duration": 5,
    "start_time": "2023-06-07T11:45:32.650Z"
   },
   {
    "duration": 66,
    "start_time": "2023-06-07T11:46:26.725Z"
   },
   {
    "duration": 6,
    "start_time": "2023-06-07T11:46:41.158Z"
   },
   {
    "duration": 52,
    "start_time": "2023-06-07T11:46:43.229Z"
   },
   {
    "duration": 55,
    "start_time": "2023-06-07T11:46:47.082Z"
   },
   {
    "duration": 10,
    "start_time": "2023-06-07T11:48:09.821Z"
   },
   {
    "duration": 4,
    "start_time": "2023-06-07T11:48:14.603Z"
   },
   {
    "duration": 59,
    "start_time": "2023-06-07T11:50:17.038Z"
   },
   {
    "duration": 4,
    "start_time": "2023-06-07T11:51:17.402Z"
   },
   {
    "duration": 3,
    "start_time": "2023-06-07T11:51:28.044Z"
   },
   {
    "duration": 8,
    "start_time": "2023-06-07T11:51:36.140Z"
   },
   {
    "duration": 4,
    "start_time": "2023-06-07T11:51:42.617Z"
   },
   {
    "duration": 1215,
    "start_time": "2023-06-07T13:20:52.806Z"
   },
   {
    "duration": 4,
    "start_time": "2023-06-07T13:20:54.023Z"
   },
   {
    "duration": 270,
    "start_time": "2023-06-07T13:20:54.029Z"
   },
   {
    "duration": 4,
    "start_time": "2023-06-07T13:20:54.304Z"
   },
   {
    "duration": 40,
    "start_time": "2023-06-07T13:20:54.310Z"
   },
   {
    "duration": 301,
    "start_time": "2023-06-07T13:20:54.352Z"
   },
   {
    "duration": 174,
    "start_time": "2023-06-07T13:20:54.654Z"
   },
   {
    "duration": 0,
    "start_time": "2023-06-07T13:20:54.831Z"
   },
   {
    "duration": 0,
    "start_time": "2023-06-07T13:20:54.833Z"
   },
   {
    "duration": 0,
    "start_time": "2023-06-07T13:20:54.834Z"
   },
   {
    "duration": 0,
    "start_time": "2023-06-07T13:20:54.835Z"
   },
   {
    "duration": 0,
    "start_time": "2023-06-07T13:20:54.836Z"
   },
   {
    "duration": 0,
    "start_time": "2023-06-07T13:20:54.837Z"
   },
   {
    "duration": 0,
    "start_time": "2023-06-07T13:20:54.838Z"
   },
   {
    "duration": 0,
    "start_time": "2023-06-07T13:20:54.839Z"
   },
   {
    "duration": 0,
    "start_time": "2023-06-07T13:20:54.841Z"
   },
   {
    "duration": 0,
    "start_time": "2023-06-07T13:20:54.842Z"
   },
   {
    "duration": 0,
    "start_time": "2023-06-07T13:20:54.844Z"
   },
   {
    "duration": 1210,
    "start_time": "2023-06-07T13:25:13.557Z"
   },
   {
    "duration": 3,
    "start_time": "2023-06-07T13:25:14.769Z"
   },
   {
    "duration": 259,
    "start_time": "2023-06-07T13:25:14.774Z"
   },
   {
    "duration": 3,
    "start_time": "2023-06-07T13:25:15.034Z"
   },
   {
    "duration": 24,
    "start_time": "2023-06-07T13:25:15.040Z"
   },
   {
    "duration": 252,
    "start_time": "2023-06-07T13:25:15.065Z"
   },
   {
    "duration": 46,
    "start_time": "2023-06-07T13:25:15.320Z"
   },
   {
    "duration": 92,
    "start_time": "2023-06-07T13:25:15.368Z"
   },
   {
    "duration": 188,
    "start_time": "2023-06-07T13:25:15.462Z"
   },
   {
    "duration": 6,
    "start_time": "2023-06-07T13:25:15.651Z"
   },
   {
    "duration": 264,
    "start_time": "2023-06-07T13:25:15.659Z"
   },
   {
    "duration": 5,
    "start_time": "2023-06-07T13:25:15.924Z"
   },
   {
    "duration": 72,
    "start_time": "2023-06-07T13:25:15.931Z"
   },
   {
    "duration": 99,
    "start_time": "2023-06-07T13:25:16.005Z"
   },
   {
    "duration": 0,
    "start_time": "2023-06-07T13:25:16.106Z"
   },
   {
    "duration": 0,
    "start_time": "2023-06-07T13:25:16.109Z"
   },
   {
    "duration": 0,
    "start_time": "2023-06-07T13:25:16.110Z"
   },
   {
    "duration": 0,
    "start_time": "2023-06-07T13:25:16.112Z"
   },
   {
    "duration": 15,
    "start_time": "2023-06-07T13:28:19.970Z"
   },
   {
    "duration": 3,
    "start_time": "2023-06-07T13:28:26.721Z"
   },
   {
    "duration": 6,
    "start_time": "2023-06-07T13:28:30.755Z"
   },
   {
    "duration": 5,
    "start_time": "2023-06-07T13:37:35.428Z"
   },
   {
    "duration": 103,
    "start_time": "2023-06-07T13:37:50.450Z"
   },
   {
    "duration": 5,
    "start_time": "2023-06-07T13:37:53.344Z"
   },
   {
    "duration": 6,
    "start_time": "2023-06-07T13:37:58.924Z"
   },
   {
    "duration": 102,
    "start_time": "2023-06-07T13:38:48.427Z"
   },
   {
    "duration": 122,
    "start_time": "2023-06-07T13:38:52.311Z"
   },
   {
    "duration": 179,
    "start_time": "2023-06-07T13:38:57.715Z"
   },
   {
    "duration": 186,
    "start_time": "2023-06-07T13:39:03.547Z"
   },
   {
    "duration": 6,
    "start_time": "2023-06-07T13:40:20.373Z"
   },
   {
    "duration": 16,
    "start_time": "2023-06-07T13:41:03.909Z"
   },
   {
    "duration": 6,
    "start_time": "2023-06-07T13:41:12.802Z"
   },
   {
    "duration": 201,
    "start_time": "2023-06-07T13:41:14.656Z"
   },
   {
    "duration": 3,
    "start_time": "2023-06-07T13:41:22.917Z"
   },
   {
    "duration": 295,
    "start_time": "2023-06-07T13:41:24.470Z"
   },
   {
    "duration": 3,
    "start_time": "2023-06-07T13:42:05.552Z"
   },
   {
    "duration": 379,
    "start_time": "2023-06-07T13:42:07.234Z"
   },
   {
    "duration": 65,
    "start_time": "2023-06-07T13:42:17.757Z"
   },
   {
    "duration": 177,
    "start_time": "2023-06-07T13:42:20.309Z"
   },
   {
    "duration": 200,
    "start_time": "2023-06-07T13:43:06.862Z"
   },
   {
    "duration": 245,
    "start_time": "2023-06-07T13:43:14.139Z"
   },
   {
    "duration": 11,
    "start_time": "2023-06-07T13:43:37.114Z"
   },
   {
    "duration": 170,
    "start_time": "2023-06-07T13:43:46.554Z"
   },
   {
    "duration": 11,
    "start_time": "2023-06-07T13:43:58.319Z"
   },
   {
    "duration": 799,
    "start_time": "2023-06-07T13:44:02.320Z"
   },
   {
    "duration": 135,
    "start_time": "2023-06-07T13:44:09.647Z"
   },
   {
    "duration": 245,
    "start_time": "2023-06-07T13:44:11.926Z"
   },
   {
    "duration": 186,
    "start_time": "2023-06-07T13:46:10.204Z"
   },
   {
    "duration": 184,
    "start_time": "2023-06-07T13:46:15.402Z"
   },
   {
    "duration": 269,
    "start_time": "2023-06-07T13:46:19.769Z"
   },
   {
    "duration": 12,
    "start_time": "2023-06-07T13:47:04.452Z"
   },
   {
    "duration": 189,
    "start_time": "2023-06-07T13:47:38.752Z"
   },
   {
    "duration": 77,
    "start_time": "2023-06-07T13:48:13.840Z"
   },
   {
    "duration": 51,
    "start_time": "2023-06-08T09:59:28.222Z"
   },
   {
    "duration": 1388,
    "start_time": "2023-06-08T09:59:33.436Z"
   },
   {
    "duration": 3,
    "start_time": "2023-06-08T09:59:34.826Z"
   },
   {
    "duration": 567,
    "start_time": "2023-06-08T09:59:34.831Z"
   },
   {
    "duration": 3,
    "start_time": "2023-06-08T09:59:35.400Z"
   },
   {
    "duration": 25,
    "start_time": "2023-06-08T09:59:35.405Z"
   },
   {
    "duration": 233,
    "start_time": "2023-06-08T09:59:35.432Z"
   },
   {
    "duration": 53,
    "start_time": "2023-06-08T09:59:35.667Z"
   },
   {
    "duration": 132,
    "start_time": "2023-06-08T09:59:35.722Z"
   },
   {
    "duration": 7,
    "start_time": "2023-06-08T09:59:35.856Z"
   },
   {
    "duration": 297,
    "start_time": "2023-06-08T09:59:35.865Z"
   },
   {
    "duration": 6,
    "start_time": "2023-06-08T09:59:36.164Z"
   },
   {
    "duration": 110,
    "start_time": "2023-06-08T09:59:36.171Z"
   },
   {
    "duration": 200,
    "start_time": "2023-06-08T09:59:36.283Z"
   },
   {
    "duration": 171,
    "start_time": "2023-06-08T10:04:12.715Z"
   },
   {
    "duration": 36,
    "start_time": "2023-06-08T10:06:13.693Z"
   },
   {
    "duration": 8,
    "start_time": "2023-06-08T10:06:26.172Z"
   },
   {
    "duration": 454,
    "start_time": "2023-06-08T10:06:36.228Z"
   },
   {
    "duration": 30,
    "start_time": "2023-06-08T10:06:53.505Z"
   },
   {
    "duration": 33,
    "start_time": "2023-06-08T10:07:38.452Z"
   },
   {
    "duration": 206,
    "start_time": "2023-06-08T10:07:41.692Z"
   },
   {
    "duration": 21,
    "start_time": "2023-06-08T10:07:50.049Z"
   },
   {
    "duration": 1184,
    "start_time": "2023-06-08T10:08:02.362Z"
   },
   {
    "duration": 3,
    "start_time": "2023-06-08T10:08:03.548Z"
   },
   {
    "duration": 201,
    "start_time": "2023-06-08T10:08:03.552Z"
   },
   {
    "duration": 3,
    "start_time": "2023-06-08T10:08:03.755Z"
   },
   {
    "duration": 31,
    "start_time": "2023-06-08T10:08:03.760Z"
   },
   {
    "duration": 215,
    "start_time": "2023-06-08T10:08:03.792Z"
   },
   {
    "duration": 57,
    "start_time": "2023-06-08T10:08:04.009Z"
   },
   {
    "duration": 30,
    "start_time": "2023-06-08T10:08:04.067Z"
   },
   {
    "duration": 273,
    "start_time": "2023-06-08T10:08:04.099Z"
   },
   {
    "duration": 5,
    "start_time": "2023-06-08T10:08:04.373Z"
   },
   {
    "duration": 52,
    "start_time": "2023-06-08T10:08:04.380Z"
   },
   {
    "duration": 189,
    "start_time": "2023-06-08T10:08:04.434Z"
   },
   {
    "duration": 28,
    "start_time": "2023-06-08T10:08:04.625Z"
   },
   {
    "duration": 15,
    "start_time": "2023-06-08T10:08:04.656Z"
   },
   {
    "duration": 16,
    "start_time": "2023-06-08T10:09:04.892Z"
   },
   {
    "duration": 8,
    "start_time": "2023-06-08T10:09:09.144Z"
   },
   {
    "duration": 1253,
    "start_time": "2023-06-08T10:10:06.210Z"
   },
   {
    "duration": 2,
    "start_time": "2023-06-08T10:10:07.465Z"
   },
   {
    "duration": 221,
    "start_time": "2023-06-08T10:10:07.469Z"
   },
   {
    "duration": 3,
    "start_time": "2023-06-08T10:10:07.691Z"
   },
   {
    "duration": 55,
    "start_time": "2023-06-08T10:10:07.697Z"
   },
   {
    "duration": 253,
    "start_time": "2023-06-08T10:10:07.753Z"
   },
   {
    "duration": 59,
    "start_time": "2023-06-08T10:10:08.007Z"
   },
   {
    "duration": 32,
    "start_time": "2023-06-08T10:10:08.068Z"
   },
   {
    "duration": 283,
    "start_time": "2023-06-08T10:10:08.101Z"
   },
   {
    "duration": 6,
    "start_time": "2023-06-08T10:10:08.386Z"
   },
   {
    "duration": 96,
    "start_time": "2023-06-08T10:10:08.393Z"
   },
   {
    "duration": 187,
    "start_time": "2023-06-08T10:10:08.491Z"
   },
   {
    "duration": 3,
    "start_time": "2023-06-08T10:10:08.680Z"
   },
   {
    "duration": 2629,
    "start_time": "2023-06-08T10:12:43.941Z"
   },
   {
    "duration": 1541,
    "start_time": "2023-06-08T10:13:02.960Z"
   },
   {
    "duration": 29,
    "start_time": "2023-06-08T10:13:22.604Z"
   },
   {
    "duration": 2124,
    "start_time": "2023-06-08T10:14:22.336Z"
   },
   {
    "duration": 1209,
    "start_time": "2023-06-08T10:19:25.461Z"
   },
   {
    "duration": 1167,
    "start_time": "2023-06-08T10:19:31.735Z"
   },
   {
    "duration": 1433,
    "start_time": "2023-06-08T10:20:44.728Z"
   },
   {
    "duration": 1386,
    "start_time": "2023-06-08T10:22:05.608Z"
   },
   {
    "duration": 12,
    "start_time": "2023-06-08T10:24:05.680Z"
   },
   {
    "duration": 11,
    "start_time": "2023-06-08T10:24:08.742Z"
   },
   {
    "duration": 4,
    "start_time": "2023-06-08T10:24:20.737Z"
   },
   {
    "duration": 32,
    "start_time": "2023-06-08T10:25:04.622Z"
   },
   {
    "duration": 545,
    "start_time": "2023-06-08T10:25:19.692Z"
   },
   {
    "duration": 468,
    "start_time": "2023-06-08T10:25:25.839Z"
   },
   {
    "duration": 1368,
    "start_time": "2023-06-08T10:25:42.012Z"
   },
   {
    "duration": 51,
    "start_time": "2023-06-08T10:30:52.484Z"
   },
   {
    "duration": 1109,
    "start_time": "2023-06-08T10:31:06.565Z"
   },
   {
    "duration": 50,
    "start_time": "2023-06-08T10:32:15.786Z"
   },
   {
    "duration": 228,
    "start_time": "2023-06-08T10:32:18.407Z"
   },
   {
    "duration": 337,
    "start_time": "2023-06-08T10:32:27.012Z"
   },
   {
    "duration": 29,
    "start_time": "2023-06-08T10:32:34.551Z"
   },
   {
    "duration": 438,
    "start_time": "2023-06-08T10:32:38.638Z"
   },
   {
    "duration": 27,
    "start_time": "2023-06-08T10:32:46.119Z"
   },
   {
    "duration": 45,
    "start_time": "2023-06-08T10:32:51.106Z"
   },
   {
    "duration": 601,
    "start_time": "2023-06-08T10:32:54.480Z"
   },
   {
    "duration": 1642,
    "start_time": "2023-06-08T10:33:43.105Z"
   },
   {
    "duration": 3,
    "start_time": "2023-06-08T10:38:23.171Z"
   },
   {
    "duration": 16,
    "start_time": "2023-06-08T10:38:55.573Z"
   },
   {
    "duration": 409,
    "start_time": "2023-06-08T10:39:33.838Z"
   },
   {
    "duration": 49,
    "start_time": "2023-06-08T10:39:37.909Z"
   },
   {
    "duration": 77,
    "start_time": "2023-06-08T10:40:39.072Z"
   },
   {
    "duration": 41,
    "start_time": "2023-06-08T10:40:47.788Z"
   },
   {
    "duration": 44,
    "start_time": "2023-06-08T10:41:00.108Z"
   },
   {
    "duration": 42,
    "start_time": "2023-06-08T10:41:18.209Z"
   },
   {
    "duration": 49,
    "start_time": "2023-06-08T10:41:29.801Z"
   },
   {
    "duration": 38,
    "start_time": "2023-06-08T10:42:08.635Z"
   },
   {
    "duration": 36,
    "start_time": "2023-06-08T10:42:27.228Z"
   },
   {
    "duration": 22,
    "start_time": "2023-06-08T10:44:55.494Z"
   },
   {
    "duration": 4641,
    "start_time": "2023-06-08T10:45:00.440Z"
   },
   {
    "duration": 5,
    "start_time": "2023-06-08T10:45:28.315Z"
   },
   {
    "duration": 1266,
    "start_time": "2023-06-08T10:45:44.668Z"
   },
   {
    "duration": 4,
    "start_time": "2023-06-08T10:45:45.936Z"
   },
   {
    "duration": 214,
    "start_time": "2023-06-08T10:45:45.942Z"
   },
   {
    "duration": 3,
    "start_time": "2023-06-08T10:45:46.158Z"
   },
   {
    "duration": 44,
    "start_time": "2023-06-08T10:45:46.163Z"
   },
   {
    "duration": 255,
    "start_time": "2023-06-08T10:45:46.209Z"
   },
   {
    "duration": 52,
    "start_time": "2023-06-08T10:45:46.465Z"
   },
   {
    "duration": 55,
    "start_time": "2023-06-08T10:45:46.519Z"
   },
   {
    "duration": 276,
    "start_time": "2023-06-08T10:45:46.576Z"
   },
   {
    "duration": 6,
    "start_time": "2023-06-08T10:45:46.853Z"
   },
   {
    "duration": 56,
    "start_time": "2023-06-08T10:45:46.861Z"
   },
   {
    "duration": 186,
    "start_time": "2023-06-08T10:45:46.919Z"
   },
   {
    "duration": 3,
    "start_time": "2023-06-08T10:45:47.106Z"
   },
   {
    "duration": 36,
    "start_time": "2023-06-08T10:45:47.112Z"
   },
   {
    "duration": 40,
    "start_time": "2023-06-08T10:45:47.150Z"
   },
   {
    "duration": 8,
    "start_time": "2023-06-08T10:45:47.192Z"
   },
   {
    "duration": 44,
    "start_time": "2023-06-08T10:45:47.202Z"
   },
   {
    "duration": 60,
    "start_time": "2023-06-08T10:48:26.062Z"
   },
   {
    "duration": 72,
    "start_time": "2023-06-08T10:48:36.058Z"
   },
   {
    "duration": 70,
    "start_time": "2023-06-08T10:49:47.907Z"
   },
   {
    "duration": 74,
    "start_time": "2023-06-08T10:50:11.990Z"
   },
   {
    "duration": 66,
    "start_time": "2023-06-08T10:50:55.613Z"
   },
   {
    "duration": 4,
    "start_time": "2023-06-08T10:52:03.142Z"
   },
   {
    "duration": 26,
    "start_time": "2023-06-08T10:52:57.914Z"
   },
   {
    "duration": 28,
    "start_time": "2023-06-08T10:53:31.538Z"
   },
   {
    "duration": 64,
    "start_time": "2023-06-08T10:55:00.729Z"
   },
   {
    "duration": 39,
    "start_time": "2023-06-08T10:55:19.550Z"
   },
   {
    "duration": 35,
    "start_time": "2023-06-08T10:57:51.138Z"
   },
   {
    "duration": 33,
    "start_time": "2023-06-08T10:58:04.108Z"
   },
   {
    "duration": 70,
    "start_time": "2023-06-08T10:59:02.736Z"
   },
   {
    "duration": 78,
    "start_time": "2023-06-08T11:00:21.787Z"
   },
   {
    "duration": 71,
    "start_time": "2023-06-08T11:01:21.246Z"
   },
   {
    "duration": 73,
    "start_time": "2023-06-08T11:01:38.014Z"
   },
   {
    "duration": 75,
    "start_time": "2023-06-08T11:01:50.891Z"
   },
   {
    "duration": 41,
    "start_time": "2023-06-08T11:03:29.215Z"
   },
   {
    "duration": 60,
    "start_time": "2023-06-08T11:03:40.163Z"
   },
   {
    "duration": 81,
    "start_time": "2023-06-08T11:03:44.318Z"
   },
   {
    "duration": 98,
    "start_time": "2023-06-08T11:03:52.963Z"
   },
   {
    "duration": 140,
    "start_time": "2023-06-08T11:04:38.301Z"
   },
   {
    "duration": 99,
    "start_time": "2023-06-08T11:04:42.451Z"
   },
   {
    "duration": 100,
    "start_time": "2023-06-08T11:05:02.778Z"
   },
   {
    "duration": 122,
    "start_time": "2023-06-08T11:05:10.951Z"
   },
   {
    "duration": 66,
    "start_time": "2023-06-08T11:05:35.621Z"
   },
   {
    "duration": 60,
    "start_time": "2023-06-08T11:06:53.391Z"
   },
   {
    "duration": 10,
    "start_time": "2023-06-08T11:07:02.003Z"
   },
   {
    "duration": 189,
    "start_time": "2023-06-08T11:07:05.195Z"
   },
   {
    "duration": 13,
    "start_time": "2023-06-08T11:07:13.966Z"
   },
   {
    "duration": 62,
    "start_time": "2023-06-08T11:07:17.863Z"
   },
   {
    "duration": 54,
    "start_time": "2023-06-08T11:07:30.895Z"
   },
   {
    "duration": 67,
    "start_time": "2023-06-08T11:07:36.205Z"
   },
   {
    "duration": 191,
    "start_time": "2023-06-08T11:10:29.050Z"
   },
   {
    "duration": 200,
    "start_time": "2023-06-08T11:10:46.324Z"
   },
   {
    "duration": 204,
    "start_time": "2023-06-08T11:11:27.195Z"
   },
   {
    "duration": 182,
    "start_time": "2023-06-08T11:12:14.274Z"
   },
   {
    "duration": 297,
    "start_time": "2023-06-08T11:12:22.467Z"
   },
   {
    "duration": 173,
    "start_time": "2023-06-08T11:12:39.509Z"
   },
   {
    "duration": 186,
    "start_time": "2023-06-08T11:12:42.679Z"
   },
   {
    "duration": 90,
    "start_time": "2023-06-08T11:17:11.627Z"
   },
   {
    "duration": 490,
    "start_time": "2023-06-08T11:17:49.190Z"
   },
   {
    "duration": 99,
    "start_time": "2023-06-08T11:18:20.286Z"
   },
   {
    "duration": 18,
    "start_time": "2023-06-08T11:18:22.790Z"
   },
   {
    "duration": 19,
    "start_time": "2023-06-08T11:18:24.874Z"
   },
   {
    "duration": 12,
    "start_time": "2023-06-08T11:18:28.324Z"
   },
   {
    "duration": 44,
    "start_time": "2023-06-08T11:22:26.507Z"
   },
   {
    "duration": 89,
    "start_time": "2023-06-08T11:23:24.598Z"
   },
   {
    "duration": 3,
    "start_time": "2023-06-08T11:24:00.115Z"
   },
   {
    "duration": 1329,
    "start_time": "2023-06-08T11:24:04.833Z"
   },
   {
    "duration": 3,
    "start_time": "2023-06-08T11:24:06.164Z"
   },
   {
    "duration": 223,
    "start_time": "2023-06-08T11:24:06.168Z"
   },
   {
    "duration": 3,
    "start_time": "2023-06-08T11:24:06.393Z"
   },
   {
    "duration": 29,
    "start_time": "2023-06-08T11:24:06.398Z"
   },
   {
    "duration": 244,
    "start_time": "2023-06-08T11:24:06.429Z"
   },
   {
    "duration": 78,
    "start_time": "2023-06-08T11:24:06.675Z"
   },
   {
    "duration": 38,
    "start_time": "2023-06-08T11:24:06.754Z"
   },
   {
    "duration": 280,
    "start_time": "2023-06-08T11:24:06.795Z"
   },
   {
    "duration": 7,
    "start_time": "2023-06-08T11:24:07.077Z"
   },
   {
    "duration": 46,
    "start_time": "2023-06-08T11:24:07.085Z"
   },
   {
    "duration": 197,
    "start_time": "2023-06-08T11:24:07.133Z"
   },
   {
    "duration": 3,
    "start_time": "2023-06-08T11:24:07.333Z"
   },
   {
    "duration": 26,
    "start_time": "2023-06-08T11:24:07.346Z"
   },
   {
    "duration": 79,
    "start_time": "2023-06-08T11:24:07.374Z"
   },
   {
    "duration": 9,
    "start_time": "2023-06-08T11:24:07.454Z"
   },
   {
    "duration": 30,
    "start_time": "2023-06-08T11:24:07.464Z"
   },
   {
    "duration": 197,
    "start_time": "2023-06-08T11:24:07.496Z"
   },
   {
    "duration": 429,
    "start_time": "2023-06-08T11:24:07.695Z"
   },
   {
    "duration": 49,
    "start_time": "2023-06-08T11:24:08.126Z"
   },
   {
    "duration": 3,
    "start_time": "2023-06-08T11:24:08.177Z"
   },
   {
    "duration": 103,
    "start_time": "2023-06-08T11:24:08.181Z"
   },
   {
    "duration": 160,
    "start_time": "2023-06-08T11:25:46.333Z"
   },
   {
    "duration": 11,
    "start_time": "2023-06-08T11:25:50.821Z"
   },
   {
    "duration": 12,
    "start_time": "2023-06-08T11:26:35.396Z"
   },
   {
    "duration": 162,
    "start_time": "2023-06-08T11:26:39.375Z"
   },
   {
    "duration": 217,
    "start_time": "2023-06-08T11:26:53.045Z"
   },
   {
    "duration": 170,
    "start_time": "2023-06-08T11:27:55.776Z"
   },
   {
    "duration": 199,
    "start_time": "2023-06-08T11:28:01.234Z"
   },
   {
    "duration": 193,
    "start_time": "2023-06-08T11:28:13.233Z"
   },
   {
    "duration": 190,
    "start_time": "2023-06-08T11:28:51.881Z"
   },
   {
    "duration": 190,
    "start_time": "2023-06-08T11:29:05.759Z"
   },
   {
    "duration": 195,
    "start_time": "2023-06-08T11:29:26.690Z"
   },
   {
    "duration": 123,
    "start_time": "2023-06-08T11:29:34.083Z"
   },
   {
    "duration": 70,
    "start_time": "2023-06-08T11:29:36.606Z"
   },
   {
    "duration": 270,
    "start_time": "2023-06-08T11:29:45.369Z"
   },
   {
    "duration": 201,
    "start_time": "2023-06-08T11:29:57.021Z"
   },
   {
    "duration": 205,
    "start_time": "2023-06-08T11:30:27.172Z"
   },
   {
    "duration": 194,
    "start_time": "2023-06-08T11:30:51.573Z"
   },
   {
    "duration": 175,
    "start_time": "2023-06-08T11:33:25.298Z"
   },
   {
    "duration": 187,
    "start_time": "2023-06-08T11:33:38.655Z"
   },
   {
    "duration": 186,
    "start_time": "2023-06-08T11:35:35.832Z"
   },
   {
    "duration": 136,
    "start_time": "2023-06-08T11:40:32.958Z"
   },
   {
    "duration": 13,
    "start_time": "2023-06-08T11:41:17.020Z"
   },
   {
    "duration": 1266,
    "start_time": "2023-06-09T12:35:11.279Z"
   },
   {
    "duration": 3,
    "start_time": "2023-06-09T12:35:12.547Z"
   },
   {
    "duration": 534,
    "start_time": "2023-06-09T12:35:12.551Z"
   },
   {
    "duration": 4,
    "start_time": "2023-06-09T12:35:13.087Z"
   },
   {
    "duration": 38,
    "start_time": "2023-06-09T12:35:13.093Z"
   },
   {
    "duration": 215,
    "start_time": "2023-06-09T12:35:13.133Z"
   },
   {
    "duration": 50,
    "start_time": "2023-06-09T12:35:13.350Z"
   },
   {
    "duration": 31,
    "start_time": "2023-06-09T12:35:13.425Z"
   },
   {
    "duration": 245,
    "start_time": "2023-06-09T12:35:13.458Z"
   },
   {
    "duration": 6,
    "start_time": "2023-06-09T12:35:13.705Z"
   },
   {
    "duration": 40,
    "start_time": "2023-06-09T12:35:13.725Z"
   },
   {
    "duration": 166,
    "start_time": "2023-06-09T12:35:13.767Z"
   },
   {
    "duration": 2,
    "start_time": "2023-06-09T12:35:13.936Z"
   },
   {
    "duration": 24,
    "start_time": "2023-06-09T12:35:13.941Z"
   },
   {
    "duration": 79,
    "start_time": "2023-06-09T12:35:13.967Z"
   },
   {
    "duration": 8,
    "start_time": "2023-06-09T12:35:14.049Z"
   },
   {
    "duration": 37,
    "start_time": "2023-06-09T12:35:14.058Z"
   },
   {
    "duration": 184,
    "start_time": "2023-06-09T12:35:14.097Z"
   },
   {
    "duration": 2,
    "start_time": "2023-06-09T12:35:14.282Z"
   },
   {
    "duration": 18,
    "start_time": "2023-06-09T12:35:14.286Z"
   },
   {
    "duration": 24,
    "start_time": "2023-06-09T12:35:14.305Z"
   },
   {
    "duration": 14,
    "start_time": "2023-06-09T12:35:14.331Z"
   },
   {
    "duration": 15,
    "start_time": "2023-06-09T12:35:14.346Z"
   },
   {
    "duration": 8,
    "start_time": "2023-06-09T12:35:14.362Z"
   },
   {
    "duration": 4,
    "start_time": "2023-06-09T12:42:34.206Z"
   },
   {
    "duration": 2216,
    "start_time": "2023-06-09T12:46:21.158Z"
   },
   {
    "duration": 6,
    "start_time": "2023-06-09T12:46:33.047Z"
   },
   {
    "duration": 2878,
    "start_time": "2023-06-09T12:52:11.075Z"
   },
   {
    "duration": 2585,
    "start_time": "2023-06-09T12:54:02.237Z"
   },
   {
    "duration": 3937,
    "start_time": "2023-06-09T12:54:11.485Z"
   },
   {
    "duration": 12,
    "start_time": "2023-06-09T12:54:23.771Z"
   },
   {
    "duration": 2906,
    "start_time": "2023-06-09T12:54:30.301Z"
   },
   {
    "duration": 5,
    "start_time": "2023-06-09T12:54:59.277Z"
   },
   {
    "duration": 5,
    "start_time": "2023-06-09T12:55:08.070Z"
   },
   {
    "duration": 4,
    "start_time": "2023-06-09T12:55:12.656Z"
   },
   {
    "duration": 4360,
    "start_time": "2023-06-09T12:55:56.096Z"
   },
   {
    "duration": 182,
    "start_time": "2023-06-09T12:56:03.616Z"
   },
   {
    "duration": 168,
    "start_time": "2023-06-09T12:56:34.426Z"
   },
   {
    "duration": 65,
    "start_time": "2023-06-09T12:56:40.205Z"
   },
   {
    "duration": 168,
    "start_time": "2023-06-09T12:57:03.925Z"
   },
   {
    "duration": 4,
    "start_time": "2023-06-09T12:57:14.274Z"
   },
   {
    "duration": 4,
    "start_time": "2023-06-09T12:57:16.245Z"
   },
   {
    "duration": 5,
    "start_time": "2023-06-09T12:58:04.993Z"
   },
   {
    "duration": 4,
    "start_time": "2023-06-09T12:58:13.033Z"
   },
   {
    "duration": 112,
    "start_time": "2023-06-09T12:58:31.777Z"
   },
   {
    "duration": 1912,
    "start_time": "2023-06-09T13:01:16.490Z"
   },
   {
    "duration": 5,
    "start_time": "2023-06-09T13:01:28.497Z"
   },
   {
    "duration": 1745,
    "start_time": "2023-06-09T13:04:13.484Z"
   },
   {
    "duration": 15,
    "start_time": "2023-06-09T13:04:27.503Z"
   },
   {
    "duration": 5,
    "start_time": "2023-06-09T13:10:39.258Z"
   },
   {
    "duration": 105,
    "start_time": "2023-06-11T11:42:52.782Z"
   },
   {
    "duration": 9,
    "start_time": "2023-06-11T11:43:40.920Z"
   },
   {
    "duration": 1576,
    "start_time": "2023-06-11T11:43:46.098Z"
   },
   {
    "duration": 5,
    "start_time": "2023-06-11T11:43:47.676Z"
   },
   {
    "duration": 1154,
    "start_time": "2023-06-11T11:43:47.686Z"
   },
   {
    "duration": 31,
    "start_time": "2023-06-11T11:43:48.863Z"
   },
   {
    "duration": 272,
    "start_time": "2023-06-11T11:43:48.904Z"
   },
   {
    "duration": 116,
    "start_time": "2023-06-11T11:43:49.178Z"
   },
   {
    "duration": 70,
    "start_time": "2023-06-11T11:43:49.296Z"
   },
   {
    "duration": 44,
    "start_time": "2023-06-11T11:43:49.368Z"
   },
   {
    "duration": 455,
    "start_time": "2023-06-11T11:43:49.414Z"
   },
   {
    "duration": 12,
    "start_time": "2023-06-11T11:43:49.880Z"
   },
   {
    "duration": 156,
    "start_time": "2023-06-11T11:43:49.899Z"
   },
   {
    "duration": 228,
    "start_time": "2023-06-11T11:43:50.056Z"
   },
   {
    "duration": 4,
    "start_time": "2023-06-11T11:43:50.289Z"
   },
   {
    "duration": 54,
    "start_time": "2023-06-11T11:43:50.297Z"
   },
   {
    "duration": 143,
    "start_time": "2023-06-11T11:43:50.357Z"
   },
   {
    "duration": 12,
    "start_time": "2023-06-11T11:43:50.503Z"
   },
   {
    "duration": 49,
    "start_time": "2023-06-11T11:43:50.517Z"
   },
   {
    "duration": 295,
    "start_time": "2023-06-11T11:43:50.568Z"
   },
   {
    "duration": 4,
    "start_time": "2023-06-11T11:43:50.868Z"
   },
   {
    "duration": 150,
    "start_time": "2023-06-11T11:43:50.874Z"
   },
   {
    "duration": 0,
    "start_time": "2023-06-11T11:43:51.026Z"
   },
   {
    "duration": 0,
    "start_time": "2023-06-11T11:43:51.028Z"
   },
   {
    "duration": 0,
    "start_time": "2023-06-11T11:43:51.029Z"
   },
   {
    "duration": 0,
    "start_time": "2023-06-11T11:43:51.030Z"
   },
   {
    "duration": 0,
    "start_time": "2023-06-11T11:43:51.031Z"
   },
   {
    "duration": 0,
    "start_time": "2023-06-11T11:43:51.032Z"
   },
   {
    "duration": 0,
    "start_time": "2023-06-11T11:43:51.051Z"
   },
   {
    "duration": 0,
    "start_time": "2023-06-11T11:43:51.052Z"
   },
   {
    "duration": 0,
    "start_time": "2023-06-11T11:43:51.053Z"
   },
   {
    "duration": 128,
    "start_time": "2023-06-11T11:44:20.466Z"
   },
   {
    "duration": 4,
    "start_time": "2023-06-11T11:49:05.524Z"
   },
   {
    "duration": 40,
    "start_time": "2023-06-11T11:49:22.004Z"
   },
   {
    "duration": 60,
    "start_time": "2023-06-11T11:49:35.874Z"
   },
   {
    "duration": 51,
    "start_time": "2023-06-11T11:55:13.873Z"
   },
   {
    "duration": 67,
    "start_time": "2023-06-11T11:55:45.078Z"
   },
   {
    "duration": 54,
    "start_time": "2023-06-11T11:55:59.521Z"
   },
   {
    "duration": 44,
    "start_time": "2023-06-11T11:56:08.871Z"
   },
   {
    "duration": 48,
    "start_time": "2023-06-11T11:59:29.595Z"
   },
   {
    "duration": 10,
    "start_time": "2023-06-11T12:00:05.516Z"
   },
   {
    "duration": 14,
    "start_time": "2023-06-11T12:00:15.897Z"
   },
   {
    "duration": 17,
    "start_time": "2023-06-11T12:00:20.146Z"
   },
   {
    "duration": 7,
    "start_time": "2023-06-11T12:00:36.868Z"
   },
   {
    "duration": 14,
    "start_time": "2023-06-11T12:00:57.471Z"
   },
   {
    "duration": 10,
    "start_time": "2023-06-11T12:01:00.672Z"
   },
   {
    "duration": 4,
    "start_time": "2023-06-11T12:04:12.206Z"
   },
   {
    "duration": 7,
    "start_time": "2023-06-11T12:04:17.567Z"
   },
   {
    "duration": 9,
    "start_time": "2023-06-11T12:05:51.274Z"
   },
   {
    "duration": 23,
    "start_time": "2023-06-11T12:05:54.976Z"
   },
   {
    "duration": 20,
    "start_time": "2023-06-11T12:06:02.461Z"
   },
   {
    "duration": 29,
    "start_time": "2023-06-11T12:06:08.103Z"
   },
   {
    "duration": 315,
    "start_time": "2023-06-11T12:07:19.126Z"
   },
   {
    "duration": 209,
    "start_time": "2023-06-11T12:07:33.920Z"
   },
   {
    "duration": 403,
    "start_time": "2023-06-11T12:08:30.626Z"
   },
   {
    "duration": 570,
    "start_time": "2023-06-11T12:13:19.385Z"
   },
   {
    "duration": 1436,
    "start_time": "2023-06-11T12:13:32.144Z"
   },
   {
    "duration": 8,
    "start_time": "2023-06-11T12:13:33.584Z"
   },
   {
    "duration": 345,
    "start_time": "2023-06-11T12:13:33.595Z"
   },
   {
    "duration": 6,
    "start_time": "2023-06-11T12:13:33.943Z"
   },
   {
    "duration": 257,
    "start_time": "2023-06-11T12:13:33.960Z"
   },
   {
    "duration": 112,
    "start_time": "2023-06-11T12:13:34.218Z"
   },
   {
    "duration": 71,
    "start_time": "2023-06-11T12:13:34.332Z"
   },
   {
    "duration": 10,
    "start_time": "2023-06-11T12:13:34.406Z"
   },
   {
    "duration": 170,
    "start_time": "2023-06-11T12:13:34.419Z"
   },
   {
    "duration": 0,
    "start_time": "2023-06-11T12:13:34.592Z"
   },
   {
    "duration": 0,
    "start_time": "2023-06-11T12:13:34.593Z"
   },
   {
    "duration": 0,
    "start_time": "2023-06-11T12:13:34.594Z"
   },
   {
    "duration": 0,
    "start_time": "2023-06-11T12:13:34.596Z"
   },
   {
    "duration": 0,
    "start_time": "2023-06-11T12:13:34.597Z"
   },
   {
    "duration": 0,
    "start_time": "2023-06-11T12:13:34.598Z"
   },
   {
    "duration": 0,
    "start_time": "2023-06-11T12:13:34.599Z"
   },
   {
    "duration": 1,
    "start_time": "2023-06-11T12:13:34.600Z"
   },
   {
    "duration": 0,
    "start_time": "2023-06-11T12:13:34.603Z"
   },
   {
    "duration": 0,
    "start_time": "2023-06-11T12:13:34.604Z"
   },
   {
    "duration": 0,
    "start_time": "2023-06-11T12:13:34.605Z"
   },
   {
    "duration": 0,
    "start_time": "2023-06-11T12:13:34.606Z"
   },
   {
    "duration": 0,
    "start_time": "2023-06-11T12:13:34.608Z"
   },
   {
    "duration": 0,
    "start_time": "2023-06-11T12:13:34.609Z"
   },
   {
    "duration": 0,
    "start_time": "2023-06-11T12:13:34.611Z"
   },
   {
    "duration": 0,
    "start_time": "2023-06-11T12:13:34.613Z"
   },
   {
    "duration": 0,
    "start_time": "2023-06-11T12:13:34.614Z"
   },
   {
    "duration": 0,
    "start_time": "2023-06-11T12:13:34.615Z"
   },
   {
    "duration": 0,
    "start_time": "2023-06-11T12:13:34.616Z"
   },
   {
    "duration": 0,
    "start_time": "2023-06-11T12:13:34.618Z"
   },
   {
    "duration": 0,
    "start_time": "2023-06-11T12:13:34.619Z"
   },
   {
    "duration": 0,
    "start_time": "2023-06-11T12:13:34.621Z"
   },
   {
    "duration": 0,
    "start_time": "2023-06-11T12:13:34.623Z"
   },
   {
    "duration": 0,
    "start_time": "2023-06-11T12:13:34.651Z"
   },
   {
    "duration": 0,
    "start_time": "2023-06-11T12:13:34.652Z"
   },
   {
    "duration": 0,
    "start_time": "2023-06-11T12:13:34.655Z"
   },
   {
    "duration": 0,
    "start_time": "2023-06-11T12:13:34.657Z"
   },
   {
    "duration": 243,
    "start_time": "2023-06-11T12:13:49.467Z"
   },
   {
    "duration": 511,
    "start_time": "2023-06-11T12:13:53.327Z"
   },
   {
    "duration": 658,
    "start_time": "2023-06-11T12:14:07.912Z"
   },
   {
    "duration": 1447,
    "start_time": "2023-06-11T12:14:34.766Z"
   },
   {
    "duration": 3,
    "start_time": "2023-06-11T12:14:36.216Z"
   },
   {
    "duration": 292,
    "start_time": "2023-06-11T12:14:36.221Z"
   },
   {
    "duration": 4,
    "start_time": "2023-06-11T12:14:36.516Z"
   },
   {
    "duration": 285,
    "start_time": "2023-06-11T12:14:36.524Z"
   },
   {
    "duration": 136,
    "start_time": "2023-06-11T12:14:36.817Z"
   },
   {
    "duration": 69,
    "start_time": "2023-06-11T12:14:36.954Z"
   },
   {
    "duration": 368,
    "start_time": "2023-06-11T12:14:37.025Z"
   },
   {
    "duration": 1503,
    "start_time": "2023-06-11T12:14:37.398Z"
   },
   {
    "duration": 6,
    "start_time": "2023-06-11T12:14:38.903Z"
   },
   {
    "duration": 99,
    "start_time": "2023-06-11T12:14:38.911Z"
   },
   {
    "duration": 173,
    "start_time": "2023-06-11T12:14:39.012Z"
   },
   {
    "duration": 68,
    "start_time": "2023-06-11T12:14:39.188Z"
   },
   {
    "duration": 201,
    "start_time": "2023-06-11T12:14:39.261Z"
   },
   {
    "duration": 130,
    "start_time": "2023-06-11T12:14:39.469Z"
   },
   {
    "duration": 559,
    "start_time": "2023-06-11T12:14:39.602Z"
   },
   {
    "duration": 13,
    "start_time": "2023-06-11T12:14:40.164Z"
   },
   {
    "duration": 184,
    "start_time": "2023-06-11T12:14:40.180Z"
   },
   {
    "duration": 165,
    "start_time": "2023-06-11T12:14:40.371Z"
   },
   {
    "duration": 84,
    "start_time": "2023-06-11T12:14:40.538Z"
   },
   {
    "duration": 50,
    "start_time": "2023-06-11T12:14:40.624Z"
   },
   {
    "duration": 164,
    "start_time": "2023-06-11T12:14:40.676Z"
   },
   {
    "duration": 16,
    "start_time": "2023-06-11T12:14:40.842Z"
   },
   {
    "duration": 89,
    "start_time": "2023-06-11T12:14:40.860Z"
   },
   {
    "duration": 250,
    "start_time": "2023-06-11T12:14:40.952Z"
   },
   {
    "duration": 4,
    "start_time": "2023-06-11T12:14:41.208Z"
   },
   {
    "duration": 166,
    "start_time": "2023-06-11T12:14:41.213Z"
   },
   {
    "duration": 0,
    "start_time": "2023-06-11T12:14:41.390Z"
   },
   {
    "duration": 0,
    "start_time": "2023-06-11T12:14:41.391Z"
   },
   {
    "duration": 0,
    "start_time": "2023-06-11T12:14:41.392Z"
   },
   {
    "duration": 0,
    "start_time": "2023-06-11T12:14:41.393Z"
   },
   {
    "duration": 0,
    "start_time": "2023-06-11T12:14:41.394Z"
   },
   {
    "duration": 1,
    "start_time": "2023-06-11T12:14:41.395Z"
   },
   {
    "duration": 0,
    "start_time": "2023-06-11T12:14:41.397Z"
   },
   {
    "duration": 0,
    "start_time": "2023-06-11T12:14:41.398Z"
   },
   {
    "duration": 0,
    "start_time": "2023-06-11T12:14:41.402Z"
   },
   {
    "duration": 678,
    "start_time": "2023-06-11T12:14:48.020Z"
   },
   {
    "duration": 739,
    "start_time": "2023-06-11T12:14:52.510Z"
   },
   {
    "duration": 705,
    "start_time": "2023-06-11T12:17:10.283Z"
   },
   {
    "duration": 1400,
    "start_time": "2023-06-11T12:18:02.205Z"
   },
   {
    "duration": 4,
    "start_time": "2023-06-11T12:18:03.607Z"
   },
   {
    "duration": 254,
    "start_time": "2023-06-11T12:18:03.612Z"
   },
   {
    "duration": 10,
    "start_time": "2023-06-11T12:18:03.878Z"
   },
   {
    "duration": 149,
    "start_time": "2023-06-11T12:18:03.889Z"
   },
   {
    "duration": 127,
    "start_time": "2023-06-11T12:18:04.040Z"
   },
   {
    "duration": 59,
    "start_time": "2023-06-11T12:18:04.171Z"
   },
   {
    "duration": 1241,
    "start_time": "2023-06-11T12:18:04.232Z"
   },
   {
    "duration": 5,
    "start_time": "2023-06-11T12:18:05.484Z"
   },
   {
    "duration": 256,
    "start_time": "2023-06-11T12:18:05.496Z"
   },
   {
    "duration": 15,
    "start_time": "2023-06-11T12:18:05.755Z"
   },
   {
    "duration": 281,
    "start_time": "2023-06-11T12:18:05.773Z"
   },
   {
    "duration": 115,
    "start_time": "2023-06-11T12:18:06.058Z"
   },
   {
    "duration": 718,
    "start_time": "2023-06-11T12:18:06.175Z"
   },
   {
    "duration": 9,
    "start_time": "2023-06-11T12:18:06.948Z"
   },
   {
    "duration": 217,
    "start_time": "2023-06-11T12:18:06.959Z"
   },
   {
    "duration": 273,
    "start_time": "2023-06-11T12:18:07.180Z"
   },
   {
    "duration": 6,
    "start_time": "2023-06-11T12:18:07.455Z"
   },
   {
    "duration": 53,
    "start_time": "2023-06-11T12:18:07.463Z"
   },
   {
    "duration": 118,
    "start_time": "2023-06-11T12:18:07.518Z"
   },
   {
    "duration": 16,
    "start_time": "2023-06-11T12:18:07.638Z"
   },
   {
    "duration": 67,
    "start_time": "2023-06-11T12:18:07.657Z"
   },
   {
    "duration": 313,
    "start_time": "2023-06-11T12:18:07.726Z"
   },
   {
    "duration": 14,
    "start_time": "2023-06-11T12:18:08.041Z"
   },
   {
    "duration": 161,
    "start_time": "2023-06-11T12:18:08.057Z"
   },
   {
    "duration": 0,
    "start_time": "2023-06-11T12:18:08.221Z"
   },
   {
    "duration": 0,
    "start_time": "2023-06-11T12:18:08.222Z"
   },
   {
    "duration": 0,
    "start_time": "2023-06-11T12:18:08.224Z"
   },
   {
    "duration": 0,
    "start_time": "2023-06-11T12:18:08.225Z"
   },
   {
    "duration": 0,
    "start_time": "2023-06-11T12:18:08.227Z"
   },
   {
    "duration": 1,
    "start_time": "2023-06-11T12:18:08.228Z"
   },
   {
    "duration": 0,
    "start_time": "2023-06-11T12:18:08.247Z"
   },
   {
    "duration": 0,
    "start_time": "2023-06-11T12:18:08.255Z"
   },
   {
    "duration": 0,
    "start_time": "2023-06-11T12:18:08.256Z"
   },
   {
    "duration": 1344,
    "start_time": "2023-06-11T12:20:25.658Z"
   },
   {
    "duration": 3,
    "start_time": "2023-06-11T12:20:27.005Z"
   },
   {
    "duration": 253,
    "start_time": "2023-06-11T12:20:27.010Z"
   },
   {
    "duration": 5,
    "start_time": "2023-06-11T12:20:27.271Z"
   },
   {
    "duration": 171,
    "start_time": "2023-06-11T12:20:27.279Z"
   },
   {
    "duration": 120,
    "start_time": "2023-06-11T12:20:27.452Z"
   },
   {
    "duration": 46,
    "start_time": "2023-06-11T12:20:27.579Z"
   },
   {
    "duration": 630,
    "start_time": "2023-06-11T12:20:27.627Z"
   },
   {
    "duration": 12,
    "start_time": "2023-06-11T12:20:28.261Z"
   },
   {
    "duration": 112,
    "start_time": "2023-06-11T12:20:28.278Z"
   },
   {
    "duration": 8,
    "start_time": "2023-06-11T12:20:28.392Z"
   },
   {
    "duration": 99,
    "start_time": "2023-06-11T12:20:28.402Z"
   },
   {
    "duration": 58,
    "start_time": "2023-06-11T12:20:28.503Z"
   },
   {
    "duration": 313,
    "start_time": "2023-06-11T12:20:28.565Z"
   },
   {
    "duration": 6,
    "start_time": "2023-06-11T12:20:28.882Z"
   },
   {
    "duration": 119,
    "start_time": "2023-06-11T12:20:28.891Z"
   },
   {
    "duration": 169,
    "start_time": "2023-06-11T12:20:29.012Z"
   },
   {
    "duration": 2,
    "start_time": "2023-06-11T12:20:29.183Z"
   },
   {
    "duration": 43,
    "start_time": "2023-06-11T12:20:29.187Z"
   },
   {
    "duration": 134,
    "start_time": "2023-06-11T12:20:29.232Z"
   },
   {
    "duration": 20,
    "start_time": "2023-06-11T12:20:29.369Z"
   },
   {
    "duration": 35,
    "start_time": "2023-06-11T12:20:29.390Z"
   },
   {
    "duration": 213,
    "start_time": "2023-06-11T12:20:29.427Z"
   },
   {
    "duration": 22,
    "start_time": "2023-06-11T12:20:29.643Z"
   },
   {
    "duration": 201,
    "start_time": "2023-06-11T12:20:29.667Z"
   },
   {
    "duration": 0,
    "start_time": "2023-06-11T12:20:29.877Z"
   },
   {
    "duration": 0,
    "start_time": "2023-06-11T12:20:29.879Z"
   },
   {
    "duration": 0,
    "start_time": "2023-06-11T12:20:29.880Z"
   },
   {
    "duration": 0,
    "start_time": "2023-06-11T12:20:29.882Z"
   },
   {
    "duration": 0,
    "start_time": "2023-06-11T12:20:29.883Z"
   },
   {
    "duration": 0,
    "start_time": "2023-06-11T12:20:29.885Z"
   },
   {
    "duration": 0,
    "start_time": "2023-06-11T12:20:29.886Z"
   },
   {
    "duration": 0,
    "start_time": "2023-06-11T12:20:29.887Z"
   },
   {
    "duration": 0,
    "start_time": "2023-06-11T12:20:29.888Z"
   },
   {
    "duration": 11,
    "start_time": "2023-06-11T12:29:44.589Z"
   },
   {
    "duration": 18,
    "start_time": "2023-06-11T12:29:53.374Z"
   },
   {
    "duration": 7,
    "start_time": "2023-06-11T12:30:02.572Z"
   },
   {
    "duration": 6,
    "start_time": "2023-06-11T12:30:07.804Z"
   },
   {
    "duration": 5,
    "start_time": "2023-06-11T12:30:18.519Z"
   },
   {
    "duration": 10,
    "start_time": "2023-06-11T12:30:25.367Z"
   },
   {
    "duration": 8,
    "start_time": "2023-06-11T12:30:33.213Z"
   },
   {
    "duration": 38,
    "start_time": "2023-06-11T12:31:23.022Z"
   },
   {
    "duration": 3242,
    "start_time": "2023-06-11T13:02:51.691Z"
   },
   {
    "duration": 130,
    "start_time": "2023-06-11T13:10:26.072Z"
   },
   {
    "duration": 17,
    "start_time": "2023-06-11T13:10:31.083Z"
   },
   {
    "duration": 20,
    "start_time": "2023-06-11T13:10:44.021Z"
   },
   {
    "duration": 13,
    "start_time": "2023-06-11T13:12:09.078Z"
   },
   {
    "duration": 2400,
    "start_time": "2023-06-11T13:12:17.678Z"
   },
   {
    "duration": 41,
    "start_time": "2023-06-11T13:12:23.571Z"
   },
   {
    "duration": 53,
    "start_time": "2023-06-11T13:12:30.323Z"
   },
   {
    "duration": 19,
    "start_time": "2023-06-11T13:12:40.972Z"
   },
   {
    "duration": 49,
    "start_time": "2023-06-11T13:13:47.407Z"
   },
   {
    "duration": 96,
    "start_time": "2023-06-11T13:13:53.015Z"
   },
   {
    "duration": 44,
    "start_time": "2023-06-11T13:14:24.693Z"
   },
   {
    "duration": 39,
    "start_time": "2023-06-11T13:14:30.191Z"
   },
   {
    "duration": 25,
    "start_time": "2023-06-11T13:14:36.559Z"
   },
   {
    "duration": 9,
    "start_time": "2023-06-11T13:14:57.761Z"
   },
   {
    "duration": 305,
    "start_time": "2023-06-11T13:16:56.995Z"
   },
   {
    "duration": 343,
    "start_time": "2023-06-11T13:17:31.705Z"
   },
   {
    "duration": 419,
    "start_time": "2023-06-11T13:17:50.405Z"
   },
   {
    "duration": 429,
    "start_time": "2023-06-11T13:17:57.604Z"
   },
   {
    "duration": 280,
    "start_time": "2023-06-11T13:18:40.826Z"
   },
   {
    "duration": 336,
    "start_time": "2023-06-11T13:20:25.683Z"
   },
   {
    "duration": 22,
    "start_time": "2023-06-11T13:22:12.375Z"
   },
   {
    "duration": 16,
    "start_time": "2023-06-11T13:22:14.676Z"
   },
   {
    "duration": 33,
    "start_time": "2023-06-11T13:23:18.909Z"
   },
   {
    "duration": 112,
    "start_time": "2023-06-11T13:23:20.572Z"
   },
   {
    "duration": 194,
    "start_time": "2023-06-11T13:23:36.942Z"
   },
   {
    "duration": 11,
    "start_time": "2023-06-11T13:24:19.612Z"
   },
   {
    "duration": 16,
    "start_time": "2023-06-11T13:24:25.074Z"
   },
   {
    "duration": 18,
    "start_time": "2023-06-11T13:24:34.279Z"
   },
   {
    "duration": 18,
    "start_time": "2023-06-11T13:24:37.813Z"
   },
   {
    "duration": 318,
    "start_time": "2023-06-11T13:26:26.301Z"
   },
   {
    "duration": 286,
    "start_time": "2023-06-11T13:26:29.908Z"
   },
   {
    "duration": 316,
    "start_time": "2023-06-11T13:27:19.881Z"
   },
   {
    "duration": 11,
    "start_time": "2023-06-11T13:31:31.375Z"
   },
   {
    "duration": 4,
    "start_time": "2023-06-11T13:32:28.613Z"
   },
   {
    "duration": 4,
    "start_time": "2023-06-11T13:32:31.121Z"
   },
   {
    "duration": 192,
    "start_time": "2023-06-11T13:32:33.586Z"
   },
   {
    "duration": 316,
    "start_time": "2023-06-11T13:32:39.471Z"
   },
   {
    "duration": 363,
    "start_time": "2023-06-11T13:33:16.707Z"
   },
   {
    "duration": 184,
    "start_time": "2023-06-11T13:33:43.102Z"
   },
   {
    "duration": 221,
    "start_time": "2023-06-11T13:33:53.718Z"
   },
   {
    "duration": 182,
    "start_time": "2023-06-11T13:34:00.007Z"
   },
   {
    "duration": 188,
    "start_time": "2023-06-11T13:34:04.395Z"
   },
   {
    "duration": 272,
    "start_time": "2023-06-11T13:35:49.811Z"
   },
   {
    "duration": 10,
    "start_time": "2023-06-11T13:36:48.034Z"
   },
   {
    "duration": 258,
    "start_time": "2023-06-11T13:37:00.613Z"
   },
   {
    "duration": 13,
    "start_time": "2023-06-11T13:38:28.017Z"
   },
   {
    "duration": 10,
    "start_time": "2023-06-11T13:38:49.215Z"
   },
   {
    "duration": 10,
    "start_time": "2023-06-11T13:41:25.112Z"
   },
   {
    "duration": 23,
    "start_time": "2023-06-11T13:43:09.371Z"
   },
   {
    "duration": 204,
    "start_time": "2023-06-11T13:43:14.821Z"
   },
   {
    "duration": 10,
    "start_time": "2023-06-11T13:43:28.085Z"
   },
   {
    "duration": 1417,
    "start_time": "2023-06-11T13:44:11.875Z"
   },
   {
    "duration": 3,
    "start_time": "2023-06-11T13:44:13.296Z"
   },
   {
    "duration": 261,
    "start_time": "2023-06-11T13:44:13.301Z"
   },
   {
    "duration": 12,
    "start_time": "2023-06-11T13:44:13.567Z"
   },
   {
    "duration": 193,
    "start_time": "2023-06-11T13:44:13.583Z"
   },
   {
    "duration": 120,
    "start_time": "2023-06-11T13:44:13.778Z"
   },
   {
    "duration": 60,
    "start_time": "2023-06-11T13:44:13.900Z"
   },
   {
    "duration": 721,
    "start_time": "2023-06-11T13:44:13.961Z"
   },
   {
    "duration": 6,
    "start_time": "2023-06-11T13:44:14.684Z"
   },
   {
    "duration": 108,
    "start_time": "2023-06-11T13:44:14.694Z"
   },
   {
    "duration": 9,
    "start_time": "2023-06-11T13:44:14.804Z"
   },
   {
    "duration": 15,
    "start_time": "2023-06-11T13:44:14.814Z"
   },
   {
    "duration": 70,
    "start_time": "2023-06-11T13:44:14.831Z"
   },
   {
    "duration": 4,
    "start_time": "2023-06-11T13:44:14.906Z"
   },
   {
    "duration": 22,
    "start_time": "2023-06-11T13:44:14.912Z"
   },
   {
    "duration": 7,
    "start_time": "2023-06-11T13:44:14.936Z"
   },
   {
    "duration": 346,
    "start_time": "2023-06-11T13:44:14.952Z"
   },
   {
    "duration": 6,
    "start_time": "2023-06-11T13:44:15.302Z"
   },
   {
    "duration": 2496,
    "start_time": "2023-06-11T13:44:15.310Z"
   },
   {
    "duration": 69,
    "start_time": "2023-06-11T13:44:17.808Z"
   },
   {
    "duration": 8,
    "start_time": "2023-06-11T13:44:17.884Z"
   },
   {
    "duration": 108,
    "start_time": "2023-06-11T13:44:17.894Z"
   },
   {
    "duration": 165,
    "start_time": "2023-06-11T13:44:18.004Z"
   },
   {
    "duration": 14,
    "start_time": "2023-06-11T13:44:18.174Z"
   },
   {
    "duration": 27,
    "start_time": "2023-06-11T13:44:18.191Z"
   },
   {
    "duration": 114,
    "start_time": "2023-06-11T13:44:18.220Z"
   },
   {
    "duration": 13,
    "start_time": "2023-06-11T13:44:18.335Z"
   },
   {
    "duration": 91,
    "start_time": "2023-06-11T13:44:18.350Z"
   },
   {
    "duration": 249,
    "start_time": "2023-06-11T13:44:18.443Z"
   },
   {
    "duration": 4,
    "start_time": "2023-06-11T13:44:18.695Z"
   },
   {
    "duration": 188,
    "start_time": "2023-06-11T13:44:18.701Z"
   },
   {
    "duration": 0,
    "start_time": "2023-06-11T13:44:18.891Z"
   },
   {
    "duration": 0,
    "start_time": "2023-06-11T13:44:18.892Z"
   },
   {
    "duration": 0,
    "start_time": "2023-06-11T13:44:18.893Z"
   },
   {
    "duration": 0,
    "start_time": "2023-06-11T13:44:18.894Z"
   },
   {
    "duration": 0,
    "start_time": "2023-06-11T13:44:18.895Z"
   },
   {
    "duration": 0,
    "start_time": "2023-06-11T13:44:18.899Z"
   },
   {
    "duration": 0,
    "start_time": "2023-06-11T13:44:18.901Z"
   },
   {
    "duration": 0,
    "start_time": "2023-06-11T13:44:18.902Z"
   },
   {
    "duration": 0,
    "start_time": "2023-06-11T13:44:18.904Z"
   },
   {
    "duration": 5,
    "start_time": "2023-06-11T13:44:51.209Z"
   },
   {
    "duration": 11,
    "start_time": "2023-06-11T13:44:52.883Z"
   },
   {
    "duration": 14,
    "start_time": "2023-06-11T13:44:54.166Z"
   },
   {
    "duration": 4,
    "start_time": "2023-06-11T13:44:59.708Z"
   },
   {
    "duration": 12,
    "start_time": "2023-06-11T13:45:01.504Z"
   },
   {
    "duration": 24,
    "start_time": "2023-06-11T13:45:03.069Z"
   },
   {
    "duration": 205,
    "start_time": "2023-06-11T13:45:13.304Z"
   },
   {
    "duration": 13,
    "start_time": "2023-06-11T13:45:57.125Z"
   },
   {
    "duration": 13,
    "start_time": "2023-06-11T13:46:02.598Z"
   },
   {
    "duration": 4,
    "start_time": "2023-06-11T13:46:16.909Z"
   },
   {
    "duration": 11,
    "start_time": "2023-06-11T13:46:19.097Z"
   },
   {
    "duration": 8,
    "start_time": "2023-06-11T13:46:20.681Z"
   },
   {
    "duration": 4,
    "start_time": "2023-06-11T13:46:55.203Z"
   },
   {
    "duration": 12,
    "start_time": "2023-06-11T13:46:57.006Z"
   },
   {
    "duration": 10,
    "start_time": "2023-06-11T13:46:58.312Z"
   },
   {
    "duration": 218,
    "start_time": "2023-06-11T13:47:07.279Z"
   },
   {
    "duration": 17,
    "start_time": "2023-06-11T13:47:12.821Z"
   },
   {
    "duration": 308,
    "start_time": "2023-06-11T13:47:17.211Z"
   },
   {
    "duration": 194,
    "start_time": "2023-06-11T13:47:35.722Z"
   },
   {
    "duration": 53,
    "start_time": "2023-06-11T13:49:35.288Z"
   },
   {
    "duration": 65,
    "start_time": "2023-06-11T13:49:56.061Z"
   },
   {
    "duration": 62,
    "start_time": "2023-06-11T13:49:58.571Z"
   },
   {
    "duration": 212,
    "start_time": "2023-06-11T13:50:54.187Z"
   },
   {
    "duration": 231,
    "start_time": "2023-06-11T13:52:04.538Z"
   },
   {
    "duration": 22,
    "start_time": "2023-06-11T13:52:41.635Z"
   },
   {
    "duration": 265,
    "start_time": "2023-06-11T13:52:50.863Z"
   },
   {
    "duration": 215,
    "start_time": "2023-06-11T13:52:53.824Z"
   },
   {
    "duration": 223,
    "start_time": "2023-06-11T13:53:20.885Z"
   },
   {
    "duration": 258,
    "start_time": "2023-06-11T13:53:41.184Z"
   },
   {
    "duration": 300,
    "start_time": "2023-06-11T13:53:46.751Z"
   },
   {
    "duration": 310,
    "start_time": "2023-06-11T13:56:36.573Z"
   },
   {
    "duration": 234,
    "start_time": "2023-06-11T13:56:55.795Z"
   },
   {
    "duration": 310,
    "start_time": "2023-06-11T13:56:58.687Z"
   },
   {
    "duration": 25,
    "start_time": "2023-06-11T14:12:40.768Z"
   },
   {
    "duration": 123,
    "start_time": "2023-06-11T14:13:04.871Z"
   },
   {
    "duration": 130,
    "start_time": "2023-06-11T14:13:56.663Z"
   },
   {
    "duration": 110,
    "start_time": "2023-06-11T14:14:31.996Z"
   },
   {
    "duration": 1420,
    "start_time": "2023-06-11T14:15:00.571Z"
   },
   {
    "duration": 4,
    "start_time": "2023-06-11T14:15:02.000Z"
   },
   {
    "duration": 361,
    "start_time": "2023-06-11T14:15:02.005Z"
   },
   {
    "duration": 15,
    "start_time": "2023-06-11T14:15:02.374Z"
   },
   {
    "duration": 277,
    "start_time": "2023-06-11T14:15:02.391Z"
   },
   {
    "duration": 143,
    "start_time": "2023-06-11T14:15:02.671Z"
   },
   {
    "duration": 80,
    "start_time": "2023-06-11T14:15:02.816Z"
   },
   {
    "duration": 936,
    "start_time": "2023-06-11T14:15:02.898Z"
   },
   {
    "duration": 4,
    "start_time": "2023-06-11T14:15:03.836Z"
   },
   {
    "duration": 128,
    "start_time": "2023-06-11T14:15:03.846Z"
   },
   {
    "duration": 11,
    "start_time": "2023-06-11T14:15:03.983Z"
   },
   {
    "duration": 25,
    "start_time": "2023-06-11T14:15:03.996Z"
   },
   {
    "duration": 55,
    "start_time": "2023-06-11T14:15:04.023Z"
   },
   {
    "duration": 39,
    "start_time": "2023-06-11T14:15:04.086Z"
   },
   {
    "duration": 75,
    "start_time": "2023-06-11T14:15:04.127Z"
   },
   {
    "duration": 358,
    "start_time": "2023-06-11T14:15:04.204Z"
   },
   {
    "duration": 286,
    "start_time": "2023-06-11T14:15:04.563Z"
   },
   {
    "duration": 45,
    "start_time": "2023-06-11T14:15:04.851Z"
   },
   {
    "duration": 162,
    "start_time": "2023-06-11T14:15:04.899Z"
   },
   {
    "duration": 8,
    "start_time": "2023-06-11T14:15:05.063Z"
   },
   {
    "duration": 138,
    "start_time": "2023-06-11T14:15:05.073Z"
   },
   {
    "duration": 187,
    "start_time": "2023-06-11T14:15:05.212Z"
   },
   {
    "duration": 4,
    "start_time": "2023-06-11T14:15:05.406Z"
   },
   {
    "duration": 116,
    "start_time": "2023-06-11T14:15:05.413Z"
   },
   {
    "duration": 147,
    "start_time": "2023-06-11T14:15:05.531Z"
   },
   {
    "duration": 35,
    "start_time": "2023-06-11T14:15:05.680Z"
   },
   {
    "duration": 60,
    "start_time": "2023-06-11T14:15:05.717Z"
   },
   {
    "duration": 258,
    "start_time": "2023-06-11T14:15:05.778Z"
   },
   {
    "duration": 4,
    "start_time": "2023-06-11T14:15:06.038Z"
   },
   {
    "duration": 189,
    "start_time": "2023-06-11T14:15:06.053Z"
   },
   {
    "duration": 0,
    "start_time": "2023-06-11T14:15:06.244Z"
   },
   {
    "duration": 0,
    "start_time": "2023-06-11T14:15:06.251Z"
   },
   {
    "duration": 0,
    "start_time": "2023-06-11T14:15:06.252Z"
   },
   {
    "duration": 0,
    "start_time": "2023-06-11T14:15:06.253Z"
   },
   {
    "duration": 0,
    "start_time": "2023-06-11T14:15:06.261Z"
   },
   {
    "duration": 0,
    "start_time": "2023-06-11T14:15:06.262Z"
   },
   {
    "duration": 0,
    "start_time": "2023-06-11T14:15:06.263Z"
   },
   {
    "duration": 0,
    "start_time": "2023-06-11T14:15:06.264Z"
   },
   {
    "duration": 0,
    "start_time": "2023-06-11T14:15:06.265Z"
   },
   {
    "duration": 107,
    "start_time": "2023-06-11T14:17:15.465Z"
   },
   {
    "duration": 101,
    "start_time": "2023-06-11T14:18:35.468Z"
   },
   {
    "duration": 5,
    "start_time": "2023-06-11T14:18:50.016Z"
   },
   {
    "duration": 96,
    "start_time": "2023-06-11T14:19:00.876Z"
   },
   {
    "duration": 137,
    "start_time": "2023-06-11T14:19:04.874Z"
   },
   {
    "duration": 117,
    "start_time": "2023-06-11T14:19:07.515Z"
   },
   {
    "duration": 29,
    "start_time": "2023-06-11T14:20:23.457Z"
   },
   {
    "duration": 26,
    "start_time": "2023-06-11T14:21:00.326Z"
   },
   {
    "duration": 51,
    "start_time": "2023-06-11T14:22:08.686Z"
   },
   {
    "duration": 87,
    "start_time": "2023-06-11T14:22:15.558Z"
   },
   {
    "duration": 12,
    "start_time": "2023-06-11T14:33:20.276Z"
   },
   {
    "duration": 1341,
    "start_time": "2023-06-11T14:33:32.563Z"
   },
   {
    "duration": 2,
    "start_time": "2023-06-11T14:33:33.908Z"
   },
   {
    "duration": 277,
    "start_time": "2023-06-11T14:33:33.912Z"
   },
   {
    "duration": 4,
    "start_time": "2023-06-11T14:33:34.191Z"
   },
   {
    "duration": 199,
    "start_time": "2023-06-11T14:33:34.196Z"
   },
   {
    "duration": 106,
    "start_time": "2023-06-11T14:33:34.399Z"
   },
   {
    "duration": 53,
    "start_time": "2023-06-11T14:33:34.507Z"
   },
   {
    "duration": 654,
    "start_time": "2023-06-11T14:33:34.562Z"
   },
   {
    "duration": 4,
    "start_time": "2023-06-11T14:33:35.218Z"
   },
   {
    "duration": 96,
    "start_time": "2023-06-11T14:33:35.223Z"
   },
   {
    "duration": 8,
    "start_time": "2023-06-11T14:33:35.320Z"
   },
   {
    "duration": 18,
    "start_time": "2023-06-11T14:33:35.329Z"
   },
   {
    "duration": 73,
    "start_time": "2023-06-11T14:33:35.351Z"
   },
   {
    "duration": 4,
    "start_time": "2023-06-11T14:33:35.426Z"
   },
   {
    "duration": 22,
    "start_time": "2023-06-11T14:33:35.431Z"
   },
   {
    "duration": 345,
    "start_time": "2023-06-11T14:33:35.455Z"
   },
   {
    "duration": 272,
    "start_time": "2023-06-11T14:33:35.802Z"
   },
   {
    "duration": 31,
    "start_time": "2023-06-11T14:33:36.075Z"
   },
   {
    "duration": 83,
    "start_time": "2023-06-11T14:33:36.107Z"
   },
   {
    "duration": 135,
    "start_time": "2023-06-11T14:33:36.192Z"
   },
   {
    "duration": 62,
    "start_time": "2023-06-11T14:33:36.329Z"
   },
   {
    "duration": 186,
    "start_time": "2023-06-11T14:33:36.392Z"
   },
   {
    "duration": 0,
    "start_time": "2023-06-11T14:33:36.580Z"
   },
   {
    "duration": 0,
    "start_time": "2023-06-11T14:33:36.582Z"
   },
   {
    "duration": 0,
    "start_time": "2023-06-11T14:33:36.583Z"
   },
   {
    "duration": 0,
    "start_time": "2023-06-11T14:33:36.584Z"
   },
   {
    "duration": 0,
    "start_time": "2023-06-11T14:33:36.586Z"
   },
   {
    "duration": 0,
    "start_time": "2023-06-11T14:33:36.589Z"
   },
   {
    "duration": 0,
    "start_time": "2023-06-11T14:33:36.590Z"
   },
   {
    "duration": 0,
    "start_time": "2023-06-11T14:33:36.591Z"
   },
   {
    "duration": 0,
    "start_time": "2023-06-11T14:33:36.592Z"
   },
   {
    "duration": 0,
    "start_time": "2023-06-11T14:33:36.593Z"
   },
   {
    "duration": 0,
    "start_time": "2023-06-11T14:33:36.595Z"
   },
   {
    "duration": 0,
    "start_time": "2023-06-11T14:33:36.596Z"
   },
   {
    "duration": 0,
    "start_time": "2023-06-11T14:33:36.598Z"
   },
   {
    "duration": 0,
    "start_time": "2023-06-11T14:33:36.599Z"
   },
   {
    "duration": 0,
    "start_time": "2023-06-11T14:33:36.600Z"
   },
   {
    "duration": 0,
    "start_time": "2023-06-11T14:33:36.601Z"
   },
   {
    "duration": 0,
    "start_time": "2023-06-11T14:33:36.602Z"
   },
   {
    "duration": 0,
    "start_time": "2023-06-11T14:33:36.603Z"
   },
   {
    "duration": 0,
    "start_time": "2023-06-11T14:33:36.604Z"
   },
   {
    "duration": 0,
    "start_time": "2023-06-11T14:33:36.605Z"
   },
   {
    "duration": 77,
    "start_time": "2023-06-11T14:36:03.967Z"
   },
   {
    "duration": 111,
    "start_time": "2023-06-11T14:36:11.021Z"
   },
   {
    "duration": 122,
    "start_time": "2023-06-11T14:36:41.163Z"
   },
   {
    "duration": 107,
    "start_time": "2023-06-11T14:37:05.807Z"
   },
   {
    "duration": 470,
    "start_time": "2023-06-11T14:37:17.913Z"
   },
   {
    "duration": 113,
    "start_time": "2023-06-11T14:37:24.569Z"
   },
   {
    "duration": 136,
    "start_time": "2023-06-11T14:37:34.564Z"
   },
   {
    "duration": 157,
    "start_time": "2023-06-11T14:41:33.298Z"
   },
   {
    "duration": 189,
    "start_time": "2023-06-11T14:42:38.212Z"
   },
   {
    "duration": 196,
    "start_time": "2023-06-11T14:42:57.956Z"
   },
   {
    "duration": 88,
    "start_time": "2023-06-11T14:43:54.892Z"
   },
   {
    "duration": 158,
    "start_time": "2023-06-11T14:43:58.405Z"
   },
   {
    "duration": 61,
    "start_time": "2023-06-11T14:47:51.067Z"
   },
   {
    "duration": 63,
    "start_time": "2023-06-11T14:47:57.294Z"
   },
   {
    "duration": 64,
    "start_time": "2023-06-11T14:49:49.603Z"
   },
   {
    "duration": 56,
    "start_time": "2023-06-11T14:50:45.886Z"
   },
   {
    "duration": 8,
    "start_time": "2023-06-11T15:04:17.091Z"
   },
   {
    "duration": 74,
    "start_time": "2023-06-11T15:07:50.480Z"
   },
   {
    "duration": 1338,
    "start_time": "2023-06-11T15:32:22.273Z"
   },
   {
    "duration": 2,
    "start_time": "2023-06-11T15:32:23.614Z"
   },
   {
    "duration": 276,
    "start_time": "2023-06-11T15:32:23.618Z"
   },
   {
    "duration": 3,
    "start_time": "2023-06-11T15:32:23.896Z"
   },
   {
    "duration": 168,
    "start_time": "2023-06-11T15:32:23.902Z"
   },
   {
    "duration": 123,
    "start_time": "2023-06-11T15:32:24.071Z"
   },
   {
    "duration": 44,
    "start_time": "2023-06-11T15:32:24.196Z"
   },
   {
    "duration": 651,
    "start_time": "2023-06-11T15:32:24.251Z"
   },
   {
    "duration": 4,
    "start_time": "2023-06-11T15:32:24.904Z"
   },
   {
    "duration": 83,
    "start_time": "2023-06-11T15:32:24.909Z"
   },
   {
    "duration": 7,
    "start_time": "2023-06-11T15:32:24.994Z"
   },
   {
    "duration": 16,
    "start_time": "2023-06-11T15:32:25.003Z"
   },
   {
    "duration": 75,
    "start_time": "2023-06-11T15:32:25.021Z"
   },
   {
    "duration": 4,
    "start_time": "2023-06-11T15:32:25.099Z"
   },
   {
    "duration": 23,
    "start_time": "2023-06-11T15:32:25.104Z"
   },
   {
    "duration": 344,
    "start_time": "2023-06-11T15:32:25.129Z"
   },
   {
    "duration": 298,
    "start_time": "2023-06-11T15:32:25.474Z"
   },
   {
    "duration": 31,
    "start_time": "2023-06-11T15:32:25.775Z"
   },
   {
    "duration": 176,
    "start_time": "2023-06-11T15:32:25.808Z"
   },
   {
    "duration": 77,
    "start_time": "2023-06-11T15:32:25.986Z"
   },
   {
    "duration": 71,
    "start_time": "2023-06-11T15:32:26.066Z"
   },
   {
    "duration": 8,
    "start_time": "2023-06-11T15:32:26.139Z"
   },
   {
    "duration": 113,
    "start_time": "2023-06-11T15:32:26.148Z"
   },
   {
    "duration": 163,
    "start_time": "2023-06-11T15:32:26.262Z"
   },
   {
    "duration": 3,
    "start_time": "2023-06-11T15:32:26.426Z"
   },
   {
    "duration": 29,
    "start_time": "2023-06-11T15:32:26.430Z"
   },
   {
    "duration": 138,
    "start_time": "2023-06-11T15:32:26.461Z"
   },
   {
    "duration": 7,
    "start_time": "2023-06-11T15:32:26.601Z"
   },
   {
    "duration": 46,
    "start_time": "2023-06-11T15:32:26.610Z"
   },
   {
    "duration": 227,
    "start_time": "2023-06-11T15:32:26.658Z"
   },
   {
    "duration": 4,
    "start_time": "2023-06-11T15:32:26.888Z"
   },
   {
    "duration": 136,
    "start_time": "2023-06-11T15:32:26.894Z"
   },
   {
    "duration": 0,
    "start_time": "2023-06-11T15:32:27.032Z"
   },
   {
    "duration": 0,
    "start_time": "2023-06-11T15:32:27.033Z"
   },
   {
    "duration": 0,
    "start_time": "2023-06-11T15:32:27.034Z"
   },
   {
    "duration": 0,
    "start_time": "2023-06-11T15:32:27.046Z"
   },
   {
    "duration": 0,
    "start_time": "2023-06-11T15:32:27.047Z"
   },
   {
    "duration": 0,
    "start_time": "2023-06-11T15:32:27.048Z"
   },
   {
    "duration": 0,
    "start_time": "2023-06-11T15:32:27.048Z"
   },
   {
    "duration": 0,
    "start_time": "2023-06-11T15:32:27.049Z"
   },
   {
    "duration": 0,
    "start_time": "2023-06-11T15:32:27.050Z"
   },
   {
    "duration": 15,
    "start_time": "2023-06-11T15:32:44.385Z"
   },
   {
    "duration": 1360,
    "start_time": "2023-06-11T15:33:04.433Z"
   },
   {
    "duration": 3,
    "start_time": "2023-06-11T15:33:05.795Z"
   },
   {
    "duration": 253,
    "start_time": "2023-06-11T15:33:05.800Z"
   },
   {
    "duration": 12,
    "start_time": "2023-06-11T15:33:06.054Z"
   },
   {
    "duration": 190,
    "start_time": "2023-06-11T15:33:06.068Z"
   },
   {
    "duration": 114,
    "start_time": "2023-06-11T15:33:06.262Z"
   },
   {
    "duration": 53,
    "start_time": "2023-06-11T15:33:06.380Z"
   },
   {
    "duration": 723,
    "start_time": "2023-06-11T15:33:06.435Z"
   },
   {
    "duration": 11,
    "start_time": "2023-06-11T15:33:07.167Z"
   },
   {
    "duration": 105,
    "start_time": "2023-06-11T15:33:07.188Z"
   },
   {
    "duration": 10,
    "start_time": "2023-06-11T15:33:07.295Z"
   },
   {
    "duration": 67,
    "start_time": "2023-06-11T15:33:07.307Z"
   },
   {
    "duration": 77,
    "start_time": "2023-06-11T15:33:07.376Z"
   },
   {
    "duration": 21,
    "start_time": "2023-06-11T15:33:07.456Z"
   },
   {
    "duration": 48,
    "start_time": "2023-06-11T15:33:07.479Z"
   },
   {
    "duration": 369,
    "start_time": "2023-06-11T15:33:07.529Z"
   },
   {
    "duration": 290,
    "start_time": "2023-06-11T15:33:07.900Z"
   },
   {
    "duration": 27,
    "start_time": "2023-06-11T15:33:08.192Z"
   },
   {
    "duration": 195,
    "start_time": "2023-06-11T15:33:08.221Z"
   },
   {
    "duration": 77,
    "start_time": "2023-06-11T15:33:08.418Z"
   },
   {
    "duration": 88,
    "start_time": "2023-06-11T15:33:08.497Z"
   },
   {
    "duration": 6,
    "start_time": "2023-06-11T15:33:08.587Z"
   },
   {
    "duration": 96,
    "start_time": "2023-06-11T15:33:08.595Z"
   },
   {
    "duration": 145,
    "start_time": "2023-06-11T15:33:08.693Z"
   },
   {
    "duration": 20,
    "start_time": "2023-06-11T15:33:08.840Z"
   },
   {
    "duration": 45,
    "start_time": "2023-06-11T15:33:08.867Z"
   },
   {
    "duration": 113,
    "start_time": "2023-06-11T15:33:08.914Z"
   },
   {
    "duration": 9,
    "start_time": "2023-06-11T15:33:09.028Z"
   },
   {
    "duration": 47,
    "start_time": "2023-06-11T15:33:09.050Z"
   },
   {
    "duration": 213,
    "start_time": "2023-06-11T15:33:09.098Z"
   },
   {
    "duration": 4,
    "start_time": "2023-06-11T15:33:09.313Z"
   },
   {
    "duration": 153,
    "start_time": "2023-06-11T15:33:09.319Z"
   },
   {
    "duration": 0,
    "start_time": "2023-06-11T15:33:09.475Z"
   },
   {
    "duration": 0,
    "start_time": "2023-06-11T15:33:09.476Z"
   },
   {
    "duration": 0,
    "start_time": "2023-06-11T15:33:09.477Z"
   },
   {
    "duration": 0,
    "start_time": "2023-06-11T15:33:09.478Z"
   },
   {
    "duration": 0,
    "start_time": "2023-06-11T15:33:09.479Z"
   },
   {
    "duration": 0,
    "start_time": "2023-06-11T15:33:09.480Z"
   },
   {
    "duration": 0,
    "start_time": "2023-06-11T15:33:09.481Z"
   },
   {
    "duration": 0,
    "start_time": "2023-06-11T15:33:09.482Z"
   },
   {
    "duration": 0,
    "start_time": "2023-06-11T15:33:09.483Z"
   },
   {
    "duration": 13,
    "start_time": "2023-06-11T15:33:24.492Z"
   },
   {
    "duration": 1260,
    "start_time": "2023-06-11T15:33:37.078Z"
   },
   {
    "duration": 11,
    "start_time": "2023-06-11T15:33:38.341Z"
   },
   {
    "duration": 303,
    "start_time": "2023-06-11T15:33:38.359Z"
   },
   {
    "duration": 6,
    "start_time": "2023-06-11T15:33:38.665Z"
   },
   {
    "duration": 164,
    "start_time": "2023-06-11T15:33:38.672Z"
   },
   {
    "duration": 123,
    "start_time": "2023-06-11T15:33:38.838Z"
   },
   {
    "duration": 51,
    "start_time": "2023-06-11T15:33:38.963Z"
   },
   {
    "duration": 625,
    "start_time": "2023-06-11T15:33:39.016Z"
   },
   {
    "duration": 14,
    "start_time": "2023-06-11T15:33:39.645Z"
   },
   {
    "duration": 94,
    "start_time": "2023-06-11T15:33:39.666Z"
   },
   {
    "duration": 18,
    "start_time": "2023-06-11T15:33:39.762Z"
   },
   {
    "duration": 20,
    "start_time": "2023-06-11T15:33:39.782Z"
   },
   {
    "duration": 47,
    "start_time": "2023-06-11T15:33:39.806Z"
   },
   {
    "duration": 5,
    "start_time": "2023-06-11T15:33:39.855Z"
   },
   {
    "duration": 52,
    "start_time": "2023-06-11T15:33:39.868Z"
   },
   {
    "duration": 307,
    "start_time": "2023-06-11T15:33:39.922Z"
   },
   {
    "duration": 281,
    "start_time": "2023-06-11T15:33:40.230Z"
   },
   {
    "duration": 19,
    "start_time": "2023-06-11T15:33:40.513Z"
   },
   {
    "duration": 190,
    "start_time": "2023-06-11T15:33:40.534Z"
   },
   {
    "duration": 75,
    "start_time": "2023-06-11T15:33:40.725Z"
   },
   {
    "duration": 86,
    "start_time": "2023-06-11T15:33:40.802Z"
   },
   {
    "duration": 5,
    "start_time": "2023-06-11T15:33:40.890Z"
   },
   {
    "duration": 107,
    "start_time": "2023-06-11T15:33:40.896Z"
   },
   {
    "duration": 174,
    "start_time": "2023-06-11T15:33:41.005Z"
   },
   {
    "duration": 3,
    "start_time": "2023-06-11T15:33:41.184Z"
   },
   {
    "duration": 28,
    "start_time": "2023-06-11T15:33:41.189Z"
   },
   {
    "duration": 128,
    "start_time": "2023-06-11T15:33:41.219Z"
   },
   {
    "duration": 15,
    "start_time": "2023-06-11T15:33:41.348Z"
   },
   {
    "duration": 55,
    "start_time": "2023-06-11T15:33:41.365Z"
   },
   {
    "duration": 210,
    "start_time": "2023-06-11T15:33:41.423Z"
   },
   {
    "duration": 4,
    "start_time": "2023-06-11T15:33:41.634Z"
   },
   {
    "duration": 167,
    "start_time": "2023-06-11T15:33:41.639Z"
   },
   {
    "duration": 0,
    "start_time": "2023-06-11T15:33:41.808Z"
   },
   {
    "duration": 0,
    "start_time": "2023-06-11T15:33:41.810Z"
   },
   {
    "duration": 0,
    "start_time": "2023-06-11T15:33:41.812Z"
   },
   {
    "duration": 0,
    "start_time": "2023-06-11T15:33:41.813Z"
   },
   {
    "duration": 0,
    "start_time": "2023-06-11T15:33:41.815Z"
   },
   {
    "duration": 0,
    "start_time": "2023-06-11T15:33:41.816Z"
   },
   {
    "duration": 0,
    "start_time": "2023-06-11T15:33:41.818Z"
   },
   {
    "duration": 0,
    "start_time": "2023-06-11T15:33:41.819Z"
   },
   {
    "duration": 0,
    "start_time": "2023-06-11T15:33:41.820Z"
   },
   {
    "duration": 16,
    "start_time": "2023-06-11T15:33:51.669Z"
   },
   {
    "duration": 13,
    "start_time": "2023-06-11T15:33:56.871Z"
   },
   {
    "duration": 4,
    "start_time": "2023-06-11T15:34:04.821Z"
   },
   {
    "duration": 12,
    "start_time": "2023-06-11T15:34:06.992Z"
   },
   {
    "duration": 210,
    "start_time": "2023-06-11T15:34:08.172Z"
   },
   {
    "duration": 1373,
    "start_time": "2023-06-11T15:34:19.361Z"
   },
   {
    "duration": 2,
    "start_time": "2023-06-11T15:34:20.737Z"
   },
   {
    "duration": 263,
    "start_time": "2023-06-11T15:34:20.741Z"
   },
   {
    "duration": 3,
    "start_time": "2023-06-11T15:34:21.006Z"
   },
   {
    "duration": 202,
    "start_time": "2023-06-11T15:34:21.012Z"
   },
   {
    "duration": 104,
    "start_time": "2023-06-11T15:34:21.215Z"
   },
   {
    "duration": 59,
    "start_time": "2023-06-11T15:34:21.325Z"
   },
   {
    "duration": 643,
    "start_time": "2023-06-11T15:34:21.386Z"
   },
   {
    "duration": 5,
    "start_time": "2023-06-11T15:34:22.031Z"
   },
   {
    "duration": 71,
    "start_time": "2023-06-11T15:34:22.050Z"
   },
   {
    "duration": 25,
    "start_time": "2023-06-11T15:34:22.123Z"
   },
   {
    "duration": 37,
    "start_time": "2023-06-11T15:34:22.151Z"
   },
   {
    "duration": 48,
    "start_time": "2023-06-11T15:34:22.190Z"
   },
   {
    "duration": 21,
    "start_time": "2023-06-11T15:34:22.241Z"
   },
   {
    "duration": 37,
    "start_time": "2023-06-11T15:34:22.273Z"
   },
   {
    "duration": 462,
    "start_time": "2023-06-11T15:34:22.314Z"
   },
   {
    "duration": 300,
    "start_time": "2023-06-11T15:34:22.778Z"
   },
   {
    "duration": 32,
    "start_time": "2023-06-11T15:34:23.079Z"
   },
   {
    "duration": 179,
    "start_time": "2023-06-11T15:34:23.113Z"
   },
   {
    "duration": 82,
    "start_time": "2023-06-11T15:34:23.294Z"
   },
   {
    "duration": 81,
    "start_time": "2023-06-11T15:34:23.379Z"
   },
   {
    "duration": 7,
    "start_time": "2023-06-11T15:34:23.461Z"
   },
   {
    "duration": 85,
    "start_time": "2023-06-11T15:34:23.469Z"
   },
   {
    "duration": 163,
    "start_time": "2023-06-11T15:34:23.556Z"
   },
   {
    "duration": 2,
    "start_time": "2023-06-11T15:34:23.721Z"
   },
   {
    "duration": 42,
    "start_time": "2023-06-11T15:34:23.725Z"
   },
   {
    "duration": 108,
    "start_time": "2023-06-11T15:34:23.770Z"
   },
   {
    "duration": 9,
    "start_time": "2023-06-11T15:34:23.880Z"
   },
   {
    "duration": 48,
    "start_time": "2023-06-11T15:34:23.890Z"
   },
   {
    "duration": 224,
    "start_time": "2023-06-11T15:34:23.940Z"
   },
   {
    "duration": 3,
    "start_time": "2023-06-11T15:34:24.166Z"
   },
   {
    "duration": 122,
    "start_time": "2023-06-11T15:34:24.171Z"
   },
   {
    "duration": 0,
    "start_time": "2023-06-11T15:34:24.295Z"
   },
   {
    "duration": 0,
    "start_time": "2023-06-11T15:34:24.296Z"
   },
   {
    "duration": 0,
    "start_time": "2023-06-11T15:34:24.297Z"
   },
   {
    "duration": 0,
    "start_time": "2023-06-11T15:34:24.299Z"
   },
   {
    "duration": 0,
    "start_time": "2023-06-11T15:34:24.300Z"
   },
   {
    "duration": 0,
    "start_time": "2023-06-11T15:34:24.302Z"
   },
   {
    "duration": 0,
    "start_time": "2023-06-11T15:34:24.304Z"
   },
   {
    "duration": 0,
    "start_time": "2023-06-11T15:34:24.306Z"
   },
   {
    "duration": 0,
    "start_time": "2023-06-11T15:34:24.307Z"
   },
   {
    "duration": 14,
    "start_time": "2023-06-11T15:34:42.072Z"
   },
   {
    "duration": 21,
    "start_time": "2023-06-11T15:34:55.653Z"
   },
   {
    "duration": 7,
    "start_time": "2023-06-11T15:35:05.827Z"
   },
   {
    "duration": 1263,
    "start_time": "2023-06-11T15:35:10.774Z"
   },
   {
    "duration": 3,
    "start_time": "2023-06-11T15:35:12.039Z"
   },
   {
    "duration": 250,
    "start_time": "2023-06-11T15:35:12.051Z"
   },
   {
    "duration": 4,
    "start_time": "2023-06-11T15:35:12.303Z"
   },
   {
    "duration": 214,
    "start_time": "2023-06-11T15:35:12.310Z"
   },
   {
    "duration": 121,
    "start_time": "2023-06-11T15:35:12.526Z"
   },
   {
    "duration": 56,
    "start_time": "2023-06-11T15:35:12.651Z"
   },
   {
    "duration": 697,
    "start_time": "2023-06-11T15:35:12.709Z"
   },
   {
    "duration": 4,
    "start_time": "2023-06-11T15:35:13.408Z"
   },
   {
    "duration": 87,
    "start_time": "2023-06-11T15:35:13.413Z"
   },
   {
    "duration": 7,
    "start_time": "2023-06-11T15:35:13.502Z"
   },
   {
    "duration": 23,
    "start_time": "2023-06-11T15:35:13.511Z"
   },
   {
    "duration": 63,
    "start_time": "2023-06-11T15:35:13.536Z"
   },
   {
    "duration": 4,
    "start_time": "2023-06-11T15:35:13.604Z"
   },
   {
    "duration": 35,
    "start_time": "2023-06-11T15:35:13.610Z"
   },
   {
    "duration": 321,
    "start_time": "2023-06-11T15:35:13.655Z"
   },
   {
    "duration": 276,
    "start_time": "2023-06-11T15:35:13.979Z"
   },
   {
    "duration": 26,
    "start_time": "2023-06-11T15:35:14.256Z"
   },
   {
    "duration": 173,
    "start_time": "2023-06-11T15:35:14.283Z"
   },
   {
    "duration": 63,
    "start_time": "2023-06-11T15:35:14.460Z"
   },
   {
    "duration": 72,
    "start_time": "2023-06-11T15:35:14.525Z"
   },
   {
    "duration": 8,
    "start_time": "2023-06-11T15:35:14.599Z"
   },
   {
    "duration": 7,
    "start_time": "2023-06-11T15:35:14.609Z"
   },
   {
    "duration": 93,
    "start_time": "2023-06-11T15:35:14.617Z"
   },
   {
    "duration": 160,
    "start_time": "2023-06-11T15:35:14.712Z"
   },
   {
    "duration": 3,
    "start_time": "2023-06-11T15:35:14.875Z"
   },
   {
    "duration": 25,
    "start_time": "2023-06-11T15:35:14.880Z"
   },
   {
    "duration": 113,
    "start_time": "2023-06-11T15:35:14.907Z"
   },
   {
    "duration": 9,
    "start_time": "2023-06-11T15:35:15.021Z"
   },
   {
    "duration": 81,
    "start_time": "2023-06-11T15:35:15.032Z"
   },
   {
    "duration": 244,
    "start_time": "2023-06-11T15:35:15.115Z"
   },
   {
    "duration": 3,
    "start_time": "2023-06-11T15:35:15.367Z"
   },
   {
    "duration": 130,
    "start_time": "2023-06-11T15:35:15.372Z"
   },
   {
    "duration": 0,
    "start_time": "2023-06-11T15:35:15.504Z"
   },
   {
    "duration": 0,
    "start_time": "2023-06-11T15:35:15.506Z"
   },
   {
    "duration": 0,
    "start_time": "2023-06-11T15:35:15.507Z"
   },
   {
    "duration": 0,
    "start_time": "2023-06-11T15:35:15.507Z"
   },
   {
    "duration": 0,
    "start_time": "2023-06-11T15:35:15.508Z"
   },
   {
    "duration": 0,
    "start_time": "2023-06-11T15:35:15.510Z"
   },
   {
    "duration": 0,
    "start_time": "2023-06-11T15:35:15.511Z"
   },
   {
    "duration": 0,
    "start_time": "2023-06-11T15:35:15.512Z"
   },
   {
    "duration": 0,
    "start_time": "2023-06-11T15:35:15.513Z"
   },
   {
    "duration": 222,
    "start_time": "2023-06-11T15:35:25.538Z"
   },
   {
    "duration": 14,
    "start_time": "2023-06-11T15:36:05.373Z"
   },
   {
    "duration": 1309,
    "start_time": "2023-06-11T15:36:11.899Z"
   },
   {
    "duration": 3,
    "start_time": "2023-06-11T15:36:13.210Z"
   },
   {
    "duration": 267,
    "start_time": "2023-06-11T15:36:13.215Z"
   },
   {
    "duration": 3,
    "start_time": "2023-06-11T15:36:13.485Z"
   },
   {
    "duration": 171,
    "start_time": "2023-06-11T15:36:13.490Z"
   },
   {
    "duration": 105,
    "start_time": "2023-06-11T15:36:13.667Z"
   },
   {
    "duration": 46,
    "start_time": "2023-06-11T15:36:13.775Z"
   },
   {
    "duration": 633,
    "start_time": "2023-06-11T15:36:13.823Z"
   },
   {
    "duration": 4,
    "start_time": "2023-06-11T15:36:14.458Z"
   },
   {
    "duration": 83,
    "start_time": "2023-06-11T15:36:14.465Z"
   },
   {
    "duration": 17,
    "start_time": "2023-06-11T15:36:14.555Z"
   },
   {
    "duration": 11,
    "start_time": "2023-06-11T15:36:14.574Z"
   },
   {
    "duration": 39,
    "start_time": "2023-06-11T15:36:14.586Z"
   },
   {
    "duration": 4,
    "start_time": "2023-06-11T15:36:14.627Z"
   },
   {
    "duration": 22,
    "start_time": "2023-06-11T15:36:14.632Z"
   },
   {
    "duration": 322,
    "start_time": "2023-06-11T15:36:14.656Z"
   },
   {
    "duration": 250,
    "start_time": "2023-06-11T15:36:14.980Z"
   },
   {
    "duration": 28,
    "start_time": "2023-06-11T15:36:15.232Z"
   },
   {
    "duration": 160,
    "start_time": "2023-06-11T15:36:15.262Z"
   },
   {
    "duration": 72,
    "start_time": "2023-06-11T15:36:15.424Z"
   },
   {
    "duration": 108,
    "start_time": "2023-06-11T15:36:15.498Z"
   },
   {
    "duration": 9,
    "start_time": "2023-06-11T15:36:15.608Z"
   },
   {
    "duration": 62,
    "start_time": "2023-06-11T15:36:15.619Z"
   },
   {
    "duration": 97,
    "start_time": "2023-06-11T15:36:15.682Z"
   },
   {
    "duration": 153,
    "start_time": "2023-06-11T15:36:15.781Z"
   },
   {
    "duration": 3,
    "start_time": "2023-06-11T15:36:15.935Z"
   },
   {
    "duration": 64,
    "start_time": "2023-06-11T15:36:15.949Z"
   },
   {
    "duration": 101,
    "start_time": "2023-06-11T15:36:16.016Z"
   },
   {
    "duration": 9,
    "start_time": "2023-06-11T15:36:16.118Z"
   },
   {
    "duration": 91,
    "start_time": "2023-06-11T15:36:16.128Z"
   },
   {
    "duration": 142,
    "start_time": "2023-06-11T15:36:16.221Z"
   },
   {
    "duration": 0,
    "start_time": "2023-06-11T15:36:16.372Z"
   },
   {
    "duration": 0,
    "start_time": "2023-06-11T15:36:16.375Z"
   },
   {
    "duration": 0,
    "start_time": "2023-06-11T15:36:16.376Z"
   },
   {
    "duration": 0,
    "start_time": "2023-06-11T15:36:16.377Z"
   },
   {
    "duration": 0,
    "start_time": "2023-06-11T15:36:16.379Z"
   },
   {
    "duration": 0,
    "start_time": "2023-06-11T15:36:16.380Z"
   },
   {
    "duration": 0,
    "start_time": "2023-06-11T15:36:16.381Z"
   },
   {
    "duration": 0,
    "start_time": "2023-06-11T15:36:16.383Z"
   },
   {
    "duration": 0,
    "start_time": "2023-06-11T15:36:16.384Z"
   },
   {
    "duration": 0,
    "start_time": "2023-06-11T15:36:16.385Z"
   },
   {
    "duration": 0,
    "start_time": "2023-06-11T15:36:16.387Z"
   },
   {
    "duration": 69,
    "start_time": "2023-06-11T15:37:05.026Z"
   },
   {
    "duration": 73,
    "start_time": "2023-06-11T15:37:46.320Z"
   },
   {
    "duration": 74,
    "start_time": "2023-06-11T15:38:01.462Z"
   },
   {
    "duration": 76,
    "start_time": "2023-06-11T15:43:01.612Z"
   },
   {
    "duration": 70,
    "start_time": "2023-06-11T15:48:52.103Z"
   },
   {
    "duration": 70,
    "start_time": "2023-06-11T15:48:59.003Z"
   },
   {
    "duration": 10,
    "start_time": "2023-06-11T15:59:10.204Z"
   },
   {
    "duration": 12,
    "start_time": "2023-06-11T15:59:58.987Z"
   },
   {
    "duration": 13,
    "start_time": "2023-06-11T16:00:19.163Z"
   },
   {
    "duration": 68,
    "start_time": "2023-06-11T16:00:26.466Z"
   },
   {
    "duration": 10,
    "start_time": "2023-06-11T16:00:29.009Z"
   },
   {
    "duration": 11,
    "start_time": "2023-06-11T16:00:50.785Z"
   },
   {
    "duration": 11,
    "start_time": "2023-06-11T16:00:56.012Z"
   },
   {
    "duration": 133,
    "start_time": "2023-06-11T16:03:09.164Z"
   },
   {
    "duration": 137,
    "start_time": "2023-06-11T16:03:16.716Z"
   },
   {
    "duration": 123,
    "start_time": "2023-06-11T16:03:21.190Z"
   },
   {
    "duration": 135,
    "start_time": "2023-06-11T16:03:46.181Z"
   },
   {
    "duration": 230,
    "start_time": "2023-06-11T16:04:02.555Z"
   },
   {
    "duration": 147,
    "start_time": "2023-06-11T16:06:00.710Z"
   },
   {
    "duration": 1450,
    "start_time": "2023-06-11T17:33:38.539Z"
   },
   {
    "duration": 3,
    "start_time": "2023-06-11T17:33:39.997Z"
   },
   {
    "duration": 307,
    "start_time": "2023-06-11T17:33:40.002Z"
   },
   {
    "duration": 3,
    "start_time": "2023-06-11T17:33:40.311Z"
   },
   {
    "duration": 205,
    "start_time": "2023-06-11T17:33:40.317Z"
   },
   {
    "duration": 112,
    "start_time": "2023-06-11T17:33:40.524Z"
   },
   {
    "duration": 65,
    "start_time": "2023-06-11T17:33:40.639Z"
   },
   {
    "duration": 717,
    "start_time": "2023-06-11T17:33:40.706Z"
   },
   {
    "duration": 4,
    "start_time": "2023-06-11T17:33:41.424Z"
   },
   {
    "duration": 93,
    "start_time": "2023-06-11T17:33:41.430Z"
   },
   {
    "duration": 9,
    "start_time": "2023-06-11T17:33:41.525Z"
   },
   {
    "duration": 46,
    "start_time": "2023-06-11T17:33:41.547Z"
   },
   {
    "duration": 62,
    "start_time": "2023-06-11T17:33:41.595Z"
   },
   {
    "duration": 16,
    "start_time": "2023-06-11T17:33:41.662Z"
   },
   {
    "duration": 28,
    "start_time": "2023-06-11T17:33:41.681Z"
   },
   {
    "duration": 339,
    "start_time": "2023-06-11T17:33:41.711Z"
   },
   {
    "duration": 347,
    "start_time": "2023-06-11T17:33:42.052Z"
   },
   {
    "duration": 50,
    "start_time": "2023-06-11T17:33:42.401Z"
   },
   {
    "duration": 216,
    "start_time": "2023-06-11T17:33:42.453Z"
   },
   {
    "duration": 98,
    "start_time": "2023-06-11T17:33:42.670Z"
   },
   {
    "duration": 124,
    "start_time": "2023-06-11T17:33:42.771Z"
   },
   {
    "duration": 173,
    "start_time": "2023-06-11T17:33:42.902Z"
   },
   {
    "duration": 20,
    "start_time": "2023-06-11T17:33:43.077Z"
   },
   {
    "duration": 208,
    "start_time": "2023-06-11T17:33:43.099Z"
   },
   {
    "duration": 10,
    "start_time": "2023-06-11T17:33:43.309Z"
   },
   {
    "duration": 15,
    "start_time": "2023-06-11T17:33:43.320Z"
   },
   {
    "duration": 158,
    "start_time": "2023-06-11T17:33:43.337Z"
   },
   {
    "duration": 198,
    "start_time": "2023-06-11T17:33:43.497Z"
   },
   {
    "duration": 3,
    "start_time": "2023-06-11T17:33:43.697Z"
   },
   {
    "duration": 39,
    "start_time": "2023-06-11T17:33:43.702Z"
   },
   {
    "duration": 145,
    "start_time": "2023-06-11T17:33:43.743Z"
   },
   {
    "duration": 10,
    "start_time": "2023-06-11T17:33:43.890Z"
   },
   {
    "duration": 59,
    "start_time": "2023-06-11T17:33:43.902Z"
   },
   {
    "duration": 146,
    "start_time": "2023-06-11T17:33:43.963Z"
   },
   {
    "duration": 0,
    "start_time": "2023-06-11T17:33:44.111Z"
   },
   {
    "duration": 0,
    "start_time": "2023-06-11T17:33:44.112Z"
   },
   {
    "duration": 0,
    "start_time": "2023-06-11T17:33:44.113Z"
   },
   {
    "duration": 0,
    "start_time": "2023-06-11T17:33:44.115Z"
   },
   {
    "duration": 0,
    "start_time": "2023-06-11T17:33:44.116Z"
   },
   {
    "duration": 0,
    "start_time": "2023-06-11T17:33:44.117Z"
   },
   {
    "duration": 0,
    "start_time": "2023-06-11T17:33:44.119Z"
   },
   {
    "duration": 0,
    "start_time": "2023-06-11T17:33:44.121Z"
   },
   {
    "duration": 0,
    "start_time": "2023-06-11T17:33:44.122Z"
   },
   {
    "duration": 0,
    "start_time": "2023-06-11T17:33:44.154Z"
   },
   {
    "duration": 0,
    "start_time": "2023-06-11T17:33:44.159Z"
   },
   {
    "duration": 134,
    "start_time": "2023-06-11T17:34:00.389Z"
   },
   {
    "duration": 166,
    "start_time": "2023-06-11T17:34:18.538Z"
   },
   {
    "duration": 230,
    "start_time": "2023-06-11T17:34:21.090Z"
   },
   {
    "duration": 135,
    "start_time": "2023-06-11T17:34:56.339Z"
   },
   {
    "duration": 152,
    "start_time": "2023-06-11T17:34:59.843Z"
   },
   {
    "duration": 148,
    "start_time": "2023-06-11T17:37:25.985Z"
   },
   {
    "duration": 201,
    "start_time": "2023-06-11T17:37:49.376Z"
   },
   {
    "duration": 189,
    "start_time": "2023-06-11T17:37:52.527Z"
   },
   {
    "duration": 200,
    "start_time": "2023-06-11T17:38:12.522Z"
   },
   {
    "duration": 176,
    "start_time": "2023-06-11T17:38:15.075Z"
   },
   {
    "duration": 172,
    "start_time": "2023-06-11T17:40:21.496Z"
   },
   {
    "duration": 166,
    "start_time": "2023-06-11T17:40:26.163Z"
   },
   {
    "duration": 177,
    "start_time": "2023-06-11T17:40:29.925Z"
   },
   {
    "duration": 132,
    "start_time": "2023-06-11T17:41:01.205Z"
   },
   {
    "duration": 167,
    "start_time": "2023-06-11T17:41:10.164Z"
   },
   {
    "duration": 254,
    "start_time": "2023-06-11T17:43:57.262Z"
   },
   {
    "duration": 205,
    "start_time": "2023-06-11T17:47:16.760Z"
   },
   {
    "duration": 145,
    "start_time": "2023-06-11T17:52:06.064Z"
   },
   {
    "duration": 153,
    "start_time": "2023-06-11T17:52:17.616Z"
   },
   {
    "duration": 2,
    "start_time": "2023-06-11T18:06:12.919Z"
   },
   {
    "duration": 9,
    "start_time": "2023-06-11T18:09:27.205Z"
   },
   {
    "duration": 44,
    "start_time": "2023-06-11T18:10:36.240Z"
   },
   {
    "duration": 25,
    "start_time": "2023-06-11T18:10:39.904Z"
   },
   {
    "duration": 39,
    "start_time": "2023-06-11T18:11:01.501Z"
   },
   {
    "duration": 70,
    "start_time": "2023-06-11T18:11:38.385Z"
   },
   {
    "duration": 59,
    "start_time": "2023-06-11T18:11:43.783Z"
   },
   {
    "duration": 63,
    "start_time": "2023-06-11T18:11:55.645Z"
   },
   {
    "duration": 5,
    "start_time": "2023-06-11T18:12:06.570Z"
   },
   {
    "duration": 156,
    "start_time": "2023-06-11T18:12:14.217Z"
   },
   {
    "duration": 9,
    "start_time": "2023-06-11T18:14:59.410Z"
   },
   {
    "duration": 36,
    "start_time": "2023-06-11T18:15:51.777Z"
   },
   {
    "duration": 10,
    "start_time": "2023-06-11T18:16:00.773Z"
   },
   {
    "duration": 9,
    "start_time": "2023-06-11T18:16:03.578Z"
   },
   {
    "duration": 115,
    "start_time": "2023-06-11T18:26:23.017Z"
   },
   {
    "duration": 99,
    "start_time": "2023-06-11T18:27:16.313Z"
   },
   {
    "duration": 104,
    "start_time": "2023-06-11T18:27:21.211Z"
   },
   {
    "duration": 121,
    "start_time": "2023-06-11T18:27:53.740Z"
   },
   {
    "duration": 99,
    "start_time": "2023-06-11T18:28:04.168Z"
   },
   {
    "duration": 109,
    "start_time": "2023-06-11T18:28:12.894Z"
   },
   {
    "duration": 1618,
    "start_time": "2023-06-11T18:29:33.296Z"
   },
   {
    "duration": 110,
    "start_time": "2023-06-11T18:29:36.272Z"
   },
   {
    "duration": 105,
    "start_time": "2023-06-11T18:32:23.947Z"
   },
   {
    "duration": 135,
    "start_time": "2023-06-11T18:32:49.188Z"
   },
   {
    "duration": 117,
    "start_time": "2023-06-11T18:33:01.107Z"
   },
   {
    "duration": 190,
    "start_time": "2023-06-11T18:33:12.039Z"
   },
   {
    "duration": 95,
    "start_time": "2023-06-11T18:33:18.107Z"
   },
   {
    "duration": 100,
    "start_time": "2023-06-11T18:33:26.285Z"
   },
   {
    "duration": 101,
    "start_time": "2023-06-11T18:34:11.974Z"
   },
   {
    "duration": 117,
    "start_time": "2023-06-11T18:34:16.675Z"
   },
   {
    "duration": 100,
    "start_time": "2023-06-11T18:34:35.181Z"
   },
   {
    "duration": 111,
    "start_time": "2023-06-11T18:34:57.534Z"
   },
   {
    "duration": 115,
    "start_time": "2023-06-11T18:35:22.705Z"
   },
   {
    "duration": 63,
    "start_time": "2023-06-12T10:12:29.085Z"
   },
   {
    "duration": 1517,
    "start_time": "2023-06-12T10:12:33.947Z"
   },
   {
    "duration": 3,
    "start_time": "2023-06-12T10:12:35.466Z"
   },
   {
    "duration": 2166,
    "start_time": "2023-06-12T10:12:35.471Z"
   },
   {
    "duration": 4,
    "start_time": "2023-06-12T10:12:37.641Z"
   },
   {
    "duration": 202,
    "start_time": "2023-06-12T10:12:37.648Z"
   },
   {
    "duration": 103,
    "start_time": "2023-06-12T10:12:37.856Z"
   },
   {
    "duration": 42,
    "start_time": "2023-06-12T10:12:37.961Z"
   },
   {
    "duration": 653,
    "start_time": "2023-06-12T10:12:38.005Z"
   },
   {
    "duration": 4,
    "start_time": "2023-06-12T10:12:38.660Z"
   },
   {
    "duration": 86,
    "start_time": "2023-06-12T10:12:38.666Z"
   },
   {
    "duration": 9,
    "start_time": "2023-06-12T10:12:38.756Z"
   },
   {
    "duration": 8,
    "start_time": "2023-06-12T10:12:38.767Z"
   },
   {
    "duration": 61,
    "start_time": "2023-06-12T10:12:38.777Z"
   },
   {
    "duration": 9,
    "start_time": "2023-06-12T10:12:38.842Z"
   },
   {
    "duration": 14,
    "start_time": "2023-06-12T10:12:38.855Z"
   },
   {
    "duration": 323,
    "start_time": "2023-06-12T10:12:38.871Z"
   },
   {
    "duration": 277,
    "start_time": "2023-06-12T10:12:39.196Z"
   },
   {
    "duration": 22,
    "start_time": "2023-06-12T10:12:39.475Z"
   },
   {
    "duration": 258,
    "start_time": "2023-06-12T10:12:39.499Z"
   },
   {
    "duration": 169,
    "start_time": "2023-06-12T10:12:39.759Z"
   },
   {
    "duration": 214,
    "start_time": "2023-06-12T10:12:39.930Z"
   },
   {
    "duration": 392,
    "start_time": "2023-06-12T10:12:40.147Z"
   },
   {
    "duration": 16,
    "start_time": "2023-06-12T10:12:40.541Z"
   },
   {
    "duration": 21,
    "start_time": "2023-06-12T10:12:40.559Z"
   },
   {
    "duration": 45,
    "start_time": "2023-06-12T10:12:40.631Z"
   },
   {
    "duration": 62,
    "start_time": "2023-06-12T10:12:40.677Z"
   },
   {
    "duration": 87,
    "start_time": "2023-06-12T10:12:40.744Z"
   },
   {
    "duration": 0,
    "start_time": "2023-06-12T10:12:40.839Z"
   },
   {
    "duration": 0,
    "start_time": "2023-06-12T10:12:40.840Z"
   },
   {
    "duration": 0,
    "start_time": "2023-06-12T10:12:40.846Z"
   },
   {
    "duration": 0,
    "start_time": "2023-06-12T10:12:40.847Z"
   },
   {
    "duration": 0,
    "start_time": "2023-06-12T10:12:40.850Z"
   },
   {
    "duration": 0,
    "start_time": "2023-06-12T10:12:40.851Z"
   },
   {
    "duration": 0,
    "start_time": "2023-06-12T10:12:40.851Z"
   },
   {
    "duration": 0,
    "start_time": "2023-06-12T10:12:40.852Z"
   },
   {
    "duration": 0,
    "start_time": "2023-06-12T10:12:40.858Z"
   },
   {
    "duration": 0,
    "start_time": "2023-06-12T10:12:40.858Z"
   },
   {
    "duration": 0,
    "start_time": "2023-06-12T10:12:40.861Z"
   },
   {
    "duration": 0,
    "start_time": "2023-06-12T10:12:40.863Z"
   },
   {
    "duration": 0,
    "start_time": "2023-06-12T10:12:40.866Z"
   },
   {
    "duration": 1,
    "start_time": "2023-06-12T10:12:40.866Z"
   },
   {
    "duration": 0,
    "start_time": "2023-06-12T10:12:40.869Z"
   },
   {
    "duration": 0,
    "start_time": "2023-06-12T10:12:40.870Z"
   },
   {
    "duration": 0,
    "start_time": "2023-06-12T10:12:40.872Z"
   },
   {
    "duration": 0,
    "start_time": "2023-06-12T10:12:40.873Z"
   },
   {
    "duration": 0,
    "start_time": "2023-06-12T10:12:40.874Z"
   },
   {
    "duration": 0,
    "start_time": "2023-06-12T10:12:40.876Z"
   },
   {
    "duration": 0,
    "start_time": "2023-06-12T10:12:40.877Z"
   },
   {
    "duration": 129,
    "start_time": "2023-06-12T10:13:35.302Z"
   },
   {
    "duration": 128,
    "start_time": "2023-06-12T10:13:42.094Z"
   },
   {
    "duration": 96,
    "start_time": "2023-06-12T10:14:40.473Z"
   },
   {
    "duration": 150,
    "start_time": "2023-06-12T10:14:42.876Z"
   },
   {
    "duration": 133,
    "start_time": "2023-06-12T10:14:50.972Z"
   },
   {
    "duration": 1648,
    "start_time": "2023-06-12T10:39:39.641Z"
   },
   {
    "duration": 4,
    "start_time": "2023-06-12T10:39:41.291Z"
   },
   {
    "duration": 308,
    "start_time": "2023-06-12T10:39:41.298Z"
   },
   {
    "duration": 4,
    "start_time": "2023-06-12T10:39:41.609Z"
   },
   {
    "duration": 193,
    "start_time": "2023-06-12T10:39:41.626Z"
   },
   {
    "duration": 128,
    "start_time": "2023-06-12T10:39:41.820Z"
   },
   {
    "duration": 54,
    "start_time": "2023-06-12T10:39:41.956Z"
   },
   {
    "duration": 752,
    "start_time": "2023-06-12T10:39:42.012Z"
   },
   {
    "duration": 5,
    "start_time": "2023-06-12T10:39:42.766Z"
   },
   {
    "duration": 94,
    "start_time": "2023-06-12T10:39:42.773Z"
   },
   {
    "duration": 14,
    "start_time": "2023-06-12T10:39:42.869Z"
   },
   {
    "duration": 11,
    "start_time": "2023-06-12T10:39:42.884Z"
   },
   {
    "duration": 75,
    "start_time": "2023-06-12T10:39:42.897Z"
   },
   {
    "duration": 6,
    "start_time": "2023-06-12T10:39:42.976Z"
   },
   {
    "duration": 17,
    "start_time": "2023-06-12T10:39:42.984Z"
   },
   {
    "duration": 391,
    "start_time": "2023-06-12T10:39:43.004Z"
   },
   {
    "duration": 296,
    "start_time": "2023-06-12T10:39:43.398Z"
   },
   {
    "duration": 42,
    "start_time": "2023-06-12T10:39:43.696Z"
   },
   {
    "duration": 173,
    "start_time": "2023-06-12T10:39:43.740Z"
   },
   {
    "duration": 83,
    "start_time": "2023-06-12T10:39:43.915Z"
   },
   {
    "duration": 93,
    "start_time": "2023-06-12T10:39:44.000Z"
   },
   {
    "duration": 194,
    "start_time": "2023-06-12T10:39:44.095Z"
   },
   {
    "duration": 13,
    "start_time": "2023-06-12T10:39:44.291Z"
   },
   {
    "duration": 21,
    "start_time": "2023-06-12T10:39:44.306Z"
   },
   {
    "duration": 140,
    "start_time": "2023-06-12T10:39:44.329Z"
   },
   {
    "duration": 3,
    "start_time": "2023-06-12T10:39:44.473Z"
   },
   {
    "duration": 69,
    "start_time": "2023-06-12T10:39:44.478Z"
   },
   {
    "duration": 14,
    "start_time": "2023-06-12T10:39:44.551Z"
   },
   {
    "duration": 7,
    "start_time": "2023-06-12T10:39:44.568Z"
   },
   {
    "duration": 112,
    "start_time": "2023-06-12T10:39:44.577Z"
   },
   {
    "duration": 227,
    "start_time": "2023-06-12T10:39:44.691Z"
   },
   {
    "duration": 12,
    "start_time": "2023-06-12T10:39:44.925Z"
   },
   {
    "duration": 49,
    "start_time": "2023-06-12T10:39:44.943Z"
   },
   {
    "duration": 130,
    "start_time": "2023-06-12T10:39:44.994Z"
   },
   {
    "duration": 31,
    "start_time": "2023-06-12T10:39:45.126Z"
   },
   {
    "duration": 64,
    "start_time": "2023-06-12T10:39:45.159Z"
   },
   {
    "duration": 159,
    "start_time": "2023-06-12T10:39:45.225Z"
   },
   {
    "duration": 0,
    "start_time": "2023-06-12T10:39:45.387Z"
   },
   {
    "duration": 0,
    "start_time": "2023-06-12T10:39:45.388Z"
   },
   {
    "duration": 0,
    "start_time": "2023-06-12T10:39:45.389Z"
   },
   {
    "duration": 0,
    "start_time": "2023-06-12T10:39:45.391Z"
   },
   {
    "duration": 0,
    "start_time": "2023-06-12T10:39:45.391Z"
   },
   {
    "duration": 0,
    "start_time": "2023-06-12T10:39:45.394Z"
   },
   {
    "duration": 0,
    "start_time": "2023-06-12T10:39:45.395Z"
   },
   {
    "duration": 0,
    "start_time": "2023-06-12T10:39:45.397Z"
   },
   {
    "duration": 0,
    "start_time": "2023-06-12T10:39:45.398Z"
   },
   {
    "duration": 0,
    "start_time": "2023-06-12T10:39:45.399Z"
   },
   {
    "duration": 0,
    "start_time": "2023-06-12T10:39:45.400Z"
   },
   {
    "duration": 14,
    "start_time": "2023-06-12T10:43:54.250Z"
   },
   {
    "duration": 6,
    "start_time": "2023-06-12T10:44:09.742Z"
   },
   {
    "duration": 104,
    "start_time": "2023-06-12T10:46:54.248Z"
   },
   {
    "duration": 98,
    "start_time": "2023-06-12T10:53:27.309Z"
   },
   {
    "duration": 1509,
    "start_time": "2023-06-12T10:53:33.403Z"
   },
   {
    "duration": 1781,
    "start_time": "2023-06-12T10:53:50.017Z"
   },
   {
    "duration": 1882,
    "start_time": "2023-06-12T10:56:01.911Z"
   },
   {
    "duration": 1774,
    "start_time": "2023-06-12T10:56:10.379Z"
   },
   {
    "duration": 51,
    "start_time": "2023-06-12T10:57:57.971Z"
   },
   {
    "duration": 286,
    "start_time": "2023-06-12T10:59:21.913Z"
   },
   {
    "duration": 4,
    "start_time": "2023-06-12T11:00:10.876Z"
   },
   {
    "duration": 18,
    "start_time": "2023-06-12T11:00:46.491Z"
   },
   {
    "duration": 84,
    "start_time": "2023-06-12T11:00:59.798Z"
   },
   {
    "duration": 54,
    "start_time": "2023-06-12T11:01:26.392Z"
   },
   {
    "duration": 64,
    "start_time": "2023-06-12T11:01:49.003Z"
   },
   {
    "duration": 1413,
    "start_time": "2023-06-12T11:02:18.368Z"
   },
   {
    "duration": 1308,
    "start_time": "2023-06-12T11:02:37.287Z"
   },
   {
    "duration": 6,
    "start_time": "2023-06-12T11:02:42.825Z"
   },
   {
    "duration": 5,
    "start_time": "2023-06-12T11:03:27.811Z"
   },
   {
    "duration": 4,
    "start_time": "2023-06-12T11:03:28.993Z"
   },
   {
    "duration": 10,
    "start_time": "2023-06-12T11:04:09.763Z"
   },
   {
    "duration": 11,
    "start_time": "2023-06-12T11:05:56.820Z"
   },
   {
    "duration": 6,
    "start_time": "2023-06-12T11:06:11.908Z"
   },
   {
    "duration": 6,
    "start_time": "2023-06-12T11:06:28.991Z"
   },
   {
    "duration": 10,
    "start_time": "2023-06-12T11:10:52.391Z"
   },
   {
    "duration": 12,
    "start_time": "2023-06-12T11:11:07.565Z"
   },
   {
    "duration": 9,
    "start_time": "2023-06-12T11:16:16.854Z"
   },
   {
    "duration": 12,
    "start_time": "2023-06-12T11:16:34.901Z"
   },
   {
    "duration": 15,
    "start_time": "2023-06-12T11:16:37.524Z"
   },
   {
    "duration": 7,
    "start_time": "2023-06-12T11:16:49.118Z"
   },
   {
    "duration": 74,
    "start_time": "2023-06-12T11:19:02.404Z"
   },
   {
    "duration": 25,
    "start_time": "2023-06-12T11:20:05.925Z"
   },
   {
    "duration": 22,
    "start_time": "2023-06-12T11:21:00.415Z"
   },
   {
    "duration": 5,
    "start_time": "2023-06-12T11:21:08.803Z"
   },
   {
    "duration": 106,
    "start_time": "2023-06-12T11:22:19.269Z"
   },
   {
    "duration": 1504,
    "start_time": "2023-06-12T11:27:24.475Z"
   },
   {
    "duration": 7,
    "start_time": "2023-06-12T11:27:27.949Z"
   },
   {
    "duration": 1915,
    "start_time": "2023-06-12T11:27:31.259Z"
   },
   {
    "duration": 1700,
    "start_time": "2023-06-12T11:27:43.317Z"
   },
   {
    "duration": 10,
    "start_time": "2023-06-12T11:28:09.093Z"
   },
   {
    "duration": 1598,
    "start_time": "2023-06-12T11:28:18.058Z"
   },
   {
    "duration": 1612,
    "start_time": "2023-06-12T11:28:36.859Z"
   },
   {
    "duration": 1565,
    "start_time": "2023-06-12T11:29:56.356Z"
   },
   {
    "duration": 11,
    "start_time": "2023-06-12T11:30:15.618Z"
   },
   {
    "duration": 8,
    "start_time": "2023-06-12T11:30:29.669Z"
   },
   {
    "duration": 27,
    "start_time": "2023-06-12T11:31:21.421Z"
   },
   {
    "duration": 10,
    "start_time": "2023-06-12T11:34:49.462Z"
   },
   {
    "duration": 4,
    "start_time": "2023-06-12T11:39:29.294Z"
   },
   {
    "duration": 11,
    "start_time": "2023-06-12T11:39:49.973Z"
   },
   {
    "duration": 9,
    "start_time": "2023-06-12T11:45:30.160Z"
   },
   {
    "duration": 6,
    "start_time": "2023-06-12T11:45:32.561Z"
   },
   {
    "duration": 6,
    "start_time": "2023-06-12T11:45:36.510Z"
   },
   {
    "duration": 5,
    "start_time": "2023-06-12T11:45:46.277Z"
   },
   {
    "duration": 13,
    "start_time": "2023-06-12T11:46:50.955Z"
   },
   {
    "duration": 1294,
    "start_time": "2023-06-12T11:47:26.268Z"
   },
   {
    "duration": 3,
    "start_time": "2023-06-12T11:47:27.565Z"
   },
   {
    "duration": 387,
    "start_time": "2023-06-12T11:47:27.570Z"
   },
   {
    "duration": 3,
    "start_time": "2023-06-12T11:47:27.958Z"
   },
   {
    "duration": 153,
    "start_time": "2023-06-12T11:47:27.964Z"
   },
   {
    "duration": 120,
    "start_time": "2023-06-12T11:47:28.119Z"
   },
   {
    "duration": 48,
    "start_time": "2023-06-12T11:47:28.241Z"
   },
   {
    "duration": 600,
    "start_time": "2023-06-12T11:47:28.291Z"
   },
   {
    "duration": 7,
    "start_time": "2023-06-12T11:47:28.893Z"
   },
   {
    "duration": 93,
    "start_time": "2023-06-12T11:47:28.902Z"
   },
   {
    "duration": 10,
    "start_time": "2023-06-12T11:47:28.996Z"
   },
   {
    "duration": 10,
    "start_time": "2023-06-12T11:47:29.026Z"
   },
   {
    "duration": 53,
    "start_time": "2023-06-12T11:47:29.039Z"
   },
   {
    "duration": 4,
    "start_time": "2023-06-12T11:47:29.097Z"
   },
   {
    "duration": 43,
    "start_time": "2023-06-12T11:47:29.103Z"
   },
   {
    "duration": 302,
    "start_time": "2023-06-12T11:47:29.148Z"
   },
   {
    "duration": 312,
    "start_time": "2023-06-12T11:47:29.451Z"
   },
   {
    "duration": 30,
    "start_time": "2023-06-12T11:47:29.766Z"
   },
   {
    "duration": 240,
    "start_time": "2023-06-12T11:47:29.798Z"
   },
   {
    "duration": 109,
    "start_time": "2023-06-12T11:47:30.042Z"
   },
   {
    "duration": 92,
    "start_time": "2023-06-12T11:47:30.162Z"
   },
   {
    "duration": 177,
    "start_time": "2023-06-12T11:47:30.256Z"
   },
   {
    "duration": 14,
    "start_time": "2023-06-12T11:47:30.442Z"
   },
   {
    "duration": 108,
    "start_time": "2023-06-12T11:47:30.458Z"
   },
   {
    "duration": 500,
    "start_time": "2023-06-12T11:47:30.568Z"
   },
   {
    "duration": 51,
    "start_time": "2023-06-12T11:47:31.070Z"
   },
   {
    "duration": 63,
    "start_time": "2023-06-12T11:47:31.123Z"
   },
   {
    "duration": 484,
    "start_time": "2023-06-12T11:47:31.188Z"
   },
   {
    "duration": 85,
    "start_time": "2023-06-12T11:47:31.675Z"
   },
   {
    "duration": 189,
    "start_time": "2023-06-12T11:47:31.762Z"
   },
   {
    "duration": 0,
    "start_time": "2023-06-12T11:47:31.955Z"
   },
   {
    "duration": 0,
    "start_time": "2023-06-12T11:47:31.956Z"
   },
   {
    "duration": 0,
    "start_time": "2023-06-12T11:47:31.958Z"
   },
   {
    "duration": 0,
    "start_time": "2023-06-12T11:47:31.960Z"
   },
   {
    "duration": 0,
    "start_time": "2023-06-12T11:47:31.961Z"
   },
   {
    "duration": 0,
    "start_time": "2023-06-12T11:47:31.962Z"
   },
   {
    "duration": 0,
    "start_time": "2023-06-12T11:47:31.963Z"
   },
   {
    "duration": 0,
    "start_time": "2023-06-12T11:47:31.965Z"
   },
   {
    "duration": 0,
    "start_time": "2023-06-12T11:47:31.966Z"
   },
   {
    "duration": 0,
    "start_time": "2023-06-12T11:47:31.967Z"
   },
   {
    "duration": 0,
    "start_time": "2023-06-12T11:47:31.970Z"
   },
   {
    "duration": 0,
    "start_time": "2023-06-12T11:47:31.971Z"
   },
   {
    "duration": 0,
    "start_time": "2023-06-12T11:47:31.972Z"
   },
   {
    "duration": 0,
    "start_time": "2023-06-12T11:47:31.974Z"
   },
   {
    "duration": 0,
    "start_time": "2023-06-12T11:47:31.975Z"
   },
   {
    "duration": 0,
    "start_time": "2023-06-12T11:47:31.976Z"
   },
   {
    "duration": 0,
    "start_time": "2023-06-12T11:47:31.977Z"
   },
   {
    "duration": 0,
    "start_time": "2023-06-12T11:47:31.978Z"
   },
   {
    "duration": 0,
    "start_time": "2023-06-12T11:47:31.980Z"
   },
   {
    "duration": 0,
    "start_time": "2023-06-12T11:47:31.981Z"
   },
   {
    "duration": 0,
    "start_time": "2023-06-12T11:47:31.982Z"
   },
   {
    "duration": 0,
    "start_time": "2023-06-12T11:47:32.030Z"
   },
   {
    "duration": 0,
    "start_time": "2023-06-12T11:47:32.031Z"
   },
   {
    "duration": 0,
    "start_time": "2023-06-12T11:47:32.032Z"
   },
   {
    "duration": 0,
    "start_time": "2023-06-12T11:47:32.034Z"
   },
   {
    "duration": 0,
    "start_time": "2023-06-12T11:47:32.035Z"
   },
   {
    "duration": 0,
    "start_time": "2023-06-12T11:47:32.036Z"
   },
   {
    "duration": 0,
    "start_time": "2023-06-12T11:47:32.040Z"
   },
   {
    "duration": 0,
    "start_time": "2023-06-12T11:47:32.041Z"
   },
   {
    "duration": 0,
    "start_time": "2023-06-12T11:47:32.044Z"
   },
   {
    "duration": 0,
    "start_time": "2023-06-12T11:47:32.045Z"
   },
   {
    "duration": 0,
    "start_time": "2023-06-12T11:47:32.046Z"
   },
   {
    "duration": 0,
    "start_time": "2023-06-12T11:47:32.049Z"
   },
   {
    "duration": 0,
    "start_time": "2023-06-12T11:47:32.050Z"
   },
   {
    "duration": 0,
    "start_time": "2023-06-12T11:47:32.051Z"
   },
   {
    "duration": 12,
    "start_time": "2023-06-12T11:48:56.783Z"
   },
   {
    "duration": 10,
    "start_time": "2023-06-12T11:49:28.072Z"
   },
   {
    "duration": 15,
    "start_time": "2023-06-12T11:53:12.874Z"
   },
   {
    "duration": 26,
    "start_time": "2023-06-12T11:54:02.802Z"
   },
   {
    "duration": 18,
    "start_time": "2023-06-12T11:54:07.263Z"
   },
   {
    "duration": 15,
    "start_time": "2023-06-12T11:54:55.655Z"
   },
   {
    "duration": 12,
    "start_time": "2023-06-12T11:56:41.812Z"
   },
   {
    "duration": 12,
    "start_time": "2023-06-12T11:57:04.506Z"
   },
   {
    "duration": 140,
    "start_time": "2023-06-12T11:57:26.354Z"
   },
   {
    "duration": 4,
    "start_time": "2023-06-12T11:57:28.883Z"
   },
   {
    "duration": 13,
    "start_time": "2023-06-12T11:57:30.952Z"
   },
   {
    "duration": 115,
    "start_time": "2023-06-12T11:58:41.403Z"
   },
   {
    "duration": 106,
    "start_time": "2023-06-12T12:13:17.360Z"
   },
   {
    "duration": 129,
    "start_time": "2023-06-12T12:13:22.672Z"
   },
   {
    "duration": 103,
    "start_time": "2023-06-12T12:13:30.896Z"
   },
   {
    "duration": 7,
    "start_time": "2023-06-12T12:14:49.484Z"
   },
   {
    "duration": 7,
    "start_time": "2023-06-12T12:15:26.345Z"
   },
   {
    "duration": 131,
    "start_time": "2023-06-12T13:09:31.891Z"
   },
   {
    "duration": 21,
    "start_time": "2023-06-12T13:09:45.766Z"
   },
   {
    "duration": 9,
    "start_time": "2023-06-12T13:10:06.498Z"
   },
   {
    "duration": 23,
    "start_time": "2023-06-12T13:10:11.227Z"
   },
   {
    "duration": 11,
    "start_time": "2023-06-12T13:10:22.273Z"
   },
   {
    "duration": 20,
    "start_time": "2023-06-12T13:10:28.760Z"
   },
   {
    "duration": 17,
    "start_time": "2023-06-12T13:10:51.086Z"
   },
   {
    "duration": 129,
    "start_time": "2023-06-12T13:11:24.517Z"
   },
   {
    "duration": 1375,
    "start_time": "2023-06-12T13:11:29.165Z"
   },
   {
    "duration": 3,
    "start_time": "2023-06-12T13:11:30.546Z"
   },
   {
    "duration": 241,
    "start_time": "2023-06-12T13:11:30.551Z"
   },
   {
    "duration": 3,
    "start_time": "2023-06-12T13:11:30.794Z"
   },
   {
    "duration": 209,
    "start_time": "2023-06-12T13:11:30.800Z"
   },
   {
    "duration": 112,
    "start_time": "2023-06-12T13:11:31.011Z"
   },
   {
    "duration": 90,
    "start_time": "2023-06-12T13:11:31.127Z"
   },
   {
    "duration": 886,
    "start_time": "2023-06-12T13:11:31.218Z"
   },
   {
    "duration": 5,
    "start_time": "2023-06-12T13:11:32.106Z"
   },
   {
    "duration": 133,
    "start_time": "2023-06-12T13:11:32.114Z"
   },
   {
    "duration": 10,
    "start_time": "2023-06-12T13:11:32.249Z"
   },
   {
    "duration": 41,
    "start_time": "2023-06-12T13:11:32.261Z"
   },
   {
    "duration": 113,
    "start_time": "2023-06-12T13:11:32.304Z"
   },
   {
    "duration": 21,
    "start_time": "2023-06-12T13:11:32.422Z"
   },
   {
    "duration": 19,
    "start_time": "2023-06-12T13:11:32.445Z"
   },
   {
    "duration": 328,
    "start_time": "2023-06-12T13:11:32.466Z"
   },
   {
    "duration": 298,
    "start_time": "2023-06-12T13:11:32.796Z"
   },
   {
    "duration": 32,
    "start_time": "2023-06-12T13:11:33.097Z"
   },
   {
    "duration": 190,
    "start_time": "2023-06-12T13:11:33.133Z"
   },
   {
    "duration": 82,
    "start_time": "2023-06-12T13:11:33.325Z"
   },
   {
    "duration": 98,
    "start_time": "2023-06-12T13:11:33.410Z"
   },
   {
    "duration": 189,
    "start_time": "2023-06-12T13:11:33.510Z"
   },
   {
    "duration": 12,
    "start_time": "2023-06-12T13:11:33.700Z"
   },
   {
    "duration": 16,
    "start_time": "2023-06-12T13:11:33.726Z"
   },
   {
    "duration": 130,
    "start_time": "2023-06-12T13:11:33.744Z"
   },
   {
    "duration": 33,
    "start_time": "2023-06-12T13:11:33.876Z"
   },
   {
    "duration": 279,
    "start_time": "2023-06-12T13:11:33.911Z"
   },
   {
    "duration": 91,
    "start_time": "2023-06-12T13:11:34.192Z"
   },
   {
    "duration": 38,
    "start_time": "2023-06-12T13:11:34.285Z"
   },
   {
    "duration": 27,
    "start_time": "2023-06-12T13:11:34.334Z"
   },
   {
    "duration": 173,
    "start_time": "2023-06-12T13:11:34.376Z"
   },
   {
    "duration": 0,
    "start_time": "2023-06-12T13:11:34.561Z"
   },
   {
    "duration": 0,
    "start_time": "2023-06-12T13:11:34.562Z"
   },
   {
    "duration": 0,
    "start_time": "2023-06-12T13:11:34.563Z"
   },
   {
    "duration": 0,
    "start_time": "2023-06-12T13:11:34.564Z"
   },
   {
    "duration": 0,
    "start_time": "2023-06-12T13:11:34.564Z"
   },
   {
    "duration": 0,
    "start_time": "2023-06-12T13:11:34.565Z"
   },
   {
    "duration": 0,
    "start_time": "2023-06-12T13:11:34.566Z"
   },
   {
    "duration": 0,
    "start_time": "2023-06-12T13:11:34.566Z"
   },
   {
    "duration": 0,
    "start_time": "2023-06-12T13:11:34.567Z"
   },
   {
    "duration": 0,
    "start_time": "2023-06-12T13:11:34.568Z"
   },
   {
    "duration": 0,
    "start_time": "2023-06-12T13:11:34.568Z"
   },
   {
    "duration": 0,
    "start_time": "2023-06-12T13:11:34.569Z"
   },
   {
    "duration": 0,
    "start_time": "2023-06-12T13:11:34.570Z"
   },
   {
    "duration": 0,
    "start_time": "2023-06-12T13:11:34.573Z"
   },
   {
    "duration": 0,
    "start_time": "2023-06-12T13:11:34.574Z"
   },
   {
    "duration": 0,
    "start_time": "2023-06-12T13:11:34.576Z"
   },
   {
    "duration": 0,
    "start_time": "2023-06-12T13:11:34.577Z"
   },
   {
    "duration": 0,
    "start_time": "2023-06-12T13:11:34.578Z"
   },
   {
    "duration": 0,
    "start_time": "2023-06-12T13:11:34.579Z"
   },
   {
    "duration": 0,
    "start_time": "2023-06-12T13:11:34.580Z"
   },
   {
    "duration": 0,
    "start_time": "2023-06-12T13:11:34.581Z"
   },
   {
    "duration": 0,
    "start_time": "2023-06-12T13:11:34.582Z"
   },
   {
    "duration": 0,
    "start_time": "2023-06-12T13:11:34.583Z"
   },
   {
    "duration": 0,
    "start_time": "2023-06-12T13:11:34.584Z"
   },
   {
    "duration": 0,
    "start_time": "2023-06-12T13:11:34.585Z"
   },
   {
    "duration": 0,
    "start_time": "2023-06-12T13:11:34.587Z"
   },
   {
    "duration": 0,
    "start_time": "2023-06-12T13:11:34.588Z"
   },
   {
    "duration": 0,
    "start_time": "2023-06-12T13:11:34.589Z"
   },
   {
    "duration": 0,
    "start_time": "2023-06-12T13:11:34.590Z"
   },
   {
    "duration": 0,
    "start_time": "2023-06-12T13:11:34.591Z"
   },
   {
    "duration": 0,
    "start_time": "2023-06-12T13:11:34.592Z"
   },
   {
    "duration": 0,
    "start_time": "2023-06-12T13:11:34.593Z"
   },
   {
    "duration": 0,
    "start_time": "2023-06-12T13:11:34.594Z"
   },
   {
    "duration": 0,
    "start_time": "2023-06-12T13:11:34.595Z"
   },
   {
    "duration": 0,
    "start_time": "2023-06-12T13:11:34.596Z"
   },
   {
    "duration": 0,
    "start_time": "2023-06-12T13:11:34.597Z"
   },
   {
    "duration": 12,
    "start_time": "2023-06-12T13:16:04.482Z"
   },
   {
    "duration": 126,
    "start_time": "2023-06-12T13:24:54.384Z"
   },
   {
    "duration": 34,
    "start_time": "2023-06-12T13:25:32.721Z"
   },
   {
    "duration": 143,
    "start_time": "2023-06-12T13:26:28.879Z"
   },
   {
    "duration": 176,
    "start_time": "2023-06-12T13:26:34.093Z"
   },
   {
    "duration": 125,
    "start_time": "2023-06-12T13:26:36.992Z"
   },
   {
    "duration": 127,
    "start_time": "2023-06-12T13:26:41.078Z"
   },
   {
    "duration": 10,
    "start_time": "2023-06-12T13:26:47.182Z"
   },
   {
    "duration": 44,
    "start_time": "2023-06-12T13:26:51.450Z"
   },
   {
    "duration": 14,
    "start_time": "2023-06-12T13:27:13.385Z"
   },
   {
    "duration": 23,
    "start_time": "2023-06-12T13:27:20.110Z"
   },
   {
    "duration": 14,
    "start_time": "2023-06-12T13:27:24.978Z"
   },
   {
    "duration": 11,
    "start_time": "2023-06-12T13:33:10.902Z"
   },
   {
    "duration": 13,
    "start_time": "2023-06-12T13:33:19.672Z"
   },
   {
    "duration": 14,
    "start_time": "2023-06-12T13:33:22.769Z"
   },
   {
    "duration": 7,
    "start_time": "2023-06-12T13:33:28.475Z"
   },
   {
    "duration": 12,
    "start_time": "2023-06-12T13:33:30.470Z"
   },
   {
    "duration": 13,
    "start_time": "2023-06-12T13:33:38.251Z"
   },
   {
    "duration": 11,
    "start_time": "2023-06-12T13:33:51.083Z"
   },
   {
    "duration": 10,
    "start_time": "2023-06-12T13:33:54.884Z"
   },
   {
    "duration": 39,
    "start_time": "2023-06-12T13:33:57.627Z"
   },
   {
    "duration": 16,
    "start_time": "2023-06-12T13:34:01.718Z"
   },
   {
    "duration": 104,
    "start_time": "2023-06-12T13:41:04.066Z"
   },
   {
    "duration": 70,
    "start_time": "2023-06-12T13:41:08.701Z"
   },
   {
    "duration": 35,
    "start_time": "2023-06-12T13:41:17.987Z"
   },
   {
    "duration": 26,
    "start_time": "2023-06-12T13:41:24.006Z"
   },
   {
    "duration": 19,
    "start_time": "2023-06-12T13:41:35.438Z"
   },
   {
    "duration": 10,
    "start_time": "2023-06-12T13:41:41.458Z"
   },
   {
    "duration": 24,
    "start_time": "2023-06-12T13:41:49.235Z"
   },
   {
    "duration": 15,
    "start_time": "2023-06-12T13:41:55.600Z"
   },
   {
    "duration": 106,
    "start_time": "2023-06-12T13:42:28.770Z"
   },
   {
    "duration": 26,
    "start_time": "2023-06-12T13:42:31.170Z"
   },
   {
    "duration": 25,
    "start_time": "2023-06-12T13:43:52.669Z"
   },
   {
    "duration": 10,
    "start_time": "2023-06-12T13:44:46.104Z"
   },
   {
    "duration": 15,
    "start_time": "2023-06-12T13:47:20.568Z"
   },
   {
    "duration": 141,
    "start_time": "2023-06-12T13:48:16.996Z"
   },
   {
    "duration": 7,
    "start_time": "2023-06-12T13:49:03.976Z"
   },
   {
    "duration": 11,
    "start_time": "2023-06-12T13:49:18.206Z"
   },
   {
    "duration": 12,
    "start_time": "2023-06-12T13:49:26.319Z"
   },
   {
    "duration": 8,
    "start_time": "2023-06-12T13:49:29.459Z"
   },
   {
    "duration": 15,
    "start_time": "2023-06-12T13:51:08.505Z"
   },
   {
    "duration": 9,
    "start_time": "2023-06-12T13:51:39.095Z"
   },
   {
    "duration": 26,
    "start_time": "2023-06-12T13:52:02.272Z"
   },
   {
    "duration": 18,
    "start_time": "2023-06-12T13:52:09.220Z"
   },
   {
    "duration": 26,
    "start_time": "2023-06-12T13:52:10.833Z"
   },
   {
    "duration": 15,
    "start_time": "2023-06-12T13:52:26.423Z"
   },
   {
    "duration": 7,
    "start_time": "2023-06-12T13:52:27.917Z"
   },
   {
    "duration": 27,
    "start_time": "2023-06-12T13:52:35.874Z"
   },
   {
    "duration": 9,
    "start_time": "2023-06-12T13:52:42.889Z"
   },
   {
    "duration": 8,
    "start_time": "2023-06-12T13:53:22.187Z"
   },
   {
    "duration": 9,
    "start_time": "2023-06-12T13:53:25.611Z"
   },
   {
    "duration": 11,
    "start_time": "2023-06-12T13:53:29.662Z"
   },
   {
    "duration": 9,
    "start_time": "2023-06-12T13:53:31.480Z"
   },
   {
    "duration": 3,
    "start_time": "2023-06-12T17:00:22.991Z"
   },
   {
    "duration": 1673,
    "start_time": "2023-06-12T17:00:29.092Z"
   },
   {
    "duration": 5,
    "start_time": "2023-06-12T17:00:30.780Z"
   },
   {
    "duration": 570,
    "start_time": "2023-06-12T17:00:30.787Z"
   },
   {
    "duration": 5,
    "start_time": "2023-06-12T17:00:31.358Z"
   },
   {
    "duration": 286,
    "start_time": "2023-06-12T17:00:31.367Z"
   },
   {
    "duration": 154,
    "start_time": "2023-06-12T17:00:31.661Z"
   },
   {
    "duration": 102,
    "start_time": "2023-06-12T17:00:31.818Z"
   },
   {
    "duration": 959,
    "start_time": "2023-06-12T17:00:31.922Z"
   },
   {
    "duration": 8,
    "start_time": "2023-06-12T17:00:32.883Z"
   },
   {
    "duration": 131,
    "start_time": "2023-06-12T17:00:32.902Z"
   },
   {
    "duration": 25,
    "start_time": "2023-06-12T17:00:33.036Z"
   },
   {
    "duration": 41,
    "start_time": "2023-06-12T17:00:33.064Z"
   },
   {
    "duration": 69,
    "start_time": "2023-06-12T17:00:33.108Z"
   },
   {
    "duration": 6,
    "start_time": "2023-06-12T17:00:33.192Z"
   },
   {
    "duration": 30,
    "start_time": "2023-06-12T17:00:33.200Z"
   },
   {
    "duration": 466,
    "start_time": "2023-06-12T17:00:33.233Z"
   },
   {
    "duration": 406,
    "start_time": "2023-06-12T17:00:33.702Z"
   },
   {
    "duration": 42,
    "start_time": "2023-06-12T17:00:34.111Z"
   },
   {
    "duration": 263,
    "start_time": "2023-06-12T17:00:34.156Z"
   },
   {
    "duration": 109,
    "start_time": "2023-06-12T17:00:34.422Z"
   },
   {
    "duration": 109,
    "start_time": "2023-06-12T17:00:34.533Z"
   },
   {
    "duration": 211,
    "start_time": "2023-06-12T17:00:34.648Z"
   },
   {
    "duration": 32,
    "start_time": "2023-06-12T17:00:34.865Z"
   },
   {
    "duration": 39,
    "start_time": "2023-06-12T17:00:34.899Z"
   },
   {
    "duration": 142,
    "start_time": "2023-06-12T17:00:34.944Z"
   },
   {
    "duration": 4,
    "start_time": "2023-06-12T17:00:35.092Z"
   },
   {
    "duration": 44,
    "start_time": "2023-06-12T17:00:35.101Z"
   },
   {
    "duration": 13,
    "start_time": "2023-06-12T17:00:35.158Z"
   },
   {
    "duration": 19,
    "start_time": "2023-06-12T17:00:35.175Z"
   },
   {
    "duration": 5,
    "start_time": "2023-06-12T17:00:35.196Z"
   },
   {
    "duration": 13,
    "start_time": "2023-06-12T17:00:35.202Z"
   },
   {
    "duration": 182,
    "start_time": "2023-06-12T17:00:35.217Z"
   },
   {
    "duration": 0,
    "start_time": "2023-06-12T17:00:35.404Z"
   },
   {
    "duration": 0,
    "start_time": "2023-06-12T17:00:35.407Z"
   },
   {
    "duration": 0,
    "start_time": "2023-06-12T17:00:35.409Z"
   },
   {
    "duration": 0,
    "start_time": "2023-06-12T17:00:35.411Z"
   },
   {
    "duration": 0,
    "start_time": "2023-06-12T17:00:35.412Z"
   },
   {
    "duration": 0,
    "start_time": "2023-06-12T17:00:35.413Z"
   },
   {
    "duration": 1,
    "start_time": "2023-06-12T17:00:35.413Z"
   },
   {
    "duration": 0,
    "start_time": "2023-06-12T17:00:35.415Z"
   },
   {
    "duration": 0,
    "start_time": "2023-06-12T17:00:35.416Z"
   },
   {
    "duration": 0,
    "start_time": "2023-06-12T17:00:35.434Z"
   },
   {
    "duration": 0,
    "start_time": "2023-06-12T17:00:35.435Z"
   },
   {
    "duration": 0,
    "start_time": "2023-06-12T17:00:35.436Z"
   },
   {
    "duration": 0,
    "start_time": "2023-06-12T17:00:35.437Z"
   },
   {
    "duration": 0,
    "start_time": "2023-06-12T17:00:35.438Z"
   },
   {
    "duration": 0,
    "start_time": "2023-06-12T17:00:35.439Z"
   },
   {
    "duration": 0,
    "start_time": "2023-06-12T17:00:35.439Z"
   },
   {
    "duration": 0,
    "start_time": "2023-06-12T17:00:35.440Z"
   },
   {
    "duration": 0,
    "start_time": "2023-06-12T17:00:35.445Z"
   },
   {
    "duration": 0,
    "start_time": "2023-06-12T17:00:35.446Z"
   },
   {
    "duration": 0,
    "start_time": "2023-06-12T17:00:35.447Z"
   },
   {
    "duration": 0,
    "start_time": "2023-06-12T17:00:35.448Z"
   },
   {
    "duration": 0,
    "start_time": "2023-06-12T17:00:35.448Z"
   },
   {
    "duration": 0,
    "start_time": "2023-06-12T17:00:35.450Z"
   },
   {
    "duration": 0,
    "start_time": "2023-06-12T17:00:35.451Z"
   },
   {
    "duration": 0,
    "start_time": "2023-06-12T17:00:35.452Z"
   },
   {
    "duration": 0,
    "start_time": "2023-06-12T17:00:35.454Z"
   },
   {
    "duration": 0,
    "start_time": "2023-06-12T17:00:35.455Z"
   },
   {
    "duration": 0,
    "start_time": "2023-06-12T17:00:35.456Z"
   },
   {
    "duration": 0,
    "start_time": "2023-06-12T17:00:35.457Z"
   },
   {
    "duration": 0,
    "start_time": "2023-06-12T17:00:35.458Z"
   },
   {
    "duration": 0,
    "start_time": "2023-06-12T17:00:35.459Z"
   },
   {
    "duration": 0,
    "start_time": "2023-06-12T17:00:35.460Z"
   },
   {
    "duration": 0,
    "start_time": "2023-06-12T17:00:35.461Z"
   },
   {
    "duration": 0,
    "start_time": "2023-06-12T17:00:35.462Z"
   },
   {
    "duration": 0,
    "start_time": "2023-06-12T17:00:35.464Z"
   },
   {
    "duration": 0,
    "start_time": "2023-06-12T17:00:35.465Z"
   },
   {
    "duration": 0,
    "start_time": "2023-06-12T17:00:35.466Z"
   },
   {
    "duration": 0,
    "start_time": "2023-06-12T17:00:35.467Z"
   },
   {
    "duration": 0,
    "start_time": "2023-06-12T17:00:35.468Z"
   },
   {
    "duration": 0,
    "start_time": "2023-06-12T17:00:35.469Z"
   },
   {
    "duration": 14,
    "start_time": "2023-06-12T17:06:53.584Z"
   },
   {
    "duration": 119,
    "start_time": "2023-06-12T17:12:41.530Z"
   },
   {
    "duration": 155,
    "start_time": "2023-06-12T17:12:45.553Z"
   },
   {
    "duration": 138,
    "start_time": "2023-06-12T17:26:07.207Z"
   },
   {
    "duration": 141,
    "start_time": "2023-06-12T17:31:23.443Z"
   },
   {
    "duration": 109,
    "start_time": "2023-06-12T17:31:41.892Z"
   },
   {
    "duration": 8,
    "start_time": "2023-06-12T17:31:58.279Z"
   },
   {
    "duration": 13,
    "start_time": "2023-06-12T17:32:34.172Z"
   },
   {
    "duration": 7,
    "start_time": "2023-06-12T17:33:07.567Z"
   },
   {
    "duration": 25,
    "start_time": "2023-06-12T17:33:09.647Z"
   },
   {
    "duration": 6,
    "start_time": "2023-06-12T17:33:24.593Z"
   },
   {
    "duration": 13,
    "start_time": "2023-06-12T17:33:26.216Z"
   },
   {
    "duration": 7,
    "start_time": "2023-06-12T17:33:41.297Z"
   },
   {
    "duration": 25,
    "start_time": "2023-06-12T17:33:42.543Z"
   },
   {
    "duration": 7,
    "start_time": "2023-06-12T17:33:52.261Z"
   },
   {
    "duration": 15,
    "start_time": "2023-06-12T17:33:54.098Z"
   },
   {
    "duration": 8,
    "start_time": "2023-06-12T17:33:59.452Z"
   },
   {
    "duration": 7,
    "start_time": "2023-06-12T17:34:16.789Z"
   },
   {
    "duration": 107,
    "start_time": "2023-06-12T17:35:36.080Z"
   },
   {
    "duration": 10,
    "start_time": "2023-06-12T17:43:21.606Z"
   },
   {
    "duration": 26,
    "start_time": "2023-06-12T17:43:27.411Z"
   },
   {
    "duration": 1523,
    "start_time": "2023-06-12T17:46:41.118Z"
   },
   {
    "duration": 10,
    "start_time": "2023-06-12T17:46:42.649Z"
   },
   {
    "duration": 323,
    "start_time": "2023-06-12T17:46:42.673Z"
   },
   {
    "duration": 4,
    "start_time": "2023-06-12T17:46:42.997Z"
   },
   {
    "duration": 213,
    "start_time": "2023-06-12T17:46:43.003Z"
   },
   {
    "duration": 137,
    "start_time": "2023-06-12T17:46:43.218Z"
   },
   {
    "duration": 58,
    "start_time": "2023-06-12T17:46:43.365Z"
   },
   {
    "duration": 783,
    "start_time": "2023-06-12T17:46:43.424Z"
   },
   {
    "duration": 4,
    "start_time": "2023-06-12T17:46:44.209Z"
   },
   {
    "duration": 103,
    "start_time": "2023-06-12T17:46:44.215Z"
   },
   {
    "duration": 18,
    "start_time": "2023-06-12T17:46:44.320Z"
   },
   {
    "duration": 27,
    "start_time": "2023-06-12T17:46:44.340Z"
   },
   {
    "duration": 52,
    "start_time": "2023-06-12T17:46:44.370Z"
   },
   {
    "duration": 9,
    "start_time": "2023-06-12T17:46:44.425Z"
   },
   {
    "duration": 54,
    "start_time": "2023-06-12T17:46:44.436Z"
   },
   {
    "duration": 397,
    "start_time": "2023-06-12T17:46:44.492Z"
   },
   {
    "duration": 352,
    "start_time": "2023-06-12T17:46:44.891Z"
   },
   {
    "duration": 36,
    "start_time": "2023-06-12T17:46:45.246Z"
   },
   {
    "duration": 226,
    "start_time": "2023-06-12T17:46:45.285Z"
   },
   {
    "duration": 89,
    "start_time": "2023-06-12T17:46:45.513Z"
   },
   {
    "duration": 96,
    "start_time": "2023-06-12T17:46:45.604Z"
   },
   {
    "duration": 214,
    "start_time": "2023-06-12T17:46:45.702Z"
   },
   {
    "duration": 23,
    "start_time": "2023-06-12T17:46:45.925Z"
   },
   {
    "duration": 13,
    "start_time": "2023-06-12T17:46:45.951Z"
   },
   {
    "duration": 167,
    "start_time": "2023-06-12T17:46:45.967Z"
   },
   {
    "duration": 13,
    "start_time": "2023-06-12T17:46:46.140Z"
   },
   {
    "duration": 32,
    "start_time": "2023-06-12T17:46:46.158Z"
   },
   {
    "duration": 50,
    "start_time": "2023-06-12T17:46:46.192Z"
   },
   {
    "duration": 148,
    "start_time": "2023-06-12T17:46:46.245Z"
   },
   {
    "duration": 0,
    "start_time": "2023-06-12T17:46:46.395Z"
   },
   {
    "duration": 0,
    "start_time": "2023-06-12T17:46:46.396Z"
   },
   {
    "duration": 0,
    "start_time": "2023-06-12T17:46:46.398Z"
   },
   {
    "duration": 0,
    "start_time": "2023-06-12T17:46:46.399Z"
   },
   {
    "duration": 0,
    "start_time": "2023-06-12T17:46:46.400Z"
   },
   {
    "duration": 0,
    "start_time": "2023-06-12T17:46:46.401Z"
   },
   {
    "duration": 0,
    "start_time": "2023-06-12T17:46:46.402Z"
   },
   {
    "duration": 0,
    "start_time": "2023-06-12T17:46:46.403Z"
   },
   {
    "duration": 0,
    "start_time": "2023-06-12T17:46:46.405Z"
   },
   {
    "duration": 0,
    "start_time": "2023-06-12T17:46:46.405Z"
   },
   {
    "duration": 0,
    "start_time": "2023-06-12T17:46:46.434Z"
   },
   {
    "duration": 0,
    "start_time": "2023-06-12T17:46:46.436Z"
   },
   {
    "duration": 0,
    "start_time": "2023-06-12T17:46:46.437Z"
   },
   {
    "duration": 0,
    "start_time": "2023-06-12T17:46:46.438Z"
   },
   {
    "duration": 0,
    "start_time": "2023-06-12T17:46:46.439Z"
   },
   {
    "duration": 0,
    "start_time": "2023-06-12T17:46:46.441Z"
   },
   {
    "duration": 0,
    "start_time": "2023-06-12T17:46:46.444Z"
   },
   {
    "duration": 0,
    "start_time": "2023-06-12T17:46:46.445Z"
   },
   {
    "duration": 0,
    "start_time": "2023-06-12T17:46:46.446Z"
   },
   {
    "duration": 0,
    "start_time": "2023-06-12T17:46:46.447Z"
   },
   {
    "duration": 0,
    "start_time": "2023-06-12T17:46:46.449Z"
   },
   {
    "duration": 0,
    "start_time": "2023-06-12T17:46:46.450Z"
   },
   {
    "duration": 0,
    "start_time": "2023-06-12T17:46:46.453Z"
   },
   {
    "duration": 0,
    "start_time": "2023-06-12T17:46:46.454Z"
   },
   {
    "duration": 0,
    "start_time": "2023-06-12T17:46:46.455Z"
   },
   {
    "duration": 12,
    "start_time": "2023-06-12T17:48:11.280Z"
   },
   {
    "duration": 14,
    "start_time": "2023-06-12T17:48:41.720Z"
   },
   {
    "duration": 9,
    "start_time": "2023-06-12T17:48:47.283Z"
   },
   {
    "duration": 7,
    "start_time": "2023-06-12T17:48:49.082Z"
   },
   {
    "duration": 7,
    "start_time": "2023-06-12T17:48:51.955Z"
   },
   {
    "duration": 9,
    "start_time": "2023-06-12T17:48:53.600Z"
   },
   {
    "duration": 39,
    "start_time": "2023-06-12T17:48:57.621Z"
   },
   {
    "duration": 119,
    "start_time": "2023-06-12T17:56:51.639Z"
   },
   {
    "duration": 1362,
    "start_time": "2023-06-12T18:06:21.026Z"
   },
   {
    "duration": 4,
    "start_time": "2023-06-12T18:06:22.390Z"
   },
   {
    "duration": 289,
    "start_time": "2023-06-12T18:06:22.396Z"
   },
   {
    "duration": 3,
    "start_time": "2023-06-12T18:06:22.688Z"
   },
   {
    "duration": 259,
    "start_time": "2023-06-12T18:06:22.693Z"
   },
   {
    "duration": 135,
    "start_time": "2023-06-12T18:06:22.955Z"
   },
   {
    "duration": 67,
    "start_time": "2023-06-12T18:06:23.095Z"
   },
   {
    "duration": 726,
    "start_time": "2023-06-12T18:06:23.164Z"
   },
   {
    "duration": 5,
    "start_time": "2023-06-12T18:06:23.892Z"
   },
   {
    "duration": 98,
    "start_time": "2023-06-12T18:06:23.899Z"
   },
   {
    "duration": 9,
    "start_time": "2023-06-12T18:06:23.999Z"
   },
   {
    "duration": 13,
    "start_time": "2023-06-12T18:06:24.025Z"
   },
   {
    "duration": 57,
    "start_time": "2023-06-12T18:06:24.040Z"
   },
   {
    "duration": 4,
    "start_time": "2023-06-12T18:06:24.099Z"
   },
   {
    "duration": 59,
    "start_time": "2023-06-12T18:06:24.105Z"
   },
   {
    "duration": 314,
    "start_time": "2023-06-12T18:06:24.166Z"
   },
   {
    "duration": 297,
    "start_time": "2023-06-12T18:06:24.482Z"
   },
   {
    "duration": 28,
    "start_time": "2023-06-12T18:06:24.781Z"
   },
   {
    "duration": 199,
    "start_time": "2023-06-12T18:06:24.811Z"
   },
   {
    "duration": 92,
    "start_time": "2023-06-12T18:06:25.012Z"
   },
   {
    "duration": 109,
    "start_time": "2023-06-12T18:06:25.106Z"
   },
   {
    "duration": 176,
    "start_time": "2023-06-12T18:06:25.217Z"
   },
   {
    "duration": 16,
    "start_time": "2023-06-12T18:06:25.395Z"
   },
   {
    "duration": 24,
    "start_time": "2023-06-12T18:06:25.412Z"
   },
   {
    "duration": 118,
    "start_time": "2023-06-12T18:06:25.439Z"
   },
   {
    "duration": 8,
    "start_time": "2023-06-12T18:06:25.559Z"
   },
   {
    "duration": 19,
    "start_time": "2023-06-12T18:06:25.573Z"
   },
   {
    "duration": 12,
    "start_time": "2023-06-12T18:06:25.597Z"
   },
   {
    "duration": 38,
    "start_time": "2023-06-12T18:06:25.629Z"
   },
   {
    "duration": 3,
    "start_time": "2023-06-12T18:06:25.669Z"
   },
   {
    "duration": 9,
    "start_time": "2023-06-12T18:06:25.675Z"
   },
   {
    "duration": 11,
    "start_time": "2023-06-12T18:06:25.686Z"
   },
   {
    "duration": 6,
    "start_time": "2023-06-12T18:06:25.699Z"
   },
   {
    "duration": 5,
    "start_time": "2023-06-12T18:06:25.707Z"
   },
   {
    "duration": 11,
    "start_time": "2023-06-12T18:06:25.714Z"
   },
   {
    "duration": 26,
    "start_time": "2023-06-12T18:06:25.727Z"
   },
   {
    "duration": 8,
    "start_time": "2023-06-12T18:06:25.759Z"
   },
   {
    "duration": 4,
    "start_time": "2023-06-12T18:06:25.771Z"
   },
   {
    "duration": 7,
    "start_time": "2023-06-12T18:06:25.776Z"
   },
   {
    "duration": 124,
    "start_time": "2023-06-12T18:06:25.784Z"
   },
   {
    "duration": 0,
    "start_time": "2023-06-12T18:06:25.910Z"
   },
   {
    "duration": 0,
    "start_time": "2023-06-12T18:06:25.912Z"
   },
   {
    "duration": 0,
    "start_time": "2023-06-12T18:06:25.913Z"
   },
   {
    "duration": 0,
    "start_time": "2023-06-12T18:06:25.914Z"
   },
   {
    "duration": 0,
    "start_time": "2023-06-12T18:06:25.925Z"
   },
   {
    "duration": 0,
    "start_time": "2023-06-12T18:06:25.926Z"
   },
   {
    "duration": 0,
    "start_time": "2023-06-12T18:06:25.927Z"
   },
   {
    "duration": 0,
    "start_time": "2023-06-12T18:06:25.930Z"
   },
   {
    "duration": 0,
    "start_time": "2023-06-12T18:06:25.930Z"
   },
   {
    "duration": 0,
    "start_time": "2023-06-12T18:06:25.931Z"
   },
   {
    "duration": 0,
    "start_time": "2023-06-12T18:06:25.932Z"
   },
   {
    "duration": 0,
    "start_time": "2023-06-12T18:06:25.933Z"
   },
   {
    "duration": 0,
    "start_time": "2023-06-12T18:06:25.934Z"
   },
   {
    "duration": 0,
    "start_time": "2023-06-12T18:06:25.935Z"
   },
   {
    "duration": 0,
    "start_time": "2023-06-12T18:06:25.935Z"
   },
   {
    "duration": 21,
    "start_time": "2023-06-12T18:06:46.848Z"
   },
   {
    "duration": 16,
    "start_time": "2023-06-12T18:06:52.772Z"
   },
   {
    "duration": 21,
    "start_time": "2023-06-12T18:08:23.163Z"
   },
   {
    "duration": 21,
    "start_time": "2023-06-12T18:08:30.889Z"
   },
   {
    "duration": 39,
    "start_time": "2023-06-12T18:11:28.601Z"
   },
   {
    "duration": 4,
    "start_time": "2023-06-12T18:16:35.319Z"
   },
   {
    "duration": 7,
    "start_time": "2023-06-12T18:16:47.485Z"
   },
   {
    "duration": 1608,
    "start_time": "2023-06-12T18:16:55.112Z"
   },
   {
    "duration": 18,
    "start_time": "2023-06-12T18:16:56.723Z"
   },
   {
    "duration": 276,
    "start_time": "2023-06-12T18:16:56.743Z"
   },
   {
    "duration": 14,
    "start_time": "2023-06-12T18:16:57.021Z"
   },
   {
    "duration": 246,
    "start_time": "2023-06-12T18:16:57.038Z"
   },
   {
    "duration": 159,
    "start_time": "2023-06-12T18:16:57.286Z"
   },
   {
    "duration": 67,
    "start_time": "2023-06-12T18:16:57.451Z"
   },
   {
    "duration": 888,
    "start_time": "2023-06-12T18:16:57.520Z"
   },
   {
    "duration": 4,
    "start_time": "2023-06-12T18:16:58.411Z"
   },
   {
    "duration": 97,
    "start_time": "2023-06-12T18:16:58.425Z"
   },
   {
    "duration": 20,
    "start_time": "2023-06-12T18:16:58.525Z"
   },
   {
    "duration": 17,
    "start_time": "2023-06-12T18:16:58.551Z"
   },
   {
    "duration": 93,
    "start_time": "2023-06-12T18:16:58.570Z"
   },
   {
    "duration": 11,
    "start_time": "2023-06-12T18:16:58.671Z"
   },
   {
    "duration": 14,
    "start_time": "2023-06-12T18:16:58.692Z"
   },
   {
    "duration": 436,
    "start_time": "2023-06-12T18:16:58.708Z"
   },
   {
    "duration": 426,
    "start_time": "2023-06-12T18:16:59.146Z"
   },
   {
    "duration": 55,
    "start_time": "2023-06-12T18:16:59.575Z"
   },
   {
    "duration": 268,
    "start_time": "2023-06-12T18:16:59.633Z"
   },
   {
    "duration": 107,
    "start_time": "2023-06-12T18:16:59.905Z"
   },
   {
    "duration": 145,
    "start_time": "2023-06-12T18:17:00.019Z"
   },
   {
    "duration": 221,
    "start_time": "2023-06-12T18:17:00.166Z"
   },
   {
    "duration": 22,
    "start_time": "2023-06-12T18:17:00.389Z"
   },
   {
    "duration": 98,
    "start_time": "2023-06-12T18:17:00.414Z"
   },
   {
    "duration": 235,
    "start_time": "2023-06-12T18:17:00.514Z"
   },
   {
    "duration": 15,
    "start_time": "2023-06-12T18:17:00.751Z"
   },
   {
    "duration": 285,
    "start_time": "2023-06-12T18:17:00.768Z"
   },
   {
    "duration": 46,
    "start_time": "2023-06-12T18:17:01.063Z"
   },
   {
    "duration": 51,
    "start_time": "2023-06-12T18:17:01.110Z"
   },
   {
    "duration": 38,
    "start_time": "2023-06-12T18:17:01.164Z"
   },
   {
    "duration": 89,
    "start_time": "2023-06-12T18:17:01.205Z"
   },
   {
    "duration": 55,
    "start_time": "2023-06-12T18:17:01.296Z"
   },
   {
    "duration": 27,
    "start_time": "2023-06-12T18:17:01.353Z"
   },
   {
    "duration": 58,
    "start_time": "2023-06-12T18:17:01.383Z"
   },
   {
    "duration": 148,
    "start_time": "2023-06-12T18:17:01.444Z"
   },
   {
    "duration": 44,
    "start_time": "2023-06-12T18:17:01.595Z"
   },
   {
    "duration": 61,
    "start_time": "2023-06-12T18:17:01.641Z"
   },
   {
    "duration": 70,
    "start_time": "2023-06-12T18:17:01.704Z"
   },
   {
    "duration": 59,
    "start_time": "2023-06-12T18:17:01.776Z"
   },
   {
    "duration": 144,
    "start_time": "2023-06-12T18:17:01.837Z"
   },
   {
    "duration": 65,
    "start_time": "2023-06-12T18:17:01.986Z"
   },
   {
    "duration": 35,
    "start_time": "2023-06-12T18:17:02.057Z"
   },
   {
    "duration": 194,
    "start_time": "2023-06-12T18:17:02.096Z"
   },
   {
    "duration": 0,
    "start_time": "2023-06-12T18:17:02.292Z"
   },
   {
    "duration": 0,
    "start_time": "2023-06-12T18:17:02.298Z"
   },
   {
    "duration": 0,
    "start_time": "2023-06-12T18:17:02.300Z"
   },
   {
    "duration": 0,
    "start_time": "2023-06-12T18:17:02.301Z"
   },
   {
    "duration": 0,
    "start_time": "2023-06-12T18:17:02.303Z"
   },
   {
    "duration": 0,
    "start_time": "2023-06-12T18:17:02.304Z"
   },
   {
    "duration": 0,
    "start_time": "2023-06-12T18:17:02.306Z"
   },
   {
    "duration": 0,
    "start_time": "2023-06-12T18:17:02.308Z"
   },
   {
    "duration": 0,
    "start_time": "2023-06-12T18:17:02.310Z"
   },
   {
    "duration": 0,
    "start_time": "2023-06-12T18:17:02.311Z"
   },
   {
    "duration": 0,
    "start_time": "2023-06-12T18:17:02.312Z"
   },
   {
    "duration": 0,
    "start_time": "2023-06-12T18:17:02.313Z"
   },
   {
    "duration": 0,
    "start_time": "2023-06-12T18:17:02.330Z"
   },
   {
    "duration": 0,
    "start_time": "2023-06-12T18:17:02.331Z"
   },
   {
    "duration": 0,
    "start_time": "2023-06-12T18:17:02.332Z"
   },
   {
    "duration": 9,
    "start_time": "2023-06-12T18:17:23.125Z"
   },
   {
    "duration": 4,
    "start_time": "2023-06-12T18:17:28.216Z"
   },
   {
    "duration": 20,
    "start_time": "2023-06-12T18:17:37.645Z"
   },
   {
    "duration": 4,
    "start_time": "2023-06-12T18:17:39.114Z"
   },
   {
    "duration": 10,
    "start_time": "2023-06-12T18:17:42.411Z"
   },
   {
    "duration": 9,
    "start_time": "2023-06-12T18:17:49.382Z"
   },
   {
    "duration": 5,
    "start_time": "2023-06-12T18:17:55.617Z"
   },
   {
    "duration": 14,
    "start_time": "2023-06-12T18:18:18.827Z"
   },
   {
    "duration": 4,
    "start_time": "2023-06-12T18:18:20.292Z"
   },
   {
    "duration": 1642,
    "start_time": "2023-06-12T18:19:19.379Z"
   },
   {
    "duration": 7,
    "start_time": "2023-06-12T18:19:21.023Z"
   },
   {
    "duration": 464,
    "start_time": "2023-06-12T18:19:21.034Z"
   },
   {
    "duration": 6,
    "start_time": "2023-06-12T18:19:21.500Z"
   },
   {
    "duration": 263,
    "start_time": "2023-06-12T18:19:21.509Z"
   },
   {
    "duration": 153,
    "start_time": "2023-06-12T18:19:21.776Z"
   },
   {
    "duration": 75,
    "start_time": "2023-06-12T18:19:21.936Z"
   },
   {
    "duration": 957,
    "start_time": "2023-06-12T18:19:22.015Z"
   },
   {
    "duration": 10,
    "start_time": "2023-06-12T18:19:22.975Z"
   },
   {
    "duration": 109,
    "start_time": "2023-06-12T18:19:22.987Z"
   },
   {
    "duration": 13,
    "start_time": "2023-06-12T18:19:23.098Z"
   },
   {
    "duration": 24,
    "start_time": "2023-06-12T18:19:23.113Z"
   },
   {
    "duration": 77,
    "start_time": "2023-06-12T18:19:23.139Z"
   },
   {
    "duration": 9,
    "start_time": "2023-06-12T18:19:23.221Z"
   },
   {
    "duration": 44,
    "start_time": "2023-06-12T18:19:23.232Z"
   },
   {
    "duration": 421,
    "start_time": "2023-06-12T18:19:23.280Z"
   },
   {
    "duration": 344,
    "start_time": "2023-06-12T18:19:23.703Z"
   },
   {
    "duration": 40,
    "start_time": "2023-06-12T18:19:24.049Z"
   },
   {
    "duration": 225,
    "start_time": "2023-06-12T18:19:24.092Z"
   },
   {
    "duration": 95,
    "start_time": "2023-06-12T18:19:24.320Z"
   },
   {
    "duration": 120,
    "start_time": "2023-06-12T18:19:24.417Z"
   },
   {
    "duration": 250,
    "start_time": "2023-06-12T18:19:24.539Z"
   },
   {
    "duration": 37,
    "start_time": "2023-06-12T18:19:24.804Z"
   },
   {
    "duration": 20,
    "start_time": "2023-06-12T18:19:24.849Z"
   },
   {
    "duration": 194,
    "start_time": "2023-06-12T18:19:24.876Z"
   },
   {
    "duration": 19,
    "start_time": "2023-06-12T18:19:25.082Z"
   },
   {
    "duration": 57,
    "start_time": "2023-06-12T18:19:25.104Z"
   },
   {
    "duration": 16,
    "start_time": "2023-06-12T18:19:25.176Z"
   },
   {
    "duration": 7,
    "start_time": "2023-06-12T18:19:25.196Z"
   },
   {
    "duration": 34,
    "start_time": "2023-06-12T18:19:25.205Z"
   },
   {
    "duration": 54,
    "start_time": "2023-06-12T18:19:25.249Z"
   },
   {
    "duration": 27,
    "start_time": "2023-06-12T18:19:25.306Z"
   },
   {
    "duration": 35,
    "start_time": "2023-06-12T18:19:25.337Z"
   },
   {
    "duration": 9,
    "start_time": "2023-06-12T18:19:25.374Z"
   },
   {
    "duration": 15,
    "start_time": "2023-06-12T18:19:30.361Z"
   },
   {
    "duration": 10,
    "start_time": "2023-06-12T18:19:42.808Z"
   },
   {
    "duration": 8,
    "start_time": "2023-06-12T18:19:45.713Z"
   },
   {
    "duration": 9,
    "start_time": "2023-06-12T18:19:46.949Z"
   },
   {
    "duration": 16,
    "start_time": "2023-06-12T18:19:51.525Z"
   },
   {
    "duration": 6,
    "start_time": "2023-06-12T18:19:55.712Z"
   },
   {
    "duration": 21,
    "start_time": "2023-06-12T18:20:15.292Z"
   },
   {
    "duration": 5,
    "start_time": "2023-06-12T18:20:17.415Z"
   },
   {
    "duration": 24,
    "start_time": "2023-06-12T18:20:36.770Z"
   },
   {
    "duration": 30,
    "start_time": "2023-06-12T18:20:48.267Z"
   },
   {
    "duration": 5,
    "start_time": "2023-06-12T18:24:33.114Z"
   },
   {
    "duration": 1637,
    "start_time": "2023-06-12T18:24:38.464Z"
   },
   {
    "duration": 4,
    "start_time": "2023-06-12T18:24:40.105Z"
   },
   {
    "duration": 358,
    "start_time": "2023-06-12T18:24:40.111Z"
   },
   {
    "duration": 11,
    "start_time": "2023-06-12T18:24:40.478Z"
   },
   {
    "duration": 222,
    "start_time": "2023-06-12T18:24:40.493Z"
   },
   {
    "duration": 132,
    "start_time": "2023-06-12T18:24:40.719Z"
   },
   {
    "duration": 75,
    "start_time": "2023-06-12T18:24:40.853Z"
   },
   {
    "duration": 868,
    "start_time": "2023-06-12T18:24:40.934Z"
   },
   {
    "duration": 6,
    "start_time": "2023-06-12T18:24:41.804Z"
   },
   {
    "duration": 112,
    "start_time": "2023-06-12T18:24:41.812Z"
   },
   {
    "duration": 17,
    "start_time": "2023-06-12T18:24:41.926Z"
   },
   {
    "duration": 194,
    "start_time": "2023-06-12T18:24:41.946Z"
   },
   {
    "duration": 0,
    "start_time": "2023-06-12T18:24:42.147Z"
   },
   {
    "duration": 0,
    "start_time": "2023-06-12T18:24:42.154Z"
   },
   {
    "duration": 0,
    "start_time": "2023-06-12T18:24:42.156Z"
   },
   {
    "duration": 0,
    "start_time": "2023-06-12T18:24:42.158Z"
   },
   {
    "duration": 0,
    "start_time": "2023-06-12T18:24:42.169Z"
   },
   {
    "duration": 0,
    "start_time": "2023-06-12T18:24:42.171Z"
   },
   {
    "duration": 0,
    "start_time": "2023-06-12T18:24:42.173Z"
   },
   {
    "duration": 0,
    "start_time": "2023-06-12T18:24:42.175Z"
   },
   {
    "duration": 0,
    "start_time": "2023-06-12T18:24:42.177Z"
   },
   {
    "duration": 0,
    "start_time": "2023-06-12T18:24:42.179Z"
   },
   {
    "duration": 0,
    "start_time": "2023-06-12T18:24:42.181Z"
   },
   {
    "duration": 0,
    "start_time": "2023-06-12T18:24:42.183Z"
   },
   {
    "duration": 0,
    "start_time": "2023-06-12T18:24:42.191Z"
   },
   {
    "duration": 0,
    "start_time": "2023-06-12T18:24:42.193Z"
   },
   {
    "duration": 1,
    "start_time": "2023-06-12T18:24:42.194Z"
   },
   {
    "duration": 0,
    "start_time": "2023-06-12T18:24:42.196Z"
   },
   {
    "duration": 0,
    "start_time": "2023-06-12T18:24:42.209Z"
   },
   {
    "duration": 0,
    "start_time": "2023-06-12T18:24:42.211Z"
   },
   {
    "duration": 0,
    "start_time": "2023-06-12T18:24:42.213Z"
   },
   {
    "duration": 0,
    "start_time": "2023-06-12T18:24:42.215Z"
   },
   {
    "duration": 7,
    "start_time": "2023-06-12T18:25:01.174Z"
   },
   {
    "duration": 91,
    "start_time": "2023-06-12T18:25:02.709Z"
   },
   {
    "duration": 9,
    "start_time": "2023-06-12T18:25:06.727Z"
   },
   {
    "duration": 22,
    "start_time": "2023-06-12T18:25:08.449Z"
   },
   {
    "duration": 528,
    "start_time": "2023-06-12T18:25:09.721Z"
   },
   {
    "duration": 1763,
    "start_time": "2023-06-12T18:25:24.770Z"
   },
   {
    "duration": 7,
    "start_time": "2023-06-12T18:25:26.536Z"
   },
   {
    "duration": 358,
    "start_time": "2023-06-12T18:25:26.545Z"
   },
   {
    "duration": 4,
    "start_time": "2023-06-12T18:25:26.905Z"
   },
   {
    "duration": 235,
    "start_time": "2023-06-12T18:25:26.914Z"
   },
   {
    "duration": 142,
    "start_time": "2023-06-12T18:25:27.151Z"
   },
   {
    "duration": 77,
    "start_time": "2023-06-12T18:25:27.298Z"
   },
   {
    "duration": 1031,
    "start_time": "2023-06-12T18:25:27.378Z"
   },
   {
    "duration": 20,
    "start_time": "2023-06-12T18:25:28.417Z"
   },
   {
    "duration": 155,
    "start_time": "2023-06-12T18:25:28.454Z"
   },
   {
    "duration": 12,
    "start_time": "2023-06-12T18:25:28.611Z"
   },
   {
    "duration": 42,
    "start_time": "2023-06-12T18:25:28.629Z"
   },
   {
    "duration": 79,
    "start_time": "2023-06-12T18:25:28.674Z"
   },
   {
    "duration": 10,
    "start_time": "2023-06-12T18:25:28.757Z"
   },
   {
    "duration": 30,
    "start_time": "2023-06-12T18:25:28.769Z"
   },
   {
    "duration": 414,
    "start_time": "2023-06-12T18:25:28.801Z"
   },
   {
    "duration": 371,
    "start_time": "2023-06-12T18:25:29.217Z"
   },
   {
    "duration": 46,
    "start_time": "2023-06-12T18:25:29.590Z"
   },
   {
    "duration": 260,
    "start_time": "2023-06-12T18:25:29.639Z"
   },
   {
    "duration": 139,
    "start_time": "2023-06-12T18:25:29.904Z"
   },
   {
    "duration": 109,
    "start_time": "2023-06-12T18:25:30.048Z"
   },
   {
    "duration": 230,
    "start_time": "2023-06-12T18:25:30.159Z"
   },
   {
    "duration": 32,
    "start_time": "2023-06-12T18:25:30.397Z"
   },
   {
    "duration": 35,
    "start_time": "2023-06-12T18:25:30.431Z"
   },
   {
    "duration": 181,
    "start_time": "2023-06-12T18:25:30.468Z"
   },
   {
    "duration": 170,
    "start_time": "2023-06-12T18:25:30.653Z"
   },
   {
    "duration": 0,
    "start_time": "2023-06-12T18:25:30.832Z"
   },
   {
    "duration": 0,
    "start_time": "2023-06-12T18:25:30.834Z"
   },
   {
    "duration": 0,
    "start_time": "2023-06-12T18:25:30.835Z"
   },
   {
    "duration": 0,
    "start_time": "2023-06-12T18:25:30.842Z"
   },
   {
    "duration": 0,
    "start_time": "2023-06-12T18:25:30.844Z"
   },
   {
    "duration": 0,
    "start_time": "2023-06-12T18:25:30.845Z"
   },
   {
    "duration": 7,
    "start_time": "2023-06-12T18:25:39.114Z"
   },
   {
    "duration": 1946,
    "start_time": "2023-06-12T18:26:41.011Z"
   },
   {
    "duration": 6,
    "start_time": "2023-06-12T18:26:42.959Z"
   },
   {
    "duration": 381,
    "start_time": "2023-06-12T18:26:42.967Z"
   },
   {
    "duration": 7,
    "start_time": "2023-06-12T18:26:43.350Z"
   },
   {
    "duration": 293,
    "start_time": "2023-06-12T18:26:43.360Z"
   },
   {
    "duration": 138,
    "start_time": "2023-06-12T18:26:43.655Z"
   },
   {
    "duration": 70,
    "start_time": "2023-06-12T18:26:43.795Z"
   },
   {
    "duration": 973,
    "start_time": "2023-06-12T18:26:43.868Z"
   },
   {
    "duration": 9,
    "start_time": "2023-06-12T18:26:44.848Z"
   },
   {
    "duration": 107,
    "start_time": "2023-06-12T18:26:44.863Z"
   },
   {
    "duration": 23,
    "start_time": "2023-06-12T18:26:44.975Z"
   },
   {
    "duration": 8,
    "start_time": "2023-06-12T18:26:45.001Z"
   },
   {
    "duration": 93,
    "start_time": "2023-06-12T18:26:45.012Z"
   },
   {
    "duration": 5,
    "start_time": "2023-06-12T18:26:45.109Z"
   },
   {
    "duration": 52,
    "start_time": "2023-06-12T18:26:45.117Z"
   },
   {
    "duration": 421,
    "start_time": "2023-06-12T18:26:45.180Z"
   },
   {
    "duration": 419,
    "start_time": "2023-06-12T18:26:45.604Z"
   },
   {
    "duration": 42,
    "start_time": "2023-06-12T18:26:46.031Z"
   },
   {
    "duration": 258,
    "start_time": "2023-06-12T18:26:46.086Z"
   },
   {
    "duration": 103,
    "start_time": "2023-06-12T18:26:46.346Z"
   },
   {
    "duration": 10,
    "start_time": "2023-06-12T18:26:46.460Z"
   },
   {
    "duration": 98,
    "start_time": "2023-06-12T18:26:46.475Z"
   },
   {
    "duration": 227,
    "start_time": "2023-06-12T18:26:46.576Z"
   },
   {
    "duration": 54,
    "start_time": "2023-06-12T18:26:46.807Z"
   },
   {
    "duration": 10,
    "start_time": "2023-06-12T18:26:46.872Z"
   },
   {
    "duration": 161,
    "start_time": "2023-06-12T18:26:46.887Z"
   },
   {
    "duration": 13,
    "start_time": "2023-06-12T18:26:47.054Z"
   },
   {
    "duration": 39,
    "start_time": "2023-06-12T18:26:47.069Z"
   },
   {
    "duration": 49,
    "start_time": "2023-06-12T18:26:47.110Z"
   },
   {
    "duration": 38,
    "start_time": "2023-06-12T18:26:47.165Z"
   },
   {
    "duration": 26,
    "start_time": "2023-06-12T18:26:47.205Z"
   },
   {
    "duration": 69,
    "start_time": "2023-06-12T18:26:47.233Z"
   },
   {
    "duration": 382,
    "start_time": "2023-06-12T18:27:28.659Z"
   },
   {
    "duration": 1811,
    "start_time": "2023-06-12T18:27:45.647Z"
   },
   {
    "duration": 9,
    "start_time": "2023-06-12T18:27:47.461Z"
   },
   {
    "duration": 348,
    "start_time": "2023-06-12T18:27:47.471Z"
   },
   {
    "duration": 7,
    "start_time": "2023-06-12T18:27:47.821Z"
   },
   {
    "duration": 314,
    "start_time": "2023-06-12T18:27:47.831Z"
   },
   {
    "duration": 134,
    "start_time": "2023-06-12T18:27:48.157Z"
   },
   {
    "duration": 64,
    "start_time": "2023-06-12T18:27:48.296Z"
   },
   {
    "duration": 971,
    "start_time": "2023-06-12T18:27:48.362Z"
   },
   {
    "duration": 8,
    "start_time": "2023-06-12T18:27:49.337Z"
   },
   {
    "duration": 120,
    "start_time": "2023-06-12T18:27:49.347Z"
   },
   {
    "duration": 24,
    "start_time": "2023-06-12T18:27:49.473Z"
   },
   {
    "duration": 14,
    "start_time": "2023-06-12T18:27:49.509Z"
   },
   {
    "duration": 89,
    "start_time": "2023-06-12T18:27:49.526Z"
   },
   {
    "duration": 4,
    "start_time": "2023-06-12T18:27:49.618Z"
   },
   {
    "duration": 33,
    "start_time": "2023-06-12T18:27:49.625Z"
   },
   {
    "duration": 500,
    "start_time": "2023-06-12T18:27:49.660Z"
   },
   {
    "duration": 406,
    "start_time": "2023-06-12T18:27:50.163Z"
   },
   {
    "duration": 27,
    "start_time": "2023-06-12T18:27:50.579Z"
   },
   {
    "duration": 230,
    "start_time": "2023-06-12T18:27:50.608Z"
   },
   {
    "duration": 107,
    "start_time": "2023-06-12T18:27:50.840Z"
   },
   {
    "duration": 124,
    "start_time": "2023-06-12T18:27:50.949Z"
   },
   {
    "duration": 223,
    "start_time": "2023-06-12T18:27:51.080Z"
   },
   {
    "duration": 40,
    "start_time": "2023-06-12T18:27:51.306Z"
   },
   {
    "duration": 7,
    "start_time": "2023-06-12T18:27:51.353Z"
   },
   {
    "duration": 149,
    "start_time": "2023-06-12T18:27:51.369Z"
   },
   {
    "duration": 24,
    "start_time": "2023-06-12T18:27:51.520Z"
   },
   {
    "duration": 23,
    "start_time": "2023-06-12T18:27:51.546Z"
   },
   {
    "duration": 18,
    "start_time": "2023-06-12T18:27:51.571Z"
   },
   {
    "duration": 67,
    "start_time": "2023-06-12T18:27:51.592Z"
   },
   {
    "duration": 30,
    "start_time": "2023-06-12T18:27:51.663Z"
   },
   {
    "duration": 20,
    "start_time": "2023-06-12T18:27:51.696Z"
   },
   {
    "duration": 220,
    "start_time": "2023-06-12T18:27:59.617Z"
   },
   {
    "duration": 7,
    "start_time": "2023-06-12T18:28:31.882Z"
   },
   {
    "duration": 7,
    "start_time": "2023-06-12T18:28:35.048Z"
   },
   {
    "duration": 34,
    "start_time": "2023-06-12T18:29:42.398Z"
   },
   {
    "duration": 18,
    "start_time": "2023-06-12T18:34:05.491Z"
   },
   {
    "duration": 14,
    "start_time": "2023-06-12T18:34:15.084Z"
   },
   {
    "duration": 50,
    "start_time": "2023-06-12T18:34:42.699Z"
   },
   {
    "duration": 5,
    "start_time": "2023-06-12T18:34:56.050Z"
   },
   {
    "duration": 286,
    "start_time": "2023-06-12T18:35:00.330Z"
   },
   {
    "duration": 42,
    "start_time": "2023-06-12T18:35:03.611Z"
   },
   {
    "duration": 6,
    "start_time": "2023-06-12T18:35:25.113Z"
   },
   {
    "duration": 10,
    "start_time": "2023-06-12T18:35:29.002Z"
   },
   {
    "duration": 17,
    "start_time": "2023-06-12T18:35:41.593Z"
   },
   {
    "duration": 21,
    "start_time": "2023-06-12T18:41:21.317Z"
   },
   {
    "duration": 40,
    "start_time": "2023-06-12T18:41:23.061Z"
   },
   {
    "duration": 1570,
    "start_time": "2023-06-12T18:41:48.503Z"
   },
   {
    "duration": 16,
    "start_time": "2023-06-12T18:41:50.080Z"
   },
   {
    "duration": 341,
    "start_time": "2023-06-12T18:41:50.098Z"
   },
   {
    "duration": 7,
    "start_time": "2023-06-12T18:41:50.442Z"
   },
   {
    "duration": 318,
    "start_time": "2023-06-12T18:41:50.451Z"
   },
   {
    "duration": 141,
    "start_time": "2023-06-12T18:41:50.776Z"
   },
   {
    "duration": 69,
    "start_time": "2023-06-12T18:41:50.919Z"
   },
   {
    "duration": 817,
    "start_time": "2023-06-12T18:41:50.989Z"
   },
   {
    "duration": 158,
    "start_time": "2023-06-12T18:41:51.808Z"
   },
   {
    "duration": 0,
    "start_time": "2023-06-12T18:41:51.969Z"
   },
   {
    "duration": 0,
    "start_time": "2023-06-12T18:41:51.970Z"
   },
   {
    "duration": 0,
    "start_time": "2023-06-12T18:41:51.972Z"
   },
   {
    "duration": 0,
    "start_time": "2023-06-12T18:41:51.973Z"
   },
   {
    "duration": 0,
    "start_time": "2023-06-12T18:41:51.974Z"
   },
   {
    "duration": 0,
    "start_time": "2023-06-12T18:41:51.975Z"
   },
   {
    "duration": 0,
    "start_time": "2023-06-12T18:41:51.976Z"
   },
   {
    "duration": 0,
    "start_time": "2023-06-12T18:41:51.977Z"
   },
   {
    "duration": 0,
    "start_time": "2023-06-12T18:41:51.978Z"
   },
   {
    "duration": 0,
    "start_time": "2023-06-12T18:41:51.980Z"
   },
   {
    "duration": 0,
    "start_time": "2023-06-12T18:41:51.981Z"
   },
   {
    "duration": 0,
    "start_time": "2023-06-12T18:41:51.982Z"
   },
   {
    "duration": 0,
    "start_time": "2023-06-12T18:41:51.983Z"
   },
   {
    "duration": 0,
    "start_time": "2023-06-12T18:41:51.985Z"
   },
   {
    "duration": 0,
    "start_time": "2023-06-12T18:41:51.986Z"
   },
   {
    "duration": 0,
    "start_time": "2023-06-12T18:41:51.987Z"
   },
   {
    "duration": 0,
    "start_time": "2023-06-12T18:41:51.988Z"
   },
   {
    "duration": 0,
    "start_time": "2023-06-12T18:41:51.990Z"
   },
   {
    "duration": 0,
    "start_time": "2023-06-12T18:41:51.991Z"
   },
   {
    "duration": 0,
    "start_time": "2023-06-12T18:41:51.992Z"
   },
   {
    "duration": 0,
    "start_time": "2023-06-12T18:41:51.993Z"
   },
   {
    "duration": 1,
    "start_time": "2023-06-12T18:41:51.994Z"
   },
   {
    "duration": 0,
    "start_time": "2023-06-12T18:41:51.996Z"
   },
   {
    "duration": 36,
    "start_time": "2023-06-12T18:42:21.849Z"
   },
   {
    "duration": 111,
    "start_time": "2023-06-12T18:42:55.950Z"
   },
   {
    "duration": 168,
    "start_time": "2023-06-12T18:43:11.009Z"
   },
   {
    "duration": 130,
    "start_time": "2023-06-12T18:43:33.787Z"
   },
   {
    "duration": 139,
    "start_time": "2023-06-12T18:43:38.850Z"
   },
   {
    "duration": 156,
    "start_time": "2023-06-12T18:44:09.943Z"
   },
   {
    "duration": 81,
    "start_time": "2023-06-12T18:44:12.276Z"
   },
   {
    "duration": 1610,
    "start_time": "2023-06-12T18:44:35.795Z"
   },
   {
    "duration": 3,
    "start_time": "2023-06-12T18:44:37.410Z"
   },
   {
    "duration": 367,
    "start_time": "2023-06-12T18:44:37.414Z"
   },
   {
    "duration": 9,
    "start_time": "2023-06-12T18:44:37.791Z"
   },
   {
    "duration": 209,
    "start_time": "2023-06-12T18:44:37.803Z"
   },
   {
    "duration": 127,
    "start_time": "2023-06-12T18:44:38.014Z"
   },
   {
    "duration": 66,
    "start_time": "2023-06-12T18:44:38.143Z"
   },
   {
    "duration": 903,
    "start_time": "2023-06-12T18:44:38.211Z"
   },
   {
    "duration": 13,
    "start_time": "2023-06-12T18:44:39.116Z"
   },
   {
    "duration": 93,
    "start_time": "2023-06-12T18:44:39.135Z"
   },
   {
    "duration": 10,
    "start_time": "2023-06-12T18:44:39.231Z"
   },
   {
    "duration": 43,
    "start_time": "2023-06-12T18:44:39.243Z"
   },
   {
    "duration": 71,
    "start_time": "2023-06-12T18:44:39.288Z"
   },
   {
    "duration": 5,
    "start_time": "2023-06-12T18:44:39.363Z"
   },
   {
    "duration": 33,
    "start_time": "2023-06-12T18:44:39.371Z"
   },
   {
    "duration": 466,
    "start_time": "2023-06-12T18:44:39.406Z"
   },
   {
    "duration": 417,
    "start_time": "2023-06-12T18:44:39.874Z"
   },
   {
    "duration": 30,
    "start_time": "2023-06-12T18:44:40.299Z"
   },
   {
    "duration": 250,
    "start_time": "2023-06-12T18:44:40.338Z"
   },
   {
    "duration": 105,
    "start_time": "2023-06-12T18:44:40.590Z"
   },
   {
    "duration": 111,
    "start_time": "2023-06-12T18:44:40.700Z"
   },
   {
    "duration": 261,
    "start_time": "2023-06-12T18:44:40.814Z"
   },
   {
    "duration": 26,
    "start_time": "2023-06-12T18:44:41.082Z"
   },
   {
    "duration": 9,
    "start_time": "2023-06-12T18:44:41.112Z"
   },
   {
    "duration": 232,
    "start_time": "2023-06-12T18:44:41.124Z"
   },
   {
    "duration": 9,
    "start_time": "2023-06-12T18:44:41.358Z"
   },
   {
    "duration": 10,
    "start_time": "2023-06-12T18:44:41.370Z"
   },
   {
    "duration": 18,
    "start_time": "2023-06-12T18:44:41.383Z"
   },
   {
    "duration": 43,
    "start_time": "2023-06-12T18:44:41.403Z"
   },
   {
    "duration": 22,
    "start_time": "2023-06-12T18:44:41.448Z"
   },
   {
    "duration": 29,
    "start_time": "2023-06-12T18:44:41.472Z"
   },
   {
    "duration": 3,
    "start_time": "2023-06-12T18:45:21.278Z"
   },
   {
    "duration": 21,
    "start_time": "2023-06-12T18:53:33.686Z"
   },
   {
    "duration": 30,
    "start_time": "2023-06-12T18:53:51.114Z"
   },
   {
    "duration": 16,
    "start_time": "2023-06-12T18:55:17.367Z"
   },
   {
    "duration": 21,
    "start_time": "2023-06-12T18:55:20.183Z"
   },
   {
    "duration": 8,
    "start_time": "2023-06-12T18:55:25.615Z"
   },
   {
    "duration": 8,
    "start_time": "2023-06-12T18:55:30.720Z"
   },
   {
    "duration": 63,
    "start_time": "2023-06-12T18:55:51.323Z"
   },
   {
    "duration": 40,
    "start_time": "2023-06-12T18:56:01.277Z"
   },
   {
    "duration": 34,
    "start_time": "2023-06-12T18:56:21.256Z"
   },
   {
    "duration": 17,
    "start_time": "2023-06-12T18:56:36.600Z"
   },
   {
    "duration": 56,
    "start_time": "2023-06-12T18:56:42.369Z"
   },
   {
    "duration": 34,
    "start_time": "2023-06-12T18:57:05.603Z"
   },
   {
    "duration": 252,
    "start_time": "2023-06-12T18:57:51.907Z"
   },
   {
    "duration": 22,
    "start_time": "2023-06-12T18:57:53.295Z"
   },
   {
    "duration": 273,
    "start_time": "2023-06-12T18:58:09.490Z"
   },
   {
    "duration": 22,
    "start_time": "2023-06-12T18:58:11.093Z"
   },
   {
    "duration": 333,
    "start_time": "2023-06-12T19:00:07.543Z"
   },
   {
    "duration": 195,
    "start_time": "2023-06-12T19:00:09.186Z"
   },
   {
    "duration": 13,
    "start_time": "2023-06-12T19:00:13.199Z"
   },
   {
    "duration": 10,
    "start_time": "2023-06-12T19:03:12.463Z"
   },
   {
    "duration": 131,
    "start_time": "2023-06-12T19:03:34.869Z"
   },
   {
    "duration": 25,
    "start_time": "2023-06-12T19:03:42.464Z"
   },
   {
    "duration": 11,
    "start_time": "2023-06-12T19:04:44.310Z"
   },
   {
    "duration": 15,
    "start_time": "2023-06-12T19:05:02.468Z"
   },
   {
    "duration": 9,
    "start_time": "2023-06-12T19:05:06.983Z"
   },
   {
    "duration": 5,
    "start_time": "2023-06-12T19:05:10.599Z"
   },
   {
    "duration": 90,
    "start_time": "2023-06-12T19:05:11.779Z"
   },
   {
    "duration": 96,
    "start_time": "2023-06-12T19:05:23.574Z"
   },
   {
    "duration": 104,
    "start_time": "2023-06-12T19:05:30.373Z"
   },
   {
    "duration": 95,
    "start_time": "2023-06-12T19:05:47.684Z"
   },
   {
    "duration": 131,
    "start_time": "2023-06-12T19:07:51.210Z"
   },
   {
    "duration": 94,
    "start_time": "2023-06-12T19:08:35.515Z"
   },
   {
    "duration": 98,
    "start_time": "2023-06-12T19:08:43.302Z"
   },
   {
    "duration": 7,
    "start_time": "2023-06-12T19:09:27.708Z"
   },
   {
    "duration": 13,
    "start_time": "2023-06-12T19:09:30.209Z"
   },
   {
    "duration": 19,
    "start_time": "2023-06-12T19:09:32.075Z"
   },
   {
    "duration": 34,
    "start_time": "2023-06-12T19:09:34.922Z"
   },
   {
    "duration": 20,
    "start_time": "2023-06-12T19:09:37.773Z"
   },
   {
    "duration": 39,
    "start_time": "2023-06-12T19:09:43.199Z"
   },
   {
    "duration": 88,
    "start_time": "2023-06-12T19:10:03.525Z"
   },
   {
    "duration": 20,
    "start_time": "2023-06-12T19:10:42.268Z"
   },
   {
    "duration": 11,
    "start_time": "2023-06-12T19:11:03.907Z"
   },
   {
    "duration": 5,
    "start_time": "2023-06-12T19:11:11.444Z"
   },
   {
    "duration": 10,
    "start_time": "2023-06-12T19:11:23.903Z"
   },
   {
    "duration": 4,
    "start_time": "2023-06-12T19:11:26.415Z"
   },
   {
    "duration": 12,
    "start_time": "2023-06-12T19:11:30.278Z"
   },
   {
    "duration": 116,
    "start_time": "2023-06-12T19:12:01.369Z"
   },
   {
    "duration": 94,
    "start_time": "2023-06-12T19:12:14.488Z"
   },
   {
    "duration": 100,
    "start_time": "2023-06-12T19:12:19.276Z"
   },
   {
    "duration": 8,
    "start_time": "2023-06-12T19:12:20.597Z"
   },
   {
    "duration": 13,
    "start_time": "2023-06-12T19:12:26.654Z"
   },
   {
    "duration": 1394,
    "start_time": "2023-06-12T19:12:33.767Z"
   },
   {
    "duration": 3,
    "start_time": "2023-06-12T19:12:35.168Z"
   },
   {
    "duration": 248,
    "start_time": "2023-06-12T19:12:35.174Z"
   },
   {
    "duration": 11,
    "start_time": "2023-06-12T19:12:35.424Z"
   },
   {
    "duration": 181,
    "start_time": "2023-06-12T19:12:35.441Z"
   },
   {
    "duration": 130,
    "start_time": "2023-06-12T19:12:35.625Z"
   },
   {
    "duration": 60,
    "start_time": "2023-06-12T19:12:35.758Z"
   },
   {
    "duration": 697,
    "start_time": "2023-06-12T19:12:35.820Z"
   },
   {
    "duration": 8,
    "start_time": "2023-06-12T19:12:36.518Z"
   },
   {
    "duration": 119,
    "start_time": "2023-06-12T19:12:36.527Z"
   },
   {
    "duration": 18,
    "start_time": "2023-06-12T19:12:36.648Z"
   },
   {
    "duration": 13,
    "start_time": "2023-06-12T19:12:36.670Z"
   },
   {
    "duration": 52,
    "start_time": "2023-06-12T19:12:36.685Z"
   },
   {
    "duration": 8,
    "start_time": "2023-06-12T19:12:36.741Z"
   },
   {
    "duration": 26,
    "start_time": "2023-06-12T19:12:36.755Z"
   },
   {
    "duration": 380,
    "start_time": "2023-06-12T19:12:36.783Z"
   },
   {
    "duration": 311,
    "start_time": "2023-06-12T19:12:37.168Z"
   },
   {
    "duration": 29,
    "start_time": "2023-06-12T19:12:37.481Z"
   },
   {
    "duration": 212,
    "start_time": "2023-06-12T19:12:37.512Z"
   },
   {
    "duration": 77,
    "start_time": "2023-06-12T19:12:37.730Z"
   },
   {
    "duration": 104,
    "start_time": "2023-06-12T19:12:37.809Z"
   },
   {
    "duration": 185,
    "start_time": "2023-06-12T19:12:37.916Z"
   },
   {
    "duration": 26,
    "start_time": "2023-06-12T19:12:38.103Z"
   },
   {
    "duration": 110,
    "start_time": "2023-06-12T19:12:38.132Z"
   },
   {
    "duration": 74,
    "start_time": "2023-06-12T19:12:38.244Z"
   },
   {
    "duration": 14,
    "start_time": "2023-06-12T19:12:38.329Z"
   },
   {
    "duration": 17,
    "start_time": "2023-06-12T19:12:38.350Z"
   },
   {
    "duration": 10,
    "start_time": "2023-06-12T19:12:38.369Z"
   },
   {
    "duration": 22,
    "start_time": "2023-06-12T19:12:38.381Z"
   },
   {
    "duration": 30,
    "start_time": "2023-06-12T19:12:38.405Z"
   },
   {
    "duration": 21,
    "start_time": "2023-06-12T19:12:38.441Z"
   },
   {
    "duration": 22,
    "start_time": "2023-06-12T19:12:38.463Z"
   },
   {
    "duration": 68,
    "start_time": "2023-06-12T19:12:38.487Z"
   },
   {
    "duration": 6,
    "start_time": "2023-06-12T19:12:38.557Z"
   },
   {
    "duration": 5,
    "start_time": "2023-06-12T19:13:37.319Z"
   },
   {
    "duration": 1349,
    "start_time": "2023-06-13T10:55:13.198Z"
   },
   {
    "duration": 2,
    "start_time": "2023-06-13T10:55:14.549Z"
   },
   {
    "duration": 550,
    "start_time": "2023-06-13T10:55:14.552Z"
   },
   {
    "duration": 3,
    "start_time": "2023-06-13T10:55:15.104Z"
   },
   {
    "duration": 189,
    "start_time": "2023-06-13T10:55:15.109Z"
   },
   {
    "duration": 91,
    "start_time": "2023-06-13T10:55:15.300Z"
   },
   {
    "duration": 0,
    "start_time": "2023-06-13T10:55:15.393Z"
   },
   {
    "duration": 0,
    "start_time": "2023-06-13T10:55:15.395Z"
   },
   {
    "duration": 0,
    "start_time": "2023-06-13T10:55:15.396Z"
   },
   {
    "duration": 0,
    "start_time": "2023-06-13T10:55:15.398Z"
   },
   {
    "duration": 0,
    "start_time": "2023-06-13T10:55:15.399Z"
   },
   {
    "duration": 0,
    "start_time": "2023-06-13T10:55:15.401Z"
   },
   {
    "duration": 0,
    "start_time": "2023-06-13T10:55:15.402Z"
   },
   {
    "duration": 0,
    "start_time": "2023-06-13T10:55:15.404Z"
   },
   {
    "duration": 0,
    "start_time": "2023-06-13T10:55:15.405Z"
   },
   {
    "duration": 0,
    "start_time": "2023-06-13T10:55:15.406Z"
   },
   {
    "duration": 0,
    "start_time": "2023-06-13T10:55:15.408Z"
   },
   {
    "duration": 0,
    "start_time": "2023-06-13T10:55:15.409Z"
   },
   {
    "duration": 0,
    "start_time": "2023-06-13T10:55:15.410Z"
   },
   {
    "duration": 0,
    "start_time": "2023-06-13T10:55:15.411Z"
   },
   {
    "duration": 0,
    "start_time": "2023-06-13T10:55:15.413Z"
   },
   {
    "duration": 0,
    "start_time": "2023-06-13T10:55:15.414Z"
   },
   {
    "duration": 0,
    "start_time": "2023-06-13T10:55:15.414Z"
   },
   {
    "duration": 0,
    "start_time": "2023-06-13T10:55:15.415Z"
   },
   {
    "duration": 0,
    "start_time": "2023-06-13T10:55:15.416Z"
   },
   {
    "duration": 0,
    "start_time": "2023-06-13T10:55:15.417Z"
   },
   {
    "duration": 0,
    "start_time": "2023-06-13T10:55:15.418Z"
   },
   {
    "duration": 0,
    "start_time": "2023-06-13T10:55:15.419Z"
   },
   {
    "duration": 0,
    "start_time": "2023-06-13T10:55:15.420Z"
   },
   {
    "duration": 0,
    "start_time": "2023-06-13T10:55:15.421Z"
   },
   {
    "duration": 0,
    "start_time": "2023-06-13T10:55:15.422Z"
   },
   {
    "duration": 0,
    "start_time": "2023-06-13T10:55:15.471Z"
   },
   {
    "duration": 0,
    "start_time": "2023-06-13T10:55:15.473Z"
   },
   {
    "duration": 0,
    "start_time": "2023-06-13T10:55:15.474Z"
   },
   {
    "duration": 63,
    "start_time": "2023-06-13T10:55:27.956Z"
   },
   {
    "duration": 11,
    "start_time": "2023-06-13T10:55:34.047Z"
   },
   {
    "duration": 62,
    "start_time": "2023-06-13T10:55:41.388Z"
   },
   {
    "duration": 1021,
    "start_time": "2023-06-13T10:56:28.229Z"
   },
   {
    "duration": 3,
    "start_time": "2023-06-13T10:56:29.252Z"
   },
   {
    "duration": 184,
    "start_time": "2023-06-13T10:56:29.256Z"
   },
   {
    "duration": 3,
    "start_time": "2023-06-13T10:56:29.441Z"
   },
   {
    "duration": 153,
    "start_time": "2023-06-13T10:56:29.445Z"
   },
   {
    "duration": 85,
    "start_time": "2023-06-13T10:56:29.600Z"
   },
   {
    "duration": 41,
    "start_time": "2023-06-13T10:56:29.687Z"
   },
   {
    "duration": 483,
    "start_time": "2023-06-13T10:56:29.730Z"
   },
   {
    "duration": 4,
    "start_time": "2023-06-13T10:56:30.215Z"
   },
   {
    "duration": 110,
    "start_time": "2023-06-13T10:56:30.221Z"
   },
   {
    "duration": 7,
    "start_time": "2023-06-13T10:56:30.333Z"
   },
   {
    "duration": 115,
    "start_time": "2023-06-13T10:56:30.341Z"
   },
   {
    "duration": 86,
    "start_time": "2023-06-13T10:56:30.458Z"
   },
   {
    "duration": 5,
    "start_time": "2023-06-13T10:56:30.546Z"
   },
   {
    "duration": 71,
    "start_time": "2023-06-13T10:56:30.553Z"
   },
   {
    "duration": 334,
    "start_time": "2023-06-13T10:56:30.626Z"
   },
   {
    "duration": 236,
    "start_time": "2023-06-13T10:56:30.961Z"
   },
   {
    "duration": 33,
    "start_time": "2023-06-13T10:56:31.198Z"
   },
   {
    "duration": 156,
    "start_time": "2023-06-13T10:56:31.233Z"
   },
   {
    "duration": 50,
    "start_time": "2023-06-13T10:56:31.391Z"
   },
   {
    "duration": 226,
    "start_time": "2023-06-13T10:56:31.442Z"
   },
   {
    "duration": 315,
    "start_time": "2023-06-13T10:56:31.670Z"
   },
   {
    "duration": 260,
    "start_time": "2023-06-13T10:56:31.987Z"
   },
   {
    "duration": 106,
    "start_time": "2023-06-13T10:56:32.248Z"
   },
   {
    "duration": 54,
    "start_time": "2023-06-13T10:56:32.356Z"
   },
   {
    "duration": 6,
    "start_time": "2023-06-13T10:56:32.412Z"
   },
   {
    "duration": 14,
    "start_time": "2023-06-13T10:56:32.419Z"
   },
   {
    "duration": 12,
    "start_time": "2023-06-13T10:56:32.436Z"
   },
   {
    "duration": 14,
    "start_time": "2023-06-13T10:56:32.449Z"
   },
   {
    "duration": 22,
    "start_time": "2023-06-13T10:56:32.464Z"
   },
   {
    "duration": 20,
    "start_time": "2023-06-13T10:56:32.487Z"
   },
   {
    "duration": 18,
    "start_time": "2023-06-13T10:56:32.509Z"
   },
   {
    "duration": 46,
    "start_time": "2023-06-13T10:56:32.529Z"
   },
   {
    "duration": 170,
    "start_time": "2023-06-13T11:05:25.942Z"
   },
   {
    "duration": 224,
    "start_time": "2023-06-13T11:05:57.042Z"
   },
   {
    "duration": 1030,
    "start_time": "2023-06-13T11:06:04.130Z"
   },
   {
    "duration": 2,
    "start_time": "2023-06-13T11:06:05.162Z"
   },
   {
    "duration": 188,
    "start_time": "2023-06-13T11:06:05.165Z"
   },
   {
    "duration": 2,
    "start_time": "2023-06-13T11:06:05.356Z"
   },
   {
    "duration": 113,
    "start_time": "2023-06-13T11:06:05.371Z"
   },
   {
    "duration": 92,
    "start_time": "2023-06-13T11:06:05.486Z"
   },
   {
    "duration": 39,
    "start_time": "2023-06-13T11:06:05.580Z"
   },
   {
    "duration": 458,
    "start_time": "2023-06-13T11:06:05.621Z"
   },
   {
    "duration": 4,
    "start_time": "2023-06-13T11:06:06.080Z"
   },
   {
    "duration": 64,
    "start_time": "2023-06-13T11:06:06.086Z"
   },
   {
    "duration": 21,
    "start_time": "2023-06-13T11:06:06.152Z"
   },
   {
    "duration": 21,
    "start_time": "2023-06-13T11:06:06.175Z"
   },
   {
    "duration": 35,
    "start_time": "2023-06-13T11:06:06.198Z"
   },
   {
    "duration": 3,
    "start_time": "2023-06-13T11:06:06.235Z"
   },
   {
    "duration": 18,
    "start_time": "2023-06-13T11:06:06.240Z"
   },
   {
    "duration": 256,
    "start_time": "2023-06-13T11:06:06.260Z"
   },
   {
    "duration": 209,
    "start_time": "2023-06-13T11:06:06.518Z"
   },
   {
    "duration": 18,
    "start_time": "2023-06-13T11:06:06.729Z"
   },
   {
    "duration": 132,
    "start_time": "2023-06-13T11:06:06.749Z"
   },
   {
    "duration": 48,
    "start_time": "2023-06-13T11:06:06.882Z"
   },
   {
    "duration": 78,
    "start_time": "2023-06-13T11:06:06.932Z"
   },
   {
    "duration": 137,
    "start_time": "2023-06-13T11:06:07.013Z"
   },
   {
    "duration": 21,
    "start_time": "2023-06-13T11:06:07.152Z"
   },
   {
    "duration": 74,
    "start_time": "2023-06-13T11:06:07.174Z"
   },
   {
    "duration": 75,
    "start_time": "2023-06-13T11:06:07.249Z"
   },
   {
    "duration": 6,
    "start_time": "2023-06-13T11:06:07.326Z"
   },
   {
    "duration": 8,
    "start_time": "2023-06-13T11:06:07.333Z"
   },
   {
    "duration": 6,
    "start_time": "2023-06-13T11:06:07.344Z"
   },
   {
    "duration": 11,
    "start_time": "2023-06-13T11:06:07.351Z"
   },
   {
    "duration": 11,
    "start_time": "2023-06-13T11:06:07.371Z"
   },
   {
    "duration": 15,
    "start_time": "2023-06-13T11:06:07.383Z"
   },
   {
    "duration": 13,
    "start_time": "2023-06-13T11:06:07.400Z"
   },
   {
    "duration": 63,
    "start_time": "2023-06-13T11:06:07.415Z"
   },
   {
    "duration": 49,
    "start_time": "2023-06-13T11:08:51.397Z"
   },
   {
    "duration": 44,
    "start_time": "2023-06-13T11:09:21.600Z"
   },
   {
    "duration": 47,
    "start_time": "2023-06-13T11:09:49.202Z"
   },
   {
    "duration": 51,
    "start_time": "2023-06-13T11:09:52.442Z"
   },
   {
    "duration": 52,
    "start_time": "2023-06-13T11:12:48.721Z"
   },
   {
    "duration": 50,
    "start_time": "2023-06-13T11:14:00.701Z"
   },
   {
    "duration": 16,
    "start_time": "2023-06-13T12:50:45.403Z"
   },
   {
    "duration": 7,
    "start_time": "2023-06-13T12:50:48.520Z"
   },
   {
    "duration": 177,
    "start_time": "2023-06-13T12:50:53.125Z"
   },
   {
    "duration": 205,
    "start_time": "2023-06-13T12:51:04.507Z"
   },
   {
    "duration": 191,
    "start_time": "2023-06-13T12:51:37.199Z"
   },
   {
    "duration": 1254,
    "start_time": "2023-06-13T12:51:42.726Z"
   },
   {
    "duration": 3,
    "start_time": "2023-06-13T12:51:43.986Z"
   },
   {
    "duration": 219,
    "start_time": "2023-06-13T12:51:43.993Z"
   },
   {
    "duration": 2,
    "start_time": "2023-06-13T12:51:44.214Z"
   },
   {
    "duration": 155,
    "start_time": "2023-06-13T12:51:44.218Z"
   },
   {
    "duration": 132,
    "start_time": "2023-06-13T12:51:44.376Z"
   },
   {
    "duration": 45,
    "start_time": "2023-06-13T12:51:44.509Z"
   },
   {
    "duration": 684,
    "start_time": "2023-06-13T12:51:44.556Z"
   },
   {
    "duration": 4,
    "start_time": "2023-06-13T12:51:45.242Z"
   },
   {
    "duration": 114,
    "start_time": "2023-06-13T12:51:45.248Z"
   },
   {
    "duration": 14,
    "start_time": "2023-06-13T12:51:45.364Z"
   },
   {
    "duration": 34,
    "start_time": "2023-06-13T12:51:45.381Z"
   },
   {
    "duration": 55,
    "start_time": "2023-06-13T12:51:45.417Z"
   },
   {
    "duration": 18,
    "start_time": "2023-06-13T12:51:45.481Z"
   },
   {
    "duration": 21,
    "start_time": "2023-06-13T12:51:45.510Z"
   },
   {
    "duration": 312,
    "start_time": "2023-06-13T12:51:45.533Z"
   },
   {
    "duration": 268,
    "start_time": "2023-06-13T12:51:45.847Z"
   },
   {
    "duration": 250,
    "start_time": "2023-06-13T12:51:46.117Z"
   },
   {
    "duration": 33,
    "start_time": "2023-06-13T12:51:46.369Z"
   },
   {
    "duration": 187,
    "start_time": "2023-06-13T12:51:46.404Z"
   },
   {
    "duration": 62,
    "start_time": "2023-06-13T12:51:46.593Z"
   },
   {
    "duration": 73,
    "start_time": "2023-06-13T12:51:46.657Z"
   },
   {
    "duration": 75,
    "start_time": "2023-06-13T12:51:46.732Z"
   },
   {
    "duration": 154,
    "start_time": "2023-06-13T12:51:46.808Z"
   },
   {
    "duration": 38,
    "start_time": "2023-06-13T12:51:46.964Z"
   },
   {
    "duration": 110,
    "start_time": "2023-06-13T12:51:47.004Z"
   },
   {
    "duration": 81,
    "start_time": "2023-06-13T12:51:47.116Z"
   },
   {
    "duration": 9,
    "start_time": "2023-06-13T12:51:47.199Z"
   },
   {
    "duration": 58,
    "start_time": "2023-06-13T12:51:47.210Z"
   },
   {
    "duration": 53,
    "start_time": "2023-06-13T12:51:47.270Z"
   },
   {
    "duration": 37,
    "start_time": "2023-06-13T12:51:47.324Z"
   },
   {
    "duration": 31,
    "start_time": "2023-06-13T12:51:47.363Z"
   },
   {
    "duration": 27,
    "start_time": "2023-06-13T12:51:47.395Z"
   },
   {
    "duration": 241,
    "start_time": "2023-06-13T12:51:57.503Z"
   },
   {
    "duration": 1300,
    "start_time": "2023-06-13T13:39:53.239Z"
   },
   {
    "duration": 2,
    "start_time": "2023-06-13T13:39:54.541Z"
   },
   {
    "duration": 219,
    "start_time": "2023-06-13T13:39:54.545Z"
   },
   {
    "duration": 15,
    "start_time": "2023-06-13T13:39:54.766Z"
   },
   {
    "duration": 173,
    "start_time": "2023-06-13T13:39:54.782Z"
   },
   {
    "duration": 94,
    "start_time": "2023-06-13T13:39:54.956Z"
   },
   {
    "duration": 55,
    "start_time": "2023-06-13T13:39:55.051Z"
   },
   {
    "duration": 527,
    "start_time": "2023-06-13T13:39:55.109Z"
   },
   {
    "duration": 3,
    "start_time": "2023-06-13T13:39:55.637Z"
   },
   {
    "duration": 69,
    "start_time": "2023-06-13T13:39:55.642Z"
   },
   {
    "duration": 9,
    "start_time": "2023-06-13T13:39:55.712Z"
   },
   {
    "duration": 9,
    "start_time": "2023-06-13T13:39:55.722Z"
   },
   {
    "duration": 57,
    "start_time": "2023-06-13T13:39:55.732Z"
   },
   {
    "duration": 8,
    "start_time": "2023-06-13T13:39:55.790Z"
   },
   {
    "duration": 22,
    "start_time": "2023-06-13T13:39:55.804Z"
   },
   {
    "duration": 282,
    "start_time": "2023-06-13T13:39:55.827Z"
   },
   {
    "duration": 235,
    "start_time": "2023-06-13T13:39:56.111Z"
   },
   {
    "duration": 44,
    "start_time": "2023-06-13T13:39:56.347Z"
   },
   {
    "duration": 165,
    "start_time": "2023-06-13T13:39:56.399Z"
   },
   {
    "duration": 75,
    "start_time": "2023-06-13T13:39:56.566Z"
   },
   {
    "duration": 70,
    "start_time": "2023-06-13T13:39:56.643Z"
   },
   {
    "duration": 86,
    "start_time": "2023-06-13T13:39:56.715Z"
   },
   {
    "duration": 170,
    "start_time": "2023-06-13T13:39:56.804Z"
   },
   {
    "duration": 22,
    "start_time": "2023-06-13T13:39:56.982Z"
   },
   {
    "duration": 129,
    "start_time": "2023-06-13T13:39:57.010Z"
   },
   {
    "duration": 75,
    "start_time": "2023-06-13T13:39:57.141Z"
   },
   {
    "duration": 6,
    "start_time": "2023-06-13T13:39:57.218Z"
   },
   {
    "duration": 21,
    "start_time": "2023-06-13T13:39:57.227Z"
   },
   {
    "duration": 34,
    "start_time": "2023-06-13T13:39:57.250Z"
   },
   {
    "duration": 49,
    "start_time": "2023-06-13T13:39:57.289Z"
   },
   {
    "duration": 16,
    "start_time": "2023-06-13T13:39:57.340Z"
   },
   {
    "duration": 34,
    "start_time": "2023-06-13T13:39:57.358Z"
   },
   {
    "duration": 1297,
    "start_time": "2023-06-13T13:40:43.728Z"
   },
   {
    "duration": 3,
    "start_time": "2023-06-13T13:40:45.028Z"
   },
   {
    "duration": 264,
    "start_time": "2023-06-13T13:40:45.033Z"
   },
   {
    "duration": 5,
    "start_time": "2023-06-13T13:40:45.299Z"
   },
   {
    "duration": 278,
    "start_time": "2023-06-13T13:40:45.307Z"
   },
   {
    "duration": 15,
    "start_time": "2023-06-13T13:40:45.589Z"
   },
   {
    "duration": 64,
    "start_time": "2023-06-13T13:40:45.606Z"
   },
   {
    "duration": 693,
    "start_time": "2023-06-13T13:40:45.675Z"
   },
   {
    "duration": 13,
    "start_time": "2023-06-13T13:40:46.380Z"
   },
   {
    "duration": 122,
    "start_time": "2023-06-13T13:40:46.402Z"
   },
   {
    "duration": 13,
    "start_time": "2023-06-13T13:40:46.526Z"
   },
   {
    "duration": 13,
    "start_time": "2023-06-13T13:40:46.541Z"
   },
   {
    "duration": 55,
    "start_time": "2023-06-13T13:40:46.556Z"
   },
   {
    "duration": 5,
    "start_time": "2023-06-13T13:40:46.625Z"
   },
   {
    "duration": 16,
    "start_time": "2023-06-13T13:40:46.632Z"
   },
   {
    "duration": 308,
    "start_time": "2023-06-13T13:40:46.650Z"
   },
   {
    "duration": 303,
    "start_time": "2023-06-13T13:40:46.961Z"
   },
   {
    "duration": 39,
    "start_time": "2023-06-13T13:40:47.266Z"
   },
   {
    "duration": 176,
    "start_time": "2023-06-13T13:40:47.309Z"
   },
   {
    "duration": 62,
    "start_time": "2023-06-13T13:40:47.494Z"
   },
   {
    "duration": 68,
    "start_time": "2023-06-13T13:40:47.558Z"
   },
   {
    "duration": 93,
    "start_time": "2023-06-13T13:40:47.628Z"
   },
   {
    "duration": 173,
    "start_time": "2023-06-13T13:40:47.722Z"
   },
   {
    "duration": 17,
    "start_time": "2023-06-13T13:40:47.901Z"
   },
   {
    "duration": 94,
    "start_time": "2023-06-13T13:40:47.920Z"
   },
   {
    "duration": 77,
    "start_time": "2023-06-13T13:40:48.016Z"
   },
   {
    "duration": 10,
    "start_time": "2023-06-13T13:40:48.102Z"
   },
   {
    "duration": 40,
    "start_time": "2023-06-13T13:40:48.114Z"
   },
   {
    "duration": 12,
    "start_time": "2023-06-13T13:40:48.156Z"
   },
   {
    "duration": 43,
    "start_time": "2023-06-13T13:40:48.187Z"
   },
   {
    "duration": 19,
    "start_time": "2023-06-13T13:40:48.232Z"
   },
   {
    "duration": 14,
    "start_time": "2023-06-13T13:40:48.252Z"
   },
   {
    "duration": 1199,
    "start_time": "2023-06-13T13:41:05.293Z"
   },
   {
    "duration": 4,
    "start_time": "2023-06-13T13:41:06.496Z"
   },
   {
    "duration": 217,
    "start_time": "2023-06-13T13:41:06.504Z"
   },
   {
    "duration": 3,
    "start_time": "2023-06-13T13:41:06.722Z"
   },
   {
    "duration": 133,
    "start_time": "2023-06-13T13:41:06.727Z"
   },
   {
    "duration": 99,
    "start_time": "2023-06-13T13:41:06.861Z"
   },
   {
    "duration": 57,
    "start_time": "2023-06-13T13:41:06.961Z"
   },
   {
    "duration": 530,
    "start_time": "2023-06-13T13:41:07.021Z"
   },
   {
    "duration": 4,
    "start_time": "2023-06-13T13:41:07.553Z"
   },
   {
    "duration": 97,
    "start_time": "2023-06-13T13:41:07.559Z"
   },
   {
    "duration": 8,
    "start_time": "2023-06-13T13:41:07.657Z"
   },
   {
    "duration": 53,
    "start_time": "2023-06-13T13:41:07.666Z"
   },
   {
    "duration": 41,
    "start_time": "2023-06-13T13:41:07.721Z"
   },
   {
    "duration": 4,
    "start_time": "2023-06-13T13:41:07.764Z"
   },
   {
    "duration": 54,
    "start_time": "2023-06-13T13:41:07.769Z"
   },
   {
    "duration": 281,
    "start_time": "2023-06-13T13:41:07.824Z"
   },
   {
    "duration": 222,
    "start_time": "2023-06-13T13:41:08.112Z"
   },
   {
    "duration": 24,
    "start_time": "2023-06-13T13:41:08.335Z"
   },
   {
    "duration": 164,
    "start_time": "2023-06-13T13:41:08.360Z"
   },
   {
    "duration": 67,
    "start_time": "2023-06-13T13:41:08.526Z"
   },
   {
    "duration": 54,
    "start_time": "2023-06-13T13:41:08.597Z"
   },
   {
    "duration": 68,
    "start_time": "2023-06-13T13:41:08.652Z"
   },
   {
    "duration": 125,
    "start_time": "2023-06-13T13:41:08.722Z"
   },
   {
    "duration": 13,
    "start_time": "2023-06-13T13:41:08.848Z"
   },
   {
    "duration": 128,
    "start_time": "2023-06-13T13:41:08.874Z"
   },
   {
    "duration": 54,
    "start_time": "2023-06-13T13:41:09.006Z"
   },
   {
    "duration": 7,
    "start_time": "2023-06-13T13:41:09.061Z"
   },
   {
    "duration": 57,
    "start_time": "2023-06-13T13:41:09.069Z"
   },
   {
    "duration": 28,
    "start_time": "2023-06-13T13:41:09.128Z"
   },
   {
    "duration": 62,
    "start_time": "2023-06-13T13:41:09.158Z"
   },
   {
    "duration": 25,
    "start_time": "2023-06-13T13:41:09.222Z"
   },
   {
    "duration": 21,
    "start_time": "2023-06-13T13:41:09.249Z"
   },
   {
    "duration": 6,
    "start_time": "2023-06-13T13:42:57.908Z"
   },
   {
    "duration": 1244,
    "start_time": "2023-06-13T13:43:10.246Z"
   },
   {
    "duration": 11,
    "start_time": "2023-06-13T13:43:11.494Z"
   },
   {
    "duration": 214,
    "start_time": "2023-06-13T13:43:11.512Z"
   },
   {
    "duration": 3,
    "start_time": "2023-06-13T13:43:11.728Z"
   },
   {
    "duration": 165,
    "start_time": "2023-06-13T13:43:11.734Z"
   },
   {
    "duration": 116,
    "start_time": "2023-06-13T13:43:11.903Z"
   },
   {
    "duration": 68,
    "start_time": "2023-06-13T13:43:12.021Z"
   },
   {
    "duration": 604,
    "start_time": "2023-06-13T13:43:12.096Z"
   },
   {
    "duration": 16,
    "start_time": "2023-06-13T13:43:12.704Z"
   },
   {
    "duration": 59,
    "start_time": "2023-06-13T13:43:12.722Z"
   },
   {
    "duration": 16,
    "start_time": "2023-06-13T13:43:12.783Z"
   },
   {
    "duration": 31,
    "start_time": "2023-06-13T13:43:12.801Z"
   },
   {
    "duration": 66,
    "start_time": "2023-06-13T13:43:12.834Z"
   },
   {
    "duration": 7,
    "start_time": "2023-06-13T13:43:12.912Z"
   },
   {
    "duration": 22,
    "start_time": "2023-06-13T13:43:12.921Z"
   },
   {
    "duration": 352,
    "start_time": "2023-06-13T13:43:12.945Z"
   },
   {
    "duration": 250,
    "start_time": "2023-06-13T13:43:13.301Z"
   },
   {
    "duration": 31,
    "start_time": "2023-06-13T13:43:13.553Z"
   },
   {
    "duration": 151,
    "start_time": "2023-06-13T13:43:13.585Z"
   },
   {
    "duration": 180,
    "start_time": "2023-06-13T13:43:13.738Z"
   },
   {
    "duration": 159,
    "start_time": "2023-06-13T13:43:13.920Z"
   },
   {
    "duration": 117,
    "start_time": "2023-06-13T13:43:14.080Z"
   },
   {
    "duration": 477,
    "start_time": "2023-06-13T13:43:14.198Z"
   },
   {
    "duration": 19,
    "start_time": "2023-06-13T13:43:14.676Z"
   },
   {
    "duration": 227,
    "start_time": "2023-06-13T13:43:14.696Z"
   },
   {
    "duration": 117,
    "start_time": "2023-06-13T13:43:14.979Z"
   },
   {
    "duration": 15,
    "start_time": "2023-06-13T13:43:15.097Z"
   },
   {
    "duration": 65,
    "start_time": "2023-06-13T13:43:15.116Z"
   },
   {
    "duration": 69,
    "start_time": "2023-06-13T13:43:15.183Z"
   },
   {
    "duration": 78,
    "start_time": "2023-06-13T13:43:15.253Z"
   },
   {
    "duration": 56,
    "start_time": "2023-06-13T13:43:15.332Z"
   },
   {
    "duration": 96,
    "start_time": "2023-06-13T13:43:15.393Z"
   },
   {
    "duration": 1296,
    "start_time": "2023-06-13T13:48:29.116Z"
   },
   {
    "duration": 7,
    "start_time": "2023-06-13T13:48:30.414Z"
   },
   {
    "duration": 282,
    "start_time": "2023-06-13T13:48:30.422Z"
   },
   {
    "duration": 3,
    "start_time": "2023-06-13T13:48:30.710Z"
   },
   {
    "duration": 350,
    "start_time": "2023-06-13T13:48:30.716Z"
   },
   {
    "duration": 139,
    "start_time": "2023-06-13T13:48:31.068Z"
   },
   {
    "duration": 54,
    "start_time": "2023-06-13T13:48:31.211Z"
   },
   {
    "duration": 764,
    "start_time": "2023-06-13T13:48:31.268Z"
   },
   {
    "duration": 4,
    "start_time": "2023-06-13T13:48:32.035Z"
   },
   {
    "duration": 153,
    "start_time": "2023-06-13T13:48:32.041Z"
   },
   {
    "duration": 11,
    "start_time": "2023-06-13T13:48:32.196Z"
   },
   {
    "duration": 42,
    "start_time": "2023-06-13T13:48:32.209Z"
   },
   {
    "duration": 67,
    "start_time": "2023-06-13T13:48:32.253Z"
   },
   {
    "duration": 41,
    "start_time": "2023-06-13T13:48:32.322Z"
   },
   {
    "duration": 63,
    "start_time": "2023-06-13T13:48:32.366Z"
   },
   {
    "duration": 352,
    "start_time": "2023-06-13T13:48:32.431Z"
   },
   {
    "duration": 294,
    "start_time": "2023-06-13T13:48:32.784Z"
   },
   {
    "duration": 22,
    "start_time": "2023-06-13T13:48:33.080Z"
   },
   {
    "duration": 225,
    "start_time": "2023-06-13T13:48:33.104Z"
   },
   {
    "duration": 95,
    "start_time": "2023-06-13T13:48:33.334Z"
   },
   {
    "duration": 59,
    "start_time": "2023-06-13T13:48:33.436Z"
   },
   {
    "duration": 102,
    "start_time": "2023-06-13T13:48:33.497Z"
   },
   {
    "duration": 205,
    "start_time": "2023-06-13T13:48:33.608Z"
   },
   {
    "duration": 24,
    "start_time": "2023-06-13T13:48:33.816Z"
   },
   {
    "duration": 118,
    "start_time": "2023-06-13T13:48:33.843Z"
   },
   {
    "duration": 95,
    "start_time": "2023-06-13T13:48:33.964Z"
   },
   {
    "duration": 39,
    "start_time": "2023-06-13T13:48:34.061Z"
   },
   {
    "duration": 22,
    "start_time": "2023-06-13T13:48:34.111Z"
   },
   {
    "duration": 32,
    "start_time": "2023-06-13T13:48:34.136Z"
   },
   {
    "duration": 39,
    "start_time": "2023-06-13T13:48:34.170Z"
   },
   {
    "duration": 35,
    "start_time": "2023-06-13T13:48:34.212Z"
   },
   {
    "duration": 28,
    "start_time": "2023-06-13T13:48:34.249Z"
   },
   {
    "duration": 1330,
    "start_time": "2023-06-13T14:04:52.588Z"
   },
   {
    "duration": 4,
    "start_time": "2023-06-13T14:04:53.920Z"
   },
   {
    "duration": 289,
    "start_time": "2023-06-13T14:04:53.934Z"
   },
   {
    "duration": 3,
    "start_time": "2023-06-13T14:04:54.226Z"
   },
   {
    "duration": 258,
    "start_time": "2023-06-13T14:04:54.232Z"
   },
   {
    "duration": 106,
    "start_time": "2023-06-13T14:04:54.495Z"
   },
   {
    "duration": 56,
    "start_time": "2023-06-13T14:04:54.602Z"
   },
   {
    "duration": 649,
    "start_time": "2023-06-13T14:04:54.662Z"
   },
   {
    "duration": 4,
    "start_time": "2023-06-13T14:04:55.313Z"
   },
   {
    "duration": 111,
    "start_time": "2023-06-13T14:04:55.320Z"
   },
   {
    "duration": 8,
    "start_time": "2023-06-13T14:04:55.434Z"
   },
   {
    "duration": 32,
    "start_time": "2023-06-13T14:04:55.444Z"
   },
   {
    "duration": 60,
    "start_time": "2023-06-13T14:04:55.478Z"
   },
   {
    "duration": 5,
    "start_time": "2023-06-13T14:04:55.539Z"
   },
   {
    "duration": 35,
    "start_time": "2023-06-13T14:04:55.547Z"
   },
   {
    "duration": 353,
    "start_time": "2023-06-13T14:04:55.584Z"
   },
   {
    "duration": 284,
    "start_time": "2023-06-13T14:04:55.939Z"
   },
   {
    "duration": 45,
    "start_time": "2023-06-13T14:04:56.225Z"
   },
   {
    "duration": 161,
    "start_time": "2023-06-13T14:04:56.276Z"
   },
   {
    "duration": 68,
    "start_time": "2023-06-13T14:04:56.439Z"
   },
   {
    "duration": 82,
    "start_time": "2023-06-13T14:04:56.510Z"
   },
   {
    "duration": 70,
    "start_time": "2023-06-13T14:04:56.594Z"
   },
   {
    "duration": 152,
    "start_time": "2023-06-13T14:04:56.666Z"
   },
   {
    "duration": 15,
    "start_time": "2023-06-13T14:04:56.819Z"
   },
   {
    "duration": 153,
    "start_time": "2023-06-13T14:04:56.836Z"
   },
   {
    "duration": 86,
    "start_time": "2023-06-13T14:04:56.994Z"
   },
   {
    "duration": 12,
    "start_time": "2023-06-13T14:04:57.082Z"
   },
   {
    "duration": 23,
    "start_time": "2023-06-13T14:04:57.101Z"
   },
   {
    "duration": 13,
    "start_time": "2023-06-13T14:04:57.126Z"
   },
   {
    "duration": 32,
    "start_time": "2023-06-13T14:04:57.141Z"
   },
   {
    "duration": 22,
    "start_time": "2023-06-13T14:04:57.178Z"
   },
   {
    "duration": 21,
    "start_time": "2023-06-13T14:04:57.202Z"
   },
   {
    "duration": 9,
    "start_time": "2023-06-13T14:13:06.034Z"
   },
   {
    "duration": 8,
    "start_time": "2023-06-13T14:13:07.621Z"
   },
   {
    "duration": 17,
    "start_time": "2023-06-13T14:13:11.372Z"
   },
   {
    "duration": 1214,
    "start_time": "2023-06-13T14:13:16.573Z"
   },
   {
    "duration": 4,
    "start_time": "2023-06-13T14:13:17.790Z"
   },
   {
    "duration": 224,
    "start_time": "2023-06-13T14:13:17.798Z"
   },
   {
    "duration": 3,
    "start_time": "2023-06-13T14:13:18.024Z"
   },
   {
    "duration": 178,
    "start_time": "2023-06-13T14:13:18.030Z"
   },
   {
    "duration": 92,
    "start_time": "2023-06-13T14:13:18.210Z"
   },
   {
    "duration": 53,
    "start_time": "2023-06-13T14:13:18.304Z"
   },
   {
    "duration": 548,
    "start_time": "2023-06-13T14:13:18.360Z"
   },
   {
    "duration": 4,
    "start_time": "2023-06-13T14:13:18.910Z"
   },
   {
    "duration": 68,
    "start_time": "2023-06-13T14:13:18.916Z"
   },
   {
    "duration": 8,
    "start_time": "2023-06-13T14:13:18.986Z"
   },
   {
    "duration": 8,
    "start_time": "2023-06-13T14:13:18.995Z"
   },
   {
    "duration": 63,
    "start_time": "2023-06-13T14:13:19.005Z"
   },
   {
    "duration": 4,
    "start_time": "2023-06-13T14:13:19.076Z"
   },
   {
    "duration": 11,
    "start_time": "2023-06-13T14:13:19.082Z"
   },
   {
    "duration": 263,
    "start_time": "2023-06-13T14:13:19.095Z"
   },
   {
    "duration": 243,
    "start_time": "2023-06-13T14:13:19.360Z"
   },
   {
    "duration": 18,
    "start_time": "2023-06-13T14:13:19.604Z"
   },
   {
    "duration": 160,
    "start_time": "2023-06-13T14:13:19.624Z"
   },
   {
    "duration": 51,
    "start_time": "2023-06-13T14:13:19.785Z"
   },
   {
    "duration": 65,
    "start_time": "2023-06-13T14:13:19.838Z"
   },
   {
    "duration": 81,
    "start_time": "2023-06-13T14:13:19.905Z"
   },
   {
    "duration": 144,
    "start_time": "2023-06-13T14:13:19.988Z"
   },
   {
    "duration": 13,
    "start_time": "2023-06-13T14:13:20.134Z"
   },
   {
    "duration": 83,
    "start_time": "2023-06-13T14:13:20.162Z"
   },
   {
    "duration": 69,
    "start_time": "2023-06-13T14:13:20.247Z"
   },
   {
    "duration": 6,
    "start_time": "2023-06-13T14:13:20.318Z"
   },
   {
    "duration": 20,
    "start_time": "2023-06-13T14:13:20.326Z"
   },
   {
    "duration": 25,
    "start_time": "2023-06-13T14:13:20.348Z"
   },
   {
    "duration": 21,
    "start_time": "2023-06-13T14:13:20.375Z"
   },
   {
    "duration": 18,
    "start_time": "2023-06-13T14:13:20.397Z"
   },
   {
    "duration": 29,
    "start_time": "2023-06-13T14:13:20.458Z"
   },
   {
    "duration": 45,
    "start_time": "2023-06-13T16:06:55.638Z"
   },
   {
    "duration": 1403,
    "start_time": "2023-06-13T16:07:00.368Z"
   },
   {
    "duration": 3,
    "start_time": "2023-06-13T16:07:01.774Z"
   },
   {
    "duration": 1206,
    "start_time": "2023-06-13T16:07:01.778Z"
   },
   {
    "duration": 3,
    "start_time": "2023-06-13T16:07:02.986Z"
   },
   {
    "duration": 167,
    "start_time": "2023-06-13T16:07:02.991Z"
   },
   {
    "duration": 67,
    "start_time": "2023-06-13T16:07:03.159Z"
   },
   {
    "duration": 93,
    "start_time": "2023-06-13T16:07:03.228Z"
   },
   {
    "duration": 56,
    "start_time": "2023-06-13T16:07:03.323Z"
   },
   {
    "duration": 489,
    "start_time": "2023-06-13T16:07:03.380Z"
   },
   {
    "duration": 4,
    "start_time": "2023-06-13T16:07:03.874Z"
   },
   {
    "duration": 56,
    "start_time": "2023-06-13T16:07:03.879Z"
   },
   {
    "duration": 6,
    "start_time": "2023-06-13T16:07:03.937Z"
   },
   {
    "duration": 32,
    "start_time": "2023-06-13T16:07:03.945Z"
   },
   {
    "duration": 52,
    "start_time": "2023-06-13T16:07:03.979Z"
   },
   {
    "duration": 4,
    "start_time": "2023-06-13T16:07:04.034Z"
   },
   {
    "duration": 35,
    "start_time": "2023-06-13T16:07:04.040Z"
   },
   {
    "duration": 289,
    "start_time": "2023-06-13T16:07:04.078Z"
   },
   {
    "duration": 220,
    "start_time": "2023-06-13T16:07:04.369Z"
   },
   {
    "duration": 23,
    "start_time": "2023-06-13T16:07:04.591Z"
   },
   {
    "duration": 146,
    "start_time": "2023-06-13T16:07:04.616Z"
   },
   {
    "duration": 60,
    "start_time": "2023-06-13T16:07:04.763Z"
   },
   {
    "duration": 87,
    "start_time": "2023-06-13T16:07:04.826Z"
   },
   {
    "duration": 77,
    "start_time": "2023-06-13T16:07:04.915Z"
   },
   {
    "duration": 141,
    "start_time": "2023-06-13T16:07:04.994Z"
   },
   {
    "duration": 20,
    "start_time": "2023-06-13T16:07:05.137Z"
   },
   {
    "duration": 120,
    "start_time": "2023-06-13T16:07:05.159Z"
   },
   {
    "duration": 61,
    "start_time": "2023-06-13T16:07:05.280Z"
   },
   {
    "duration": 7,
    "start_time": "2023-06-13T16:07:05.344Z"
   },
   {
    "duration": 24,
    "start_time": "2023-06-13T16:07:05.352Z"
   },
   {
    "duration": 12,
    "start_time": "2023-06-13T16:07:05.378Z"
   },
   {
    "duration": 18,
    "start_time": "2023-06-13T16:07:05.392Z"
   },
   {
    "duration": 65,
    "start_time": "2023-06-13T16:07:05.411Z"
   },
   {
    "duration": 19,
    "start_time": "2023-06-13T16:07:05.478Z"
   },
   {
    "duration": 90,
    "start_time": "2023-06-13T16:08:25.262Z"
   },
   {
    "duration": 96,
    "start_time": "2023-06-13T16:08:36.809Z"
   },
   {
    "duration": 80,
    "start_time": "2023-06-13T16:08:46.849Z"
   },
   {
    "duration": 112,
    "start_time": "2023-06-13T16:08:59.382Z"
   },
   {
    "duration": 1253,
    "start_time": "2023-06-13T16:09:04.147Z"
   },
   {
    "duration": 3,
    "start_time": "2023-06-13T16:09:05.402Z"
   },
   {
    "duration": 213,
    "start_time": "2023-06-13T16:09:05.407Z"
   },
   {
    "duration": 3,
    "start_time": "2023-06-13T16:09:05.622Z"
   },
   {
    "duration": 141,
    "start_time": "2023-06-13T16:09:05.627Z"
   },
   {
    "duration": 81,
    "start_time": "2023-06-13T16:09:05.770Z"
   },
   {
    "duration": 107,
    "start_time": "2023-06-13T16:09:05.853Z"
   },
   {
    "duration": 58,
    "start_time": "2023-06-13T16:09:05.962Z"
   },
   {
    "duration": 1057,
    "start_time": "2023-06-13T16:09:06.022Z"
   },
   {
    "duration": 4,
    "start_time": "2023-06-13T16:09:07.082Z"
   },
   {
    "duration": 109,
    "start_time": "2023-06-13T16:09:07.087Z"
   },
   {
    "duration": 8,
    "start_time": "2023-06-13T16:09:07.198Z"
   },
   {
    "duration": 7,
    "start_time": "2023-06-13T16:09:07.207Z"
   },
   {
    "duration": 92,
    "start_time": "2023-06-13T16:09:07.216Z"
   },
   {
    "duration": 4,
    "start_time": "2023-06-13T16:09:07.310Z"
   },
   {
    "duration": 160,
    "start_time": "2023-06-13T16:09:07.315Z"
   },
   {
    "duration": 540,
    "start_time": "2023-06-13T16:09:07.477Z"
   },
   {
    "duration": 311,
    "start_time": "2023-06-13T16:09:08.018Z"
   },
   {
    "duration": 25,
    "start_time": "2023-06-13T16:09:08.331Z"
   },
   {
    "duration": 183,
    "start_time": "2023-06-13T16:09:08.358Z"
   },
   {
    "duration": 66,
    "start_time": "2023-06-13T16:09:08.543Z"
   },
   {
    "duration": 65,
    "start_time": "2023-06-13T16:09:08.610Z"
   },
   {
    "duration": 64,
    "start_time": "2023-06-13T16:09:08.677Z"
   },
   {
    "duration": 154,
    "start_time": "2023-06-13T16:09:08.743Z"
   },
   {
    "duration": 15,
    "start_time": "2023-06-13T16:09:08.899Z"
   },
   {
    "duration": 105,
    "start_time": "2023-06-13T16:09:08.916Z"
   },
   {
    "duration": 73,
    "start_time": "2023-06-13T16:09:09.023Z"
   },
   {
    "duration": 7,
    "start_time": "2023-06-13T16:09:09.099Z"
   },
   {
    "duration": 37,
    "start_time": "2023-06-13T16:09:09.108Z"
   },
   {
    "duration": 16,
    "start_time": "2023-06-13T16:09:09.147Z"
   },
   {
    "duration": 20,
    "start_time": "2023-06-13T16:09:09.164Z"
   },
   {
    "duration": 17,
    "start_time": "2023-06-13T16:09:09.185Z"
   },
   {
    "duration": 72,
    "start_time": "2023-06-13T16:09:09.203Z"
   },
   {
    "duration": 9,
    "start_time": "2023-06-13T16:13:14.627Z"
   },
   {
    "duration": 18,
    "start_time": "2023-06-13T16:13:47.089Z"
   },
   {
    "duration": 87,
    "start_time": "2023-06-13T16:14:23.385Z"
   },
   {
    "duration": 4,
    "start_time": "2023-06-13T16:14:38.965Z"
   },
   {
    "duration": 61,
    "start_time": "2023-06-13T16:14:46.462Z"
   },
   {
    "duration": 8,
    "start_time": "2023-06-13T16:15:57.235Z"
   },
   {
    "duration": 5,
    "start_time": "2023-06-13T16:16:09.231Z"
   },
   {
    "duration": 70,
    "start_time": "2023-06-13T16:16:11.743Z"
   },
   {
    "duration": 8,
    "start_time": "2023-06-13T16:16:13.724Z"
   },
   {
    "duration": 119,
    "start_time": "2023-06-13T16:16:19.546Z"
   },
   {
    "duration": 85,
    "start_time": "2023-06-13T16:16:27.155Z"
   },
   {
    "duration": 111,
    "start_time": "2023-06-13T16:16:29.216Z"
   },
   {
    "duration": 151,
    "start_time": "2023-06-13T16:17:26.694Z"
   },
   {
    "duration": 113,
    "start_time": "2023-06-13T16:17:49.340Z"
   },
   {
    "duration": 8,
    "start_time": "2023-06-13T16:18:03.616Z"
   },
   {
    "duration": 112,
    "start_time": "2023-06-13T16:18:14.011Z"
   },
   {
    "duration": 5,
    "start_time": "2023-06-13T16:19:06.489Z"
   },
   {
    "duration": 73,
    "start_time": "2023-06-13T16:19:07.942Z"
   },
   {
    "duration": 9,
    "start_time": "2023-06-13T16:19:11.304Z"
   },
   {
    "duration": 170,
    "start_time": "2023-06-13T16:19:14.944Z"
   },
   {
    "duration": 20,
    "start_time": "2023-06-13T16:19:38.065Z"
   },
   {
    "duration": 115,
    "start_time": "2023-06-13T16:19:41.215Z"
   },
   {
    "duration": 110,
    "start_time": "2023-06-13T16:20:19.285Z"
   },
   {
    "duration": 111,
    "start_time": "2023-06-13T16:20:33.140Z"
   },
   {
    "duration": 118,
    "start_time": "2023-06-13T16:20:45.017Z"
   },
   {
    "duration": 116,
    "start_time": "2023-06-13T16:21:04.285Z"
   },
   {
    "duration": 123,
    "start_time": "2023-06-13T16:21:31.229Z"
   },
   {
    "duration": 109,
    "start_time": "2023-06-13T16:21:39.525Z"
   },
   {
    "duration": 101,
    "start_time": "2023-06-13T16:21:44.485Z"
   },
   {
    "duration": 109,
    "start_time": "2023-06-13T16:22:23.325Z"
   },
   {
    "duration": 127,
    "start_time": "2023-06-13T16:22:30.206Z"
   },
   {
    "duration": 111,
    "start_time": "2023-06-13T16:22:33.419Z"
   },
   {
    "duration": 106,
    "start_time": "2023-06-13T16:22:36.855Z"
   },
   {
    "duration": 5,
    "start_time": "2023-06-13T16:23:29.901Z"
   },
   {
    "duration": 68,
    "start_time": "2023-06-13T16:23:31.169Z"
   },
   {
    "duration": 11,
    "start_time": "2023-06-13T16:23:34.031Z"
   },
   {
    "duration": 103,
    "start_time": "2023-06-13T16:23:41.389Z"
   },
   {
    "duration": 77,
    "start_time": "2023-06-13T16:23:55.884Z"
   },
   {
    "duration": 1379,
    "start_time": "2023-06-13T16:23:57.960Z"
   },
   {
    "duration": 6,
    "start_time": "2023-06-13T16:24:10.563Z"
   },
   {
    "duration": 6,
    "start_time": "2023-06-13T16:24:16.734Z"
   },
   {
    "duration": 9,
    "start_time": "2023-06-13T16:25:27.489Z"
   },
   {
    "duration": 7,
    "start_time": "2023-06-13T16:26:17.743Z"
   },
   {
    "duration": 1151,
    "start_time": "2023-06-13T16:26:23.225Z"
   },
   {
    "duration": 5,
    "start_time": "2023-06-13T16:26:24.378Z"
   },
   {
    "duration": 208,
    "start_time": "2023-06-13T16:26:24.384Z"
   },
   {
    "duration": 3,
    "start_time": "2023-06-13T16:26:24.595Z"
   },
   {
    "duration": 138,
    "start_time": "2023-06-13T16:26:24.600Z"
   },
   {
    "duration": 79,
    "start_time": "2023-06-13T16:26:24.740Z"
   },
   {
    "duration": 106,
    "start_time": "2023-06-13T16:26:24.821Z"
   },
   {
    "duration": 61,
    "start_time": "2023-06-13T16:26:24.929Z"
   },
   {
    "duration": 530,
    "start_time": "2023-06-13T16:26:24.991Z"
   },
   {
    "duration": 10,
    "start_time": "2023-06-13T16:26:25.522Z"
   },
   {
    "duration": 6,
    "start_time": "2023-06-13T16:26:25.533Z"
   },
   {
    "duration": 81,
    "start_time": "2023-06-13T16:26:25.540Z"
   },
   {
    "duration": 7,
    "start_time": "2023-06-13T16:26:25.623Z"
   },
   {
    "duration": 7,
    "start_time": "2023-06-13T16:26:25.633Z"
   },
   {
    "duration": 149,
    "start_time": "2023-06-13T16:26:25.641Z"
   },
   {
    "duration": 6,
    "start_time": "2023-06-13T16:26:25.792Z"
   },
   {
    "duration": 29,
    "start_time": "2023-06-13T16:26:25.800Z"
   },
   {
    "duration": 7,
    "start_time": "2023-06-13T16:26:25.831Z"
   },
   {
    "duration": 42,
    "start_time": "2023-06-13T16:26:25.839Z"
   },
   {
    "duration": 11,
    "start_time": "2023-06-13T16:26:25.882Z"
   },
   {
    "duration": 9,
    "start_time": "2023-06-13T16:26:25.895Z"
   },
   {
    "duration": 268,
    "start_time": "2023-06-13T16:26:25.905Z"
   },
   {
    "duration": 258,
    "start_time": "2023-06-13T16:26:26.174Z"
   },
   {
    "duration": 19,
    "start_time": "2023-06-13T16:26:26.433Z"
   },
   {
    "duration": 152,
    "start_time": "2023-06-13T16:26:26.454Z"
   },
   {
    "duration": 53,
    "start_time": "2023-06-13T16:26:26.607Z"
   },
   {
    "duration": 173,
    "start_time": "2023-06-13T16:26:26.662Z"
   },
   {
    "duration": 0,
    "start_time": "2023-06-13T16:26:26.836Z"
   },
   {
    "duration": 0,
    "start_time": "2023-06-13T16:26:26.838Z"
   },
   {
    "duration": 0,
    "start_time": "2023-06-13T16:26:26.838Z"
   },
   {
    "duration": 0,
    "start_time": "2023-06-13T16:26:26.840Z"
   },
   {
    "duration": 0,
    "start_time": "2023-06-13T16:26:26.841Z"
   },
   {
    "duration": 0,
    "start_time": "2023-06-13T16:26:26.842Z"
   },
   {
    "duration": 0,
    "start_time": "2023-06-13T16:26:26.844Z"
   },
   {
    "duration": 0,
    "start_time": "2023-06-13T16:26:26.845Z"
   },
   {
    "duration": 0,
    "start_time": "2023-06-13T16:26:26.847Z"
   },
   {
    "duration": 0,
    "start_time": "2023-06-13T16:26:26.848Z"
   },
   {
    "duration": 0,
    "start_time": "2023-06-13T16:26:26.849Z"
   },
   {
    "duration": 101,
    "start_time": "2023-06-13T16:28:50.187Z"
   },
   {
    "duration": 7,
    "start_time": "2023-06-13T16:28:52.750Z"
   },
   {
    "duration": 9,
    "start_time": "2023-06-13T16:30:13.618Z"
   },
   {
    "duration": 7,
    "start_time": "2023-06-13T16:30:17.433Z"
   },
   {
    "duration": 3,
    "start_time": "2023-06-13T16:30:39.142Z"
   },
   {
    "duration": 7,
    "start_time": "2023-06-13T16:30:54.903Z"
   },
   {
    "duration": 128,
    "start_time": "2023-06-13T16:31:35.650Z"
   },
   {
    "duration": 104,
    "start_time": "2023-06-13T16:31:41.325Z"
   },
   {
    "duration": 121,
    "start_time": "2023-06-13T16:32:20.327Z"
   },
   {
    "duration": 116,
    "start_time": "2023-06-13T16:32:22.814Z"
   },
   {
    "duration": 175,
    "start_time": "2023-06-13T16:32:27.185Z"
   },
   {
    "duration": 4355,
    "start_time": "2023-06-14T09:23:24.600Z"
   },
   {
    "duration": 19,
    "start_time": "2023-06-14T09:23:28.970Z"
   },
   {
    "duration": 1631,
    "start_time": "2023-06-14T09:23:29.004Z"
   },
   {
    "duration": 12,
    "start_time": "2023-06-14T09:23:30.637Z"
   },
   {
    "duration": 444,
    "start_time": "2023-06-14T09:23:30.657Z"
   },
   {
    "duration": 152,
    "start_time": "2023-06-14T09:23:31.107Z"
   },
   {
    "duration": 187,
    "start_time": "2023-06-14T09:23:31.264Z"
   },
   {
    "duration": 89,
    "start_time": "2023-06-14T09:23:31.457Z"
   },
   {
    "duration": 983,
    "start_time": "2023-06-14T09:23:31.552Z"
   },
   {
    "duration": 12,
    "start_time": "2023-06-14T09:23:32.539Z"
   },
   {
    "duration": 79,
    "start_time": "2023-06-14T09:23:32.557Z"
   },
   {
    "duration": 321,
    "start_time": "2023-06-14T09:23:32.651Z"
   },
   {
    "duration": 15,
    "start_time": "2023-06-14T09:23:32.976Z"
   },
   {
    "duration": 171,
    "start_time": "2023-06-14T09:23:32.994Z"
   },
   {
    "duration": 170,
    "start_time": "2023-06-14T09:23:33.169Z"
   },
   {
    "duration": 8,
    "start_time": "2023-06-14T09:23:33.344Z"
   },
   {
    "duration": 108,
    "start_time": "2023-06-14T09:23:33.358Z"
   },
   {
    "duration": 116,
    "start_time": "2023-06-14T09:23:33.475Z"
   },
   {
    "duration": 89,
    "start_time": "2023-06-14T09:23:33.600Z"
   },
   {
    "duration": 168,
    "start_time": "2023-06-14T09:23:33.696Z"
   },
   {
    "duration": 5,
    "start_time": "2023-06-14T09:23:33.881Z"
   },
   {
    "duration": 158,
    "start_time": "2023-06-14T09:23:33.888Z"
   },
   {
    "duration": 631,
    "start_time": "2023-06-14T09:23:34.054Z"
   },
   {
    "duration": 334,
    "start_time": "2023-06-14T09:23:34.698Z"
   },
   {
    "duration": 33,
    "start_time": "2023-06-14T09:23:35.034Z"
   },
   {
    "duration": 415,
    "start_time": "2023-06-14T09:23:35.069Z"
   },
   {
    "duration": 92,
    "start_time": "2023-06-14T09:23:35.486Z"
   },
   {
    "duration": 297,
    "start_time": "2023-06-14T09:23:35.584Z"
   },
   {
    "duration": 0,
    "start_time": "2023-06-14T09:23:35.887Z"
   },
   {
    "duration": 0,
    "start_time": "2023-06-14T09:23:35.893Z"
   },
   {
    "duration": 0,
    "start_time": "2023-06-14T09:23:35.901Z"
   },
   {
    "duration": 0,
    "start_time": "2023-06-14T09:23:35.905Z"
   },
   {
    "duration": 0,
    "start_time": "2023-06-14T09:23:35.914Z"
   },
   {
    "duration": 0,
    "start_time": "2023-06-14T09:23:35.923Z"
   },
   {
    "duration": 0,
    "start_time": "2023-06-14T09:23:35.927Z"
   },
   {
    "duration": 0,
    "start_time": "2023-06-14T09:23:35.935Z"
   },
   {
    "duration": 0,
    "start_time": "2023-06-14T09:23:35.936Z"
   },
   {
    "duration": 0,
    "start_time": "2023-06-14T09:23:35.939Z"
   },
   {
    "duration": 0,
    "start_time": "2023-06-14T09:23:35.943Z"
   },
   {
    "duration": 152,
    "start_time": "2023-06-14T09:24:56.706Z"
   },
   {
    "duration": 2292,
    "start_time": "2023-06-14T09:25:04.475Z"
   },
   {
    "duration": 9,
    "start_time": "2023-06-14T09:25:06.770Z"
   },
   {
    "duration": 420,
    "start_time": "2023-06-14T09:25:06.781Z"
   },
   {
    "duration": 4,
    "start_time": "2023-06-14T09:25:07.206Z"
   },
   {
    "duration": 371,
    "start_time": "2023-06-14T09:25:07.212Z"
   },
   {
    "duration": 123,
    "start_time": "2023-06-14T09:25:07.600Z"
   },
   {
    "duration": 306,
    "start_time": "2023-06-14T09:25:07.725Z"
   },
   {
    "duration": 61,
    "start_time": "2023-06-14T09:25:08.032Z"
   },
   {
    "duration": 1139,
    "start_time": "2023-06-14T09:25:08.094Z"
   },
   {
    "duration": 20,
    "start_time": "2023-06-14T09:25:09.236Z"
   },
   {
    "duration": 103,
    "start_time": "2023-06-14T09:25:09.258Z"
   },
   {
    "duration": 238,
    "start_time": "2023-06-14T09:25:09.366Z"
   },
   {
    "duration": 12,
    "start_time": "2023-06-14T09:25:09.609Z"
   },
   {
    "duration": 264,
    "start_time": "2023-06-14T09:25:09.623Z"
   },
   {
    "duration": 198,
    "start_time": "2023-06-14T09:25:09.889Z"
   },
   {
    "duration": 4,
    "start_time": "2023-06-14T09:25:10.090Z"
   },
   {
    "duration": 94,
    "start_time": "2023-06-14T09:25:10.096Z"
   },
   {
    "duration": 137,
    "start_time": "2023-06-14T09:25:10.192Z"
   },
   {
    "duration": 76,
    "start_time": "2023-06-14T09:25:10.334Z"
   },
   {
    "duration": 138,
    "start_time": "2023-06-14T09:25:10.411Z"
   },
   {
    "duration": 13,
    "start_time": "2023-06-14T09:25:10.550Z"
   },
   {
    "duration": 139,
    "start_time": "2023-06-14T09:25:10.566Z"
   },
   {
    "duration": 431,
    "start_time": "2023-06-14T09:25:10.709Z"
   },
   {
    "duration": 401,
    "start_time": "2023-06-14T09:25:11.148Z"
   },
   {
    "duration": 38,
    "start_time": "2023-06-14T09:25:11.552Z"
   },
   {
    "duration": 561,
    "start_time": "2023-06-14T09:25:11.592Z"
   },
   {
    "duration": 159,
    "start_time": "2023-06-14T09:25:12.156Z"
   },
   {
    "duration": 165,
    "start_time": "2023-06-14T09:25:12.325Z"
   },
   {
    "duration": 320,
    "start_time": "2023-06-14T09:25:12.491Z"
   },
   {
    "duration": 442,
    "start_time": "2023-06-14T09:25:12.813Z"
   },
   {
    "duration": 31,
    "start_time": "2023-06-14T09:25:13.256Z"
   },
   {
    "duration": 236,
    "start_time": "2023-06-14T09:25:13.289Z"
   },
   {
    "duration": 187,
    "start_time": "2023-06-14T09:25:13.527Z"
   },
   {
    "duration": 8,
    "start_time": "2023-06-14T09:25:13.722Z"
   },
   {
    "duration": 96,
    "start_time": "2023-06-14T09:25:13.733Z"
   },
   {
    "duration": 47,
    "start_time": "2023-06-14T09:25:13.830Z"
   },
   {
    "duration": 286,
    "start_time": "2023-06-14T09:25:13.881Z"
   },
   {
    "duration": 31,
    "start_time": "2023-06-14T09:25:14.168Z"
   },
   {
    "duration": 158,
    "start_time": "2023-06-14T09:25:14.201Z"
   },
   {
    "duration": 199,
    "start_time": "2023-06-14T09:25:37.218Z"
   },
   {
    "duration": 27,
    "start_time": "2023-06-14T09:25:41.668Z"
   },
   {
    "duration": 15,
    "start_time": "2023-06-14T09:26:04.164Z"
   },
   {
    "duration": 20,
    "start_time": "2023-06-14T09:28:47.689Z"
   },
   {
    "duration": 17,
    "start_time": "2023-06-14T09:28:56.705Z"
   },
   {
    "duration": 167,
    "start_time": "2023-06-14T09:30:19.976Z"
   },
   {
    "duration": 9,
    "start_time": "2023-06-14T09:30:22.468Z"
   },
   {
    "duration": 18,
    "start_time": "2023-06-14T09:30:25.869Z"
   },
   {
    "duration": 15,
    "start_time": "2023-06-14T09:30:39.671Z"
   },
   {
    "duration": 17,
    "start_time": "2023-06-14T09:30:47.779Z"
   },
   {
    "duration": 34,
    "start_time": "2023-06-14T09:31:35.772Z"
   },
   {
    "duration": 37,
    "start_time": "2023-06-14T09:32:39.189Z"
   },
   {
    "duration": 938,
    "start_time": "2023-06-14T09:35:24.029Z"
   },
   {
    "duration": 34,
    "start_time": "2023-06-14T09:35:27.276Z"
   },
   {
    "duration": 42,
    "start_time": "2023-06-14T09:35:40.523Z"
   },
   {
    "duration": 37,
    "start_time": "2023-06-14T09:35:42.769Z"
   },
   {
    "duration": 36,
    "start_time": "2023-06-14T09:36:27.568Z"
   },
   {
    "duration": 104,
    "start_time": "2023-06-14T09:36:48.991Z"
   },
   {
    "duration": 73,
    "start_time": "2023-06-14T09:37:20.229Z"
   },
   {
    "duration": 39,
    "start_time": "2023-06-14T09:44:37.667Z"
   },
   {
    "duration": 34,
    "start_time": "2023-06-14T09:45:49.569Z"
   },
   {
    "duration": 4569,
    "start_time": "2023-06-14T09:46:08.035Z"
   },
   {
    "duration": 3,
    "start_time": "2023-06-14T09:46:12.606Z"
   },
   {
    "duration": 322,
    "start_time": "2023-06-14T09:46:12.611Z"
   },
   {
    "duration": 3,
    "start_time": "2023-06-14T09:46:12.935Z"
   },
   {
    "duration": 229,
    "start_time": "2023-06-14T09:46:12.951Z"
   },
   {
    "duration": 92,
    "start_time": "2023-06-14T09:46:13.182Z"
   },
   {
    "duration": 124,
    "start_time": "2023-06-14T09:46:13.275Z"
   },
   {
    "duration": 96,
    "start_time": "2023-06-14T09:46:13.409Z"
   },
   {
    "duration": 761,
    "start_time": "2023-06-14T09:46:13.507Z"
   },
   {
    "duration": 29,
    "start_time": "2023-06-14T09:46:14.275Z"
   },
   {
    "duration": 17,
    "start_time": "2023-06-14T09:46:14.305Z"
   },
   {
    "duration": 111,
    "start_time": "2023-06-14T09:46:14.324Z"
   },
   {
    "duration": 34,
    "start_time": "2023-06-14T09:46:14.437Z"
   },
   {
    "duration": 198,
    "start_time": "2023-06-14T09:46:14.482Z"
   },
   {
    "duration": 139,
    "start_time": "2023-06-14T09:46:14.685Z"
   },
   {
    "duration": 6,
    "start_time": "2023-06-14T09:46:14.825Z"
   },
   {
    "duration": 64,
    "start_time": "2023-06-14T09:46:14.832Z"
   },
   {
    "duration": 14,
    "start_time": "2023-06-14T09:46:14.898Z"
   },
   {
    "duration": 63,
    "start_time": "2023-06-14T09:46:14.913Z"
   },
   {
    "duration": 44,
    "start_time": "2023-06-14T09:46:14.985Z"
   },
   {
    "duration": 83,
    "start_time": "2023-06-14T09:46:15.031Z"
   },
   {
    "duration": 16,
    "start_time": "2023-06-14T09:46:15.116Z"
   },
   {
    "duration": 79,
    "start_time": "2023-06-14T09:46:15.135Z"
   },
   {
    "duration": 6,
    "start_time": "2023-06-14T09:46:15.216Z"
   },
   {
    "duration": 66,
    "start_time": "2023-06-14T09:46:15.224Z"
   },
   {
    "duration": 342,
    "start_time": "2023-06-14T09:46:15.292Z"
   },
   {
    "duration": 295,
    "start_time": "2023-06-14T09:46:15.636Z"
   },
   {
    "duration": 26,
    "start_time": "2023-06-14T09:46:15.932Z"
   },
   {
    "duration": 232,
    "start_time": "2023-06-14T09:46:15.968Z"
   },
   {
    "duration": 70,
    "start_time": "2023-06-14T09:46:16.208Z"
   },
   {
    "duration": 154,
    "start_time": "2023-06-14T09:46:16.280Z"
   },
   {
    "duration": 114,
    "start_time": "2023-06-14T09:46:16.437Z"
   },
   {
    "duration": 231,
    "start_time": "2023-06-14T09:46:16.567Z"
   },
   {
    "duration": 26,
    "start_time": "2023-06-14T09:46:16.800Z"
   },
   {
    "duration": 113,
    "start_time": "2023-06-14T09:46:16.828Z"
   },
   {
    "duration": 84,
    "start_time": "2023-06-14T09:46:16.956Z"
   },
   {
    "duration": 9,
    "start_time": "2023-06-14T09:46:17.041Z"
   },
   {
    "duration": 175,
    "start_time": "2023-06-14T09:46:17.052Z"
   },
   {
    "duration": 66,
    "start_time": "2023-06-14T09:46:17.229Z"
   },
   {
    "duration": 70,
    "start_time": "2023-06-14T09:46:17.297Z"
   },
   {
    "duration": 37,
    "start_time": "2023-06-14T09:46:17.376Z"
   },
   {
    "duration": 58,
    "start_time": "2023-06-14T09:46:17.415Z"
   },
   {
    "duration": 1464,
    "start_time": "2023-06-14T09:47:15.636Z"
   },
   {
    "duration": 3,
    "start_time": "2023-06-14T09:47:17.107Z"
   },
   {
    "duration": 261,
    "start_time": "2023-06-14T09:47:17.112Z"
   },
   {
    "duration": 8,
    "start_time": "2023-06-14T09:47:17.388Z"
   },
   {
    "duration": 277,
    "start_time": "2023-06-14T09:47:17.402Z"
   },
   {
    "duration": 95,
    "start_time": "2023-06-14T09:47:17.681Z"
   },
   {
    "duration": 111,
    "start_time": "2023-06-14T09:47:17.779Z"
   },
   {
    "duration": 58,
    "start_time": "2023-06-14T09:47:17.893Z"
   },
   {
    "duration": 812,
    "start_time": "2023-06-14T09:47:17.962Z"
   },
   {
    "duration": 17,
    "start_time": "2023-06-14T09:47:18.785Z"
   },
   {
    "duration": 23,
    "start_time": "2023-06-14T09:47:18.804Z"
   },
   {
    "duration": 183,
    "start_time": "2023-06-14T09:47:18.829Z"
   },
   {
    "duration": 9,
    "start_time": "2023-06-14T09:47:19.014Z"
   },
   {
    "duration": 193,
    "start_time": "2023-06-14T09:47:19.026Z"
   },
   {
    "duration": 193,
    "start_time": "2023-06-14T09:47:19.221Z"
   },
   {
    "duration": 8,
    "start_time": "2023-06-14T09:47:19.416Z"
   },
   {
    "duration": 12,
    "start_time": "2023-06-14T09:47:19.426Z"
   },
   {
    "duration": 48,
    "start_time": "2023-06-14T09:47:19.440Z"
   },
   {
    "duration": 28,
    "start_time": "2023-06-14T09:47:19.490Z"
   },
   {
    "duration": 73,
    "start_time": "2023-06-14T09:47:19.520Z"
   },
   {
    "duration": 12,
    "start_time": "2023-06-14T09:47:19.594Z"
   },
   {
    "duration": 11,
    "start_time": "2023-06-14T09:47:19.608Z"
   },
   {
    "duration": 63,
    "start_time": "2023-06-14T09:47:19.621Z"
   },
   {
    "duration": 8,
    "start_time": "2023-06-14T09:47:19.686Z"
   },
   {
    "duration": 33,
    "start_time": "2023-06-14T09:47:19.695Z"
   },
   {
    "duration": 361,
    "start_time": "2023-06-14T09:47:19.730Z"
   },
   {
    "duration": 300,
    "start_time": "2023-06-14T09:47:20.095Z"
   },
   {
    "duration": 19,
    "start_time": "2023-06-14T09:47:20.404Z"
   },
   {
    "duration": 185,
    "start_time": "2023-06-14T09:47:20.425Z"
   },
   {
    "duration": 79,
    "start_time": "2023-06-14T09:47:20.613Z"
   },
   {
    "duration": 109,
    "start_time": "2023-06-14T09:47:20.699Z"
   },
   {
    "duration": 102,
    "start_time": "2023-06-14T09:47:20.810Z"
   },
   {
    "duration": 190,
    "start_time": "2023-06-14T09:47:20.913Z"
   },
   {
    "duration": 16,
    "start_time": "2023-06-14T09:47:21.112Z"
   },
   {
    "duration": 157,
    "start_time": "2023-06-14T09:47:21.130Z"
   },
   {
    "duration": 90,
    "start_time": "2023-06-14T09:47:21.305Z"
   },
   {
    "duration": 8,
    "start_time": "2023-06-14T09:47:21.406Z"
   },
   {
    "duration": 21,
    "start_time": "2023-06-14T09:47:21.415Z"
   },
   {
    "duration": 73,
    "start_time": "2023-06-14T09:47:21.438Z"
   },
   {
    "duration": 38,
    "start_time": "2023-06-14T09:47:21.513Z"
   },
   {
    "duration": 69,
    "start_time": "2023-06-14T09:47:21.555Z"
   },
   {
    "duration": 86,
    "start_time": "2023-06-14T09:47:21.625Z"
   },
   {
    "duration": 190,
    "start_time": "2023-06-14T10:13:44.728Z"
   },
   {
    "duration": 200,
    "start_time": "2023-06-14T10:14:14.813Z"
   },
   {
    "duration": 299,
    "start_time": "2023-06-14T10:14:17.806Z"
   },
   {
    "duration": 204,
    "start_time": "2023-06-14T10:14:20.894Z"
   },
   {
    "duration": 193,
    "start_time": "2023-06-14T10:14:40.340Z"
   },
   {
    "duration": 217,
    "start_time": "2023-06-14T10:14:50.960Z"
   },
   {
    "duration": 153,
    "start_time": "2023-06-14T10:15:20.274Z"
   },
   {
    "duration": 34,
    "start_time": "2023-06-14T10:15:36.720Z"
   },
   {
    "duration": 53,
    "start_time": "2023-06-14T10:16:07.944Z"
   },
   {
    "duration": 26,
    "start_time": "2023-06-14T10:16:13.294Z"
   },
   {
    "duration": 48,
    "start_time": "2023-06-14T10:16:34.635Z"
   },
   {
    "duration": 33,
    "start_time": "2023-06-14T10:16:38.688Z"
   },
   {
    "duration": 27,
    "start_time": "2023-06-14T10:16:43.489Z"
   },
   {
    "duration": 27,
    "start_time": "2023-06-14T10:16:45.404Z"
   },
   {
    "duration": 5,
    "start_time": "2023-06-14T10:19:56.131Z"
   },
   {
    "duration": 4,
    "start_time": "2023-06-14T10:20:25.980Z"
   },
   {
    "duration": 4,
    "start_time": "2023-06-14T10:20:32.577Z"
   },
   {
    "duration": 5,
    "start_time": "2023-06-14T10:20:35.434Z"
   },
   {
    "duration": 46,
    "start_time": "2023-06-14T10:21:18.834Z"
   },
   {
    "duration": 16,
    "start_time": "2023-06-14T10:21:46.478Z"
   },
   {
    "duration": 269,
    "start_time": "2023-06-14T10:23:03.075Z"
   },
   {
    "duration": 30,
    "start_time": "2023-06-14T10:23:06.783Z"
   },
   {
    "duration": 1299,
    "start_time": "2023-06-14T10:23:30.111Z"
   },
   {
    "duration": 3,
    "start_time": "2023-06-14T10:23:31.412Z"
   },
   {
    "duration": 270,
    "start_time": "2023-06-14T10:23:31.416Z"
   },
   {
    "duration": 4,
    "start_time": "2023-06-14T10:23:31.688Z"
   },
   {
    "duration": 223,
    "start_time": "2023-06-14T10:23:31.693Z"
   },
   {
    "duration": 88,
    "start_time": "2023-06-14T10:23:31.917Z"
   },
   {
    "duration": 127,
    "start_time": "2023-06-14T10:23:32.007Z"
   },
   {
    "duration": 64,
    "start_time": "2023-06-14T10:23:32.137Z"
   },
   {
    "duration": 657,
    "start_time": "2023-06-14T10:23:32.204Z"
   },
   {
    "duration": 7,
    "start_time": "2023-06-14T10:23:32.864Z"
   },
   {
    "duration": 88,
    "start_time": "2023-06-14T10:23:32.872Z"
   },
   {
    "duration": 15,
    "start_time": "2023-06-14T10:23:32.962Z"
   },
   {
    "duration": 130,
    "start_time": "2023-06-14T10:23:32.979Z"
   },
   {
    "duration": 147,
    "start_time": "2023-06-14T10:23:33.112Z"
   },
   {
    "duration": 6,
    "start_time": "2023-06-14T10:23:33.260Z"
   },
   {
    "duration": 9,
    "start_time": "2023-06-14T10:23:33.268Z"
   },
   {
    "duration": 25,
    "start_time": "2023-06-14T10:23:33.278Z"
   },
   {
    "duration": 72,
    "start_time": "2023-06-14T10:23:33.305Z"
   },
   {
    "duration": 48,
    "start_time": "2023-06-14T10:23:33.380Z"
   },
   {
    "duration": 7,
    "start_time": "2023-06-14T10:23:33.430Z"
   },
   {
    "duration": 97,
    "start_time": "2023-06-14T10:23:33.439Z"
   },
   {
    "duration": 24,
    "start_time": "2023-06-14T10:23:33.538Z"
   },
   {
    "duration": 37,
    "start_time": "2023-06-14T10:23:33.568Z"
   },
   {
    "duration": 64,
    "start_time": "2023-06-14T10:23:33.607Z"
   },
   {
    "duration": 6,
    "start_time": "2023-06-14T10:23:33.675Z"
   },
   {
    "duration": 34,
    "start_time": "2023-06-14T10:23:33.682Z"
   },
   {
    "duration": 285,
    "start_time": "2023-06-14T10:23:33.718Z"
   },
   {
    "duration": 279,
    "start_time": "2023-06-14T10:23:34.006Z"
   },
   {
    "duration": 15,
    "start_time": "2023-06-14T10:23:34.287Z"
   },
   {
    "duration": 169,
    "start_time": "2023-06-14T10:23:34.304Z"
   },
   {
    "duration": 60,
    "start_time": "2023-06-14T10:23:34.477Z"
   },
   {
    "duration": 70,
    "start_time": "2023-06-14T10:23:34.544Z"
   },
   {
    "duration": 89,
    "start_time": "2023-06-14T10:23:34.616Z"
   },
   {
    "duration": 164,
    "start_time": "2023-06-14T10:23:34.707Z"
   },
   {
    "duration": 15,
    "start_time": "2023-06-14T10:23:34.875Z"
   },
   {
    "duration": 102,
    "start_time": "2023-06-14T10:23:34.892Z"
   },
   {
    "duration": 80,
    "start_time": "2023-06-14T10:23:34.996Z"
   },
   {
    "duration": 6,
    "start_time": "2023-06-14T10:23:35.078Z"
   },
   {
    "duration": 22,
    "start_time": "2023-06-14T10:23:35.086Z"
   },
   {
    "duration": 12,
    "start_time": "2023-06-14T10:23:35.110Z"
   },
   {
    "duration": 75,
    "start_time": "2023-06-14T10:23:35.123Z"
   },
   {
    "duration": 20,
    "start_time": "2023-06-14T10:23:35.200Z"
   },
   {
    "duration": 31,
    "start_time": "2023-06-14T10:23:35.221Z"
   },
   {
    "duration": 41,
    "start_time": "2023-06-14T10:23:54.145Z"
   },
   {
    "duration": 1228,
    "start_time": "2023-06-14T14:05:34.686Z"
   },
   {
    "duration": 2,
    "start_time": "2023-06-14T14:05:35.917Z"
   },
   {
    "duration": 247,
    "start_time": "2023-06-14T14:05:35.921Z"
   },
   {
    "duration": 9,
    "start_time": "2023-06-14T14:05:36.173Z"
   },
   {
    "duration": 198,
    "start_time": "2023-06-14T14:05:36.186Z"
   },
   {
    "duration": 82,
    "start_time": "2023-06-14T14:05:36.386Z"
   },
   {
    "duration": 127,
    "start_time": "2023-06-14T14:05:36.469Z"
   },
   {
    "duration": 57,
    "start_time": "2023-06-14T14:05:36.598Z"
   },
   {
    "duration": 632,
    "start_time": "2023-06-14T14:05:36.657Z"
   },
   {
    "duration": 5,
    "start_time": "2023-06-14T14:05:37.290Z"
   },
   {
    "duration": 92,
    "start_time": "2023-06-14T14:05:37.297Z"
   },
   {
    "duration": 8,
    "start_time": "2023-06-14T14:05:37.391Z"
   },
   {
    "duration": 152,
    "start_time": "2023-06-14T14:05:37.401Z"
   },
   {
    "duration": 146,
    "start_time": "2023-06-14T14:05:37.558Z"
   },
   {
    "duration": 6,
    "start_time": "2023-06-14T14:05:37.707Z"
   },
   {
    "duration": 67,
    "start_time": "2023-06-14T14:05:37.715Z"
   },
   {
    "duration": 33,
    "start_time": "2023-06-14T14:05:37.784Z"
   },
   {
    "duration": 82,
    "start_time": "2023-06-14T14:05:37.819Z"
   },
   {
    "duration": 71,
    "start_time": "2023-06-14T14:05:37.903Z"
   },
   {
    "duration": 52,
    "start_time": "2023-06-14T14:05:37.975Z"
   },
   {
    "duration": 81,
    "start_time": "2023-06-14T14:05:38.029Z"
   },
   {
    "duration": 5,
    "start_time": "2023-06-14T14:05:38.112Z"
   },
   {
    "duration": 78,
    "start_time": "2023-06-14T14:05:38.119Z"
   },
   {
    "duration": 173,
    "start_time": "2023-06-14T14:05:38.199Z"
   },
   {
    "duration": 12,
    "start_time": "2023-06-14T14:05:38.374Z"
   },
   {
    "duration": 125,
    "start_time": "2023-06-14T14:05:38.391Z"
   },
   {
    "duration": 802,
    "start_time": "2023-06-14T14:05:38.543Z"
   },
   {
    "duration": 599,
    "start_time": "2023-06-14T14:05:39.347Z"
   },
   {
    "duration": 22,
    "start_time": "2023-06-14T14:05:39.948Z"
   },
   {
    "duration": 401,
    "start_time": "2023-06-14T14:05:39.972Z"
   },
   {
    "duration": 171,
    "start_time": "2023-06-14T14:05:40.376Z"
   },
   {
    "duration": 75,
    "start_time": "2023-06-14T14:05:40.549Z"
   },
   {
    "duration": 105,
    "start_time": "2023-06-14T14:05:40.626Z"
   },
   {
    "duration": 182,
    "start_time": "2023-06-14T14:05:40.733Z"
   },
   {
    "duration": 15,
    "start_time": "2023-06-14T14:05:40.917Z"
   },
   {
    "duration": 137,
    "start_time": "2023-06-14T14:05:40.934Z"
   },
   {
    "duration": 78,
    "start_time": "2023-06-14T14:05:41.075Z"
   },
   {
    "duration": 9,
    "start_time": "2023-06-14T14:05:41.155Z"
   },
   {
    "duration": 48,
    "start_time": "2023-06-14T14:05:41.165Z"
   },
   {
    "duration": 16,
    "start_time": "2023-06-14T14:05:41.215Z"
   },
   {
    "duration": 46,
    "start_time": "2023-06-14T14:05:41.235Z"
   },
   {
    "duration": 52,
    "start_time": "2023-06-14T14:05:41.283Z"
   },
   {
    "duration": 74,
    "start_time": "2023-06-14T14:05:41.337Z"
   },
   {
    "duration": 95,
    "start_time": "2023-06-14T14:12:16.400Z"
   },
   {
    "duration": 10,
    "start_time": "2023-06-14T14:12:20.415Z"
   },
   {
    "duration": 7,
    "start_time": "2023-06-14T14:12:28.105Z"
   },
   {
    "duration": 5,
    "start_time": "2023-06-14T14:15:09.484Z"
   },
   {
    "duration": 1397,
    "start_time": "2023-06-14T14:25:30.173Z"
   },
   {
    "duration": 4,
    "start_time": "2023-06-14T14:25:31.577Z"
   },
   {
    "duration": 353,
    "start_time": "2023-06-14T14:25:31.582Z"
   },
   {
    "duration": 16,
    "start_time": "2023-06-14T14:25:31.938Z"
   },
   {
    "duration": 232,
    "start_time": "2023-06-14T14:25:31.961Z"
   },
   {
    "duration": 109,
    "start_time": "2023-06-14T14:25:32.196Z"
   },
   {
    "duration": 169,
    "start_time": "2023-06-14T14:25:32.307Z"
   },
   {
    "duration": 57,
    "start_time": "2023-06-14T14:25:32.480Z"
   },
   {
    "duration": 710,
    "start_time": "2023-06-14T14:25:32.540Z"
   },
   {
    "duration": 8,
    "start_time": "2023-06-14T14:25:33.255Z"
   },
   {
    "duration": 205,
    "start_time": "2023-06-14T14:25:33.264Z"
   },
   {
    "duration": 10,
    "start_time": "2023-06-14T14:25:33.471Z"
   },
   {
    "duration": 155,
    "start_time": "2023-06-14T14:25:33.483Z"
   },
   {
    "duration": 151,
    "start_time": "2023-06-14T14:25:33.646Z"
   },
   {
    "duration": 6,
    "start_time": "2023-06-14T14:25:33.799Z"
   },
   {
    "duration": 20,
    "start_time": "2023-06-14T14:25:33.806Z"
   },
   {
    "duration": 74,
    "start_time": "2023-06-14T14:25:33.828Z"
   },
   {
    "duration": 162,
    "start_time": "2023-06-14T14:25:33.904Z"
   },
   {
    "duration": 118,
    "start_time": "2023-06-14T14:25:34.069Z"
   },
   {
    "duration": 94,
    "start_time": "2023-06-14T14:25:34.190Z"
   },
   {
    "duration": 86,
    "start_time": "2023-06-14T14:25:34.285Z"
   },
   {
    "duration": 55,
    "start_time": "2023-06-14T14:25:34.376Z"
   },
   {
    "duration": 70,
    "start_time": "2023-06-14T14:25:34.434Z"
   },
   {
    "duration": 5,
    "start_time": "2023-06-14T14:25:34.506Z"
   },
   {
    "duration": 65,
    "start_time": "2023-06-14T14:25:34.513Z"
   },
   {
    "duration": 331,
    "start_time": "2023-06-14T14:25:34.580Z"
   },
   {
    "duration": 322,
    "start_time": "2023-06-14T14:25:34.913Z"
   },
   {
    "duration": 25,
    "start_time": "2023-06-14T14:25:35.237Z"
   },
   {
    "duration": 208,
    "start_time": "2023-06-14T14:25:35.270Z"
   },
   {
    "duration": 93,
    "start_time": "2023-06-14T14:25:35.480Z"
   },
   {
    "duration": 102,
    "start_time": "2023-06-14T14:25:35.577Z"
   },
   {
    "duration": 92,
    "start_time": "2023-06-14T14:25:35.681Z"
   },
   {
    "duration": 161,
    "start_time": "2023-06-14T14:25:35.776Z"
   },
   {
    "duration": 31,
    "start_time": "2023-06-14T14:25:35.946Z"
   },
   {
    "duration": 368,
    "start_time": "2023-06-14T14:25:35.979Z"
   },
   {
    "duration": 190,
    "start_time": "2023-06-14T14:25:36.355Z"
   },
   {
    "duration": 11,
    "start_time": "2023-06-14T14:25:36.548Z"
   },
   {
    "duration": 80,
    "start_time": "2023-06-14T14:25:36.567Z"
   },
   {
    "duration": 49,
    "start_time": "2023-06-14T14:25:36.649Z"
   },
   {
    "duration": 83,
    "start_time": "2023-06-14T14:25:36.699Z"
   },
   {
    "duration": 89,
    "start_time": "2023-06-14T14:25:36.788Z"
   },
   {
    "duration": 84,
    "start_time": "2023-06-14T14:25:36.880Z"
   },
   {
    "duration": 1625,
    "start_time": "2023-06-14T14:30:03.570Z"
   },
   {
    "duration": 4,
    "start_time": "2023-06-14T14:30:05.197Z"
   },
   {
    "duration": 402,
    "start_time": "2023-06-14T14:30:05.203Z"
   },
   {
    "duration": 4,
    "start_time": "2023-06-14T14:30:05.607Z"
   },
   {
    "duration": 286,
    "start_time": "2023-06-14T14:30:05.613Z"
   },
   {
    "duration": 157,
    "start_time": "2023-06-14T14:30:05.902Z"
   },
   {
    "duration": 141,
    "start_time": "2023-06-14T14:30:06.061Z"
   },
   {
    "duration": 79,
    "start_time": "2023-06-14T14:30:06.205Z"
   },
   {
    "duration": 704,
    "start_time": "2023-06-14T14:30:06.286Z"
   },
   {
    "duration": 5,
    "start_time": "2023-06-14T14:30:06.991Z"
   },
   {
    "duration": 102,
    "start_time": "2023-06-14T14:30:06.999Z"
   },
   {
    "duration": 9,
    "start_time": "2023-06-14T14:30:07.104Z"
   },
   {
    "duration": 188,
    "start_time": "2023-06-14T14:30:07.116Z"
   },
   {
    "duration": 167,
    "start_time": "2023-06-14T14:30:07.308Z"
   },
   {
    "duration": 8,
    "start_time": "2023-06-14T14:30:07.484Z"
   },
   {
    "duration": 41,
    "start_time": "2023-06-14T14:30:07.494Z"
   },
   {
    "duration": 51,
    "start_time": "2023-06-14T14:30:07.538Z"
   },
   {
    "duration": 59,
    "start_time": "2023-06-14T14:30:07.592Z"
   },
   {
    "duration": 63,
    "start_time": "2023-06-14T14:30:07.656Z"
   },
   {
    "duration": 17,
    "start_time": "2023-06-14T14:30:07.721Z"
   },
   {
    "duration": 83,
    "start_time": "2023-06-14T14:30:07.741Z"
   },
   {
    "duration": 7,
    "start_time": "2023-06-14T14:30:07.826Z"
   },
   {
    "duration": 93,
    "start_time": "2023-06-14T14:30:07.835Z"
   },
   {
    "duration": 5,
    "start_time": "2023-06-14T14:30:07.929Z"
   },
   {
    "duration": 72,
    "start_time": "2023-06-14T14:30:07.935Z"
   },
   {
    "duration": 446,
    "start_time": "2023-06-14T14:30:08.009Z"
   },
   {
    "duration": 351,
    "start_time": "2023-06-14T14:30:08.458Z"
   },
   {
    "duration": 17,
    "start_time": "2023-06-14T14:30:08.812Z"
   },
   {
    "duration": 256,
    "start_time": "2023-06-14T14:30:08.831Z"
   },
   {
    "duration": 92,
    "start_time": "2023-06-14T14:30:09.090Z"
   },
   {
    "duration": 92,
    "start_time": "2023-06-14T14:30:09.184Z"
   },
   {
    "duration": 112,
    "start_time": "2023-06-14T14:30:09.278Z"
   },
   {
    "duration": 207,
    "start_time": "2023-06-14T14:30:09.392Z"
   },
   {
    "duration": 17,
    "start_time": "2023-06-14T14:30:09.602Z"
   },
   {
    "duration": 164,
    "start_time": "2023-06-14T14:30:09.621Z"
   },
   {
    "duration": 123,
    "start_time": "2023-06-14T14:30:09.787Z"
   },
   {
    "duration": 11,
    "start_time": "2023-06-14T14:30:09.912Z"
   },
   {
    "duration": 73,
    "start_time": "2023-06-14T14:30:09.926Z"
   },
   {
    "duration": 193,
    "start_time": "2023-06-14T14:30:10.002Z"
   },
   {
    "duration": 41,
    "start_time": "2023-06-14T14:30:10.198Z"
   },
   {
    "duration": 72,
    "start_time": "2023-06-14T14:30:10.244Z"
   },
   {
    "duration": 28,
    "start_time": "2023-06-14T14:30:10.318Z"
   },
   {
    "duration": 699,
    "start_time": "2023-06-14T14:31:52.301Z"
   },
   {
    "duration": 157,
    "start_time": "2023-06-14T14:32:03.670Z"
   },
   {
    "duration": 169,
    "start_time": "2023-06-14T14:32:15.514Z"
   },
   {
    "duration": 188,
    "start_time": "2023-06-14T14:32:28.585Z"
   },
   {
    "duration": 161,
    "start_time": "2023-06-14T14:33:15.575Z"
   },
   {
    "duration": 177,
    "start_time": "2023-06-14T14:33:21.592Z"
   },
   {
    "duration": 85,
    "start_time": "2023-06-14T14:35:04.237Z"
   },
   {
    "duration": 222,
    "start_time": "2023-06-14T14:40:11.670Z"
   },
   {
    "duration": 388,
    "start_time": "2023-06-14T14:40:42.396Z"
   },
   {
    "duration": 268,
    "start_time": "2023-06-14T14:40:49.093Z"
   },
   {
    "duration": 217,
    "start_time": "2023-06-14T14:42:21.512Z"
   },
   {
    "duration": 284,
    "start_time": "2023-06-14T14:42:27.411Z"
   },
   {
    "duration": 1533,
    "start_time": "2023-06-14T14:42:34.285Z"
   },
   {
    "duration": 3,
    "start_time": "2023-06-14T14:42:35.821Z"
   },
   {
    "duration": 377,
    "start_time": "2023-06-14T14:42:35.826Z"
   },
   {
    "duration": 4,
    "start_time": "2023-06-14T14:42:36.205Z"
   },
   {
    "duration": 363,
    "start_time": "2023-06-14T14:42:36.211Z"
   },
   {
    "duration": 139,
    "start_time": "2023-06-14T14:42:36.578Z"
   },
   {
    "duration": 155,
    "start_time": "2023-06-14T14:42:36.719Z"
   },
   {
    "duration": 58,
    "start_time": "2023-06-14T14:42:36.882Z"
   },
   {
    "duration": 781,
    "start_time": "2023-06-14T14:42:36.950Z"
   },
   {
    "duration": 32,
    "start_time": "2023-06-14T14:42:37.734Z"
   },
   {
    "duration": 155,
    "start_time": "2023-06-14T14:42:37.776Z"
   },
   {
    "duration": 46,
    "start_time": "2023-06-14T14:42:37.933Z"
   },
   {
    "duration": 195,
    "start_time": "2023-06-14T14:42:37.988Z"
   },
   {
    "duration": 184,
    "start_time": "2023-06-14T14:42:38.188Z"
   },
   {
    "duration": 7,
    "start_time": "2023-06-14T14:42:38.374Z"
   },
   {
    "duration": 7,
    "start_time": "2023-06-14T14:42:38.383Z"
   },
   {
    "duration": 21,
    "start_time": "2023-06-14T14:42:38.395Z"
   },
   {
    "duration": 137,
    "start_time": "2023-06-14T14:42:38.419Z"
   },
   {
    "duration": 95,
    "start_time": "2023-06-14T14:42:38.559Z"
   },
   {
    "duration": 26,
    "start_time": "2023-06-14T14:42:38.660Z"
   },
   {
    "duration": 79,
    "start_time": "2023-06-14T14:42:38.692Z"
   },
   {
    "duration": 37,
    "start_time": "2023-06-14T14:42:38.775Z"
   },
   {
    "duration": 93,
    "start_time": "2023-06-14T14:42:38.815Z"
   },
   {
    "duration": 36,
    "start_time": "2023-06-14T14:42:38.911Z"
   },
   {
    "duration": 107,
    "start_time": "2023-06-14T14:42:38.949Z"
   },
   {
    "duration": 994,
    "start_time": "2023-06-14T14:42:39.061Z"
   },
   {
    "duration": 828,
    "start_time": "2023-06-14T14:42:40.058Z"
   },
   {
    "duration": 78,
    "start_time": "2023-06-14T14:42:40.888Z"
   },
   {
    "duration": 354,
    "start_time": "2023-06-14T14:42:40.969Z"
   },
   {
    "duration": 105,
    "start_time": "2023-06-14T14:42:41.325Z"
   },
   {
    "duration": 138,
    "start_time": "2023-06-14T14:42:41.433Z"
   },
   {
    "duration": 96,
    "start_time": "2023-06-14T14:42:41.573Z"
   },
   {
    "duration": 171,
    "start_time": "2023-06-14T14:42:41.675Z"
   },
   {
    "duration": 22,
    "start_time": "2023-06-14T14:42:41.849Z"
   },
   {
    "duration": 144,
    "start_time": "2023-06-14T14:42:41.873Z"
   },
   {
    "duration": 83,
    "start_time": "2023-06-14T14:42:42.019Z"
   },
   {
    "duration": 17,
    "start_time": "2023-06-14T14:42:42.105Z"
   },
   {
    "duration": 74,
    "start_time": "2023-06-14T14:42:42.125Z"
   },
   {
    "duration": 24,
    "start_time": "2023-06-14T14:42:42.201Z"
   },
   {
    "duration": 77,
    "start_time": "2023-06-14T14:42:42.227Z"
   },
   {
    "duration": 23,
    "start_time": "2023-06-14T14:42:42.309Z"
   },
   {
    "duration": 24,
    "start_time": "2023-06-14T14:42:42.343Z"
   },
   {
    "duration": 699,
    "start_time": "2023-06-14T14:50:12.819Z"
   },
   {
    "duration": 249,
    "start_time": "2023-06-14T14:51:28.068Z"
   },
   {
    "duration": 67,
    "start_time": "2023-06-14T14:51:32.491Z"
   },
   {
    "duration": 70,
    "start_time": "2023-06-14T14:54:11.542Z"
   },
   {
    "duration": 228,
    "start_time": "2023-06-14T14:54:18.466Z"
   },
   {
    "duration": 62,
    "start_time": "2023-06-14T14:54:23.448Z"
   },
   {
    "duration": 17,
    "start_time": "2023-06-14T14:59:44.118Z"
   },
   {
    "duration": 27,
    "start_time": "2023-06-14T14:59:53.426Z"
   },
   {
    "duration": 30,
    "start_time": "2023-06-14T14:59:56.129Z"
   },
   {
    "duration": 7,
    "start_time": "2023-06-14T15:00:02.486Z"
   },
   {
    "duration": 135,
    "start_time": "2023-06-14T15:00:27.239Z"
   },
   {
    "duration": 110,
    "start_time": "2023-06-14T15:00:32.597Z"
   },
   {
    "duration": 97,
    "start_time": "2023-06-14T15:00:36.513Z"
   },
   {
    "duration": 18,
    "start_time": "2023-06-14T15:00:55.686Z"
   },
   {
    "duration": 6,
    "start_time": "2023-06-14T15:01:22.427Z"
   },
   {
    "duration": 1584,
    "start_time": "2023-06-14T15:01:28.310Z"
   },
   {
    "duration": 4,
    "start_time": "2023-06-14T15:01:29.897Z"
   },
   {
    "duration": 408,
    "start_time": "2023-06-14T15:01:29.904Z"
   },
   {
    "duration": 5,
    "start_time": "2023-06-14T15:01:30.314Z"
   },
   {
    "duration": 362,
    "start_time": "2023-06-14T15:01:30.322Z"
   },
   {
    "duration": 103,
    "start_time": "2023-06-14T15:01:30.686Z"
   },
   {
    "duration": 305,
    "start_time": "2023-06-14T15:01:30.792Z"
   },
   {
    "duration": 89,
    "start_time": "2023-06-14T15:01:31.100Z"
   },
   {
    "duration": 885,
    "start_time": "2023-06-14T15:01:31.191Z"
   },
   {
    "duration": 6,
    "start_time": "2023-06-14T15:01:32.086Z"
   },
   {
    "duration": 312,
    "start_time": "2023-06-14T15:01:32.094Z"
   },
   {
    "duration": 92,
    "start_time": "2023-06-14T15:01:32.408Z"
   },
   {
    "duration": 243,
    "start_time": "2023-06-14T15:01:32.503Z"
   },
   {
    "duration": 147,
    "start_time": "2023-06-14T15:01:32.762Z"
   },
   {
    "duration": 11,
    "start_time": "2023-06-14T15:01:32.911Z"
   },
   {
    "duration": 91,
    "start_time": "2023-06-14T15:01:32.924Z"
   },
   {
    "duration": 93,
    "start_time": "2023-06-14T15:01:33.017Z"
   },
   {
    "duration": 204,
    "start_time": "2023-06-14T15:01:33.112Z"
   },
   {
    "duration": 106,
    "start_time": "2023-06-14T15:01:33.318Z"
   },
   {
    "duration": 178,
    "start_time": "2023-06-14T15:01:33.426Z"
   },
   {
    "duration": 184,
    "start_time": "2023-06-14T15:01:33.606Z"
   },
   {
    "duration": 122,
    "start_time": "2023-06-14T15:01:33.792Z"
   },
   {
    "duration": 158,
    "start_time": "2023-06-14T15:01:33.916Z"
   },
   {
    "duration": 46,
    "start_time": "2023-06-14T15:01:34.081Z"
   },
   {
    "duration": 239,
    "start_time": "2023-06-14T15:01:34.130Z"
   },
   {
    "duration": 461,
    "start_time": "2023-06-14T15:01:34.371Z"
   },
   {
    "duration": 367,
    "start_time": "2023-06-14T15:01:34.834Z"
   },
   {
    "duration": 17,
    "start_time": "2023-06-14T15:01:35.203Z"
   },
   {
    "duration": 291,
    "start_time": "2023-06-14T15:01:35.222Z"
   },
   {
    "duration": 82,
    "start_time": "2023-06-14T15:01:35.515Z"
   },
   {
    "duration": 170,
    "start_time": "2023-06-14T15:01:35.600Z"
   },
   {
    "duration": 82,
    "start_time": "2023-06-14T15:01:35.774Z"
   },
   {
    "duration": 213,
    "start_time": "2023-06-14T15:01:35.859Z"
   },
   {
    "duration": 31,
    "start_time": "2023-06-14T15:01:36.079Z"
   },
   {
    "duration": 821,
    "start_time": "2023-06-14T15:01:36.113Z"
   },
   {
    "duration": 221,
    "start_time": "2023-06-14T15:01:36.938Z"
   },
   {
    "duration": 88,
    "start_time": "2023-06-14T15:01:37.162Z"
   },
   {
    "duration": 10,
    "start_time": "2023-06-14T15:01:37.253Z"
   },
   {
    "duration": 208,
    "start_time": "2023-06-14T15:01:37.271Z"
   },
   {
    "duration": 33,
    "start_time": "2023-06-14T15:01:37.487Z"
   },
   {
    "duration": 35,
    "start_time": "2023-06-14T15:01:37.525Z"
   },
   {
    "duration": 33,
    "start_time": "2023-06-14T15:01:37.567Z"
   },
   {
    "duration": 205,
    "start_time": "2023-06-14T15:01:37.602Z"
   },
   {
    "duration": 117,
    "start_time": "2023-06-14T15:02:10.568Z"
   },
   {
    "duration": 129,
    "start_time": "2023-06-14T15:02:58.406Z"
   },
   {
    "duration": 120,
    "start_time": "2023-06-14T15:03:53.194Z"
   },
   {
    "duration": 38,
    "start_time": "2023-06-14T15:06:25.541Z"
   },
   {
    "duration": 196,
    "start_time": "2023-06-14T15:07:16.438Z"
   },
   {
    "duration": 187,
    "start_time": "2023-06-14T15:07:18.268Z"
   },
   {
    "duration": 8,
    "start_time": "2023-06-14T15:07:20.284Z"
   },
   {
    "duration": 7,
    "start_time": "2023-06-14T15:08:23.917Z"
   },
   {
    "duration": 9,
    "start_time": "2023-06-14T15:08:52.385Z"
   },
   {
    "duration": 14,
    "start_time": "2023-06-14T15:10:25.076Z"
   },
   {
    "duration": 13,
    "start_time": "2023-06-14T15:11:44.030Z"
   },
   {
    "duration": 1461,
    "start_time": "2023-06-14T15:12:02.044Z"
   },
   {
    "duration": 3,
    "start_time": "2023-06-14T15:12:03.507Z"
   },
   {
    "duration": 304,
    "start_time": "2023-06-14T15:12:03.512Z"
   },
   {
    "duration": 4,
    "start_time": "2023-06-14T15:12:03.818Z"
   },
   {
    "duration": 260,
    "start_time": "2023-06-14T15:12:03.824Z"
   },
   {
    "duration": 126,
    "start_time": "2023-06-14T15:12:04.086Z"
   },
   {
    "duration": 142,
    "start_time": "2023-06-14T15:12:04.214Z"
   },
   {
    "duration": 56,
    "start_time": "2023-06-14T15:12:04.358Z"
   },
   {
    "duration": 744,
    "start_time": "2023-06-14T15:12:04.416Z"
   },
   {
    "duration": 7,
    "start_time": "2023-06-14T15:12:05.165Z"
   },
   {
    "duration": 119,
    "start_time": "2023-06-14T15:12:05.173Z"
   },
   {
    "duration": 9,
    "start_time": "2023-06-14T15:12:05.293Z"
   },
   {
    "duration": 169,
    "start_time": "2023-06-14T15:12:05.304Z"
   },
   {
    "duration": 142,
    "start_time": "2023-06-14T15:12:05.477Z"
   },
   {
    "duration": 6,
    "start_time": "2023-06-14T15:12:05.621Z"
   },
   {
    "duration": 61,
    "start_time": "2023-06-14T15:12:05.629Z"
   },
   {
    "duration": 11,
    "start_time": "2023-06-14T15:12:05.692Z"
   },
   {
    "duration": 33,
    "start_time": "2023-06-14T15:12:05.704Z"
   },
   {
    "duration": 47,
    "start_time": "2023-06-14T15:12:05.739Z"
   },
   {
    "duration": 18,
    "start_time": "2023-06-14T15:12:05.788Z"
   },
   {
    "duration": 79,
    "start_time": "2023-06-14T15:12:05.808Z"
   },
   {
    "duration": 15,
    "start_time": "2023-06-14T15:12:05.890Z"
   },
   {
    "duration": 78,
    "start_time": "2023-06-14T15:12:05.907Z"
   },
   {
    "duration": 6,
    "start_time": "2023-06-14T15:12:05.989Z"
   },
   {
    "duration": 61,
    "start_time": "2023-06-14T15:12:05.998Z"
   },
   {
    "duration": 364,
    "start_time": "2023-06-14T15:12:06.061Z"
   },
   {
    "duration": 336,
    "start_time": "2023-06-14T15:12:06.426Z"
   },
   {
    "duration": 18,
    "start_time": "2023-06-14T15:12:06.766Z"
   },
   {
    "duration": 225,
    "start_time": "2023-06-14T15:12:06.786Z"
   },
   {
    "duration": 87,
    "start_time": "2023-06-14T15:12:07.014Z"
   },
   {
    "duration": 88,
    "start_time": "2023-06-14T15:12:07.103Z"
   },
   {
    "duration": 114,
    "start_time": "2023-06-14T15:12:07.194Z"
   },
   {
    "duration": 187,
    "start_time": "2023-06-14T15:12:07.318Z"
   },
   {
    "duration": 22,
    "start_time": "2023-06-14T15:12:07.508Z"
   },
   {
    "duration": 798,
    "start_time": "2023-06-14T15:12:07.547Z"
   },
   {
    "duration": 316,
    "start_time": "2023-06-14T15:12:08.348Z"
   },
   {
    "duration": 26,
    "start_time": "2023-06-14T15:12:08.667Z"
   },
   {
    "duration": 339,
    "start_time": "2023-06-14T15:12:08.695Z"
   },
   {
    "duration": 64,
    "start_time": "2023-06-14T15:12:09.037Z"
   },
   {
    "duration": 144,
    "start_time": "2023-06-14T15:12:09.104Z"
   },
   {
    "duration": 121,
    "start_time": "2023-06-14T15:12:09.250Z"
   },
   {
    "duration": 0,
    "start_time": "2023-06-14T15:12:09.373Z"
   },
   {
    "duration": 0,
    "start_time": "2023-06-14T15:12:09.374Z"
   },
   {
    "duration": 0,
    "start_time": "2023-06-14T15:12:09.376Z"
   },
   {
    "duration": 0,
    "start_time": "2023-06-14T15:12:09.377Z"
   },
   {
    "duration": 0,
    "start_time": "2023-06-14T15:12:09.378Z"
   },
   {
    "duration": 7,
    "start_time": "2023-06-14T15:12:45.790Z"
   },
   {
    "duration": 16,
    "start_time": "2023-06-14T15:12:49.113Z"
   },
   {
    "duration": 17,
    "start_time": "2023-06-14T15:13:13.788Z"
   },
   {
    "duration": 14,
    "start_time": "2023-06-14T15:13:16.313Z"
   },
   {
    "duration": 11,
    "start_time": "2023-06-14T15:13:28.114Z"
   },
   {
    "duration": 189,
    "start_time": "2023-06-14T15:13:50.223Z"
   },
   {
    "duration": 8,
    "start_time": "2023-06-14T15:13:59.204Z"
   },
   {
    "duration": 9,
    "start_time": "2023-06-14T15:14:03.581Z"
   },
   {
    "duration": 21,
    "start_time": "2023-06-14T15:16:33.323Z"
   },
   {
    "duration": 1316,
    "start_time": "2023-06-14T15:17:16.290Z"
   },
   {
    "duration": 4,
    "start_time": "2023-06-14T15:17:17.608Z"
   },
   {
    "duration": 293,
    "start_time": "2023-06-14T15:17:17.614Z"
   },
   {
    "duration": 4,
    "start_time": "2023-06-14T15:17:17.912Z"
   },
   {
    "duration": 174,
    "start_time": "2023-06-14T15:17:17.919Z"
   },
   {
    "duration": 100,
    "start_time": "2023-06-14T15:17:18.097Z"
   },
   {
    "duration": 118,
    "start_time": "2023-06-14T15:17:18.198Z"
   },
   {
    "duration": 64,
    "start_time": "2023-06-14T15:17:18.318Z"
   },
   {
    "duration": 719,
    "start_time": "2023-06-14T15:17:18.392Z"
   },
   {
    "duration": 4,
    "start_time": "2023-06-14T15:17:19.113Z"
   },
   {
    "duration": 95,
    "start_time": "2023-06-14T15:17:19.120Z"
   },
   {
    "duration": 9,
    "start_time": "2023-06-14T15:17:19.217Z"
   },
   {
    "duration": 145,
    "start_time": "2023-06-14T15:17:19.241Z"
   },
   {
    "duration": 138,
    "start_time": "2023-06-14T15:17:19.391Z"
   },
   {
    "duration": 6,
    "start_time": "2023-06-14T15:17:19.531Z"
   },
   {
    "duration": 52,
    "start_time": "2023-06-14T15:17:19.542Z"
   },
   {
    "duration": 19,
    "start_time": "2023-06-14T15:17:19.597Z"
   },
   {
    "duration": 38,
    "start_time": "2023-06-14T15:17:19.618Z"
   },
   {
    "duration": 48,
    "start_time": "2023-06-14T15:17:19.658Z"
   },
   {
    "duration": 5,
    "start_time": "2023-06-14T15:17:19.708Z"
   },
   {
    "duration": 66,
    "start_time": "2023-06-14T15:17:19.715Z"
   },
   {
    "duration": 9,
    "start_time": "2023-06-14T15:17:19.783Z"
   },
   {
    "duration": 65,
    "start_time": "2023-06-14T15:17:19.794Z"
   },
   {
    "duration": 7,
    "start_time": "2023-06-14T15:17:19.867Z"
   },
   {
    "duration": 20,
    "start_time": "2023-06-14T15:17:19.880Z"
   },
   {
    "duration": 325,
    "start_time": "2023-06-14T15:17:19.902Z"
   },
   {
    "duration": 293,
    "start_time": "2023-06-14T15:17:20.230Z"
   },
   {
    "duration": 31,
    "start_time": "2023-06-14T15:17:20.525Z"
   },
   {
    "duration": 165,
    "start_time": "2023-06-14T15:17:20.558Z"
   },
   {
    "duration": 78,
    "start_time": "2023-06-14T15:17:20.725Z"
   },
   {
    "duration": 81,
    "start_time": "2023-06-14T15:17:20.804Z"
   },
   {
    "duration": 81,
    "start_time": "2023-06-14T15:17:20.886Z"
   },
   {
    "duration": 166,
    "start_time": "2023-06-14T15:17:20.968Z"
   },
   {
    "duration": 24,
    "start_time": "2023-06-14T15:17:21.143Z"
   },
   {
    "duration": 706,
    "start_time": "2023-06-14T15:17:21.169Z"
   },
   {
    "duration": 229,
    "start_time": "2023-06-14T15:17:21.877Z"
   },
   {
    "duration": 10,
    "start_time": "2023-06-14T15:17:22.109Z"
   },
   {
    "duration": 84,
    "start_time": "2023-06-14T15:17:22.121Z"
   },
   {
    "duration": 89,
    "start_time": "2023-06-14T15:17:22.207Z"
   },
   {
    "duration": 55,
    "start_time": "2023-06-14T15:17:22.298Z"
   },
   {
    "duration": 123,
    "start_time": "2023-06-14T15:17:22.358Z"
   },
   {
    "duration": 110,
    "start_time": "2023-06-14T15:17:22.484Z"
   },
   {
    "duration": 0,
    "start_time": "2023-06-14T15:17:22.596Z"
   },
   {
    "duration": 0,
    "start_time": "2023-06-14T15:17:22.597Z"
   },
   {
    "duration": 0,
    "start_time": "2023-06-14T15:17:22.599Z"
   },
   {
    "duration": 0,
    "start_time": "2023-06-14T15:17:22.600Z"
   },
   {
    "duration": 0,
    "start_time": "2023-06-14T15:17:22.602Z"
   },
   {
    "duration": 1343,
    "start_time": "2023-06-14T15:17:42.888Z"
   },
   {
    "duration": 4,
    "start_time": "2023-06-14T15:17:44.235Z"
   },
   {
    "duration": 296,
    "start_time": "2023-06-14T15:17:44.244Z"
   },
   {
    "duration": 8,
    "start_time": "2023-06-14T15:17:44.544Z"
   },
   {
    "duration": 216,
    "start_time": "2023-06-14T15:17:44.554Z"
   },
   {
    "duration": 123,
    "start_time": "2023-06-14T15:17:44.777Z"
   },
   {
    "duration": 125,
    "start_time": "2023-06-14T15:17:44.902Z"
   },
   {
    "duration": 68,
    "start_time": "2023-06-14T15:17:45.029Z"
   },
   {
    "duration": 677,
    "start_time": "2023-06-14T15:17:45.099Z"
   },
   {
    "duration": 7,
    "start_time": "2023-06-14T15:17:45.777Z"
   },
   {
    "duration": 118,
    "start_time": "2023-06-14T15:17:45.788Z"
   },
   {
    "duration": 12,
    "start_time": "2023-06-14T15:17:45.908Z"
   },
   {
    "duration": 195,
    "start_time": "2023-06-14T15:17:45.922Z"
   },
   {
    "duration": 180,
    "start_time": "2023-06-14T15:17:46.121Z"
   },
   {
    "duration": 6,
    "start_time": "2023-06-14T15:17:46.304Z"
   },
   {
    "duration": 33,
    "start_time": "2023-06-14T15:17:46.313Z"
   },
   {
    "duration": 65,
    "start_time": "2023-06-14T15:17:46.348Z"
   },
   {
    "duration": 76,
    "start_time": "2023-06-14T15:17:46.415Z"
   },
   {
    "duration": 40,
    "start_time": "2023-06-14T15:17:46.496Z"
   },
   {
    "duration": 25,
    "start_time": "2023-06-14T15:17:46.538Z"
   },
   {
    "duration": 69,
    "start_time": "2023-06-14T15:17:46.576Z"
   },
   {
    "duration": 36,
    "start_time": "2023-06-14T15:17:46.652Z"
   },
   {
    "duration": 66,
    "start_time": "2023-06-14T15:17:46.691Z"
   },
   {
    "duration": 5,
    "start_time": "2023-06-14T15:17:46.760Z"
   },
   {
    "duration": 56,
    "start_time": "2023-06-14T15:17:46.768Z"
   },
   {
    "duration": 385,
    "start_time": "2023-06-14T15:17:46.826Z"
   },
   {
    "duration": 325,
    "start_time": "2023-06-14T15:17:47.212Z"
   },
   {
    "duration": 25,
    "start_time": "2023-06-14T15:17:47.541Z"
   },
   {
    "duration": 202,
    "start_time": "2023-06-14T15:17:47.569Z"
   },
   {
    "duration": 77,
    "start_time": "2023-06-14T15:17:47.773Z"
   },
   {
    "duration": 106,
    "start_time": "2023-06-14T15:17:47.864Z"
   },
   {
    "duration": 123,
    "start_time": "2023-06-14T15:17:47.973Z"
   },
   {
    "duration": 230,
    "start_time": "2023-06-14T15:17:48.099Z"
   },
   {
    "duration": 55,
    "start_time": "2023-06-14T15:17:48.332Z"
   },
   {
    "duration": 807,
    "start_time": "2023-06-14T15:17:48.389Z"
   },
   {
    "duration": 257,
    "start_time": "2023-06-14T15:17:49.202Z"
   },
   {
    "duration": 28,
    "start_time": "2023-06-14T15:17:49.461Z"
   },
   {
    "duration": 19,
    "start_time": "2023-06-14T15:17:49.492Z"
   },
   {
    "duration": 45,
    "start_time": "2023-06-14T15:17:49.514Z"
   },
   {
    "duration": 38,
    "start_time": "2023-06-14T15:17:49.572Z"
   },
   {
    "duration": 96,
    "start_time": "2023-06-14T15:17:49.615Z"
   },
   {
    "duration": 9,
    "start_time": "2023-06-14T15:17:49.713Z"
   },
   {
    "duration": 39,
    "start_time": "2023-06-14T15:17:49.724Z"
   },
   {
    "duration": 1977,
    "start_time": "2023-06-14T15:17:49.770Z"
   },
   {
    "duration": 0,
    "start_time": "2023-06-14T15:17:51.750Z"
   },
   {
    "duration": 0,
    "start_time": "2023-06-14T15:17:51.760Z"
   },
   {
    "duration": 0,
    "start_time": "2023-06-14T15:17:51.761Z"
   },
   {
    "duration": 8,
    "start_time": "2023-06-14T15:20:00.361Z"
   },
   {
    "duration": 23,
    "start_time": "2023-06-14T15:20:17.185Z"
   },
   {
    "duration": 10,
    "start_time": "2023-06-14T15:20:27.268Z"
   },
   {
    "duration": 27,
    "start_time": "2023-06-14T15:20:30.928Z"
   },
   {
    "duration": 9,
    "start_time": "2023-06-14T15:20:46.993Z"
   },
   {
    "duration": 8,
    "start_time": "2023-06-14T15:20:48.366Z"
   },
   {
    "duration": 16,
    "start_time": "2023-06-14T15:20:49.789Z"
   },
   {
    "duration": 11,
    "start_time": "2023-06-14T15:21:07.645Z"
   },
   {
    "duration": 9,
    "start_time": "2023-06-14T15:21:08.979Z"
   },
   {
    "duration": 49,
    "start_time": "2023-06-14T15:21:10.141Z"
   },
   {
    "duration": 1573,
    "start_time": "2023-06-14T15:21:27.918Z"
   },
   {
    "duration": 3,
    "start_time": "2023-06-14T15:21:29.493Z"
   },
   {
    "duration": 229,
    "start_time": "2023-06-14T15:21:29.497Z"
   },
   {
    "duration": 3,
    "start_time": "2023-06-14T15:21:29.728Z"
   },
   {
    "duration": 229,
    "start_time": "2023-06-14T15:21:29.743Z"
   },
   {
    "duration": 125,
    "start_time": "2023-06-14T15:21:29.974Z"
   },
   {
    "duration": 116,
    "start_time": "2023-06-14T15:21:30.101Z"
   },
   {
    "duration": 57,
    "start_time": "2023-06-14T15:21:30.219Z"
   },
   {
    "duration": 678,
    "start_time": "2023-06-14T15:21:30.281Z"
   },
   {
    "duration": 7,
    "start_time": "2023-06-14T15:21:30.961Z"
   },
   {
    "duration": 176,
    "start_time": "2023-06-14T15:21:30.972Z"
   },
   {
    "duration": 12,
    "start_time": "2023-06-14T15:21:31.150Z"
   },
   {
    "duration": 230,
    "start_time": "2023-06-14T15:21:31.163Z"
   },
   {
    "duration": 130,
    "start_time": "2023-06-14T15:21:31.399Z"
   },
   {
    "duration": 22,
    "start_time": "2023-06-14T15:21:31.531Z"
   },
   {
    "duration": 48,
    "start_time": "2023-06-14T15:21:31.554Z"
   },
   {
    "duration": 24,
    "start_time": "2023-06-14T15:21:31.604Z"
   },
   {
    "duration": 91,
    "start_time": "2023-06-14T15:21:31.630Z"
   },
   {
    "duration": 37,
    "start_time": "2023-06-14T15:21:31.723Z"
   },
   {
    "duration": 16,
    "start_time": "2023-06-14T15:21:31.762Z"
   },
   {
    "duration": 29,
    "start_time": "2023-06-14T15:21:31.780Z"
   },
   {
    "duration": 6,
    "start_time": "2023-06-14T15:21:31.810Z"
   },
   {
    "duration": 62,
    "start_time": "2023-06-14T15:21:31.817Z"
   },
   {
    "duration": 14,
    "start_time": "2023-06-14T15:21:31.881Z"
   },
   {
    "duration": 35,
    "start_time": "2023-06-14T15:21:31.897Z"
   },
   {
    "duration": 389,
    "start_time": "2023-06-14T15:21:31.934Z"
   },
   {
    "duration": 305,
    "start_time": "2023-06-14T15:21:32.326Z"
   },
   {
    "duration": 30,
    "start_time": "2023-06-14T15:21:32.633Z"
   },
   {
    "duration": 169,
    "start_time": "2023-06-14T15:21:32.672Z"
   },
   {
    "duration": 71,
    "start_time": "2023-06-14T15:21:32.843Z"
   },
   {
    "duration": 87,
    "start_time": "2023-06-14T15:21:32.916Z"
   },
   {
    "duration": 88,
    "start_time": "2023-06-14T15:21:33.005Z"
   },
   {
    "duration": 151,
    "start_time": "2023-06-14T15:21:33.094Z"
   },
   {
    "duration": 25,
    "start_time": "2023-06-14T15:21:33.246Z"
   },
   {
    "duration": 596,
    "start_time": "2023-06-14T15:21:33.274Z"
   },
   {
    "duration": 230,
    "start_time": "2023-06-14T15:21:33.872Z"
   },
   {
    "duration": 8,
    "start_time": "2023-06-14T15:21:34.105Z"
   },
   {
    "duration": 125,
    "start_time": "2023-06-14T15:21:34.116Z"
   },
   {
    "duration": 50,
    "start_time": "2023-06-14T15:21:34.242Z"
   },
   {
    "duration": 23,
    "start_time": "2023-06-14T15:21:34.294Z"
   },
   {
    "duration": 85,
    "start_time": "2023-06-14T15:21:34.322Z"
   },
   {
    "duration": 6,
    "start_time": "2023-06-14T15:21:34.409Z"
   },
   {
    "duration": 24,
    "start_time": "2023-06-14T15:21:34.417Z"
   },
   {
    "duration": 34,
    "start_time": "2023-06-14T15:21:34.443Z"
   },
   {
    "duration": 46,
    "start_time": "2023-06-14T15:21:34.479Z"
   },
   {
    "duration": 24,
    "start_time": "2023-06-14T15:21:34.527Z"
   },
   {
    "duration": 57,
    "start_time": "2023-06-14T15:21:34.553Z"
   },
   {
    "duration": 12,
    "start_time": "2023-06-14T15:22:20.184Z"
   },
   {
    "duration": 32,
    "start_time": "2023-06-14T15:22:22.230Z"
   },
   {
    "duration": 9,
    "start_time": "2023-06-14T15:22:55.209Z"
   },
   {
    "duration": 36,
    "start_time": "2023-06-14T15:23:07.939Z"
   },
   {
    "duration": 1288,
    "start_time": "2023-06-14T15:23:13.328Z"
   },
   {
    "duration": 3,
    "start_time": "2023-06-14T15:23:14.618Z"
   },
   {
    "duration": 256,
    "start_time": "2023-06-14T15:23:14.623Z"
   },
   {
    "duration": 3,
    "start_time": "2023-06-14T15:23:14.881Z"
   },
   {
    "duration": 171,
    "start_time": "2023-06-14T15:23:14.885Z"
   },
   {
    "duration": 96,
    "start_time": "2023-06-14T15:23:15.058Z"
   },
   {
    "duration": 125,
    "start_time": "2023-06-14T15:23:15.158Z"
   },
   {
    "duration": 47,
    "start_time": "2023-06-14T15:23:15.288Z"
   },
   {
    "duration": 701,
    "start_time": "2023-06-14T15:23:15.336Z"
   },
   {
    "duration": 19,
    "start_time": "2023-06-14T15:23:16.040Z"
   },
   {
    "duration": 111,
    "start_time": "2023-06-14T15:23:16.066Z"
   },
   {
    "duration": 10,
    "start_time": "2023-06-14T15:23:16.179Z"
   },
   {
    "duration": 146,
    "start_time": "2023-06-14T15:23:16.191Z"
   },
   {
    "duration": 150,
    "start_time": "2023-06-14T15:23:16.339Z"
   },
   {
    "duration": 12,
    "start_time": "2023-06-14T15:23:16.491Z"
   },
   {
    "duration": 8,
    "start_time": "2023-06-14T15:23:16.504Z"
   },
   {
    "duration": 6,
    "start_time": "2023-06-14T15:23:16.513Z"
   },
   {
    "duration": 52,
    "start_time": "2023-06-14T15:23:16.521Z"
   },
   {
    "duration": 74,
    "start_time": "2023-06-14T15:23:16.575Z"
   },
   {
    "duration": 12,
    "start_time": "2023-06-14T15:23:16.657Z"
   },
   {
    "duration": 93,
    "start_time": "2023-06-14T15:23:16.679Z"
   },
   {
    "duration": 9,
    "start_time": "2023-06-14T15:23:16.779Z"
   },
   {
    "duration": 83,
    "start_time": "2023-06-14T15:23:16.791Z"
   },
   {
    "duration": 33,
    "start_time": "2023-06-14T15:23:16.877Z"
   },
   {
    "duration": 24,
    "start_time": "2023-06-14T15:23:16.913Z"
   },
   {
    "duration": 374,
    "start_time": "2023-06-14T15:23:16.939Z"
   },
   {
    "duration": 294,
    "start_time": "2023-06-14T15:23:17.316Z"
   },
   {
    "duration": 13,
    "start_time": "2023-06-14T15:23:17.616Z"
   },
   {
    "duration": 176,
    "start_time": "2023-06-14T15:23:17.631Z"
   },
   {
    "duration": 77,
    "start_time": "2023-06-14T15:23:17.809Z"
   },
   {
    "duration": 127,
    "start_time": "2023-06-14T15:23:17.888Z"
   },
   {
    "duration": 108,
    "start_time": "2023-06-14T15:23:18.017Z"
   },
   {
    "duration": 164,
    "start_time": "2023-06-14T15:23:18.127Z"
   },
   {
    "duration": 15,
    "start_time": "2023-06-14T15:23:18.293Z"
   },
   {
    "duration": 698,
    "start_time": "2023-06-14T15:23:18.310Z"
   },
   {
    "duration": 242,
    "start_time": "2023-06-14T15:23:19.012Z"
   },
   {
    "duration": 18,
    "start_time": "2023-06-14T15:23:19.256Z"
   },
   {
    "duration": 27,
    "start_time": "2023-06-14T15:23:19.280Z"
   },
   {
    "duration": 22,
    "start_time": "2023-06-14T15:23:19.309Z"
   },
   {
    "duration": 28,
    "start_time": "2023-06-14T15:23:19.333Z"
   },
   {
    "duration": 92,
    "start_time": "2023-06-14T15:23:19.363Z"
   },
   {
    "duration": 12,
    "start_time": "2023-06-14T15:23:19.457Z"
   },
   {
    "duration": 31,
    "start_time": "2023-06-14T15:23:19.470Z"
   },
   {
    "duration": 188,
    "start_time": "2023-06-14T15:23:19.503Z"
   },
   {
    "duration": 0,
    "start_time": "2023-06-14T15:23:19.694Z"
   },
   {
    "duration": 0,
    "start_time": "2023-06-14T15:23:19.695Z"
   },
   {
    "duration": 0,
    "start_time": "2023-06-14T15:23:19.696Z"
   },
   {
    "duration": 18,
    "start_time": "2023-06-14T15:24:11.885Z"
   },
   {
    "duration": 26,
    "start_time": "2023-06-14T15:24:13.057Z"
   },
   {
    "duration": 1415,
    "start_time": "2023-06-14T15:24:24.992Z"
   },
   {
    "duration": 4,
    "start_time": "2023-06-14T15:24:26.410Z"
   },
   {
    "duration": 405,
    "start_time": "2023-06-14T15:24:26.415Z"
   },
   {
    "duration": 4,
    "start_time": "2023-06-14T15:24:26.822Z"
   },
   {
    "duration": 359,
    "start_time": "2023-06-14T15:24:26.841Z"
   },
   {
    "duration": 126,
    "start_time": "2023-06-14T15:24:27.202Z"
   },
   {
    "duration": 236,
    "start_time": "2023-06-14T15:24:27.330Z"
   },
   {
    "duration": 109,
    "start_time": "2023-06-14T15:24:27.568Z"
   },
   {
    "duration": 799,
    "start_time": "2023-06-14T15:24:27.680Z"
   },
   {
    "duration": 10,
    "start_time": "2023-06-14T15:24:28.486Z"
   },
   {
    "duration": 237,
    "start_time": "2023-06-14T15:24:28.499Z"
   },
   {
    "duration": 14,
    "start_time": "2023-06-14T15:24:28.749Z"
   },
   {
    "duration": 268,
    "start_time": "2023-06-14T15:24:28.769Z"
   },
   {
    "duration": 172,
    "start_time": "2023-06-14T15:24:29.042Z"
   },
   {
    "duration": 8,
    "start_time": "2023-06-14T15:24:29.216Z"
   },
   {
    "duration": 65,
    "start_time": "2023-06-14T15:24:29.245Z"
   },
   {
    "duration": 56,
    "start_time": "2023-06-14T15:24:29.313Z"
   },
   {
    "duration": 144,
    "start_time": "2023-06-14T15:24:29.372Z"
   },
   {
    "duration": 98,
    "start_time": "2023-06-14T15:24:29.518Z"
   },
   {
    "duration": 71,
    "start_time": "2023-06-14T15:24:29.618Z"
   },
   {
    "duration": 111,
    "start_time": "2023-06-14T15:24:29.691Z"
   },
   {
    "duration": 41,
    "start_time": "2023-06-14T15:24:29.804Z"
   },
   {
    "duration": 173,
    "start_time": "2023-06-14T15:24:29.850Z"
   },
   {
    "duration": 82,
    "start_time": "2023-06-14T15:24:30.025Z"
   },
   {
    "duration": 130,
    "start_time": "2023-06-14T15:24:30.109Z"
   },
   {
    "duration": 566,
    "start_time": "2023-06-14T15:24:30.243Z"
   },
   {
    "duration": 315,
    "start_time": "2023-06-14T15:24:30.811Z"
   },
   {
    "duration": 42,
    "start_time": "2023-06-14T15:24:31.129Z"
   },
   {
    "duration": 253,
    "start_time": "2023-06-14T15:24:31.176Z"
   },
   {
    "duration": 287,
    "start_time": "2023-06-14T15:24:31.431Z"
   },
   {
    "duration": 233,
    "start_time": "2023-06-14T15:24:31.721Z"
   },
   {
    "duration": 414,
    "start_time": "2023-06-14T15:24:31.956Z"
   },
   {
    "duration": 250,
    "start_time": "2023-06-14T15:24:32.375Z"
   },
   {
    "duration": 28,
    "start_time": "2023-06-14T15:24:32.627Z"
   },
   {
    "duration": 879,
    "start_time": "2023-06-14T15:24:32.657Z"
   },
   {
    "duration": 272,
    "start_time": "2023-06-14T15:24:33.538Z"
   },
   {
    "duration": 8,
    "start_time": "2023-06-14T15:24:33.812Z"
   },
   {
    "duration": 64,
    "start_time": "2023-06-14T15:24:33.822Z"
   },
   {
    "duration": 45,
    "start_time": "2023-06-14T15:24:33.888Z"
   },
   {
    "duration": 150,
    "start_time": "2023-06-14T15:24:33.935Z"
   },
   {
    "duration": 44,
    "start_time": "2023-06-14T15:24:34.091Z"
   },
   {
    "duration": 163,
    "start_time": "2023-06-14T15:24:34.138Z"
   },
   {
    "duration": 266,
    "start_time": "2023-06-14T15:24:34.303Z"
   },
   {
    "duration": 0,
    "start_time": "2023-06-14T15:24:34.571Z"
   },
   {
    "duration": 0,
    "start_time": "2023-06-14T15:24:34.572Z"
   },
   {
    "duration": 0,
    "start_time": "2023-06-14T15:24:34.573Z"
   },
   {
    "duration": 10,
    "start_time": "2023-06-14T15:25:25.833Z"
   },
   {
    "duration": 68,
    "start_time": "2023-06-14T15:25:36.745Z"
   },
   {
    "duration": 1405,
    "start_time": "2023-06-14T15:26:29.886Z"
   },
   {
    "duration": 4,
    "start_time": "2023-06-14T15:26:31.295Z"
   },
   {
    "duration": 393,
    "start_time": "2023-06-14T15:26:31.302Z"
   },
   {
    "duration": 4,
    "start_time": "2023-06-14T15:26:31.697Z"
   },
   {
    "duration": 367,
    "start_time": "2023-06-14T15:26:31.704Z"
   },
   {
    "duration": 135,
    "start_time": "2023-06-14T15:26:32.079Z"
   },
   {
    "duration": 221,
    "start_time": "2023-06-14T15:26:32.216Z"
   },
   {
    "duration": 80,
    "start_time": "2023-06-14T15:26:32.439Z"
   },
   {
    "duration": 856,
    "start_time": "2023-06-14T15:26:32.522Z"
   },
   {
    "duration": 6,
    "start_time": "2023-06-14T15:26:33.388Z"
   },
   {
    "duration": 197,
    "start_time": "2023-06-14T15:26:33.396Z"
   },
   {
    "duration": 22,
    "start_time": "2023-06-14T15:26:33.595Z"
   },
   {
    "duration": 250,
    "start_time": "2023-06-14T15:26:33.620Z"
   },
   {
    "duration": 151,
    "start_time": "2023-06-14T15:26:33.874Z"
   },
   {
    "duration": 6,
    "start_time": "2023-06-14T15:26:34.027Z"
   },
   {
    "duration": 127,
    "start_time": "2023-06-14T15:26:34.034Z"
   },
   {
    "duration": 222,
    "start_time": "2023-06-14T15:26:34.165Z"
   },
   {
    "duration": 73,
    "start_time": "2023-06-14T15:26:34.389Z"
   },
   {
    "duration": 212,
    "start_time": "2023-06-14T15:26:34.464Z"
   },
   {
    "duration": 39,
    "start_time": "2023-06-14T15:26:34.680Z"
   },
   {
    "duration": 96,
    "start_time": "2023-06-14T15:26:34.722Z"
   },
   {
    "duration": 87,
    "start_time": "2023-06-14T15:26:34.821Z"
   },
   {
    "duration": 229,
    "start_time": "2023-06-14T15:26:34.910Z"
   },
   {
    "duration": 93,
    "start_time": "2023-06-14T15:26:35.144Z"
   },
   {
    "duration": 91,
    "start_time": "2023-06-14T15:26:35.240Z"
   },
   {
    "duration": 474,
    "start_time": "2023-06-14T15:26:35.333Z"
   },
   {
    "duration": 364,
    "start_time": "2023-06-14T15:26:35.809Z"
   },
   {
    "duration": 27,
    "start_time": "2023-06-14T15:26:36.174Z"
   },
   {
    "duration": 377,
    "start_time": "2023-06-14T15:26:36.204Z"
   },
   {
    "duration": 70,
    "start_time": "2023-06-14T15:26:36.589Z"
   },
   {
    "duration": 320,
    "start_time": "2023-06-14T15:26:36.661Z"
   },
   {
    "duration": 272,
    "start_time": "2023-06-14T15:26:36.983Z"
   },
   {
    "duration": 171,
    "start_time": "2023-06-14T15:26:37.263Z"
   },
   {
    "duration": 29,
    "start_time": "2023-06-14T15:26:37.436Z"
   },
   {
    "duration": 872,
    "start_time": "2023-06-14T15:26:37.467Z"
   },
   {
    "duration": 250,
    "start_time": "2023-06-14T15:26:38.347Z"
   },
   {
    "duration": 11,
    "start_time": "2023-06-14T15:26:38.600Z"
   },
   {
    "duration": 140,
    "start_time": "2023-06-14T15:26:38.613Z"
   },
   {
    "duration": 260,
    "start_time": "2023-06-14T15:26:38.756Z"
   },
   {
    "duration": 110,
    "start_time": "2023-06-14T15:26:39.018Z"
   },
   {
    "duration": 7,
    "start_time": "2023-06-14T15:26:39.132Z"
   },
   {
    "duration": 91,
    "start_time": "2023-06-14T15:26:39.141Z"
   },
   {
    "duration": 273,
    "start_time": "2023-06-14T15:26:39.234Z"
   },
   {
    "duration": 0,
    "start_time": "2023-06-14T15:26:39.509Z"
   },
   {
    "duration": 0,
    "start_time": "2023-06-14T15:26:39.511Z"
   },
   {
    "duration": 0,
    "start_time": "2023-06-14T15:26:39.512Z"
   },
   {
    "duration": 11,
    "start_time": "2023-06-14T15:27:00.686Z"
   },
   {
    "duration": 24,
    "start_time": "2023-06-14T15:27:45.209Z"
   },
   {
    "duration": 1443,
    "start_time": "2023-06-14T15:27:52.074Z"
   },
   {
    "duration": 5,
    "start_time": "2023-06-14T15:27:53.519Z"
   },
   {
    "duration": 644,
    "start_time": "2023-06-14T15:27:53.527Z"
   },
   {
    "duration": 5,
    "start_time": "2023-06-14T15:27:54.173Z"
   },
   {
    "duration": 527,
    "start_time": "2023-06-14T15:27:54.182Z"
   },
   {
    "duration": 388,
    "start_time": "2023-06-14T15:27:54.711Z"
   },
   {
    "duration": 330,
    "start_time": "2023-06-14T15:27:55.105Z"
   },
   {
    "duration": 293,
    "start_time": "2023-06-14T15:27:55.438Z"
   },
   {
    "duration": 1021,
    "start_time": "2023-06-14T15:27:55.733Z"
   },
   {
    "duration": 15,
    "start_time": "2023-06-14T15:27:56.776Z"
   },
   {
    "duration": 483,
    "start_time": "2023-06-14T15:27:56.794Z"
   },
   {
    "duration": 52,
    "start_time": "2023-06-14T15:27:57.283Z"
   },
   {
    "duration": 436,
    "start_time": "2023-06-14T15:27:57.338Z"
   },
   {
    "duration": 235,
    "start_time": "2023-06-14T15:27:57.784Z"
   },
   {
    "duration": 9,
    "start_time": "2023-06-14T15:27:58.022Z"
   },
   {
    "duration": 212,
    "start_time": "2023-06-14T15:27:58.033Z"
   },
   {
    "duration": 281,
    "start_time": "2023-06-14T15:27:58.257Z"
   },
   {
    "duration": 383,
    "start_time": "2023-06-14T15:27:58.541Z"
   },
   {
    "duration": 261,
    "start_time": "2023-06-14T15:27:58.926Z"
   },
   {
    "duration": 251,
    "start_time": "2023-06-14T15:27:59.189Z"
   },
   {
    "duration": 288,
    "start_time": "2023-06-14T15:27:59.449Z"
   },
   {
    "duration": 310,
    "start_time": "2023-06-14T15:27:59.739Z"
   },
   {
    "duration": 440,
    "start_time": "2023-06-14T15:28:00.054Z"
   },
   {
    "duration": 317,
    "start_time": "2023-06-14T15:28:00.497Z"
   },
   {
    "duration": 541,
    "start_time": "2023-06-14T15:28:00.817Z"
   },
   {
    "duration": 793,
    "start_time": "2023-06-14T15:28:01.366Z"
   },
   {
    "duration": 531,
    "start_time": "2023-06-14T15:28:02.166Z"
   },
   {
    "duration": 197,
    "start_time": "2023-06-14T15:28:02.700Z"
   },
   {
    "duration": 810,
    "start_time": "2023-06-14T15:28:02.899Z"
   },
   {
    "duration": 251,
    "start_time": "2023-06-14T15:28:03.712Z"
   },
   {
    "duration": 233,
    "start_time": "2023-06-14T15:28:03.971Z"
   },
   {
    "duration": 150,
    "start_time": "2023-06-14T15:28:04.206Z"
   },
   {
    "duration": 382,
    "start_time": "2023-06-14T15:28:04.358Z"
   },
   {
    "duration": 144,
    "start_time": "2023-06-14T15:28:04.742Z"
   },
   {
    "duration": 910,
    "start_time": "2023-06-14T15:28:04.889Z"
   },
   {
    "duration": 270,
    "start_time": "2023-06-14T15:28:05.802Z"
   },
   {
    "duration": 66,
    "start_time": "2023-06-14T15:28:06.074Z"
   },
   {
    "duration": 157,
    "start_time": "2023-06-14T15:28:06.145Z"
   },
   {
    "duration": 158,
    "start_time": "2023-06-14T15:28:06.305Z"
   },
   {
    "duration": 62,
    "start_time": "2023-06-14T15:28:06.467Z"
   },
   {
    "duration": 125,
    "start_time": "2023-06-14T15:28:06.534Z"
   },
   {
    "duration": 72,
    "start_time": "2023-06-14T15:28:06.664Z"
   },
   {
    "duration": 152,
    "start_time": "2023-06-14T15:28:06.740Z"
   },
   {
    "duration": 90,
    "start_time": "2023-06-14T15:28:06.895Z"
   },
   {
    "duration": 156,
    "start_time": "2023-06-14T15:28:06.993Z"
   },
   {
    "duration": 130,
    "start_time": "2023-06-14T15:28:07.154Z"
   },
   {
    "duration": 418,
    "start_time": "2023-06-14T15:28:07.286Z"
   },
   {
    "duration": 13,
    "start_time": "2023-06-14T15:28:30.193Z"
   },
   {
    "duration": 38,
    "start_time": "2023-06-14T15:30:26.214Z"
   },
   {
    "duration": 61,
    "start_time": "2023-06-14T15:30:30.687Z"
   },
   {
    "duration": 39,
    "start_time": "2023-06-14T15:30:49.942Z"
   },
   {
    "duration": 48,
    "start_time": "2023-06-14T15:30:52.183Z"
   },
   {
    "duration": 121,
    "start_time": "2023-06-14T15:31:00.768Z"
   },
   {
    "duration": 94,
    "start_time": "2023-06-14T15:31:12.495Z"
   },
   {
    "duration": 90,
    "start_time": "2023-06-14T15:31:26.283Z"
   },
   {
    "duration": 5,
    "start_time": "2023-06-14T15:31:34.068Z"
   },
   {
    "duration": 22,
    "start_time": "2023-06-14T15:31:53.939Z"
   },
   {
    "duration": 9,
    "start_time": "2023-06-14T15:32:50.520Z"
   },
   {
    "duration": 8,
    "start_time": "2023-06-14T15:32:59.117Z"
   },
   {
    "duration": 1566,
    "start_time": "2023-06-14T15:33:07.230Z"
   },
   {
    "duration": 3,
    "start_time": "2023-06-14T15:33:08.800Z"
   },
   {
    "duration": 276,
    "start_time": "2023-06-14T15:33:08.805Z"
   },
   {
    "duration": 5,
    "start_time": "2023-06-14T15:33:09.083Z"
   },
   {
    "duration": 224,
    "start_time": "2023-06-14T15:33:09.091Z"
   },
   {
    "duration": 100,
    "start_time": "2023-06-14T15:33:09.318Z"
   },
   {
    "duration": 140,
    "start_time": "2023-06-14T15:33:09.420Z"
   },
   {
    "duration": 54,
    "start_time": "2023-06-14T15:33:09.562Z"
   },
   {
    "duration": 700,
    "start_time": "2023-06-14T15:33:09.618Z"
   },
   {
    "duration": 6,
    "start_time": "2023-06-14T15:33:10.321Z"
   },
   {
    "duration": 114,
    "start_time": "2023-06-14T15:33:10.342Z"
   },
   {
    "duration": 10,
    "start_time": "2023-06-14T15:33:10.457Z"
   },
   {
    "duration": 144,
    "start_time": "2023-06-14T15:33:10.471Z"
   },
   {
    "duration": 166,
    "start_time": "2023-06-14T15:33:10.619Z"
   },
   {
    "duration": 6,
    "start_time": "2023-06-14T15:33:10.787Z"
   },
   {
    "duration": 22,
    "start_time": "2023-06-14T15:33:10.795Z"
   },
   {
    "duration": 60,
    "start_time": "2023-06-14T15:33:10.819Z"
   },
   {
    "duration": 37,
    "start_time": "2023-06-14T15:33:10.881Z"
   },
   {
    "duration": 45,
    "start_time": "2023-06-14T15:33:10.920Z"
   },
   {
    "duration": 4,
    "start_time": "2023-06-14T15:33:10.967Z"
   },
   {
    "duration": 40,
    "start_time": "2023-06-14T15:33:10.976Z"
   },
   {
    "duration": 13,
    "start_time": "2023-06-14T15:33:11.018Z"
   },
   {
    "duration": 60,
    "start_time": "2023-06-14T15:33:11.033Z"
   },
   {
    "duration": 4,
    "start_time": "2023-06-14T15:33:11.095Z"
   },
   {
    "duration": 16,
    "start_time": "2023-06-14T15:33:11.101Z"
   },
   {
    "duration": 325,
    "start_time": "2023-06-14T15:33:11.119Z"
   },
   {
    "duration": 302,
    "start_time": "2023-06-14T15:33:11.450Z"
   },
   {
    "duration": 18,
    "start_time": "2023-06-14T15:33:11.759Z"
   },
   {
    "duration": 194,
    "start_time": "2023-06-14T15:33:11.780Z"
   },
   {
    "duration": 59,
    "start_time": "2023-06-14T15:33:11.978Z"
   },
   {
    "duration": 82,
    "start_time": "2023-06-14T15:33:12.039Z"
   },
   {
    "duration": 101,
    "start_time": "2023-06-14T15:33:12.123Z"
   },
   {
    "duration": 183,
    "start_time": "2023-06-14T15:33:12.226Z"
   },
   {
    "duration": 17,
    "start_time": "2023-06-14T15:33:12.410Z"
   },
   {
    "duration": 667,
    "start_time": "2023-06-14T15:33:12.429Z"
   },
   {
    "duration": 224,
    "start_time": "2023-06-14T15:33:13.100Z"
   },
   {
    "duration": 22,
    "start_time": "2023-06-14T15:33:13.326Z"
   },
   {
    "duration": 38,
    "start_time": "2023-06-14T15:33:13.350Z"
   },
   {
    "duration": 36,
    "start_time": "2023-06-14T15:33:13.389Z"
   },
   {
    "duration": 110,
    "start_time": "2023-06-14T15:33:13.427Z"
   },
   {
    "duration": 6,
    "start_time": "2023-06-14T15:33:13.542Z"
   },
   {
    "duration": 39,
    "start_time": "2023-06-14T15:33:13.550Z"
   },
   {
    "duration": 18,
    "start_time": "2023-06-14T15:33:13.592Z"
   },
   {
    "duration": 13,
    "start_time": "2023-06-14T15:33:13.612Z"
   },
   {
    "duration": 27,
    "start_time": "2023-06-14T15:33:13.626Z"
   },
   {
    "duration": 40,
    "start_time": "2023-06-14T15:33:13.666Z"
   },
   {
    "duration": 34,
    "start_time": "2023-06-14T15:33:13.708Z"
   },
   {
    "duration": 40,
    "start_time": "2023-06-14T15:33:13.744Z"
   },
   {
    "duration": 32,
    "start_time": "2023-06-14T15:33:13.786Z"
   },
   {
    "duration": 19,
    "start_time": "2023-06-14T16:11:23.212Z"
   },
   {
    "duration": 29,
    "start_time": "2023-06-14T16:12:45.258Z"
   },
   {
    "duration": 17,
    "start_time": "2023-06-14T16:12:58.392Z"
   },
   {
    "duration": 20,
    "start_time": "2023-06-14T16:13:26.016Z"
   },
   {
    "duration": 1205,
    "start_time": "2023-06-14T16:29:42.192Z"
   },
   {
    "duration": 3,
    "start_time": "2023-06-14T16:29:43.399Z"
   },
   {
    "duration": 283,
    "start_time": "2023-06-14T16:29:43.404Z"
   },
   {
    "duration": 4,
    "start_time": "2023-06-14T16:29:43.688Z"
   },
   {
    "duration": 145,
    "start_time": "2023-06-14T16:29:43.694Z"
   },
   {
    "duration": 90,
    "start_time": "2023-06-14T16:29:43.841Z"
   },
   {
    "duration": 122,
    "start_time": "2023-06-14T16:29:43.933Z"
   },
   {
    "duration": 47,
    "start_time": "2023-06-14T16:29:44.059Z"
   },
   {
    "duration": 646,
    "start_time": "2023-06-14T16:29:44.108Z"
   },
   {
    "duration": 9,
    "start_time": "2023-06-14T16:29:44.756Z"
   },
   {
    "duration": 93,
    "start_time": "2023-06-14T16:29:44.766Z"
   },
   {
    "duration": 14,
    "start_time": "2023-06-14T16:29:44.863Z"
   },
   {
    "duration": 127,
    "start_time": "2023-06-14T16:29:44.879Z"
   },
   {
    "duration": 155,
    "start_time": "2023-06-14T16:29:45.011Z"
   },
   {
    "duration": 6,
    "start_time": "2023-06-14T16:29:45.175Z"
   },
   {
    "duration": 11,
    "start_time": "2023-06-14T16:29:45.182Z"
   },
   {
    "duration": 12,
    "start_time": "2023-06-14T16:29:45.194Z"
   },
   {
    "duration": 48,
    "start_time": "2023-06-14T16:29:45.208Z"
   },
   {
    "duration": 35,
    "start_time": "2023-06-14T16:29:45.269Z"
   },
   {
    "duration": 5,
    "start_time": "2023-06-14T16:29:45.306Z"
   },
   {
    "duration": 46,
    "start_time": "2023-06-14T16:29:45.313Z"
   },
   {
    "duration": 8,
    "start_time": "2023-06-14T16:29:45.361Z"
   },
   {
    "duration": 55,
    "start_time": "2023-06-14T16:29:45.373Z"
   },
   {
    "duration": 9,
    "start_time": "2023-06-14T16:29:45.430Z"
   },
   {
    "duration": 46,
    "start_time": "2023-06-14T16:29:45.440Z"
   },
   {
    "duration": 304,
    "start_time": "2023-06-14T16:29:45.488Z"
   },
   {
    "duration": 284,
    "start_time": "2023-06-14T16:29:45.793Z"
   },
   {
    "duration": 17,
    "start_time": "2023-06-14T16:29:46.078Z"
   },
   {
    "duration": 176,
    "start_time": "2023-06-14T16:29:46.097Z"
   },
   {
    "duration": 55,
    "start_time": "2023-06-14T16:29:46.276Z"
   },
   {
    "duration": 68,
    "start_time": "2023-06-14T16:29:46.333Z"
   },
   {
    "duration": 97,
    "start_time": "2023-06-14T16:29:46.402Z"
   },
   {
    "duration": 156,
    "start_time": "2023-06-14T16:29:46.500Z"
   },
   {
    "duration": 23,
    "start_time": "2023-06-14T16:29:46.657Z"
   },
   {
    "duration": 791,
    "start_time": "2023-06-14T16:29:46.682Z"
   },
   {
    "duration": 235,
    "start_time": "2023-06-14T16:29:47.478Z"
   },
   {
    "duration": 10,
    "start_time": "2023-06-14T16:29:47.715Z"
   },
   {
    "duration": 66,
    "start_time": "2023-06-14T16:29:47.727Z"
   },
   {
    "duration": 27,
    "start_time": "2023-06-14T16:29:47.795Z"
   },
   {
    "duration": 70,
    "start_time": "2023-06-14T16:29:47.824Z"
   },
   {
    "duration": 3,
    "start_time": "2023-06-14T16:29:47.898Z"
   },
   {
    "duration": 21,
    "start_time": "2023-06-14T16:29:47.903Z"
   },
   {
    "duration": 10,
    "start_time": "2023-06-14T16:29:47.927Z"
   },
   {
    "duration": 39,
    "start_time": "2023-06-14T16:29:47.942Z"
   },
   {
    "duration": 19,
    "start_time": "2023-06-14T16:29:47.983Z"
   },
   {
    "duration": 17,
    "start_time": "2023-06-14T16:29:48.004Z"
   },
   {
    "duration": 35,
    "start_time": "2023-06-14T16:29:48.023Z"
   },
   {
    "duration": 26,
    "start_time": "2023-06-14T16:29:48.060Z"
   },
   {
    "duration": 27,
    "start_time": "2023-06-14T16:29:48.088Z"
   },
   {
    "duration": 30,
    "start_time": "2023-06-14T16:29:48.155Z"
   },
   {
    "duration": 20,
    "start_time": "2023-06-14T16:29:48.187Z"
   },
   {
    "duration": 39,
    "start_time": "2023-06-14T16:29:48.208Z"
   },
   {
    "duration": 31,
    "start_time": "2023-06-14T16:29:48.249Z"
   },
   {
    "duration": 1322,
    "start_time": "2023-06-14T16:38:27.933Z"
   },
   {
    "duration": 3,
    "start_time": "2023-06-14T16:38:29.259Z"
   },
   {
    "duration": 208,
    "start_time": "2023-06-14T16:38:29.263Z"
   },
   {
    "duration": 3,
    "start_time": "2023-06-14T16:38:29.473Z"
   },
   {
    "duration": 136,
    "start_time": "2023-06-14T16:38:29.479Z"
   },
   {
    "duration": 81,
    "start_time": "2023-06-14T16:38:29.617Z"
   },
   {
    "duration": 106,
    "start_time": "2023-06-14T16:38:29.700Z"
   },
   {
    "duration": 48,
    "start_time": "2023-06-14T16:38:29.808Z"
   },
   {
    "duration": 554,
    "start_time": "2023-06-14T16:38:29.858Z"
   },
   {
    "duration": 4,
    "start_time": "2023-06-14T16:38:30.413Z"
   },
   {
    "duration": 108,
    "start_time": "2023-06-14T16:38:30.419Z"
   },
   {
    "duration": 8,
    "start_time": "2023-06-14T16:38:30.529Z"
   },
   {
    "duration": 146,
    "start_time": "2023-06-14T16:38:30.539Z"
   },
   {
    "duration": 133,
    "start_time": "2023-06-14T16:38:30.688Z"
   },
   {
    "duration": 5,
    "start_time": "2023-06-14T16:38:30.823Z"
   },
   {
    "duration": 39,
    "start_time": "2023-06-14T16:38:30.830Z"
   },
   {
    "duration": 42,
    "start_time": "2023-06-14T16:38:30.871Z"
   },
   {
    "duration": 84,
    "start_time": "2023-06-14T16:38:30.914Z"
   },
   {
    "duration": 57,
    "start_time": "2023-06-14T16:38:31.000Z"
   },
   {
    "duration": 57,
    "start_time": "2023-06-14T16:38:31.059Z"
   },
   {
    "duration": 69,
    "start_time": "2023-06-14T16:38:31.118Z"
   },
   {
    "duration": 38,
    "start_time": "2023-06-14T16:38:31.189Z"
   },
   {
    "duration": 73,
    "start_time": "2023-06-14T16:38:31.229Z"
   },
   {
    "duration": 7,
    "start_time": "2023-06-14T16:38:31.303Z"
   },
   {
    "duration": 54,
    "start_time": "2023-06-14T16:38:31.311Z"
   },
   {
    "duration": 300,
    "start_time": "2023-06-14T16:38:31.366Z"
   },
   {
    "duration": 259,
    "start_time": "2023-06-14T16:38:31.668Z"
   },
   {
    "duration": 24,
    "start_time": "2023-06-14T16:38:31.929Z"
   },
   {
    "duration": 144,
    "start_time": "2023-06-14T16:38:31.956Z"
   },
   {
    "duration": 75,
    "start_time": "2023-06-14T16:38:32.101Z"
   },
   {
    "duration": 80,
    "start_time": "2023-06-14T16:38:32.177Z"
   },
   {
    "duration": 71,
    "start_time": "2023-06-14T16:38:32.258Z"
   },
   {
    "duration": 150,
    "start_time": "2023-06-14T16:38:32.331Z"
   },
   {
    "duration": 15,
    "start_time": "2023-06-14T16:38:32.483Z"
   },
   {
    "duration": 543,
    "start_time": "2023-06-14T16:38:32.500Z"
   },
   {
    "duration": 229,
    "start_time": "2023-06-14T16:38:33.044Z"
   },
   {
    "duration": 6,
    "start_time": "2023-06-14T16:38:33.275Z"
   },
   {
    "duration": 19,
    "start_time": "2023-06-14T16:38:33.283Z"
   },
   {
    "duration": 36,
    "start_time": "2023-06-14T16:38:33.304Z"
   },
   {
    "duration": 66,
    "start_time": "2023-06-14T16:38:33.341Z"
   },
   {
    "duration": 4,
    "start_time": "2023-06-14T16:38:33.412Z"
   },
   {
    "duration": 29,
    "start_time": "2023-06-14T16:38:33.418Z"
   },
   {
    "duration": 17,
    "start_time": "2023-06-14T16:38:33.448Z"
   },
   {
    "duration": 19,
    "start_time": "2023-06-14T16:38:33.466Z"
   },
   {
    "duration": 24,
    "start_time": "2023-06-14T16:38:33.486Z"
   },
   {
    "duration": 21,
    "start_time": "2023-06-14T16:38:33.512Z"
   },
   {
    "duration": 32,
    "start_time": "2023-06-14T16:38:33.534Z"
   },
   {
    "duration": 25,
    "start_time": "2023-06-14T16:38:33.568Z"
   },
   {
    "duration": 19,
    "start_time": "2023-06-14T16:38:33.594Z"
   },
   {
    "duration": 56,
    "start_time": "2023-06-14T16:38:33.614Z"
   },
   {
    "duration": 159,
    "start_time": "2023-06-14T16:38:33.672Z"
   },
   {
    "duration": 98,
    "start_time": "2023-06-14T16:38:33.832Z"
   },
   {
    "duration": 30,
    "start_time": "2023-06-14T16:38:33.932Z"
   },
   {
    "duration": 2621,
    "start_time": "2023-06-14T17:00:06.342Z"
   },
   {
    "duration": 3,
    "start_time": "2023-06-14T17:00:08.965Z"
   },
   {
    "duration": 1102,
    "start_time": "2023-06-14T17:00:08.969Z"
   },
   {
    "duration": 3,
    "start_time": "2023-06-14T17:00:10.073Z"
   },
   {
    "duration": 191,
    "start_time": "2023-06-14T17:00:10.078Z"
   },
   {
    "duration": 117,
    "start_time": "2023-06-14T17:00:10.271Z"
   },
   {
    "duration": 134,
    "start_time": "2023-06-14T17:00:10.390Z"
   },
   {
    "duration": 56,
    "start_time": "2023-06-14T17:00:10.530Z"
   },
   {
    "duration": 751,
    "start_time": "2023-06-14T17:00:10.588Z"
   },
   {
    "duration": 5,
    "start_time": "2023-06-14T17:00:11.341Z"
   },
   {
    "duration": 96,
    "start_time": "2023-06-14T17:00:11.351Z"
   },
   {
    "duration": 16,
    "start_time": "2023-06-14T17:00:11.449Z"
   },
   {
    "duration": 398,
    "start_time": "2023-06-14T17:00:11.466Z"
   },
   {
    "duration": 252,
    "start_time": "2023-06-14T17:00:11.867Z"
   },
   {
    "duration": 12,
    "start_time": "2023-06-14T17:00:12.121Z"
   },
   {
    "duration": 52,
    "start_time": "2023-06-14T17:00:12.135Z"
   },
   {
    "duration": 8,
    "start_time": "2023-06-14T17:00:12.189Z"
   },
   {
    "duration": 140,
    "start_time": "2023-06-14T17:00:12.200Z"
   },
   {
    "duration": 56,
    "start_time": "2023-06-14T17:00:12.341Z"
   },
   {
    "duration": 8,
    "start_time": "2023-06-14T17:00:12.404Z"
   },
   {
    "duration": 115,
    "start_time": "2023-06-14T17:00:12.414Z"
   },
   {
    "duration": 153,
    "start_time": "2023-06-14T17:00:12.531Z"
   },
   {
    "duration": 134,
    "start_time": "2023-06-14T17:00:12.686Z"
   },
   {
    "duration": 82,
    "start_time": "2023-06-14T17:00:12.821Z"
   },
   {
    "duration": 108,
    "start_time": "2023-06-14T17:00:12.905Z"
   },
   {
    "duration": 645,
    "start_time": "2023-06-14T17:00:13.018Z"
   },
   {
    "duration": 589,
    "start_time": "2023-06-14T17:00:13.666Z"
   },
   {
    "duration": 49,
    "start_time": "2023-06-14T17:00:14.261Z"
   },
   {
    "duration": 263,
    "start_time": "2023-06-14T17:00:14.318Z"
   },
   {
    "duration": 101,
    "start_time": "2023-06-14T17:00:14.586Z"
   },
   {
    "duration": 86,
    "start_time": "2023-06-14T17:00:14.689Z"
   },
   {
    "duration": 143,
    "start_time": "2023-06-14T17:00:14.777Z"
   },
   {
    "duration": 408,
    "start_time": "2023-06-14T17:00:14.922Z"
   },
   {
    "duration": 23,
    "start_time": "2023-06-14T17:00:15.331Z"
   },
   {
    "duration": 4535,
    "start_time": "2023-06-14T17:00:15.360Z"
   },
   {
    "duration": 326,
    "start_time": "2023-06-14T17:00:19.897Z"
   },
   {
    "duration": 8,
    "start_time": "2023-06-14T17:00:20.225Z"
   },
   {
    "duration": 55,
    "start_time": "2023-06-14T17:00:20.235Z"
   },
   {
    "duration": 85,
    "start_time": "2023-06-14T17:00:20.291Z"
   },
   {
    "duration": 80,
    "start_time": "2023-06-14T17:00:20.378Z"
   },
   {
    "duration": 6,
    "start_time": "2023-06-14T17:00:20.466Z"
   },
   {
    "duration": 74,
    "start_time": "2023-06-14T17:00:20.475Z"
   },
   {
    "duration": 20,
    "start_time": "2023-06-14T17:00:20.554Z"
   },
   {
    "duration": 14,
    "start_time": "2023-06-14T17:00:20.576Z"
   },
   {
    "duration": 62,
    "start_time": "2023-06-14T17:00:20.591Z"
   },
   {
    "duration": 30,
    "start_time": "2023-06-14T17:00:20.655Z"
   },
   {
    "duration": 36,
    "start_time": "2023-06-14T17:00:20.687Z"
   },
   {
    "duration": 54,
    "start_time": "2023-06-14T17:00:20.725Z"
   },
   {
    "duration": 71,
    "start_time": "2023-06-14T17:00:20.780Z"
   },
   {
    "duration": 37,
    "start_time": "2023-06-14T17:00:20.854Z"
   },
   {
    "duration": 80,
    "start_time": "2023-06-14T17:00:20.893Z"
   },
   {
    "duration": 28,
    "start_time": "2023-06-14T17:00:20.975Z"
   },
   {
    "duration": 73,
    "start_time": "2023-06-14T17:00:21.005Z"
   },
   {
    "duration": 198,
    "start_time": "2023-06-14T17:03:53.671Z"
   },
   {
    "duration": 42,
    "start_time": "2023-06-14T17:04:01.645Z"
   },
   {
    "duration": 11,
    "start_time": "2023-06-14T17:04:46.962Z"
   },
   {
    "duration": 3325,
    "start_time": "2023-06-14T17:04:56.251Z"
   },
   {
    "duration": 35,
    "start_time": "2023-06-14T17:05:03.782Z"
   },
   {
    "duration": 16,
    "start_time": "2023-06-14T17:05:35.351Z"
   },
   {
    "duration": 13,
    "start_time": "2023-06-14T17:05:47.336Z"
   },
   {
    "duration": 8,
    "start_time": "2023-06-14T17:06:54.232Z"
   },
   {
    "duration": 7,
    "start_time": "2023-06-14T17:06:57.156Z"
   },
   {
    "duration": 33,
    "start_time": "2023-06-14T17:06:57.589Z"
   },
   {
    "duration": 44,
    "start_time": "2023-06-14T17:06:58.319Z"
   },
   {
    "duration": 29,
    "start_time": "2023-06-14T17:06:58.931Z"
   },
   {
    "duration": 22,
    "start_time": "2023-06-14T17:06:59.548Z"
   },
   {
    "duration": 1842,
    "start_time": "2023-06-14T19:04:25.436Z"
   },
   {
    "duration": 3,
    "start_time": "2023-06-14T19:04:27.281Z"
   },
   {
    "duration": 878,
    "start_time": "2023-06-14T19:04:27.286Z"
   },
   {
    "duration": 4,
    "start_time": "2023-06-14T19:04:28.166Z"
   },
   {
    "duration": 162,
    "start_time": "2023-06-14T19:04:28.173Z"
   },
   {
    "duration": 69,
    "start_time": "2023-06-14T19:04:28.344Z"
   },
   {
    "duration": 96,
    "start_time": "2023-06-14T19:04:28.415Z"
   },
   {
    "duration": 67,
    "start_time": "2023-06-14T19:04:28.513Z"
   },
   {
    "duration": 566,
    "start_time": "2023-06-14T19:04:28.582Z"
   },
   {
    "duration": 4,
    "start_time": "2023-06-14T19:04:29.151Z"
   },
   {
    "duration": 125,
    "start_time": "2023-06-14T19:04:29.156Z"
   },
   {
    "duration": 8,
    "start_time": "2023-06-14T19:04:29.282Z"
   },
   {
    "duration": 166,
    "start_time": "2023-06-14T19:04:29.292Z"
   },
   {
    "duration": 113,
    "start_time": "2023-06-14T19:04:29.462Z"
   },
   {
    "duration": 5,
    "start_time": "2023-06-14T19:04:29.578Z"
   },
   {
    "duration": 67,
    "start_time": "2023-06-14T19:04:29.584Z"
   },
   {
    "duration": 44,
    "start_time": "2023-06-14T19:04:29.652Z"
   },
   {
    "duration": 56,
    "start_time": "2023-06-14T19:04:29.697Z"
   },
   {
    "duration": 91,
    "start_time": "2023-06-14T19:04:29.754Z"
   },
   {
    "duration": 53,
    "start_time": "2023-06-14T19:04:29.847Z"
   },
   {
    "duration": 80,
    "start_time": "2023-06-14T19:04:29.902Z"
   },
   {
    "duration": 9,
    "start_time": "2023-06-14T19:04:29.984Z"
   },
   {
    "duration": 133,
    "start_time": "2023-06-14T19:04:29.995Z"
   },
   {
    "duration": 9,
    "start_time": "2023-06-14T19:04:30.132Z"
   },
   {
    "duration": 71,
    "start_time": "2023-06-14T19:04:30.142Z"
   },
   {
    "duration": 386,
    "start_time": "2023-06-14T19:04:30.215Z"
   },
   {
    "duration": 265,
    "start_time": "2023-06-14T19:04:30.603Z"
   },
   {
    "duration": 13,
    "start_time": "2023-06-14T19:04:30.871Z"
   },
   {
    "duration": 209,
    "start_time": "2023-06-14T19:04:30.886Z"
   },
   {
    "duration": 75,
    "start_time": "2023-06-14T19:04:31.097Z"
   },
   {
    "duration": 141,
    "start_time": "2023-06-14T19:04:31.174Z"
   },
   {
    "duration": 91,
    "start_time": "2023-06-14T19:04:31.316Z"
   },
   {
    "duration": 357,
    "start_time": "2023-06-14T19:04:31.408Z"
   },
   {
    "duration": 17,
    "start_time": "2023-06-14T19:04:31.766Z"
   },
   {
    "duration": 668,
    "start_time": "2023-06-14T19:04:31.785Z"
   },
   {
    "duration": 34,
    "start_time": "2023-06-14T19:04:32.455Z"
   },
   {
    "duration": 208,
    "start_time": "2023-06-14T19:04:32.490Z"
   },
   {
    "duration": 8,
    "start_time": "2023-06-14T19:04:32.701Z"
   },
   {
    "duration": 135,
    "start_time": "2023-06-14T19:04:32.711Z"
   },
   {
    "duration": 48,
    "start_time": "2023-06-14T19:04:32.858Z"
   },
   {
    "duration": 109,
    "start_time": "2023-06-14T19:04:32.909Z"
   },
   {
    "duration": 28,
    "start_time": "2023-06-14T19:04:33.020Z"
   },
   {
    "duration": 37,
    "start_time": "2023-06-14T19:04:33.050Z"
   },
   {
    "duration": 53,
    "start_time": "2023-06-14T19:04:33.088Z"
   },
   {
    "duration": 69,
    "start_time": "2023-06-14T19:04:33.143Z"
   },
   {
    "duration": 70,
    "start_time": "2023-06-14T19:04:33.214Z"
   },
   {
    "duration": 32,
    "start_time": "2023-06-14T19:04:33.286Z"
   },
   {
    "duration": 59,
    "start_time": "2023-06-14T19:04:33.324Z"
   },
   {
    "duration": 24,
    "start_time": "2023-06-14T19:04:33.384Z"
   },
   {
    "duration": 36,
    "start_time": "2023-06-14T19:04:33.409Z"
   },
   {
    "duration": 40,
    "start_time": "2023-06-14T19:04:33.446Z"
   },
   {
    "duration": 73,
    "start_time": "2023-06-14T19:04:33.488Z"
   },
   {
    "duration": 19,
    "start_time": "2023-06-14T19:04:33.566Z"
   },
   {
    "duration": 23,
    "start_time": "2023-06-14T19:04:33.586Z"
   }
  ],
  "kernelspec": {
   "display_name": "Python 3",
   "language": "python",
   "name": "python3"
  },
  "language_info": {
   "codemirror_mode": {
    "name": "ipython",
    "version": 3
   },
   "file_extension": ".py",
   "mimetype": "text/x-python",
   "name": "python",
   "nbconvert_exporter": "python",
   "pygments_lexer": "ipython3",
   "version": "3.8.8"
  },
  "toc": {
   "base_numbering": 1,
   "nav_menu": {},
   "number_sections": true,
   "sideBar": true,
   "skip_h1_title": true,
   "title_cell": "Table of Contents",
   "title_sidebar": "Contents",
   "toc_cell": false,
   "toc_position": {
    "height": "calc(100% - 180px)",
    "left": "10px",
    "top": "150px",
    "width": "341.745px"
   },
   "toc_section_display": true,
   "toc_window_display": true
  }
 },
 "nbformat": 4,
 "nbformat_minor": 2
}
